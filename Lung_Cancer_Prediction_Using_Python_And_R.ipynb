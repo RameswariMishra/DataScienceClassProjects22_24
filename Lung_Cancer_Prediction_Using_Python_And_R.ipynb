{
 "cells": [
  {
   "cell_type": "markdown",
   "metadata": {},
   "source": [
    "# Lung Cancer Prediction using Python and R"
   ]
  },
  {
   "cell_type": "markdown",
   "metadata": {},
   "source": [
    "---\n",
    "## Step 1: Find a Story\n",
    "\n",
    "The source of my data is from kaggle. \"https://www.kaggle.com/code/hasibalmuzdadid/lung-cancer-analysis-accuracy-96-4/data\"\n",
    "The story, I want to uncover :\n",
    "\n",
    "Given those details, training a model that can predict if a person is having lung cancer or not.\n",
    "\n",
    "What are the symptoms or health conditions that have a high feature importance, when it comes to lung cancer among, Gender, Age, smoking, Consuming Alcohol, Having Alergy, Having a chest pain, having anxiety, Peer pressure, Chronic disease, Fatigue, Wheezing, Coughing, Shortness of breathe and having Swallowing difficulty.\n",
    "\n",
    "Visualizing those results in a audience preattaentively processing way.\n"
   ]
  },
  {
   "cell_type": "markdown",
   "metadata": {},
   "source": [
    "# My audience for this project are :\n",
    "1. General public \n",
    "2. The doctors \n",
    "3. Health centre survey or researchers. \n",
    "\n",
    "Once the results are publicly available, they can be more concious while carving their habits around smoking and consuming alcohol. They can figure out if they need to go to a doctor instead of taking home remidies, if they have such positive symtomps, which may help them recovering and take medications in an earlier stage, before it becomes incurable. \n",
    "\n",
    "Doctors can have an early assumption, if the symptoms are redirecting towards a lung cancer, even before they test it. \n",
    "\n",
    "Health survey and researchers can work further on the same, may be by adding more variables or using different algorithms or visualizations after seeing the results of this project. "
   ]
  },
  {
   "cell_type": "markdown",
   "metadata": {},
   "source": [
    "## Step 3: Find and Stage Your Data"
   ]
  },
  {
   "cell_type": "code",
   "execution_count": 8,
   "metadata": {},
   "outputs": [
    {
     "data": {
      "text/html": [
       "<div>\n",
       "<style scoped>\n",
       "    .dataframe tbody tr th:only-of-type {\n",
       "        vertical-align: middle;\n",
       "    }\n",
       "\n",
       "    .dataframe tbody tr th {\n",
       "        vertical-align: top;\n",
       "    }\n",
       "\n",
       "    .dataframe thead th {\n",
       "        text-align: right;\n",
       "    }\n",
       "</style>\n",
       "<table border=\"1\" class=\"dataframe\">\n",
       "  <thead>\n",
       "    <tr style=\"text-align: right;\">\n",
       "      <th></th>\n",
       "      <th>GENDER</th>\n",
       "      <th>AGE</th>\n",
       "      <th>SMOKING</th>\n",
       "      <th>YELLOW_FINGERS</th>\n",
       "      <th>ANXIETY</th>\n",
       "      <th>PEER_PRESSURE</th>\n",
       "      <th>CHRONIC DISEASE</th>\n",
       "      <th>FATIGUE</th>\n",
       "      <th>ALLERGY</th>\n",
       "      <th>WHEEZING</th>\n",
       "      <th>ALCOHOL CONSUMING</th>\n",
       "      <th>COUGHING</th>\n",
       "      <th>SHORTNESS OF BREATH</th>\n",
       "      <th>SWALLOWING DIFFICULTY</th>\n",
       "      <th>CHEST PAIN</th>\n",
       "      <th>LUNG_CANCER</th>\n",
       "    </tr>\n",
       "  </thead>\n",
       "  <tbody>\n",
       "    <tr>\n",
       "      <th>0</th>\n",
       "      <td>M</td>\n",
       "      <td>69</td>\n",
       "      <td>1</td>\n",
       "      <td>2</td>\n",
       "      <td>2</td>\n",
       "      <td>1</td>\n",
       "      <td>1</td>\n",
       "      <td>2</td>\n",
       "      <td>1</td>\n",
       "      <td>2</td>\n",
       "      <td>2</td>\n",
       "      <td>2</td>\n",
       "      <td>2</td>\n",
       "      <td>2</td>\n",
       "      <td>2</td>\n",
       "      <td>YES</td>\n",
       "    </tr>\n",
       "    <tr>\n",
       "      <th>1</th>\n",
       "      <td>M</td>\n",
       "      <td>74</td>\n",
       "      <td>2</td>\n",
       "      <td>1</td>\n",
       "      <td>1</td>\n",
       "      <td>1</td>\n",
       "      <td>2</td>\n",
       "      <td>2</td>\n",
       "      <td>2</td>\n",
       "      <td>1</td>\n",
       "      <td>1</td>\n",
       "      <td>1</td>\n",
       "      <td>2</td>\n",
       "      <td>2</td>\n",
       "      <td>2</td>\n",
       "      <td>YES</td>\n",
       "    </tr>\n",
       "    <tr>\n",
       "      <th>2</th>\n",
       "      <td>F</td>\n",
       "      <td>59</td>\n",
       "      <td>1</td>\n",
       "      <td>1</td>\n",
       "      <td>1</td>\n",
       "      <td>2</td>\n",
       "      <td>1</td>\n",
       "      <td>2</td>\n",
       "      <td>1</td>\n",
       "      <td>2</td>\n",
       "      <td>1</td>\n",
       "      <td>2</td>\n",
       "      <td>2</td>\n",
       "      <td>1</td>\n",
       "      <td>2</td>\n",
       "      <td>NO</td>\n",
       "    </tr>\n",
       "    <tr>\n",
       "      <th>3</th>\n",
       "      <td>M</td>\n",
       "      <td>63</td>\n",
       "      <td>2</td>\n",
       "      <td>2</td>\n",
       "      <td>2</td>\n",
       "      <td>1</td>\n",
       "      <td>1</td>\n",
       "      <td>1</td>\n",
       "      <td>1</td>\n",
       "      <td>1</td>\n",
       "      <td>2</td>\n",
       "      <td>1</td>\n",
       "      <td>1</td>\n",
       "      <td>2</td>\n",
       "      <td>2</td>\n",
       "      <td>NO</td>\n",
       "    </tr>\n",
       "    <tr>\n",
       "      <th>4</th>\n",
       "      <td>F</td>\n",
       "      <td>63</td>\n",
       "      <td>1</td>\n",
       "      <td>2</td>\n",
       "      <td>1</td>\n",
       "      <td>1</td>\n",
       "      <td>1</td>\n",
       "      <td>1</td>\n",
       "      <td>1</td>\n",
       "      <td>2</td>\n",
       "      <td>1</td>\n",
       "      <td>2</td>\n",
       "      <td>2</td>\n",
       "      <td>1</td>\n",
       "      <td>1</td>\n",
       "      <td>NO</td>\n",
       "    </tr>\n",
       "  </tbody>\n",
       "</table>\n",
       "</div>"
      ],
      "text/plain": [
       "  GENDER  AGE  SMOKING  YELLOW_FINGERS  ANXIETY  PEER_PRESSURE  \\\n",
       "0      M   69        1               2        2              1   \n",
       "1      M   74        2               1        1              1   \n",
       "2      F   59        1               1        1              2   \n",
       "3      M   63        2               2        2              1   \n",
       "4      F   63        1               2        1              1   \n",
       "\n",
       "   CHRONIC DISEASE  FATIGUE   ALLERGY   WHEEZING  ALCOHOL CONSUMING  COUGHING  \\\n",
       "0                1         2         1         2                  2         2   \n",
       "1                2         2         2         1                  1         1   \n",
       "2                1         2         1         2                  1         2   \n",
       "3                1         1         1         1                  2         1   \n",
       "4                1         1         1         2                  1         2   \n",
       "\n",
       "   SHORTNESS OF BREATH  SWALLOWING DIFFICULTY  CHEST PAIN LUNG_CANCER  \n",
       "0                    2                      2           2         YES  \n",
       "1                    2                      2           2         YES  \n",
       "2                    2                      1           2          NO  \n",
       "3                    1                      2           2          NO  \n",
       "4                    2                      1           1          NO  "
      ]
     },
     "execution_count": 8,
     "metadata": {},
     "output_type": "execute_result"
    }
   ],
   "source": [
    "#Importing the libraries\n",
    "import pandas as pd\n",
    "import numpy as np\n",
    "import seaborn as sns\n",
    "import matplotlib.pyplot as plt\n",
    "from sklearn import metrics\n",
    "from sklearn import tree\n",
    "from sklearn.naive_bayes import GaussianNB\n",
    "#import graphviz\n",
    "data = pd.read_csv('survey_lung_cancer.csv')\n",
    "data.head()\n",
    "\n",
    "#Data Description\n",
    "#Yes = 2, No = 1"
   ]
  },
  {
   "cell_type": "code",
   "execution_count": 9,
   "metadata": {},
   "outputs": [
    {
     "name": "stdout",
     "output_type": "stream",
     "text": [
      "<class 'pandas.core.frame.DataFrame'>\n",
      "RangeIndex: 309 entries, 0 to 308\n",
      "Data columns (total 16 columns):\n",
      "GENDER                   309 non-null object\n",
      "AGE                      309 non-null int64\n",
      "SMOKING                  309 non-null int64\n",
      "YELLOW_FINGERS           309 non-null int64\n",
      "ANXIETY                  309 non-null int64\n",
      "PEER_PRESSURE            309 non-null int64\n",
      "CHRONIC DISEASE          309 non-null int64\n",
      "FATIGUE                  309 non-null int64\n",
      "ALLERGY                  309 non-null int64\n",
      "WHEEZING                 309 non-null int64\n",
      "ALCOHOL CONSUMING        309 non-null int64\n",
      "COUGHING                 309 non-null int64\n",
      "SHORTNESS OF BREATH      309 non-null int64\n",
      "SWALLOWING DIFFICULTY    309 non-null int64\n",
      "CHEST PAIN               309 non-null int64\n",
      "LUNG_CANCER              309 non-null object\n",
      "dtypes: int64(14), object(2)\n",
      "memory usage: 38.8+ KB\n"
     ]
    }
   ],
   "source": [
    "data.info()"
   ]
  },
  {
   "cell_type": "markdown",
   "metadata": {},
   "source": [
    "## Step 4: Vet Data Sources\n",
    "\n",
    "Use the cells below to load the data, inspect it, conduct data carpentry and shaping; perform exploratory data analysis.  \n",
    "\n",
    "Add more cells (`Insert > Insert Cell Below`) if you want additional cells."
   ]
  },
  {
   "cell_type": "code",
   "execution_count": 10,
   "metadata": {},
   "outputs": [
    {
     "data": {
      "text/html": [
       "<div>\n",
       "<style scoped>\n",
       "    .dataframe tbody tr th:only-of-type {\n",
       "        vertical-align: middle;\n",
       "    }\n",
       "\n",
       "    .dataframe tbody tr th {\n",
       "        vertical-align: top;\n",
       "    }\n",
       "\n",
       "    .dataframe thead th {\n",
       "        text-align: right;\n",
       "    }\n",
       "</style>\n",
       "<table border=\"1\" class=\"dataframe\">\n",
       "  <thead>\n",
       "    <tr style=\"text-align: right;\">\n",
       "      <th></th>\n",
       "      <th>AGE</th>\n",
       "      <th>SMOKING</th>\n",
       "      <th>YELLOW_FINGERS</th>\n",
       "      <th>ANXIETY</th>\n",
       "      <th>PEER_PRESSURE</th>\n",
       "      <th>CHRONIC DISEASE</th>\n",
       "      <th>FATIGUE</th>\n",
       "      <th>ALLERGY</th>\n",
       "      <th>WHEEZING</th>\n",
       "      <th>ALCOHOL CONSUMING</th>\n",
       "      <th>COUGHING</th>\n",
       "      <th>SHORTNESS OF BREATH</th>\n",
       "      <th>SWALLOWING DIFFICULTY</th>\n",
       "      <th>CHEST PAIN</th>\n",
       "    </tr>\n",
       "  </thead>\n",
       "  <tbody>\n",
       "    <tr>\n",
       "      <th>count</th>\n",
       "      <td>309.000000</td>\n",
       "      <td>309.000000</td>\n",
       "      <td>309.000000</td>\n",
       "      <td>309.000000</td>\n",
       "      <td>309.000000</td>\n",
       "      <td>309.000000</td>\n",
       "      <td>309.000000</td>\n",
       "      <td>309.000000</td>\n",
       "      <td>309.000000</td>\n",
       "      <td>309.000000</td>\n",
       "      <td>309.000000</td>\n",
       "      <td>309.000000</td>\n",
       "      <td>309.000000</td>\n",
       "      <td>309.000000</td>\n",
       "    </tr>\n",
       "    <tr>\n",
       "      <th>mean</th>\n",
       "      <td>62.673139</td>\n",
       "      <td>1.563107</td>\n",
       "      <td>1.569579</td>\n",
       "      <td>1.498382</td>\n",
       "      <td>1.501618</td>\n",
       "      <td>1.504854</td>\n",
       "      <td>1.673139</td>\n",
       "      <td>1.556634</td>\n",
       "      <td>1.556634</td>\n",
       "      <td>1.556634</td>\n",
       "      <td>1.579288</td>\n",
       "      <td>1.640777</td>\n",
       "      <td>1.469256</td>\n",
       "      <td>1.556634</td>\n",
       "    </tr>\n",
       "    <tr>\n",
       "      <th>std</th>\n",
       "      <td>8.210301</td>\n",
       "      <td>0.496806</td>\n",
       "      <td>0.495938</td>\n",
       "      <td>0.500808</td>\n",
       "      <td>0.500808</td>\n",
       "      <td>0.500787</td>\n",
       "      <td>0.469827</td>\n",
       "      <td>0.497588</td>\n",
       "      <td>0.497588</td>\n",
       "      <td>0.497588</td>\n",
       "      <td>0.494474</td>\n",
       "      <td>0.480551</td>\n",
       "      <td>0.499863</td>\n",
       "      <td>0.497588</td>\n",
       "    </tr>\n",
       "    <tr>\n",
       "      <th>min</th>\n",
       "      <td>21.000000</td>\n",
       "      <td>1.000000</td>\n",
       "      <td>1.000000</td>\n",
       "      <td>1.000000</td>\n",
       "      <td>1.000000</td>\n",
       "      <td>1.000000</td>\n",
       "      <td>1.000000</td>\n",
       "      <td>1.000000</td>\n",
       "      <td>1.000000</td>\n",
       "      <td>1.000000</td>\n",
       "      <td>1.000000</td>\n",
       "      <td>1.000000</td>\n",
       "      <td>1.000000</td>\n",
       "      <td>1.000000</td>\n",
       "    </tr>\n",
       "    <tr>\n",
       "      <th>25%</th>\n",
       "      <td>57.000000</td>\n",
       "      <td>1.000000</td>\n",
       "      <td>1.000000</td>\n",
       "      <td>1.000000</td>\n",
       "      <td>1.000000</td>\n",
       "      <td>1.000000</td>\n",
       "      <td>1.000000</td>\n",
       "      <td>1.000000</td>\n",
       "      <td>1.000000</td>\n",
       "      <td>1.000000</td>\n",
       "      <td>1.000000</td>\n",
       "      <td>1.000000</td>\n",
       "      <td>1.000000</td>\n",
       "      <td>1.000000</td>\n",
       "    </tr>\n",
       "    <tr>\n",
       "      <th>50%</th>\n",
       "      <td>62.000000</td>\n",
       "      <td>2.000000</td>\n",
       "      <td>2.000000</td>\n",
       "      <td>1.000000</td>\n",
       "      <td>2.000000</td>\n",
       "      <td>2.000000</td>\n",
       "      <td>2.000000</td>\n",
       "      <td>2.000000</td>\n",
       "      <td>2.000000</td>\n",
       "      <td>2.000000</td>\n",
       "      <td>2.000000</td>\n",
       "      <td>2.000000</td>\n",
       "      <td>1.000000</td>\n",
       "      <td>2.000000</td>\n",
       "    </tr>\n",
       "    <tr>\n",
       "      <th>75%</th>\n",
       "      <td>69.000000</td>\n",
       "      <td>2.000000</td>\n",
       "      <td>2.000000</td>\n",
       "      <td>2.000000</td>\n",
       "      <td>2.000000</td>\n",
       "      <td>2.000000</td>\n",
       "      <td>2.000000</td>\n",
       "      <td>2.000000</td>\n",
       "      <td>2.000000</td>\n",
       "      <td>2.000000</td>\n",
       "      <td>2.000000</td>\n",
       "      <td>2.000000</td>\n",
       "      <td>2.000000</td>\n",
       "      <td>2.000000</td>\n",
       "    </tr>\n",
       "    <tr>\n",
       "      <th>max</th>\n",
       "      <td>87.000000</td>\n",
       "      <td>2.000000</td>\n",
       "      <td>2.000000</td>\n",
       "      <td>2.000000</td>\n",
       "      <td>2.000000</td>\n",
       "      <td>2.000000</td>\n",
       "      <td>2.000000</td>\n",
       "      <td>2.000000</td>\n",
       "      <td>2.000000</td>\n",
       "      <td>2.000000</td>\n",
       "      <td>2.000000</td>\n",
       "      <td>2.000000</td>\n",
       "      <td>2.000000</td>\n",
       "      <td>2.000000</td>\n",
       "    </tr>\n",
       "  </tbody>\n",
       "</table>\n",
       "</div>"
      ],
      "text/plain": [
       "              AGE     SMOKING  YELLOW_FINGERS     ANXIETY  PEER_PRESSURE  \\\n",
       "count  309.000000  309.000000      309.000000  309.000000     309.000000   \n",
       "mean    62.673139    1.563107        1.569579    1.498382       1.501618   \n",
       "std      8.210301    0.496806        0.495938    0.500808       0.500808   \n",
       "min     21.000000    1.000000        1.000000    1.000000       1.000000   \n",
       "25%     57.000000    1.000000        1.000000    1.000000       1.000000   \n",
       "50%     62.000000    2.000000        2.000000    1.000000       2.000000   \n",
       "75%     69.000000    2.000000        2.000000    2.000000       2.000000   \n",
       "max     87.000000    2.000000        2.000000    2.000000       2.000000   \n",
       "\n",
       "       CHRONIC DISEASE    FATIGUE     ALLERGY     WHEEZING  ALCOHOL CONSUMING  \\\n",
       "count       309.000000  309.000000  309.000000  309.000000         309.000000   \n",
       "mean          1.504854    1.673139    1.556634    1.556634           1.556634   \n",
       "std           0.500787    0.469827    0.497588    0.497588           0.497588   \n",
       "min           1.000000    1.000000    1.000000    1.000000           1.000000   \n",
       "25%           1.000000    1.000000    1.000000    1.000000           1.000000   \n",
       "50%           2.000000    2.000000    2.000000    2.000000           2.000000   \n",
       "75%           2.000000    2.000000    2.000000    2.000000           2.000000   \n",
       "max           2.000000    2.000000    2.000000    2.000000           2.000000   \n",
       "\n",
       "         COUGHING  SHORTNESS OF BREATH  SWALLOWING DIFFICULTY  CHEST PAIN  \n",
       "count  309.000000           309.000000             309.000000  309.000000  \n",
       "mean     1.579288             1.640777               1.469256    1.556634  \n",
       "std      0.494474             0.480551               0.499863    0.497588  \n",
       "min      1.000000             1.000000               1.000000    1.000000  \n",
       "25%      1.000000             1.000000               1.000000    1.000000  \n",
       "50%      2.000000             2.000000               1.000000    2.000000  \n",
       "75%      2.000000             2.000000               2.000000    2.000000  \n",
       "max      2.000000             2.000000               2.000000    2.000000  "
      ]
     },
     "execution_count": 10,
     "metadata": {},
     "output_type": "execute_result"
    }
   ],
   "source": [
    "data.describe()"
   ]
  },
  {
   "cell_type": "code",
   "execution_count": 11,
   "metadata": {},
   "outputs": [
    {
     "data": {
      "text/plain": [
       "GENDER                   False\n",
       "AGE                      False\n",
       "SMOKING                  False\n",
       "YELLOW_FINGERS           False\n",
       "ANXIETY                  False\n",
       "PEER_PRESSURE            False\n",
       "CHRONIC DISEASE          False\n",
       "FATIGUE                  False\n",
       "ALLERGY                  False\n",
       "WHEEZING                 False\n",
       "ALCOHOL CONSUMING        False\n",
       "COUGHING                 False\n",
       "SHORTNESS OF BREATH      False\n",
       "SWALLOWING DIFFICULTY    False\n",
       "CHEST PAIN               False\n",
       "LUNG_CANCER              False\n",
       "dtype: bool"
      ]
     },
     "execution_count": 11,
     "metadata": {},
     "output_type": "execute_result"
    }
   ],
   "source": [
    "#Checking for rows having null values \n",
    "data.isna().any()"
   ]
  },
  {
   "cell_type": "code",
   "execution_count": 12,
   "metadata": {},
   "outputs": [
    {
     "data": {
      "text/plain": [
       "(309, 16)"
      ]
     },
     "execution_count": 12,
     "metadata": {},
     "output_type": "execute_result"
    }
   ],
   "source": [
    "data.shape"
   ]
  },
  {
   "cell_type": "code",
   "execution_count": 13,
   "metadata": {},
   "outputs": [
    {
     "data": {
      "text/plain": [
       "(276, 16)"
      ]
     },
     "execution_count": 13,
     "metadata": {},
     "output_type": "execute_result"
    }
   ],
   "source": [
    "#checking for rows having duplicate values and removing duplicates. \n",
    "data.duplicated().sum()\n",
    "data = data.drop_duplicates()\n",
    "data.shape"
   ]
  },
  {
   "cell_type": "code",
   "execution_count": 14,
   "metadata": {},
   "outputs": [
    {
     "data": {
      "text/plain": [
       "Index(['GENDER', 'AGE', 'SMOKING', 'YELLOW_FINGERS', 'ANXIETY',\n",
       "       'PEER_PRESSURE', 'CHRONIC DISEASE', 'FATIGUE', 'ALLERGY', 'WHEEZING',\n",
       "       'ALCOHOL CONSUMING', 'COUGHING', 'SHORTNESS OF BREATH',\n",
       "       'SWALLOWING DIFFICULTY', 'CHEST PAIN', 'LUNG_CANCER'],\n",
       "      dtype='object')"
      ]
     },
     "execution_count": 14,
     "metadata": {},
     "output_type": "execute_result"
    }
   ],
   "source": [
    "#Removing spaces from column names\n",
    "data.columns\n",
    "data.columns = data.columns.to_series().apply(lambda x: x.strip())\n",
    "data.columns"
   ]
  },
  {
   "cell_type": "code",
   "execution_count": 15,
   "metadata": {},
   "outputs": [
    {
     "data": {
      "text/plain": [
       "Index(['GENDER', 'AGE', 'SMOKING', 'YELLOW_FINGERS', 'ANXIETY',\n",
       "       'PEER_PRESSURE', 'CHRONIC_DISEASE', 'FATIGUE', 'ALLERGY', 'WHEEZING',\n",
       "       'ALCOHOL_CONSUMING', 'COUGHING', 'SHORTNESS_OF_BREATH',\n",
       "       'SWALLOWING_DIFFICULTY', 'CHEST_PAIN', 'LUNG_CANCER'],\n",
       "      dtype='object')"
      ]
     },
     "execution_count": 15,
     "metadata": {},
     "output_type": "execute_result"
    }
   ],
   "source": [
    "#Renaming few columns\n",
    "data.rename(columns = {'CHRONIC DISEASE':'CHRONIC_DISEASE'}, inplace = True)\n",
    "data.rename(columns = {'ALCOHOL CONSUMING':'ALCOHOL_CONSUMING'}, inplace = True)\n",
    "data.rename(columns = {'SHORTNESS OF BREATH':'SHORTNESS_OF_BREATH'}, inplace = True)\n",
    "data.rename(columns = {'SWALLOWING DIFFICULTY':'SWALLOWING_DIFFICULTY'}, inplace = True)\n",
    "data.rename(columns = {'CHEST PAIN':'CHEST_PAIN'}, inplace = True)         \n",
    "data.columns"
   ]
  },
  {
   "cell_type": "code",
   "execution_count": 16,
   "metadata": {},
   "outputs": [],
   "source": [
    "#changing gender values 0 for male and 1 for female\n",
    "# data['GENDER'] = data['GENDER'].replace('M', '1')\n",
    "# data['GENDER'] = data['GENDER'].replace('F', '')\n",
    "# data['GENDER'] = data.GENDER.astype(int)"
   ]
  },
  {
   "cell_type": "code",
   "execution_count": 17,
   "metadata": {},
   "outputs": [
    {
     "data": {
      "text/html": [
       "<div>\n",
       "<style scoped>\n",
       "    .dataframe tbody tr th:only-of-type {\n",
       "        vertical-align: middle;\n",
       "    }\n",
       "\n",
       "    .dataframe tbody tr th {\n",
       "        vertical-align: top;\n",
       "    }\n",
       "\n",
       "    .dataframe thead th {\n",
       "        text-align: right;\n",
       "    }\n",
       "</style>\n",
       "<table border=\"1\" class=\"dataframe\">\n",
       "  <thead>\n",
       "    <tr style=\"text-align: right;\">\n",
       "      <th></th>\n",
       "      <th>GENDER</th>\n",
       "      <th>AGE</th>\n",
       "      <th>SMOKING</th>\n",
       "      <th>YELLOW_FINGERS</th>\n",
       "      <th>ANXIETY</th>\n",
       "      <th>PEER_PRESSURE</th>\n",
       "      <th>CHRONIC_DISEASE</th>\n",
       "      <th>FATIGUE</th>\n",
       "      <th>ALLERGY</th>\n",
       "      <th>WHEEZING</th>\n",
       "      <th>ALCOHOL_CONSUMING</th>\n",
       "      <th>COUGHING</th>\n",
       "      <th>SHORTNESS_OF_BREATH</th>\n",
       "      <th>SWALLOWING_DIFFICULTY</th>\n",
       "      <th>CHEST_PAIN</th>\n",
       "      <th>LUNG_CANCER</th>\n",
       "    </tr>\n",
       "  </thead>\n",
       "  <tbody>\n",
       "    <tr>\n",
       "      <th>0</th>\n",
       "      <td>M</td>\n",
       "      <td>69</td>\n",
       "      <td>1</td>\n",
       "      <td>2</td>\n",
       "      <td>2</td>\n",
       "      <td>1</td>\n",
       "      <td>1</td>\n",
       "      <td>2</td>\n",
       "      <td>1</td>\n",
       "      <td>2</td>\n",
       "      <td>2</td>\n",
       "      <td>2</td>\n",
       "      <td>2</td>\n",
       "      <td>2</td>\n",
       "      <td>2</td>\n",
       "      <td>YES</td>\n",
       "    </tr>\n",
       "    <tr>\n",
       "      <th>1</th>\n",
       "      <td>M</td>\n",
       "      <td>74</td>\n",
       "      <td>2</td>\n",
       "      <td>1</td>\n",
       "      <td>1</td>\n",
       "      <td>1</td>\n",
       "      <td>2</td>\n",
       "      <td>2</td>\n",
       "      <td>2</td>\n",
       "      <td>1</td>\n",
       "      <td>1</td>\n",
       "      <td>1</td>\n",
       "      <td>2</td>\n",
       "      <td>2</td>\n",
       "      <td>2</td>\n",
       "      <td>YES</td>\n",
       "    </tr>\n",
       "    <tr>\n",
       "      <th>2</th>\n",
       "      <td>F</td>\n",
       "      <td>59</td>\n",
       "      <td>1</td>\n",
       "      <td>1</td>\n",
       "      <td>1</td>\n",
       "      <td>2</td>\n",
       "      <td>1</td>\n",
       "      <td>2</td>\n",
       "      <td>1</td>\n",
       "      <td>2</td>\n",
       "      <td>1</td>\n",
       "      <td>2</td>\n",
       "      <td>2</td>\n",
       "      <td>1</td>\n",
       "      <td>2</td>\n",
       "      <td>NO</td>\n",
       "    </tr>\n",
       "    <tr>\n",
       "      <th>3</th>\n",
       "      <td>M</td>\n",
       "      <td>63</td>\n",
       "      <td>2</td>\n",
       "      <td>2</td>\n",
       "      <td>2</td>\n",
       "      <td>1</td>\n",
       "      <td>1</td>\n",
       "      <td>1</td>\n",
       "      <td>1</td>\n",
       "      <td>1</td>\n",
       "      <td>2</td>\n",
       "      <td>1</td>\n",
       "      <td>1</td>\n",
       "      <td>2</td>\n",
       "      <td>2</td>\n",
       "      <td>NO</td>\n",
       "    </tr>\n",
       "    <tr>\n",
       "      <th>4</th>\n",
       "      <td>F</td>\n",
       "      <td>63</td>\n",
       "      <td>1</td>\n",
       "      <td>2</td>\n",
       "      <td>1</td>\n",
       "      <td>1</td>\n",
       "      <td>1</td>\n",
       "      <td>1</td>\n",
       "      <td>1</td>\n",
       "      <td>2</td>\n",
       "      <td>1</td>\n",
       "      <td>2</td>\n",
       "      <td>2</td>\n",
       "      <td>1</td>\n",
       "      <td>1</td>\n",
       "      <td>NO</td>\n",
       "    </tr>\n",
       "  </tbody>\n",
       "</table>\n",
       "</div>"
      ],
      "text/plain": [
       "  GENDER  AGE  SMOKING  YELLOW_FINGERS  ANXIETY  PEER_PRESSURE  \\\n",
       "0      M   69        1               2        2              1   \n",
       "1      M   74        2               1        1              1   \n",
       "2      F   59        1               1        1              2   \n",
       "3      M   63        2               2        2              1   \n",
       "4      F   63        1               2        1              1   \n",
       "\n",
       "   CHRONIC_DISEASE  FATIGUE  ALLERGY  WHEEZING  ALCOHOL_CONSUMING  COUGHING  \\\n",
       "0                1        2        1         2                  2         2   \n",
       "1                2        2        2         1                  1         1   \n",
       "2                1        2        1         2                  1         2   \n",
       "3                1        1        1         1                  2         1   \n",
       "4                1        1        1         2                  1         2   \n",
       "\n",
       "   SHORTNESS_OF_BREATH  SWALLOWING_DIFFICULTY  CHEST_PAIN LUNG_CANCER  \n",
       "0                    2                      2           2         YES  \n",
       "1                    2                      2           2         YES  \n",
       "2                    2                      1           2          NO  \n",
       "3                    1                      2           2          NO  \n",
       "4                    2                      1           1          NO  "
      ]
     },
     "execution_count": 17,
     "metadata": {},
     "output_type": "execute_result"
    }
   ],
   "source": [
    "data.head()"
   ]
  },
  {
   "cell_type": "code",
   "execution_count": 18,
   "metadata": {},
   "outputs": [
    {
     "data": {
      "text/plain": [
       "GENDER                   object\n",
       "AGE                       int64\n",
       "SMOKING                   int64\n",
       "YELLOW_FINGERS            int64\n",
       "ANXIETY                   int64\n",
       "PEER_PRESSURE             int64\n",
       "CHRONIC_DISEASE           int64\n",
       "FATIGUE                   int64\n",
       "ALLERGY                   int64\n",
       "WHEEZING                  int64\n",
       "ALCOHOL_CONSUMING         int64\n",
       "COUGHING                  int64\n",
       "SHORTNESS_OF_BREATH       int64\n",
       "SWALLOWING_DIFFICULTY     int64\n",
       "CHEST_PAIN                int64\n",
       "LUNG_CANCER              object\n",
       "dtype: object"
      ]
     },
     "execution_count": 18,
     "metadata": {},
     "output_type": "execute_result"
    }
   ],
   "source": [
    "data.dtypes"
   ]
  },
  {
   "cell_type": "code",
   "execution_count": 19,
   "metadata": {},
   "outputs": [
    {
     "data": {
      "text/html": [
       "<div>\n",
       "<style scoped>\n",
       "    .dataframe tbody tr th:only-of-type {\n",
       "        vertical-align: middle;\n",
       "    }\n",
       "\n",
       "    .dataframe tbody tr th {\n",
       "        vertical-align: top;\n",
       "    }\n",
       "\n",
       "    .dataframe thead th {\n",
       "        text-align: right;\n",
       "    }\n",
       "</style>\n",
       "<table border=\"1\" class=\"dataframe\">\n",
       "  <thead>\n",
       "    <tr style=\"text-align: right;\">\n",
       "      <th></th>\n",
       "      <th>GENDER</th>\n",
       "      <th>AGE</th>\n",
       "      <th>SMOKING</th>\n",
       "      <th>YELLOW_FINGERS</th>\n",
       "      <th>ANXIETY</th>\n",
       "      <th>PEER_PRESSURE</th>\n",
       "      <th>CHRONIC_DISEASE</th>\n",
       "      <th>FATIGUE</th>\n",
       "      <th>ALLERGY</th>\n",
       "      <th>WHEEZING</th>\n",
       "      <th>ALCOHOL_CONSUMING</th>\n",
       "      <th>COUGHING</th>\n",
       "      <th>SHORTNESS_OF_BREATH</th>\n",
       "      <th>SWALLOWING_DIFFICULTY</th>\n",
       "      <th>CHEST_PAIN</th>\n",
       "      <th>LUNG_CANCER</th>\n",
       "    </tr>\n",
       "  </thead>\n",
       "  <tbody>\n",
       "    <tr>\n",
       "      <th>0</th>\n",
       "      <td>M</td>\n",
       "      <td>69</td>\n",
       "      <td>0</td>\n",
       "      <td>1</td>\n",
       "      <td>1</td>\n",
       "      <td>0</td>\n",
       "      <td>0</td>\n",
       "      <td>1</td>\n",
       "      <td>0</td>\n",
       "      <td>1</td>\n",
       "      <td>1</td>\n",
       "      <td>1</td>\n",
       "      <td>1</td>\n",
       "      <td>1</td>\n",
       "      <td>1</td>\n",
       "      <td>YES</td>\n",
       "    </tr>\n",
       "    <tr>\n",
       "      <th>1</th>\n",
       "      <td>M</td>\n",
       "      <td>74</td>\n",
       "      <td>1</td>\n",
       "      <td>0</td>\n",
       "      <td>0</td>\n",
       "      <td>0</td>\n",
       "      <td>1</td>\n",
       "      <td>1</td>\n",
       "      <td>1</td>\n",
       "      <td>0</td>\n",
       "      <td>0</td>\n",
       "      <td>0</td>\n",
       "      <td>1</td>\n",
       "      <td>1</td>\n",
       "      <td>1</td>\n",
       "      <td>YES</td>\n",
       "    </tr>\n",
       "    <tr>\n",
       "      <th>2</th>\n",
       "      <td>F</td>\n",
       "      <td>59</td>\n",
       "      <td>0</td>\n",
       "      <td>0</td>\n",
       "      <td>0</td>\n",
       "      <td>1</td>\n",
       "      <td>0</td>\n",
       "      <td>1</td>\n",
       "      <td>0</td>\n",
       "      <td>1</td>\n",
       "      <td>0</td>\n",
       "      <td>1</td>\n",
       "      <td>1</td>\n",
       "      <td>0</td>\n",
       "      <td>1</td>\n",
       "      <td>NO</td>\n",
       "    </tr>\n",
       "    <tr>\n",
       "      <th>3</th>\n",
       "      <td>M</td>\n",
       "      <td>63</td>\n",
       "      <td>1</td>\n",
       "      <td>1</td>\n",
       "      <td>1</td>\n",
       "      <td>0</td>\n",
       "      <td>0</td>\n",
       "      <td>0</td>\n",
       "      <td>0</td>\n",
       "      <td>0</td>\n",
       "      <td>1</td>\n",
       "      <td>0</td>\n",
       "      <td>0</td>\n",
       "      <td>1</td>\n",
       "      <td>1</td>\n",
       "      <td>NO</td>\n",
       "    </tr>\n",
       "    <tr>\n",
       "      <th>4</th>\n",
       "      <td>F</td>\n",
       "      <td>63</td>\n",
       "      <td>0</td>\n",
       "      <td>1</td>\n",
       "      <td>0</td>\n",
       "      <td>0</td>\n",
       "      <td>0</td>\n",
       "      <td>0</td>\n",
       "      <td>0</td>\n",
       "      <td>1</td>\n",
       "      <td>0</td>\n",
       "      <td>1</td>\n",
       "      <td>1</td>\n",
       "      <td>0</td>\n",
       "      <td>0</td>\n",
       "      <td>NO</td>\n",
       "    </tr>\n",
       "  </tbody>\n",
       "</table>\n",
       "</div>"
      ],
      "text/plain": [
       "  GENDER  AGE  SMOKING  YELLOW_FINGERS  ANXIETY  PEER_PRESSURE  \\\n",
       "0      M   69        0               1        1              0   \n",
       "1      M   74        1               0        0              0   \n",
       "2      F   59        0               0        0              1   \n",
       "3      M   63        1               1        1              0   \n",
       "4      F   63        0               1        0              0   \n",
       "\n",
       "   CHRONIC_DISEASE  FATIGUE  ALLERGY  WHEEZING  ALCOHOL_CONSUMING  COUGHING  \\\n",
       "0                0        1        0         1                  1         1   \n",
       "1                1        1        1         0                  0         0   \n",
       "2                0        1        0         1                  0         1   \n",
       "3                0        0        0         0                  1         0   \n",
       "4                0        0        0         1                  0         1   \n",
       "\n",
       "   SHORTNESS_OF_BREATH  SWALLOWING_DIFFICULTY  CHEST_PAIN LUNG_CANCER  \n",
       "0                    1                      1           1         YES  \n",
       "1                    1                      1           1         YES  \n",
       "2                    1                      0           1          NO  \n",
       "3                    0                      1           1          NO  \n",
       "4                    1                      0           0          NO  "
      ]
     },
     "execution_count": 19,
     "metadata": {},
     "output_type": "execute_result"
    }
   ],
   "source": [
    "data.replace(to_replace=[1,2],\n",
    "           value= [0,1], \n",
    "           inplace=True)\n",
    "data.head()"
   ]
  },
  {
   "cell_type": "code",
   "execution_count": 20,
   "metadata": {},
   "outputs": [
    {
     "data": {
      "text/html": [
       "<div>\n",
       "<style scoped>\n",
       "    .dataframe tbody tr th:only-of-type {\n",
       "        vertical-align: middle;\n",
       "    }\n",
       "\n",
       "    .dataframe tbody tr th {\n",
       "        vertical-align: top;\n",
       "    }\n",
       "\n",
       "    .dataframe thead th {\n",
       "        text-align: right;\n",
       "    }\n",
       "</style>\n",
       "<table border=\"1\" class=\"dataframe\">\n",
       "  <thead>\n",
       "    <tr style=\"text-align: right;\">\n",
       "      <th></th>\n",
       "      <th>GENDER</th>\n",
       "      <th>AGE</th>\n",
       "      <th>SMOKING</th>\n",
       "      <th>YELLOW_FINGERS</th>\n",
       "      <th>ANXIETY</th>\n",
       "      <th>PEER_PRESSURE</th>\n",
       "      <th>CHRONIC_DISEASE</th>\n",
       "      <th>FATIGUE</th>\n",
       "      <th>ALLERGY</th>\n",
       "      <th>WHEEZING</th>\n",
       "      <th>ALCOHOL_CONSUMING</th>\n",
       "      <th>COUGHING</th>\n",
       "      <th>SHORTNESS_OF_BREATH</th>\n",
       "      <th>SWALLOWING_DIFFICULTY</th>\n",
       "      <th>CHEST_PAIN</th>\n",
       "      <th>LUNG_CANCER</th>\n",
       "    </tr>\n",
       "  </thead>\n",
       "  <tbody>\n",
       "    <tr>\n",
       "      <th>0</th>\n",
       "      <td>1</td>\n",
       "      <td>69</td>\n",
       "      <td>0</td>\n",
       "      <td>1</td>\n",
       "      <td>1</td>\n",
       "      <td>0</td>\n",
       "      <td>0</td>\n",
       "      <td>1</td>\n",
       "      <td>0</td>\n",
       "      <td>1</td>\n",
       "      <td>1</td>\n",
       "      <td>1</td>\n",
       "      <td>1</td>\n",
       "      <td>1</td>\n",
       "      <td>1</td>\n",
       "      <td>YES</td>\n",
       "    </tr>\n",
       "    <tr>\n",
       "      <th>1</th>\n",
       "      <td>1</td>\n",
       "      <td>74</td>\n",
       "      <td>1</td>\n",
       "      <td>0</td>\n",
       "      <td>0</td>\n",
       "      <td>0</td>\n",
       "      <td>1</td>\n",
       "      <td>1</td>\n",
       "      <td>1</td>\n",
       "      <td>0</td>\n",
       "      <td>0</td>\n",
       "      <td>0</td>\n",
       "      <td>1</td>\n",
       "      <td>1</td>\n",
       "      <td>1</td>\n",
       "      <td>YES</td>\n",
       "    </tr>\n",
       "    <tr>\n",
       "      <th>2</th>\n",
       "      <td>0</td>\n",
       "      <td>59</td>\n",
       "      <td>0</td>\n",
       "      <td>0</td>\n",
       "      <td>0</td>\n",
       "      <td>1</td>\n",
       "      <td>0</td>\n",
       "      <td>1</td>\n",
       "      <td>0</td>\n",
       "      <td>1</td>\n",
       "      <td>0</td>\n",
       "      <td>1</td>\n",
       "      <td>1</td>\n",
       "      <td>0</td>\n",
       "      <td>1</td>\n",
       "      <td>NO</td>\n",
       "    </tr>\n",
       "    <tr>\n",
       "      <th>3</th>\n",
       "      <td>1</td>\n",
       "      <td>63</td>\n",
       "      <td>1</td>\n",
       "      <td>1</td>\n",
       "      <td>1</td>\n",
       "      <td>0</td>\n",
       "      <td>0</td>\n",
       "      <td>0</td>\n",
       "      <td>0</td>\n",
       "      <td>0</td>\n",
       "      <td>1</td>\n",
       "      <td>0</td>\n",
       "      <td>0</td>\n",
       "      <td>1</td>\n",
       "      <td>1</td>\n",
       "      <td>NO</td>\n",
       "    </tr>\n",
       "    <tr>\n",
       "      <th>4</th>\n",
       "      <td>0</td>\n",
       "      <td>63</td>\n",
       "      <td>0</td>\n",
       "      <td>1</td>\n",
       "      <td>0</td>\n",
       "      <td>0</td>\n",
       "      <td>0</td>\n",
       "      <td>0</td>\n",
       "      <td>0</td>\n",
       "      <td>1</td>\n",
       "      <td>0</td>\n",
       "      <td>1</td>\n",
       "      <td>1</td>\n",
       "      <td>0</td>\n",
       "      <td>0</td>\n",
       "      <td>NO</td>\n",
       "    </tr>\n",
       "  </tbody>\n",
       "</table>\n",
       "</div>"
      ],
      "text/plain": [
       "   GENDER  AGE  SMOKING  YELLOW_FINGERS  ANXIETY  PEER_PRESSURE  \\\n",
       "0       1   69        0               1        1              0   \n",
       "1       1   74        1               0        0              0   \n",
       "2       0   59        0               0        0              1   \n",
       "3       1   63        1               1        1              0   \n",
       "4       0   63        0               1        0              0   \n",
       "\n",
       "   CHRONIC_DISEASE  FATIGUE  ALLERGY  WHEEZING  ALCOHOL_CONSUMING  COUGHING  \\\n",
       "0                0        1        0         1                  1         1   \n",
       "1                1        1        1         0                  0         0   \n",
       "2                0        1        0         1                  0         1   \n",
       "3                0        0        0         0                  1         0   \n",
       "4                0        0        0         1                  0         1   \n",
       "\n",
       "   SHORTNESS_OF_BREATH  SWALLOWING_DIFFICULTY  CHEST_PAIN LUNG_CANCER  \n",
       "0                    1                      1           1         YES  \n",
       "1                    1                      1           1         YES  \n",
       "2                    1                      0           1          NO  \n",
       "3                    0                      1           1          NO  \n",
       "4                    1                      0           0          NO  "
      ]
     },
     "execution_count": 20,
     "metadata": {},
     "output_type": "execute_result"
    }
   ],
   "source": [
    "data.replace(to_replace=['M','F'],\n",
    "           value= [1,0], \n",
    "           inplace=True)\n",
    "\n",
    "data.head()\n"
   ]
  },
  {
   "cell_type": "code",
   "execution_count": 21,
   "metadata": {},
   "outputs": [
    {
     "data": {
      "text/html": [
       "<div>\n",
       "<style scoped>\n",
       "    .dataframe tbody tr th:only-of-type {\n",
       "        vertical-align: middle;\n",
       "    }\n",
       "\n",
       "    .dataframe tbody tr th {\n",
       "        vertical-align: top;\n",
       "    }\n",
       "\n",
       "    .dataframe thead th {\n",
       "        text-align: right;\n",
       "    }\n",
       "</style>\n",
       "<table border=\"1\" class=\"dataframe\">\n",
       "  <thead>\n",
       "    <tr style=\"text-align: right;\">\n",
       "      <th></th>\n",
       "      <th>GENDER</th>\n",
       "      <th>AGE</th>\n",
       "      <th>SMOKING</th>\n",
       "      <th>YELLOW_FINGERS</th>\n",
       "      <th>ANXIETY</th>\n",
       "      <th>PEER_PRESSURE</th>\n",
       "      <th>CHRONIC_DISEASE</th>\n",
       "      <th>FATIGUE</th>\n",
       "      <th>ALLERGY</th>\n",
       "      <th>WHEEZING</th>\n",
       "      <th>ALCOHOL_CONSUMING</th>\n",
       "      <th>COUGHING</th>\n",
       "      <th>SHORTNESS_OF_BREATH</th>\n",
       "      <th>SWALLOWING_DIFFICULTY</th>\n",
       "      <th>CHEST_PAIN</th>\n",
       "      <th>LUNG_CANCER</th>\n",
       "    </tr>\n",
       "  </thead>\n",
       "  <tbody>\n",
       "    <tr>\n",
       "      <th>0</th>\n",
       "      <td>1</td>\n",
       "      <td>69</td>\n",
       "      <td>0</td>\n",
       "      <td>1</td>\n",
       "      <td>1</td>\n",
       "      <td>0</td>\n",
       "      <td>0</td>\n",
       "      <td>1</td>\n",
       "      <td>0</td>\n",
       "      <td>1</td>\n",
       "      <td>1</td>\n",
       "      <td>1</td>\n",
       "      <td>1</td>\n",
       "      <td>1</td>\n",
       "      <td>1</td>\n",
       "      <td>1</td>\n",
       "    </tr>\n",
       "    <tr>\n",
       "      <th>1</th>\n",
       "      <td>1</td>\n",
       "      <td>74</td>\n",
       "      <td>1</td>\n",
       "      <td>0</td>\n",
       "      <td>0</td>\n",
       "      <td>0</td>\n",
       "      <td>1</td>\n",
       "      <td>1</td>\n",
       "      <td>1</td>\n",
       "      <td>0</td>\n",
       "      <td>0</td>\n",
       "      <td>0</td>\n",
       "      <td>1</td>\n",
       "      <td>1</td>\n",
       "      <td>1</td>\n",
       "      <td>1</td>\n",
       "    </tr>\n",
       "    <tr>\n",
       "      <th>2</th>\n",
       "      <td>0</td>\n",
       "      <td>59</td>\n",
       "      <td>0</td>\n",
       "      <td>0</td>\n",
       "      <td>0</td>\n",
       "      <td>1</td>\n",
       "      <td>0</td>\n",
       "      <td>1</td>\n",
       "      <td>0</td>\n",
       "      <td>1</td>\n",
       "      <td>0</td>\n",
       "      <td>1</td>\n",
       "      <td>1</td>\n",
       "      <td>0</td>\n",
       "      <td>1</td>\n",
       "      <td>0</td>\n",
       "    </tr>\n",
       "    <tr>\n",
       "      <th>3</th>\n",
       "      <td>1</td>\n",
       "      <td>63</td>\n",
       "      <td>1</td>\n",
       "      <td>1</td>\n",
       "      <td>1</td>\n",
       "      <td>0</td>\n",
       "      <td>0</td>\n",
       "      <td>0</td>\n",
       "      <td>0</td>\n",
       "      <td>0</td>\n",
       "      <td>1</td>\n",
       "      <td>0</td>\n",
       "      <td>0</td>\n",
       "      <td>1</td>\n",
       "      <td>1</td>\n",
       "      <td>0</td>\n",
       "    </tr>\n",
       "    <tr>\n",
       "      <th>4</th>\n",
       "      <td>0</td>\n",
       "      <td>63</td>\n",
       "      <td>0</td>\n",
       "      <td>1</td>\n",
       "      <td>0</td>\n",
       "      <td>0</td>\n",
       "      <td>0</td>\n",
       "      <td>0</td>\n",
       "      <td>0</td>\n",
       "      <td>1</td>\n",
       "      <td>0</td>\n",
       "      <td>1</td>\n",
       "      <td>1</td>\n",
       "      <td>0</td>\n",
       "      <td>0</td>\n",
       "      <td>0</td>\n",
       "    </tr>\n",
       "  </tbody>\n",
       "</table>\n",
       "</div>"
      ],
      "text/plain": [
       "   GENDER  AGE  SMOKING  YELLOW_FINGERS  ANXIETY  PEER_PRESSURE  \\\n",
       "0       1   69        0               1        1              0   \n",
       "1       1   74        1               0        0              0   \n",
       "2       0   59        0               0        0              1   \n",
       "3       1   63        1               1        1              0   \n",
       "4       0   63        0               1        0              0   \n",
       "\n",
       "   CHRONIC_DISEASE  FATIGUE  ALLERGY  WHEEZING  ALCOHOL_CONSUMING  COUGHING  \\\n",
       "0                0        1        0         1                  1         1   \n",
       "1                1        1        1         0                  0         0   \n",
       "2                0        1        0         1                  0         1   \n",
       "3                0        0        0         0                  1         0   \n",
       "4                0        0        0         1                  0         1   \n",
       "\n",
       "   SHORTNESS_OF_BREATH  SWALLOWING_DIFFICULTY  CHEST_PAIN  LUNG_CANCER  \n",
       "0                    1                      1           1            1  \n",
       "1                    1                      1           1            1  \n",
       "2                    1                      0           1            0  \n",
       "3                    0                      1           1            0  \n",
       "4                    1                      0           0            0  "
      ]
     },
     "execution_count": 21,
     "metadata": {},
     "output_type": "execute_result"
    }
   ],
   "source": [
    "data.replace(to_replace=['YES','NO'],\n",
    "           value= [1,0], \n",
    "           inplace=True)\n",
    "\n",
    "data.head()"
   ]
  },
  {
   "cell_type": "markdown",
   "metadata": {},
   "source": [
    "## Step 5: Filter Results and Build and Validate Models\n",
    "\n",
    "\n",
    "Perform any additional data carpentry and begin filtering results/data and then build, validate, and describe your model(s). \n",
    "\n",
    "Add more cells (`Insert > Insert Cell Below`) if you want additional cells."
   ]
  },
  {
   "cell_type": "code",
   "execution_count": 22,
   "metadata": {},
   "outputs": [
    {
     "data": {
      "text/plain": [
       "(83, 16)"
      ]
     },
     "execution_count": 22,
     "metadata": {},
     "output_type": "execute_result"
    }
   ],
   "source": [
    "#Splitting the test and train data\n",
    "\n",
    "train = data.sample(frac= 0.7, random_state =1) #70% data for training \n",
    "test = data.drop(train.index) \n",
    "train.shape\n",
    "test.shape\n"
   ]
  },
  {
   "cell_type": "code",
   "execution_count": 23,
   "metadata": {},
   "outputs": [
    {
     "data": {
      "text/plain": [
       "['GENDER',\n",
       " 'AGE',\n",
       " 'SMOKING',\n",
       " 'YELLOW_FINGERS',\n",
       " 'ANXIETY',\n",
       " 'PEER_PRESSURE',\n",
       " 'CHRONIC_DISEASE',\n",
       " 'FATIGUE',\n",
       " 'ALLERGY',\n",
       " 'WHEEZING',\n",
       " 'ALCOHOL_CONSUMING',\n",
       " 'COUGHING',\n",
       " 'SHORTNESS_OF_BREATH',\n",
       " 'SWALLOWING_DIFFICULTY',\n",
       " 'CHEST_PAIN',\n",
       " 'LUNG_CANCER']"
      ]
     },
     "execution_count": 23,
     "metadata": {},
     "output_type": "execute_result"
    }
   ],
   "source": [
    "list(data.columns)"
   ]
  },
  {
   "cell_type": "code",
   "execution_count": 24,
   "metadata": {},
   "outputs": [
    {
     "data": {
      "text/plain": [
       "array([1, 1, 1, 1, 1, 1, 1, 1, 1, 1, 0, 1, 1, 1, 1, 1, 1, 1, 1, 1, 0, 0,\n",
       "       1, 1, 0, 1, 1, 1, 1, 1, 0, 1, 1, 1, 1, 1, 1, 1, 1, 1, 1, 1, 1, 0,\n",
       "       0, 1, 1, 1, 1, 1, 1, 0, 1, 1, 1, 1, 1, 1, 1, 0, 1, 1, 1, 1, 1, 1,\n",
       "       0, 1, 1, 1, 1, 1, 1, 1, 1, 1, 1, 1, 1, 1, 0, 0, 1, 1, 1, 1, 1, 0,\n",
       "       1, 1, 1, 1, 1, 1, 1, 1, 1, 1, 1, 1, 1, 1, 1, 1, 1, 1, 1, 1, 0, 1,\n",
       "       1, 1, 1, 0, 1, 1, 0, 1, 1, 0, 1, 1, 1, 1, 1, 1, 1, 0, 1, 1, 1, 1,\n",
       "       1, 1, 1, 1, 1, 1, 0, 1, 1, 1, 1, 1, 1, 1, 1, 1, 1, 1, 1, 1, 1, 1,\n",
       "       1, 1, 1, 1, 1, 1, 1, 1, 1, 1, 1, 1, 1, 1, 1, 1, 1, 0, 1, 1, 1, 0,\n",
       "       1, 1, 1, 1, 1, 1, 1, 1, 0, 1, 1, 1, 1, 1, 1, 1, 1])"
      ]
     },
     "execution_count": 24,
     "metadata": {},
     "output_type": "execute_result"
    }
   ],
   "source": [
    "\n",
    "# separating input and output data for train dataset\n",
    "train_X = np.asarray(train[['GENDER',\n",
    " 'AGE',\n",
    " 'SMOKING',\n",
    " 'YELLOW_FINGERS',\n",
    " 'ANXIETY',\n",
    " 'PEER_PRESSURE',\n",
    " 'CHRONIC_DISEASE',\n",
    " 'FATIGUE',\n",
    " 'ALLERGY',\n",
    " 'WHEEZING',\n",
    " 'ALCOHOL_CONSUMING',\n",
    " 'COUGHING',\n",
    " 'SHORTNESS_OF_BREATH',\n",
    " 'SWALLOWING_DIFFICULTY',\n",
    " 'CHEST_PAIN']])                             \n",
    "train_y = np.asarray(train.LUNG_CANCER)\n",
    "\n",
    "# separating input and output data for test dataset\n",
    "\n",
    "test_X = np.asarray(test[['GENDER',\n",
    " 'AGE',\n",
    " 'SMOKING',\n",
    " 'YELLOW_FINGERS',\n",
    " 'ANXIETY',\n",
    " 'PEER_PRESSURE',\n",
    " 'CHRONIC_DISEASE',\n",
    " 'FATIGUE',\n",
    " 'ALLERGY',\n",
    " 'WHEEZING',\n",
    " 'ALCOHOL_CONSUMING',\n",
    " 'COUGHING',\n",
    " 'SHORTNESS_OF_BREATH',\n",
    " 'SWALLOWING_DIFFICULTY',\n",
    " 'CHEST_PAIN']])  \n",
    "test_y = np.asarray(test.LUNG_CANCER)\n",
    "#train_X.shape\n",
    "# test_X.shape\n",
    "train_y.shape\n",
    "#test_y.shape\n",
    "train_y"
   ]
  },
  {
   "cell_type": "code",
   "execution_count": 40,
   "metadata": {},
   "outputs": [],
   "source": [
    "#Training a decision tree model, and predicting cancer rate by taking all available variables.\n",
    "\n",
    "lung_cancer_data = tree.DecisionTreeClassifier(criterion='entropy') \n",
    "lung_cancer_data = lung_cancer_data.fit(train_X, train_y ) \n",
    "y_pred = lung_cancer_data.predict(test_X)\n",
    "probability = lung_cancer_data.predict_proba(test_X)"
   ]
  },
  {
   "cell_type": "code",
   "execution_count": 41,
   "metadata": {},
   "outputs": [
    {
     "name": "stdout",
     "output_type": "stream",
     "text": [
      "Number of mislabeled points out of a total 83 points : 10\n",
      "The accuracy of the Decision Tree is  0.880\n",
      "misclassification error rate is : 0.12048192771084337\n"
     ]
    }
   ],
   "source": [
    "print(\"Number of mislabeled points out of a total {} points : {}\"\n",
    "      .format(len(test),(test_y != y_pred).sum()))\n",
    "\n",
    "print('The accuracy of the Decision Tree is ',\"{:.3f}\".format(metrics.accuracy_score(y_pred,test_y)))\n",
    "\n",
    "misclassification_error_rate = (sum(test_y != y_pred)/len(test))\n",
    "print(\"misclassification error rate is : {}\".format(misclassification_error_rate))\n"
   ]
  },
  {
   "cell_type": "code",
   "execution_count": 42,
   "metadata": {},
   "outputs": [
    {
     "name": "stdout",
     "output_type": "stream",
     "text": [
      "                       importance               features\n",
      "features                                                \n",
      "PEER_PRESSURE            0.000000          PEER_PRESSURE\n",
      "SWALLOWING_DIFFICULTY    0.000000  SWALLOWING_DIFFICULTY\n",
      "WHEEZING                 0.000000               WHEEZING\n",
      "SHORTNESS_OF_BREATH      0.007642    SHORTNESS_OF_BREATH\n",
      "GENDER                   0.020246                 GENDER\n",
      "SMOKING                  0.032851                SMOKING\n",
      "COUGHING                 0.044183               COUGHING\n",
      "CHEST_PAIN               0.049145             CHEST_PAIN\n",
      "ANXIETY                  0.059091                ANXIETY\n",
      "ALLERGY                  0.059494                ALLERGY\n",
      "CHRONIC_DISEASE          0.103385        CHRONIC_DISEASE\n",
      "ALCOHOL_CONSUMING        0.127476      ALCOHOL_CONSUMING\n",
      "YELLOW_FINGERS           0.140023         YELLOW_FINGERS\n",
      "FATIGUE                  0.149209                FATIGUE\n",
      "AGE                      0.207256                    AGE\n"
     ]
    },
    {
     "data": {
      "text/plain": [
       "Text(0.5, 0, 'Feature importance')"
      ]
     },
     "execution_count": 42,
     "metadata": {},
     "output_type": "execute_result"
    },
    {
     "data": {
      "image/png": "[encoded data removed]",
      "text/plain": [
       "<Figure size 432x288 with 1 Axes>"
      ]
     },
     "metadata": {
      "needs_background": "light"
     },
     "output_type": "display_data"
    }
   ],
   "source": [
    "#Find the feature importance by running the method feature_importances_ on the classifier.\n",
    "\n",
    "#from matplotlib import pyplot\n",
    "columns = ['GENDER',\n",
    " 'AGE',\n",
    " 'SMOKING',\n",
    " 'YELLOW_FINGERS',\n",
    " 'ANXIETY',\n",
    " 'PEER_PRESSURE',\n",
    " 'CHRONIC_DISEASE',\n",
    " 'FATIGUE',\n",
    " 'ALLERGY',\n",
    " 'WHEEZING',\n",
    " 'ALCOHOL_CONSUMING',\n",
    " 'COUGHING',\n",
    " 'SHORTNESS_OF_BREATH',\n",
    " 'SWALLOWING_DIFFICULTY',\n",
    " 'CHEST_PAIN']\n",
    "\n",
    "top_features = zip(lung_cancer_data.feature_importances_,columns)\n",
    "top_features = sorted(top_features)\n",
    "\n",
    "cols = pd.DataFrame(top_features)\n",
    "cols.columns =['importance', 'features']\n",
    "#print(cols)\n",
    "\n",
    "# cols.plot.barh()\n",
    "# plt.title(\"Decision Tree Feature importance plot for Lung Cancer Dataset\")\n",
    "# plt.xlabel(\"Feature importance\")\n",
    "# plt.ylabel(\"Features\")\n",
    "\n",
    "df_new=cols\n",
    "df_new.columns\n",
    "df_new.index = df_new.features\n",
    "print(df_new)\n",
    "df_new.importance.plot.barh()\n",
    "plt.title(\"Decision Tree Feature importance plot for Lung Cancer Dataset\")\n",
    "plt.xlabel(\"Feature importance\")"
   ]
  },
  {
   "cell_type": "raw",
   "metadata": {},
   "source": [
    "From the visualization it's more clear that CHRONIC_DISEASE, ALCOHOL_CONSUMING, YELLOW_FINGERS,ANXIETY,FATIGUE, AGE are playing most important roles when it comes to lung cancer prediction.Let's take a dataframe having only those columns and lets check if the model accuracy improves if trained only with those variable values to predict lung cancer."
   ]
  },
  {
   "cell_type": "code",
   "execution_count": 28,
   "metadata": {},
   "outputs": [
    {
     "data": {
      "text/html": [
       "<div>\n",
       "<style scoped>\n",
       "    .dataframe tbody tr th:only-of-type {\n",
       "        vertical-align: middle;\n",
       "    }\n",
       "\n",
       "    .dataframe tbody tr th {\n",
       "        vertical-align: top;\n",
       "    }\n",
       "\n",
       "    .dataframe thead th {\n",
       "        text-align: right;\n",
       "    }\n",
       "</style>\n",
       "<table border=\"1\" class=\"dataframe\">\n",
       "  <thead>\n",
       "    <tr style=\"text-align: right;\">\n",
       "      <th></th>\n",
       "      <th>CHRONIC_DISEASE</th>\n",
       "      <th>ANXIETY</th>\n",
       "      <th>ALCOHOL_CONSUMING</th>\n",
       "      <th>YELLOW_FINGERS</th>\n",
       "      <th>FATIGUE</th>\n",
       "      <th>AGE</th>\n",
       "      <th>LUNG_CANCER</th>\n",
       "    </tr>\n",
       "  </thead>\n",
       "  <tbody>\n",
       "    <tr>\n",
       "      <th>0</th>\n",
       "      <td>0</td>\n",
       "      <td>1</td>\n",
       "      <td>1</td>\n",
       "      <td>1</td>\n",
       "      <td>1</td>\n",
       "      <td>69</td>\n",
       "      <td>1</td>\n",
       "    </tr>\n",
       "    <tr>\n",
       "      <th>1</th>\n",
       "      <td>1</td>\n",
       "      <td>0</td>\n",
       "      <td>0</td>\n",
       "      <td>0</td>\n",
       "      <td>1</td>\n",
       "      <td>74</td>\n",
       "      <td>1</td>\n",
       "    </tr>\n",
       "    <tr>\n",
       "      <th>2</th>\n",
       "      <td>0</td>\n",
       "      <td>0</td>\n",
       "      <td>0</td>\n",
       "      <td>0</td>\n",
       "      <td>1</td>\n",
       "      <td>59</td>\n",
       "      <td>0</td>\n",
       "    </tr>\n",
       "    <tr>\n",
       "      <th>3</th>\n",
       "      <td>0</td>\n",
       "      <td>1</td>\n",
       "      <td>1</td>\n",
       "      <td>1</td>\n",
       "      <td>0</td>\n",
       "      <td>63</td>\n",
       "      <td>0</td>\n",
       "    </tr>\n",
       "    <tr>\n",
       "      <th>4</th>\n",
       "      <td>0</td>\n",
       "      <td>0</td>\n",
       "      <td>0</td>\n",
       "      <td>1</td>\n",
       "      <td>0</td>\n",
       "      <td>63</td>\n",
       "      <td>0</td>\n",
       "    </tr>\n",
       "  </tbody>\n",
       "</table>\n",
       "</div>"
      ],
      "text/plain": [
       "   CHRONIC_DISEASE  ANXIETY  ALCOHOL_CONSUMING  YELLOW_FINGERS  FATIGUE  AGE  \\\n",
       "0                0        1                  1               1        1   69   \n",
       "1                1        0                  0               0        1   74   \n",
       "2                0        0                  0               0        1   59   \n",
       "3                0        1                  1               1        0   63   \n",
       "4                0        0                  0               1        0   63   \n",
       "\n",
       "   LUNG_CANCER  \n",
       "0            1  \n",
       "1            1  \n",
       "2            0  \n",
       "3            0  \n",
       "4            0  "
      ]
     },
     "execution_count": 28,
     "metadata": {},
     "output_type": "execute_result"
    }
   ],
   "source": [
    "df = data[['CHRONIC_DISEASE','ANXIETY','ALCOHOL_CONSUMING','YELLOW_FINGERS','FATIGUE','AGE','LUNG_CANCER' ]]\n",
    "df.head()\n"
   ]
  },
  {
   "cell_type": "code",
   "execution_count": 29,
   "metadata": {},
   "outputs": [
    {
     "name": "stdout",
     "output_type": "stream",
     "text": [
      "Number of mislabeled points out of a total 83 points : 5\n",
      "The accuracy of the Decision Tree is  0.940\n",
      "misclassification error rate is : 0.060240963855421686\n"
     ]
    }
   ],
   "source": [
    "train1 = df.sample(frac= 0.6, random_state =2) #60% data for training \n",
    "test1 = df.drop(train.index ) \n",
    "train1.shape\n",
    "#test1.shape\n",
    "list(df.columns)\n",
    "\n",
    "train1_X = np.asarray(train1[['CHRONIC_DISEASE',\n",
    " 'ANXIETY',                            \n",
    " 'ALCOHOL_CONSUMING',\n",
    " 'YELLOW_FINGERS',\n",
    " 'FATIGUE',\n",
    " 'AGE']])\n",
    "\n",
    "train1_Y = np.asarray(train1.LUNG_CANCER)\n",
    "\n",
    "test1_X = np.asarray(test1[['CHRONIC_DISEASE',\n",
    " 'ANXIETY',                          \n",
    " 'ALCOHOL_CONSUMING',\n",
    " 'YELLOW_FINGERS',\n",
    " 'FATIGUE',\n",
    " 'AGE']])\n",
    "test1_Y = np.asarray(test1.LUNG_CANCER)\n",
    "\n",
    "test1_Y.shape\n",
    "train1_Y.shape\n",
    "\n",
    "test1_X.shape\n",
    "train1_X.shape\n",
    "\n",
    "lung_cancer_data_1 = tree.DecisionTreeClassifier(criterion='entropy') \n",
    "model = lung_cancer_data_1.fit(train1_X, train1_Y) \n",
    "y1_pred = lung_cancer_data_1.fit(train1_X, train1_Y).predict(test1_X)\n",
    "\n",
    "print(\"Number of mislabeled points out of a total {} points : {}\"\n",
    "      .format(len(test1),(test1_Y != y1_pred).sum()))\n",
    "\n",
    "print('The accuracy of the Decision Tree is ',\"{:.3f}\".format(metrics.accuracy_score(y1_pred,test1_Y)))\n",
    "\n",
    "misclassification_error_rate = (sum(test1_Y != y1_pred)/len(test1))\n",
    "print(\"misclassification error rate is : {}\".format(misclassification_error_rate))\n"
   ]
  },
  {
   "cell_type": "raw",
   "metadata": {},
   "source": [
    "The misclassification error rate decreasing by 50%.Let's check and plot other details."
   ]
  },
  {
   "cell_type": "code",
   "execution_count": 30,
   "metadata": {},
   "outputs": [
    {
     "data": {
      "text/plain": [
       "['CHRONIC_DISEASE',\n",
       " 'ANXIETY',\n",
       " 'ALCOHOL_CONSUMING',\n",
       " 'YELLOW_FINGERS',\n",
       " 'FATIGUE',\n",
       " 'AGE',\n",
       " 'LUNG_CANCER']"
      ]
     },
     "execution_count": 30,
     "metadata": {},
     "output_type": "execute_result"
    }
   ],
   "source": [
    "list(train1.columns)"
   ]
  },
  {
   "cell_type": "code",
   "execution_count": 31,
   "metadata": {},
   "outputs": [
    {
     "data": {
      "text/plain": [
       "[(0.052834424804928455, 'CHRONIC_DISEASE'),\n",
       " (0.09274483009108814, 'ALCOHOL_CONSUMING'),\n",
       " (0.16439352362174192, 'ANXIETY'),\n",
       " (0.19196919237452373, 'YELLOW_FINGERS'),\n",
       " (0.19537089281894626, 'FATIGUE'),\n",
       " (0.3026871362887715, 'AGE')]"
      ]
     },
     "execution_count": 31,
     "metadata": {},
     "output_type": "execute_result"
    }
   ],
   "source": [
    "\n",
    "z_list1 = zip(lung_cancer_data_1.feature_importances_,train1.columns)\n",
    "z_list1 = sorted(z_list1)\n",
    "z_list1\n"
   ]
  },
  {
   "cell_type": "code",
   "execution_count": 32,
   "metadata": {},
   "outputs": [
    {
     "name": "stdout",
     "output_type": "stream",
     "text": [
      "<class 'pandas.core.frame.DataFrame'>\n",
      "Int64Index: 276 entries, 0 to 283\n",
      "Data columns (total 7 columns):\n",
      "CHRONIC_DISEASE      276 non-null int64\n",
      "ANXIETY              276 non-null int64\n",
      "ALCOHOL_CONSUMING    276 non-null int64\n",
      "YELLOW_FINGERS       276 non-null int64\n",
      "FATIGUE              276 non-null int64\n",
      "AGE                  276 non-null int64\n",
      "LUNG_CANCER          276 non-null int64\n",
      "dtypes: int64(7)\n",
      "memory usage: 27.2 KB\n"
     ]
    }
   ],
   "source": [
    "df.info()"
   ]
  },
  {
   "cell_type": "markdown",
   "metadata": {},
   "source": [
    "## Step 6: Visualize Results\n",
    "\n",
    "Build up your key visual story elements!\n",
    "\n",
    "Add more cells (`Insert > Insert Cell Below`) if you want additional cells."
   ]
  },
  {
   "cell_type": "code",
   "execution_count": 43,
   "metadata": {},
   "outputs": [
    {
     "data": {
      "text/plain": [
       "[(0, 'CHRONIC_DISEASE'),\n",
       " (1, 'ANXIETY'),\n",
       " (2, 'ALCOHOL_CONSUMING'),\n",
       " (3, 'YELLOW_FINGERS'),\n",
       " (4, 'FATIGUE')]"
      ]
     },
     "execution_count": 43,
     "metadata": {},
     "output_type": "execute_result"
    }
   ],
   "source": [
    "data.replace(to_replace=[1,0],\n",
    "           value= ['YES','NO'], \n",
    "           inplace=True)\n",
    "\n",
    "columns_new = ['CHRONIC_DISEASE',\n",
    " 'ANXIETY',                          \n",
    " 'ALCOHOL_CONSUMING',\n",
    " 'YELLOW_FINGERS',\n",
    " 'FATIGUE',\n",
    " 'AGE']\n",
    "\n",
    "list(enumerate(columns_new[:5]))\n",
    "#data.head()"
   ]
  },
  {
   "cell_type": "code",
   "execution_count": 44,
   "metadata": {},
   "outputs": [
    {
     "data": {
      "image/png": "[encoded data removed]",
      "text/plain": [
       "<Figure size 2160x1440 with 6 Axes>"
      ]
     },
     "metadata": {
      "needs_background": "light"
     },
     "output_type": "display_data"
    }
   ],
   "source": [
    "#Subplot all the variables with respect to Lung Cancer\n",
    "plt.figure(figsize=(30,20))\n",
    "\n",
    "for i in enumerate(columns_new):\n",
    "    plt.subplot(3,2,i[0]+1)\n",
    "    sns.countplot(i[1], hue ='LUNG_CANCER', data = data, palette=['#F3B670','#4CFE4C'])\n",
    "    plt.xticks(rotation=45)\n"
   ]
  },
  {
   "cell_type": "code",
   "execution_count": 35,
   "metadata": {},
   "outputs": [
    {
     "data": {
      "text/plain": [
       "<seaborn.axisgrid.FacetGrid at 0x7f79dfd3d048>"
      ]
     },
     "execution_count": 35,
     "metadata": {},
     "output_type": "execute_result"
    },
    {
     "data": {
      "text/plain": [
       "<Figure size 3600x3600 with 0 Axes>"
      ]
     },
     "metadata": {},
     "output_type": "display_data"
    },
    {
     "data": {
      "image/png": "[encoded data removed]",
      "text/plain": [
       "<Figure size 830.375x360 with 2 Axes>"
      ]
     },
     "metadata": {
      "needs_background": "light"
     },
     "output_type": "display_data"
    }
   ],
   "source": [
    "plt.figure(figsize=(50,50))\n",
    "sns.relplot(x= 'AGE', y='CHRONIC_DISEASE',data=data, col = 'FATIGUE', hue = 'LUNG_CANCER', col_wrap=2)"
   ]
  },
  {
   "cell_type": "code",
   "execution_count": 36,
   "metadata": {},
   "outputs": [],
   "source": [
    "#pip install --upgrade sklearn"
   ]
  },
  {
   "cell_type": "code",
   "execution_count": 37,
   "metadata": {},
   "outputs": [],
   "source": [
    "# tree.plot_tree('lung_cancer_data')\n",
    "# plt.show()\n",
    "\n",
    "# DOT data\n",
    "# dot_data = tree.export_graphviz(lung_cancer_data_1, out_file=None, \n",
    "#                                 feature_names=cols.features,  \n",
    "#                                 class_names=data.LUNG_CANCER,\n",
    "#                                 filled=True)\n",
    "\n",
    "# # Draw graph\n",
    "# graph = graphviz.Source(dot_data, format=\"png\") \n",
    "# graph\n"
   ]
  },
  {
   "cell_type": "markdown",
   "metadata": {},
   "source": [
    "# Lets make few changes in the dataset by combining few rows depending upon their corelation."
   ]
  },
  {
   "cell_type": "code",
   "execution_count": 60,
   "metadata": {},
   "outputs": [
    {
     "data": {
      "text/plain": [
       "Index(['GENDER', 'AGE', 'SMOKING', 'YELLOW_FINGERS', 'ANXIETY',\n",
       "       'PEER_PRESSURE', 'CHRONIC_DISEASE', 'FATIGUE', 'ALLERGY', 'WHEEZING',\n",
       "       'ALCOHOL_CONSUMING', 'COUGHING', 'SHORTNESS_OF_BREATH',\n",
       "       'SWALLOWING_DIFFICULTY', 'CHEST_PAIN', 'LUNG_CANCER'],\n",
       "      dtype='object')"
      ]
     },
     "execution_count": 60,
     "metadata": {},
     "output_type": "execute_result"
    }
   ],
   "source": [
    "data.columns\n",
    "# data.replace(to_replace=['YES','NO'],\n",
    "#            value= [1,0], \n",
    "#            inplace=True)\n"
   ]
  },
  {
   "cell_type": "code",
   "execution_count": 57,
   "metadata": {},
   "outputs": [
    {
     "data": {
      "text/html": [
       "<div>\n",
       "<style scoped>\n",
       "    .dataframe tbody tr th:only-of-type {\n",
       "        vertical-align: middle;\n",
       "    }\n",
       "\n",
       "    .dataframe tbody tr th {\n",
       "        vertical-align: top;\n",
       "    }\n",
       "\n",
       "    .dataframe thead th {\n",
       "        text-align: right;\n",
       "    }\n",
       "</style>\n",
       "<table border=\"1\" class=\"dataframe\">\n",
       "  <thead>\n",
       "    <tr style=\"text-align: right;\">\n",
       "      <th></th>\n",
       "      <th>GENDER</th>\n",
       "      <th>AGE</th>\n",
       "      <th>SMOKING</th>\n",
       "      <th>YELLOW_FINGERS</th>\n",
       "      <th>ANXIETY</th>\n",
       "      <th>PEER_PRESSURE</th>\n",
       "      <th>CHRONIC_DISEASE</th>\n",
       "      <th>FATIGUE</th>\n",
       "      <th>ALLERGY</th>\n",
       "      <th>WHEEZING</th>\n",
       "      <th>ALCOHOL_CONSUMING</th>\n",
       "      <th>COUGHING</th>\n",
       "      <th>SHORTNESS_OF_BREATH</th>\n",
       "      <th>SWALLOWING_DIFFICULTY</th>\n",
       "      <th>CHEST_PAIN</th>\n",
       "      <th>LUNG_CANCER</th>\n",
       "    </tr>\n",
       "  </thead>\n",
       "  <tbody>\n",
       "    <tr>\n",
       "      <th>0</th>\n",
       "      <td>1</td>\n",
       "      <td>69</td>\n",
       "      <td>0</td>\n",
       "      <td>1</td>\n",
       "      <td>1</td>\n",
       "      <td>0</td>\n",
       "      <td>0</td>\n",
       "      <td>1</td>\n",
       "      <td>0</td>\n",
       "      <td>1</td>\n",
       "      <td>1</td>\n",
       "      <td>1</td>\n",
       "      <td>1</td>\n",
       "      <td>1</td>\n",
       "      <td>1</td>\n",
       "      <td>1</td>\n",
       "    </tr>\n",
       "    <tr>\n",
       "      <th>1</th>\n",
       "      <td>1</td>\n",
       "      <td>74</td>\n",
       "      <td>1</td>\n",
       "      <td>0</td>\n",
       "      <td>0</td>\n",
       "      <td>0</td>\n",
       "      <td>1</td>\n",
       "      <td>1</td>\n",
       "      <td>1</td>\n",
       "      <td>0</td>\n",
       "      <td>0</td>\n",
       "      <td>0</td>\n",
       "      <td>1</td>\n",
       "      <td>1</td>\n",
       "      <td>1</td>\n",
       "      <td>1</td>\n",
       "    </tr>\n",
       "    <tr>\n",
       "      <th>2</th>\n",
       "      <td>0</td>\n",
       "      <td>59</td>\n",
       "      <td>0</td>\n",
       "      <td>0</td>\n",
       "      <td>0</td>\n",
       "      <td>1</td>\n",
       "      <td>0</td>\n",
       "      <td>1</td>\n",
       "      <td>0</td>\n",
       "      <td>1</td>\n",
       "      <td>0</td>\n",
       "      <td>1</td>\n",
       "      <td>1</td>\n",
       "      <td>0</td>\n",
       "      <td>1</td>\n",
       "      <td>0</td>\n",
       "    </tr>\n",
       "    <tr>\n",
       "      <th>3</th>\n",
       "      <td>1</td>\n",
       "      <td>63</td>\n",
       "      <td>1</td>\n",
       "      <td>1</td>\n",
       "      <td>1</td>\n",
       "      <td>0</td>\n",
       "      <td>0</td>\n",
       "      <td>0</td>\n",
       "      <td>0</td>\n",
       "      <td>0</td>\n",
       "      <td>1</td>\n",
       "      <td>0</td>\n",
       "      <td>0</td>\n",
       "      <td>1</td>\n",
       "      <td>1</td>\n",
       "      <td>0</td>\n",
       "    </tr>\n",
       "    <tr>\n",
       "      <th>4</th>\n",
       "      <td>0</td>\n",
       "      <td>63</td>\n",
       "      <td>0</td>\n",
       "      <td>1</td>\n",
       "      <td>0</td>\n",
       "      <td>0</td>\n",
       "      <td>0</td>\n",
       "      <td>0</td>\n",
       "      <td>0</td>\n",
       "      <td>1</td>\n",
       "      <td>0</td>\n",
       "      <td>1</td>\n",
       "      <td>1</td>\n",
       "      <td>0</td>\n",
       "      <td>0</td>\n",
       "      <td>0</td>\n",
       "    </tr>\n",
       "  </tbody>\n",
       "</table>\n",
       "</div>"
      ],
      "text/plain": [
       "   GENDER  AGE  SMOKING  YELLOW_FINGERS  ANXIETY  PEER_PRESSURE  \\\n",
       "0       1   69        0               1        1              0   \n",
       "1       1   74        1               0        0              0   \n",
       "2       0   59        0               0        0              1   \n",
       "3       1   63        1               1        1              0   \n",
       "4       0   63        0               1        0              0   \n",
       "\n",
       "   CHRONIC_DISEASE  FATIGUE  ALLERGY  WHEEZING  ALCOHOL_CONSUMING  COUGHING  \\\n",
       "0                0        1        0         1                  1         1   \n",
       "1                1        1        1         0                  0         0   \n",
       "2                0        1        0         1                  0         1   \n",
       "3                0        0        0         0                  1         0   \n",
       "4                0        0        0         1                  0         1   \n",
       "\n",
       "   SHORTNESS_OF_BREATH  SWALLOWING_DIFFICULTY  CHEST_PAIN  LUNG_CANCER  \n",
       "0                    1                      1           1            1  \n",
       "1                    1                      1           1            1  \n",
       "2                    1                      0           1            0  \n",
       "3                    0                      1           1            0  \n",
       "4                    1                      0           0            0  "
      ]
     },
     "execution_count": 57,
     "metadata": {},
     "output_type": "execute_result"
    }
   ],
   "source": [
    "data.head()"
   ]
  },
  {
   "cell_type": "code",
   "execution_count": 68,
   "metadata": {},
   "outputs": [
    {
     "data": {
      "image/png": "[encoded data removed]",
      "text/plain": [
       "<Figure size 1440x1080 with 2 Axes>"
      ]
     },
     "metadata": {
      "needs_background": "light"
     },
     "output_type": "display_data"
    }
   ],
   "source": [
    "data_corelation = data[['GENDER','SMOKING', 'YELLOW_FINGERS', 'ANXIETY',\n",
    "       'PEER_PRESSURE', 'CHRONIC_DISEASE', 'FATIGUE', 'ALLERGY', 'WHEEZING',\n",
    "       'ALCOHOL_CONSUMING', 'COUGHING', 'SHORTNESS_OF_BREATH',\n",
    "       'SWALLOWING_DIFFICULTY', 'CHEST_PAIN']]\n",
    "data_corelation.head()\n",
    "data_corelation.corr()\n",
    "sns.heatmap(data_corelation.corr(),annot=True,cmap='RdYlGn',linewidths=0.2,annot_kws={'size':12})\n",
    "fig=plt.gcf()\n",
    "fig.set_size_inches(20,15)\n",
    "plt.xticks(fontsize=10)\n",
    "plt.yticks(fontsize=10)\n",
    "plt.show()"
   ]
  },
  {
   "cell_type": "raw",
   "metadata": {},
   "source": [
    "The columns having maximum corelation are \n",
    "\n",
    "Anxiety and Yellow fingers = 0.56\n",
    "Anxiety and swallowing difficulty = 0.48\n",
    "Shortness of breath and Fatigue = 0.41\n",
    "Allergy and alcohol consuming = 0.38\n",
    "whizing and coughing = 0.35\n",
    "alcohol consuming and chest pain = 0.31\n",
    "peer presure and yellow fingers = 0.31\n",
    "allergy and chest pain = 0.25\n",
    "smoking and anxiety = 0.15\n",
    "yellow fingers and swallowing diff = 0.33\n",
    "peer presure and swallowing diff = 0.33\n",
    "\n",
    "lets combine those colums and train a model with this to know more about which features are effecting more."
   ]
  },
  {
   "cell_type": "code",
   "execution_count": 107,
   "metadata": {},
   "outputs": [
    {
     "data": {
      "text/html": [
       "<table>\n",
       "<caption>A data.frame: 6 × 16</caption>\n",
       "<thead>\n",
       "\t<tr><th scope=col>GENDER</th><th scope=col>AGE</th><th scope=col>SMOKING</th><th scope=col>YELLOW_FINGERS</th><th scope=col>ANXIETY</th><th scope=col>PEER_PRESSURE</th><th scope=col>CHRONIC.DISEASE</th><th scope=col>FATIGUE</th><th scope=col>ALLERGY</th><th scope=col>WHEEZING</th><th scope=col>ALCOHOL.CONSUMING</th><th scope=col>COUGHING</th><th scope=col>SHORTNESS.OF.BREATH</th><th scope=col>SWALLOWING.DIFFICULTY</th><th scope=col>CHEST.PAIN</th><th scope=col>LUNG_CANCER</th></tr>\n",
       "\t<tr><th scope=col>&lt;fct&gt;</th><th scope=col>&lt;int&gt;</th><th scope=col>&lt;int&gt;</th><th scope=col>&lt;int&gt;</th><th scope=col>&lt;int&gt;</th><th scope=col>&lt;int&gt;</th><th scope=col>&lt;int&gt;</th><th scope=col>&lt;int&gt;</th><th scope=col>&lt;int&gt;</th><th scope=col>&lt;int&gt;</th><th scope=col>&lt;int&gt;</th><th scope=col>&lt;int&gt;</th><th scope=col>&lt;int&gt;</th><th scope=col>&lt;int&gt;</th><th scope=col>&lt;int&gt;</th><th scope=col>&lt;fct&gt;</th></tr>\n",
       "</thead>\n",
       "<tbody>\n",
       "\t<tr><td>M</td><td>69</td><td>1</td><td>2</td><td>2</td><td>1</td><td>1</td><td>2</td><td>1</td><td>2</td><td>2</td><td>2</td><td>2</td><td>2</td><td>2</td><td>YES</td></tr>\n",
       "\t<tr><td>M</td><td>74</td><td>2</td><td>1</td><td>1</td><td>1</td><td>2</td><td>2</td><td>2</td><td>1</td><td>1</td><td>1</td><td>2</td><td>2</td><td>2</td><td>YES</td></tr>\n",
       "\t<tr><td>F</td><td>59</td><td>1</td><td>1</td><td>1</td><td>2</td><td>1</td><td>2</td><td>1</td><td>2</td><td>1</td><td>2</td><td>2</td><td>1</td><td>2</td><td>NO </td></tr>\n",
       "\t<tr><td>M</td><td>63</td><td>2</td><td>2</td><td>2</td><td>1</td><td>1</td><td>1</td><td>1</td><td>1</td><td>2</td><td>1</td><td>1</td><td>2</td><td>2</td><td>NO </td></tr>\n",
       "\t<tr><td>F</td><td>63</td><td>1</td><td>2</td><td>1</td><td>1</td><td>1</td><td>1</td><td>1</td><td>2</td><td>1</td><td>2</td><td>2</td><td>1</td><td>1</td><td>NO </td></tr>\n",
       "\t<tr><td>F</td><td>75</td><td>1</td><td>2</td><td>1</td><td>1</td><td>2</td><td>2</td><td>2</td><td>2</td><td>1</td><td>2</td><td>2</td><td>1</td><td>1</td><td>YES</td></tr>\n",
       "</tbody>\n",
       "</table>\n"
      ],
      "text/latex": [
       "A data.frame: 6 × 16\n",
       "\\begin{tabular}{r|llllllllllllllll}\n",
       " GENDER & AGE & SMOKING & YELLOW\\_FINGERS & ANXIETY & PEER\\_PRESSURE & CHRONIC.DISEASE & FATIGUE & ALLERGY & WHEEZING & ALCOHOL.CONSUMING & COUGHING & SHORTNESS.OF.BREATH & SWALLOWING.DIFFICULTY & CHEST.PAIN & LUNG\\_CANCER\\\\\n",
       " <fct> & <int> & <int> & <int> & <int> & <int> & <int> & <int> & <int> & <int> & <int> & <int> & <int> & <int> & <int> & <fct>\\\\\n",
       "\\hline\n",
       "\t M & 69 & 1 & 2 & 2 & 1 & 1 & 2 & 1 & 2 & 2 & 2 & 2 & 2 & 2 & YES\\\\\n",
       "\t M & 74 & 2 & 1 & 1 & 1 & 2 & 2 & 2 & 1 & 1 & 1 & 2 & 2 & 2 & YES\\\\\n",
       "\t F & 59 & 1 & 1 & 1 & 2 & 1 & 2 & 1 & 2 & 1 & 2 & 2 & 1 & 2 & NO \\\\\n",
       "\t M & 63 & 2 & 2 & 2 & 1 & 1 & 1 & 1 & 1 & 2 & 1 & 1 & 2 & 2 & NO \\\\\n",
       "\t F & 63 & 1 & 2 & 1 & 1 & 1 & 1 & 1 & 2 & 1 & 2 & 2 & 1 & 1 & NO \\\\\n",
       "\t F & 75 & 1 & 2 & 1 & 1 & 2 & 2 & 2 & 2 & 1 & 2 & 2 & 1 & 1 & YES\\\\\n",
       "\\end{tabular}\n"
      ],
      "text/markdown": [
       "\n",
       "A data.frame: 6 × 16\n",
       "\n",
       "| GENDER &lt;fct&gt; | AGE &lt;int&gt; | SMOKING &lt;int&gt; | YELLOW_FINGERS &lt;int&gt; | ANXIETY &lt;int&gt; | PEER_PRESSURE &lt;int&gt; | CHRONIC.DISEASE &lt;int&gt; | FATIGUE &lt;int&gt; | ALLERGY &lt;int&gt; | WHEEZING &lt;int&gt; | ALCOHOL.CONSUMING &lt;int&gt; | COUGHING &lt;int&gt; | SHORTNESS.OF.BREATH &lt;int&gt; | SWALLOWING.DIFFICULTY &lt;int&gt; | CHEST.PAIN &lt;int&gt; | LUNG_CANCER &lt;fct&gt; |\n",
       "|---|---|---|---|---|---|---|---|---|---|---|---|---|---|---|---|\n",
       "| M | 69 | 1 | 2 | 2 | 1 | 1 | 2 | 1 | 2 | 2 | 2 | 2 | 2 | 2 | YES |\n",
       "| M | 74 | 2 | 1 | 1 | 1 | 2 | 2 | 2 | 1 | 1 | 1 | 2 | 2 | 2 | YES |\n",
       "| F | 59 | 1 | 1 | 1 | 2 | 1 | 2 | 1 | 2 | 1 | 2 | 2 | 1 | 2 | NO  |\n",
       "| M | 63 | 2 | 2 | 2 | 1 | 1 | 1 | 1 | 1 | 2 | 1 | 1 | 2 | 2 | NO  |\n",
       "| F | 63 | 1 | 2 | 1 | 1 | 1 | 1 | 1 | 2 | 1 | 2 | 2 | 1 | 1 | NO  |\n",
       "| F | 75 | 1 | 2 | 1 | 1 | 2 | 2 | 2 | 2 | 1 | 2 | 2 | 1 | 1 | YES |\n",
       "\n"
      ],
      "text/plain": [
       "  GENDER AGE SMOKING YELLOW_FINGERS ANXIETY PEER_PRESSURE CHRONIC.DISEASE\n",
       "1 M      69  1       2              2       1             1              \n",
       "2 M      74  2       1              1       1             2              \n",
       "3 F      59  1       1              1       2             1              \n",
       "4 M      63  2       2              2       1             1              \n",
       "5 F      63  1       2              1       1             1              \n",
       "6 F      75  1       2              1       1             2              \n",
       "  FATIGUE ALLERGY WHEEZING ALCOHOL.CONSUMING COUGHING SHORTNESS.OF.BREATH\n",
       "1 2       1       2        2                 2        2                  \n",
       "2 2       2       1        1                 1        2                  \n",
       "3 2       1       2        1                 2        2                  \n",
       "4 1       1       1        2                 1        1                  \n",
       "5 1       1       2        1                 2        2                  \n",
       "6 2       2       2        1                 2        2                  \n",
       "  SWALLOWING.DIFFICULTY CHEST.PAIN LUNG_CANCER\n",
       "1 2                     2          YES        \n",
       "2 2                     2          YES        \n",
       "3 1                     2          NO         \n",
       "4 2                     2          NO         \n",
       "5 1                     1          NO         \n",
       "6 1                     1          YES        "
      ]
     },
     "metadata": {},
     "output_type": "display_data"
    },
    {
     "data": {
      "text/html": [
       "<ol class=list-inline>\n",
       "\t<li>'Gen'</li>\n",
       "\t<li>'AGE'</li>\n",
       "\t<li>'Smok'</li>\n",
       "\t<li>'Y_Fin'</li>\n",
       "\t<li>'Anx'</li>\n",
       "\t<li>'P_Pre'</li>\n",
       "\t<li>'Chronic'</li>\n",
       "\t<li>'Fatigue'</li>\n",
       "\t<li>'Alregy'</li>\n",
       "\t<li>'Wheez'</li>\n",
       "\t<li>'Alcohol'</li>\n",
       "\t<li>'Cough'</li>\n",
       "\t<li>'Short_bre'</li>\n",
       "\t<li>'Swal'</li>\n",
       "\t<li>'Chst_pain'</li>\n",
       "\t<li>'LUNG_CANCER'</li>\n",
       "</ol>\n"
      ],
      "text/latex": [
       "\\begin{enumerate*}\n",
       "\\item 'Gen'\n",
       "\\item 'AGE'\n",
       "\\item 'Smok'\n",
       "\\item 'Y\\_Fin'\n",
       "\\item 'Anx'\n",
       "\\item 'P\\_Pre'\n",
       "\\item 'Chronic'\n",
       "\\item 'Fatigue'\n",
       "\\item 'Alregy'\n",
       "\\item 'Wheez'\n",
       "\\item 'Alcohol'\n",
       "\\item 'Cough'\n",
       "\\item 'Short\\_bre'\n",
       "\\item 'Swal'\n",
       "\\item 'Chst\\_pain'\n",
       "\\item 'LUNG\\_CANCER'\n",
       "\\end{enumerate*}\n"
      ],
      "text/markdown": [
       "1. 'Gen'\n",
       "2. 'AGE'\n",
       "3. 'Smok'\n",
       "4. 'Y_Fin'\n",
       "5. 'Anx'\n",
       "6. 'P_Pre'\n",
       "7. 'Chronic'\n",
       "8. 'Fatigue'\n",
       "9. 'Alregy'\n",
       "10. 'Wheez'\n",
       "11. 'Alcohol'\n",
       "12. 'Cough'\n",
       "13. 'Short_bre'\n",
       "14. 'Swal'\n",
       "15. 'Chst_pain'\n",
       "16. 'LUNG_CANCER'\n",
       "\n",
       "\n"
      ],
      "text/plain": [
       " [1] \"Gen\"         \"AGE\"         \"Smok\"        \"Y_Fin\"       \"Anx\"        \n",
       " [6] \"P_Pre\"       \"Chronic\"     \"Fatigue\"     \"Alregy\"      \"Wheez\"      \n",
       "[11] \"Alcohol\"     \"Cough\"       \"Short_bre\"   \"Swal\"        \"Chst_pain\"  \n",
       "[16] \"LUNG_CANCER\""
      ]
     },
     "metadata": {},
     "output_type": "display_data"
    }
   ],
   "source": [
    "#using R\n",
    "library(tree)\n",
    "library(ggplot2)\n",
    "df1 <- read.csv(file = 'survey_lung_cancer.csv')\n",
    "head(df1)\n",
    "\n",
    "colnames(df1)[1] <- \"Gen\"\n",
    "colnames(df1)[3] <- \"Smok\"\n",
    "colnames(df1)[4] <- \"Y_Fin\"\n",
    "colnames(df1)[5] <- \"Anx\"\n",
    "colnames(df1)[6] <- \"P_Pre\"\n",
    "colnames(df1)[7] <- \"Chronic\"\n",
    "colnames(df1)[8] <- \"Fatigue\"\n",
    "colnames(df1)[9] <- \"Alregy\"\n",
    "colnames(df1)[10] <- \"Wheez\"\n",
    "colnames(df1)[11] <- \"Alcohol\"\n",
    "colnames(df1)[12] <- \"Cough\"\n",
    "colnames(df1)[13] <- \"Short_bre\"\n",
    "colnames(df1)[14] <- \"Swal\"\n",
    "colnames(df1)[15] <- \"Chst_pain\"\n",
    "\n",
    "names(df1)"
   ]
  },
  {
   "cell_type": "code",
   "execution_count": 108,
   "metadata": {},
   "outputs": [],
   "source": [
    "library(\"dplyr\")\n",
    "df2 <- select(df1,'Gen', 'AGE', 'Smok', 'Y_Fin' ,'Anx', 'P_Pre', 'Chronic', 'Fatigue' ,'Alregy' ,'Wheez' ,'Alcohol' ,'Cough' ,'Short_bre', 'Swal' ,'Chst_pain','LUNG_CANCER')"
   ]
  },
  {
   "cell_type": "code",
   "execution_count": 109,
   "metadata": {},
   "outputs": [
    {
     "data": {
      "text/html": [
       "<table>\n",
       "<caption>A data.frame: 6 × 16</caption>\n",
       "<thead>\n",
       "\t<tr><th scope=col>Gen</th><th scope=col>AGE</th><th scope=col>Smok</th><th scope=col>Y_Fin</th><th scope=col>Anx</th><th scope=col>P_Pre</th><th scope=col>Chronic</th><th scope=col>Fatigue</th><th scope=col>Alregy</th><th scope=col>Wheez</th><th scope=col>Alcohol</th><th scope=col>Cough</th><th scope=col>Short_bre</th><th scope=col>Swal</th><th scope=col>Chst_pain</th><th scope=col>LUNG_CANCER</th></tr>\n",
       "\t<tr><th scope=col>&lt;fct&gt;</th><th scope=col>&lt;int&gt;</th><th scope=col>&lt;dbl&gt;</th><th scope=col>&lt;dbl&gt;</th><th scope=col>&lt;dbl&gt;</th><th scope=col>&lt;dbl&gt;</th><th scope=col>&lt;dbl&gt;</th><th scope=col>&lt;dbl&gt;</th><th scope=col>&lt;dbl&gt;</th><th scope=col>&lt;dbl&gt;</th><th scope=col>&lt;dbl&gt;</th><th scope=col>&lt;dbl&gt;</th><th scope=col>&lt;dbl&gt;</th><th scope=col>&lt;dbl&gt;</th><th scope=col>&lt;dbl&gt;</th><th scope=col>&lt;fct&gt;</th></tr>\n",
       "</thead>\n",
       "<tbody>\n",
       "\t<tr><td>M</td><td>69</td><td>0</td><td>2</td><td>2</td><td>0</td><td>0</td><td>2</td><td>0</td><td>2</td><td>2</td><td>2</td><td>2</td><td>2</td><td>2</td><td>YES</td></tr>\n",
       "\t<tr><td>M</td><td>74</td><td>2</td><td>0</td><td>0</td><td>0</td><td>2</td><td>2</td><td>2</td><td>0</td><td>0</td><td>0</td><td>2</td><td>2</td><td>2</td><td>YES</td></tr>\n",
       "\t<tr><td>F</td><td>59</td><td>0</td><td>0</td><td>0</td><td>2</td><td>0</td><td>2</td><td>0</td><td>2</td><td>0</td><td>2</td><td>2</td><td>0</td><td>2</td><td>NO </td></tr>\n",
       "\t<tr><td>M</td><td>63</td><td>2</td><td>2</td><td>2</td><td>0</td><td>0</td><td>0</td><td>0</td><td>0</td><td>2</td><td>0</td><td>0</td><td>2</td><td>2</td><td>NO </td></tr>\n",
       "\t<tr><td>F</td><td>63</td><td>0</td><td>2</td><td>0</td><td>0</td><td>0</td><td>0</td><td>0</td><td>2</td><td>0</td><td>2</td><td>2</td><td>0</td><td>0</td><td>NO </td></tr>\n",
       "\t<tr><td>F</td><td>75</td><td>0</td><td>2</td><td>0</td><td>0</td><td>2</td><td>2</td><td>2</td><td>2</td><td>0</td><td>2</td><td>2</td><td>0</td><td>0</td><td>YES</td></tr>\n",
       "</tbody>\n",
       "</table>\n"
      ],
      "text/latex": [
       "A data.frame: 6 × 16\n",
       "\\begin{tabular}{r|llllllllllllllll}\n",
       " Gen & AGE & Smok & Y\\_Fin & Anx & P\\_Pre & Chronic & Fatigue & Alregy & Wheez & Alcohol & Cough & Short\\_bre & Swal & Chst\\_pain & LUNG\\_CANCER\\\\\n",
       " <fct> & <int> & <dbl> & <dbl> & <dbl> & <dbl> & <dbl> & <dbl> & <dbl> & <dbl> & <dbl> & <dbl> & <dbl> & <dbl> & <dbl> & <fct>\\\\\n",
       "\\hline\n",
       "\t M & 69 & 0 & 2 & 2 & 0 & 0 & 2 & 0 & 2 & 2 & 2 & 2 & 2 & 2 & YES\\\\\n",
       "\t M & 74 & 2 & 0 & 0 & 0 & 2 & 2 & 2 & 0 & 0 & 0 & 2 & 2 & 2 & YES\\\\\n",
       "\t F & 59 & 0 & 0 & 0 & 2 & 0 & 2 & 0 & 2 & 0 & 2 & 2 & 0 & 2 & NO \\\\\n",
       "\t M & 63 & 2 & 2 & 2 & 0 & 0 & 0 & 0 & 0 & 2 & 0 & 0 & 2 & 2 & NO \\\\\n",
       "\t F & 63 & 0 & 2 & 0 & 0 & 0 & 0 & 0 & 2 & 0 & 2 & 2 & 0 & 0 & NO \\\\\n",
       "\t F & 75 & 0 & 2 & 0 & 0 & 2 & 2 & 2 & 2 & 0 & 2 & 2 & 0 & 0 & YES\\\\\n",
       "\\end{tabular}\n"
      ],
      "text/markdown": [
       "\n",
       "A data.frame: 6 × 16\n",
       "\n",
       "| Gen &lt;fct&gt; | AGE &lt;int&gt; | Smok &lt;dbl&gt; | Y_Fin &lt;dbl&gt; | Anx &lt;dbl&gt; | P_Pre &lt;dbl&gt; | Chronic &lt;dbl&gt; | Fatigue &lt;dbl&gt; | Alregy &lt;dbl&gt; | Wheez &lt;dbl&gt; | Alcohol &lt;dbl&gt; | Cough &lt;dbl&gt; | Short_bre &lt;dbl&gt; | Swal &lt;dbl&gt; | Chst_pain &lt;dbl&gt; | LUNG_CANCER &lt;fct&gt; |\n",
       "|---|---|---|---|---|---|---|---|---|---|---|---|---|---|---|---|\n",
       "| M | 69 | 0 | 2 | 2 | 0 | 0 | 2 | 0 | 2 | 2 | 2 | 2 | 2 | 2 | YES |\n",
       "| M | 74 | 2 | 0 | 0 | 0 | 2 | 2 | 2 | 0 | 0 | 0 | 2 | 2 | 2 | YES |\n",
       "| F | 59 | 0 | 0 | 0 | 2 | 0 | 2 | 0 | 2 | 0 | 2 | 2 | 0 | 2 | NO  |\n",
       "| M | 63 | 2 | 2 | 2 | 0 | 0 | 0 | 0 | 0 | 2 | 0 | 0 | 2 | 2 | NO  |\n",
       "| F | 63 | 0 | 2 | 0 | 0 | 0 | 0 | 0 | 2 | 0 | 2 | 2 | 0 | 0 | NO  |\n",
       "| F | 75 | 0 | 2 | 0 | 0 | 2 | 2 | 2 | 2 | 0 | 2 | 2 | 0 | 0 | YES |\n",
       "\n"
      ],
      "text/plain": [
       "  Gen AGE Smok Y_Fin Anx P_Pre Chronic Fatigue Alregy Wheez Alcohol Cough\n",
       "1 M   69  0    2     2   0     0       2       0      2     2       2    \n",
       "2 M   74  2    0     0   0     2       2       2      0     0       0    \n",
       "3 F   59  0    0     0   2     0       2       0      2     0       2    \n",
       "4 M   63  2    2     2   0     0       0       0      0     2       0    \n",
       "5 F   63  0    2     0   0     0       0       0      2     0       2    \n",
       "6 F   75  0    2     0   0     2       2       2      2     0       2    \n",
       "  Short_bre Swal Chst_pain LUNG_CANCER\n",
       "1 2         2    2         YES        \n",
       "2 2         2    2         YES        \n",
       "3 2         0    2         NO         \n",
       "4 0         2    2         NO         \n",
       "5 2         0    0         NO         \n",
       "6 2         0    0         YES        "
      ]
     },
     "metadata": {},
     "output_type": "display_data"
    }
   ],
   "source": [
    "df2[ df2 == 1 ] <- 0\n",
    "head(df2)"
   ]
  },
  {
   "cell_type": "code",
   "execution_count": 110,
   "metadata": {},
   "outputs": [
    {
     "data": {
      "text/html": [
       "<table>\n",
       "<caption>A data.frame: 6 × 16</caption>\n",
       "<thead>\n",
       "\t<tr><th scope=col>Gen</th><th scope=col>AGE</th><th scope=col>Smok</th><th scope=col>Y_Fin</th><th scope=col>Anx</th><th scope=col>P_Pre</th><th scope=col>Chronic</th><th scope=col>Fatigue</th><th scope=col>Alregy</th><th scope=col>Wheez</th><th scope=col>Alcohol</th><th scope=col>Cough</th><th scope=col>Short_bre</th><th scope=col>Swal</th><th scope=col>Chst_pain</th><th scope=col>LUNG_CANCER</th></tr>\n",
       "\t<tr><th scope=col>&lt;fct&gt;</th><th scope=col>&lt;int&gt;</th><th scope=col>&lt;dbl&gt;</th><th scope=col>&lt;dbl&gt;</th><th scope=col>&lt;dbl&gt;</th><th scope=col>&lt;dbl&gt;</th><th scope=col>&lt;dbl&gt;</th><th scope=col>&lt;dbl&gt;</th><th scope=col>&lt;dbl&gt;</th><th scope=col>&lt;dbl&gt;</th><th scope=col>&lt;dbl&gt;</th><th scope=col>&lt;dbl&gt;</th><th scope=col>&lt;dbl&gt;</th><th scope=col>&lt;dbl&gt;</th><th scope=col>&lt;dbl&gt;</th><th scope=col>&lt;fct&gt;</th></tr>\n",
       "</thead>\n",
       "<tbody>\n",
       "\t<tr><td>M</td><td>69</td><td>0</td><td>1</td><td>1</td><td>0</td><td>0</td><td>1</td><td>0</td><td>1</td><td>1</td><td>1</td><td>1</td><td>1</td><td>1</td><td>YES</td></tr>\n",
       "\t<tr><td>M</td><td>74</td><td>1</td><td>0</td><td>0</td><td>0</td><td>1</td><td>1</td><td>1</td><td>0</td><td>0</td><td>0</td><td>1</td><td>1</td><td>1</td><td>YES</td></tr>\n",
       "\t<tr><td>F</td><td>59</td><td>0</td><td>0</td><td>0</td><td>1</td><td>0</td><td>1</td><td>0</td><td>1</td><td>0</td><td>1</td><td>1</td><td>0</td><td>1</td><td>NO </td></tr>\n",
       "\t<tr><td>M</td><td>63</td><td>1</td><td>1</td><td>1</td><td>0</td><td>0</td><td>0</td><td>0</td><td>0</td><td>1</td><td>0</td><td>0</td><td>1</td><td>1</td><td>NO </td></tr>\n",
       "\t<tr><td>F</td><td>63</td><td>0</td><td>1</td><td>0</td><td>0</td><td>0</td><td>0</td><td>0</td><td>1</td><td>0</td><td>1</td><td>1</td><td>0</td><td>0</td><td>NO </td></tr>\n",
       "\t<tr><td>F</td><td>75</td><td>0</td><td>1</td><td>0</td><td>0</td><td>1</td><td>1</td><td>1</td><td>1</td><td>0</td><td>1</td><td>1</td><td>0</td><td>0</td><td>YES</td></tr>\n",
       "</tbody>\n",
       "</table>\n"
      ],
      "text/latex": [
       "A data.frame: 6 × 16\n",
       "\\begin{tabular}{r|llllllllllllllll}\n",
       " Gen & AGE & Smok & Y\\_Fin & Anx & P\\_Pre & Chronic & Fatigue & Alregy & Wheez & Alcohol & Cough & Short\\_bre & Swal & Chst\\_pain & LUNG\\_CANCER\\\\\n",
       " <fct> & <int> & <dbl> & <dbl> & <dbl> & <dbl> & <dbl> & <dbl> & <dbl> & <dbl> & <dbl> & <dbl> & <dbl> & <dbl> & <dbl> & <fct>\\\\\n",
       "\\hline\n",
       "\t M & 69 & 0 & 1 & 1 & 0 & 0 & 1 & 0 & 1 & 1 & 1 & 1 & 1 & 1 & YES\\\\\n",
       "\t M & 74 & 1 & 0 & 0 & 0 & 1 & 1 & 1 & 0 & 0 & 0 & 1 & 1 & 1 & YES\\\\\n",
       "\t F & 59 & 0 & 0 & 0 & 1 & 0 & 1 & 0 & 1 & 0 & 1 & 1 & 0 & 1 & NO \\\\\n",
       "\t M & 63 & 1 & 1 & 1 & 0 & 0 & 0 & 0 & 0 & 1 & 0 & 0 & 1 & 1 & NO \\\\\n",
       "\t F & 63 & 0 & 1 & 0 & 0 & 0 & 0 & 0 & 1 & 0 & 1 & 1 & 0 & 0 & NO \\\\\n",
       "\t F & 75 & 0 & 1 & 0 & 0 & 1 & 1 & 1 & 1 & 0 & 1 & 1 & 0 & 0 & YES\\\\\n",
       "\\end{tabular}\n"
      ],
      "text/markdown": [
       "\n",
       "A data.frame: 6 × 16\n",
       "\n",
       "| Gen &lt;fct&gt; | AGE &lt;int&gt; | Smok &lt;dbl&gt; | Y_Fin &lt;dbl&gt; | Anx &lt;dbl&gt; | P_Pre &lt;dbl&gt; | Chronic &lt;dbl&gt; | Fatigue &lt;dbl&gt; | Alregy &lt;dbl&gt; | Wheez &lt;dbl&gt; | Alcohol &lt;dbl&gt; | Cough &lt;dbl&gt; | Short_bre &lt;dbl&gt; | Swal &lt;dbl&gt; | Chst_pain &lt;dbl&gt; | LUNG_CANCER &lt;fct&gt; |\n",
       "|---|---|---|---|---|---|---|---|---|---|---|---|---|---|---|---|\n",
       "| M | 69 | 0 | 1 | 1 | 0 | 0 | 1 | 0 | 1 | 1 | 1 | 1 | 1 | 1 | YES |\n",
       "| M | 74 | 1 | 0 | 0 | 0 | 1 | 1 | 1 | 0 | 0 | 0 | 1 | 1 | 1 | YES |\n",
       "| F | 59 | 0 | 0 | 0 | 1 | 0 | 1 | 0 | 1 | 0 | 1 | 1 | 0 | 1 | NO  |\n",
       "| M | 63 | 1 | 1 | 1 | 0 | 0 | 0 | 0 | 0 | 1 | 0 | 0 | 1 | 1 | NO  |\n",
       "| F | 63 | 0 | 1 | 0 | 0 | 0 | 0 | 0 | 1 | 0 | 1 | 1 | 0 | 0 | NO  |\n",
       "| F | 75 | 0 | 1 | 0 | 0 | 1 | 1 | 1 | 1 | 0 | 1 | 1 | 0 | 0 | YES |\n",
       "\n"
      ],
      "text/plain": [
       "  Gen AGE Smok Y_Fin Anx P_Pre Chronic Fatigue Alregy Wheez Alcohol Cough\n",
       "1 M   69  0    1     1   0     0       1       0      1     1       1    \n",
       "2 M   74  1    0     0   0     1       1       1      0     0       0    \n",
       "3 F   59  0    0     0   1     0       1       0      1     0       1    \n",
       "4 M   63  1    1     1   0     0       0       0      0     1       0    \n",
       "5 F   63  0    1     0   0     0       0       0      1     0       1    \n",
       "6 F   75  0    1     0   0     1       1       1      1     0       1    \n",
       "  Short_bre Swal Chst_pain LUNG_CANCER\n",
       "1 1         1    1         YES        \n",
       "2 1         1    1         YES        \n",
       "3 1         0    1         NO         \n",
       "4 0         1    1         NO         \n",
       "5 1         0    0         NO         \n",
       "6 1         0    0         YES        "
      ]
     },
     "metadata": {},
     "output_type": "display_data"
    }
   ],
   "source": [
    "df2[ df2 == 2 ] <- 1\n",
    "head(df2)"
   ]
  },
  {
   "cell_type": "code",
   "execution_count": 111,
   "metadata": {},
   "outputs": [],
   "source": [
    "# df2$LUNG_CANCER<-ifelse(df2$LUNG_CANCER==\"NO\",0,1)\n",
    "# names(df2)\n",
    "# head(df2)"
   ]
  },
  {
   "cell_type": "code",
   "execution_count": 112,
   "metadata": {},
   "outputs": [],
   "source": [
    "df2$Anx <- as.numeric(df2$Anx)\n",
    "df2$Y_Fin <- as.numeric(df2$Y_Fin)\n",
    "df2$Anx <- as.numeric(df2$Anx)\n",
    "df2$Alcohol <- as.numeric(df2$Alcohol)\n",
    "df2$Short_bre <- as.numeric(df2$Short_bre)\n",
    "df2$Alregy <- as.numeric(df2$Alregy)\n",
    "df2$Wheez <- as.numeric(df2$Wheez)\n",
    "df2$Cough <- as.numeric(df2$Cough)\n",
    "df2$Chst_pain <- as.numeric(df2$Chst_pain)\n",
    "df2$Smok <- as.numeric(df2$Smok)\n",
    "df2$P_Pre <- as.numeric(df2$P_Pre)\n",
    "df2$Swal <- as.numeric(df2$Swal)\n",
    "df2$Fatigue<-as.numeric(df2$Fatigue)"
   ]
  },
  {
   "cell_type": "code",
   "execution_count": 113,
   "metadata": {},
   "outputs": [
    {
     "data": {
      "text/html": [
       "<table>\n",
       "<caption>A data.frame: 6 × 27</caption>\n",
       "<thead>\n",
       "\t<tr><th scope=col>Gen</th><th scope=col>AGE</th><th scope=col>Smok</th><th scope=col>Y_Fin</th><th scope=col>Anx</th><th scope=col>P_Pre</th><th scope=col>Chronic</th><th scope=col>Fatigue</th><th scope=col>Alregy</th><th scope=col>Wheez</th><th scope=col>⋯</th><th scope=col>Anx_Swa</th><th scope=col>shot_bre_fati</th><th scope=col>ale_alc</th><th scope=col>whiz_cogh</th><th scope=col>alc_chest</th><th scope=col>ppre_yfin</th><th scope=col>ale_chest</th><th scope=col>smo_anx</th><th scope=col>yfig_swadiff</th><th scope=col>ppre_swadif</th></tr>\n",
       "\t<tr><th scope=col>&lt;fct&gt;</th><th scope=col>&lt;int&gt;</th><th scope=col>&lt;dbl&gt;</th><th scope=col>&lt;dbl&gt;</th><th scope=col>&lt;dbl&gt;</th><th scope=col>&lt;dbl&gt;</th><th scope=col>&lt;dbl&gt;</th><th scope=col>&lt;dbl&gt;</th><th scope=col>&lt;dbl&gt;</th><th scope=col>&lt;dbl&gt;</th><th scope=col>⋯</th><th scope=col>&lt;dbl&gt;</th><th scope=col>&lt;dbl&gt;</th><th scope=col>&lt;dbl&gt;</th><th scope=col>&lt;dbl&gt;</th><th scope=col>&lt;dbl&gt;</th><th scope=col>&lt;dbl&gt;</th><th scope=col>&lt;dbl&gt;</th><th scope=col>&lt;dbl&gt;</th><th scope=col>&lt;dbl&gt;</th><th scope=col>&lt;dbl&gt;</th></tr>\n",
       "</thead>\n",
       "<tbody>\n",
       "\t<tr><td>M</td><td>69</td><td>0</td><td>1</td><td>1</td><td>0</td><td>0</td><td>1</td><td>0</td><td>1</td><td>⋯</td><td>2</td><td>2</td><td>1</td><td>2</td><td>2</td><td>1</td><td>1</td><td>1</td><td>2</td><td>1</td></tr>\n",
       "\t<tr><td>M</td><td>74</td><td>1</td><td>0</td><td>0</td><td>0</td><td>1</td><td>1</td><td>1</td><td>0</td><td>⋯</td><td>1</td><td>2</td><td>1</td><td>0</td><td>1</td><td>0</td><td>2</td><td>1</td><td>1</td><td>1</td></tr>\n",
       "\t<tr><td>F</td><td>59</td><td>0</td><td>0</td><td>0</td><td>1</td><td>0</td><td>1</td><td>0</td><td>1</td><td>⋯</td><td>0</td><td>2</td><td>0</td><td>2</td><td>1</td><td>1</td><td>1</td><td>0</td><td>0</td><td>1</td></tr>\n",
       "\t<tr><td>M</td><td>63</td><td>1</td><td>1</td><td>1</td><td>0</td><td>0</td><td>0</td><td>0</td><td>0</td><td>⋯</td><td>2</td><td>0</td><td>1</td><td>0</td><td>2</td><td>1</td><td>1</td><td>2</td><td>2</td><td>1</td></tr>\n",
       "\t<tr><td>F</td><td>63</td><td>0</td><td>1</td><td>0</td><td>0</td><td>0</td><td>0</td><td>0</td><td>1</td><td>⋯</td><td>0</td><td>1</td><td>0</td><td>2</td><td>0</td><td>1</td><td>0</td><td>0</td><td>1</td><td>0</td></tr>\n",
       "\t<tr><td>F</td><td>75</td><td>0</td><td>1</td><td>0</td><td>0</td><td>1</td><td>1</td><td>1</td><td>1</td><td>⋯</td><td>0</td><td>2</td><td>1</td><td>2</td><td>0</td><td>1</td><td>1</td><td>0</td><td>1</td><td>0</td></tr>\n",
       "</tbody>\n",
       "</table>\n"
      ],
      "text/latex": [
       "A data.frame: 6 × 27\n",
       "\\begin{tabular}{r|lllllllllllllllllllllllllll}\n",
       " Gen & AGE & Smok & Y\\_Fin & Anx & P\\_Pre & Chronic & Fatigue & Alregy & Wheez & Alcohol & Cough & Short\\_bre & Swal & Chst\\_pain & LUNG\\_CANCER & Anx\\_Yf & Anx\\_Swa & shot\\_bre\\_fati & ale\\_alc & whiz\\_cogh & alc\\_chest & ppre\\_yfin & ale\\_chest & smo\\_anx & yfig\\_swadiff & ppre\\_swadif\\\\\n",
       " <fct> & <int> & <dbl> & <dbl> & <dbl> & <dbl> & <dbl> & <dbl> & <dbl> & <dbl> & <dbl> & <dbl> & <dbl> & <dbl> & <dbl> & <fct> & <dbl> & <dbl> & <dbl> & <dbl> & <dbl> & <dbl> & <dbl> & <dbl> & <dbl> & <dbl> & <dbl>\\\\\n",
       "\\hline\n",
       "\t M & 69 & 0 & 1 & 1 & 0 & 0 & 1 & 0 & 1 & 1 & 1 & 1 & 1 & 1 & YES & 2 & 2 & 2 & 1 & 2 & 2 & 1 & 1 & 1 & 2 & 1\\\\\n",
       "\t M & 74 & 1 & 0 & 0 & 0 & 1 & 1 & 1 & 0 & 0 & 0 & 1 & 1 & 1 & YES & 0 & 1 & 2 & 1 & 0 & 1 & 0 & 2 & 1 & 1 & 1\\\\\n",
       "\t F & 59 & 0 & 0 & 0 & 1 & 0 & 1 & 0 & 1 & 0 & 1 & 1 & 0 & 1 & NO  & 0 & 0 & 2 & 0 & 2 & 1 & 1 & 1 & 0 & 0 & 1\\\\\n",
       "\t M & 63 & 1 & 1 & 1 & 0 & 0 & 0 & 0 & 0 & 1 & 0 & 0 & 1 & 1 & NO  & 2 & 2 & 0 & 1 & 0 & 2 & 1 & 1 & 2 & 2 & 1\\\\\n",
       "\t F & 63 & 0 & 1 & 0 & 0 & 0 & 0 & 0 & 1 & 0 & 1 & 1 & 0 & 0 & NO  & 1 & 0 & 1 & 0 & 2 & 0 & 1 & 0 & 0 & 1 & 0\\\\\n",
       "\t F & 75 & 0 & 1 & 0 & 0 & 1 & 1 & 1 & 1 & 0 & 1 & 1 & 0 & 0 & YES & 1 & 0 & 2 & 1 & 2 & 0 & 1 & 1 & 0 & 1 & 0\\\\\n",
       "\\end{tabular}\n"
      ],
      "text/markdown": [
       "\n",
       "A data.frame: 6 × 27\n",
       "\n",
       "| Gen &lt;fct&gt; | AGE &lt;int&gt; | Smok &lt;dbl&gt; | Y_Fin &lt;dbl&gt; | Anx &lt;dbl&gt; | P_Pre &lt;dbl&gt; | Chronic &lt;dbl&gt; | Fatigue &lt;dbl&gt; | Alregy &lt;dbl&gt; | Wheez &lt;dbl&gt; | ⋯ ⋯ | Anx_Swa &lt;dbl&gt; | shot_bre_fati &lt;dbl&gt; | ale_alc &lt;dbl&gt; | whiz_cogh &lt;dbl&gt; | alc_chest &lt;dbl&gt; | ppre_yfin &lt;dbl&gt; | ale_chest &lt;dbl&gt; | smo_anx &lt;dbl&gt; | yfig_swadiff &lt;dbl&gt; | ppre_swadif &lt;dbl&gt; |\n",
       "|---|---|---|---|---|---|---|---|---|---|---|---|---|---|---|---|---|---|---|---|---|\n",
       "| M | 69 | 0 | 1 | 1 | 0 | 0 | 1 | 0 | 1 | ⋯ | 2 | 2 | 1 | 2 | 2 | 1 | 1 | 1 | 2 | 1 |\n",
       "| M | 74 | 1 | 0 | 0 | 0 | 1 | 1 | 1 | 0 | ⋯ | 1 | 2 | 1 | 0 | 1 | 0 | 2 | 1 | 1 | 1 |\n",
       "| F | 59 | 0 | 0 | 0 | 1 | 0 | 1 | 0 | 1 | ⋯ | 0 | 2 | 0 | 2 | 1 | 1 | 1 | 0 | 0 | 1 |\n",
       "| M | 63 | 1 | 1 | 1 | 0 | 0 | 0 | 0 | 0 | ⋯ | 2 | 0 | 1 | 0 | 2 | 1 | 1 | 2 | 2 | 1 |\n",
       "| F | 63 | 0 | 1 | 0 | 0 | 0 | 0 | 0 | 1 | ⋯ | 0 | 1 | 0 | 2 | 0 | 1 | 0 | 0 | 1 | 0 |\n",
       "| F | 75 | 0 | 1 | 0 | 0 | 1 | 1 | 1 | 1 | ⋯ | 0 | 2 | 1 | 2 | 0 | 1 | 1 | 0 | 1 | 0 |\n",
       "\n"
      ],
      "text/plain": [
       "  Gen AGE Smok Y_Fin Anx P_Pre Chronic Fatigue Alregy Wheez ⋯ Anx_Swa\n",
       "1 M   69  0    1     1   0     0       1       0      1     ⋯ 2      \n",
       "2 M   74  1    0     0   0     1       1       1      0     ⋯ 1      \n",
       "3 F   59  0    0     0   1     0       1       0      1     ⋯ 0      \n",
       "4 M   63  1    1     1   0     0       0       0      0     ⋯ 2      \n",
       "5 F   63  0    1     0   0     0       0       0      1     ⋯ 0      \n",
       "6 F   75  0    1     0   0     1       1       1      1     ⋯ 0      \n",
       "  shot_bre_fati ale_alc whiz_cogh alc_chest ppre_yfin ale_chest smo_anx\n",
       "1 2             1       2         2         1         1         1      \n",
       "2 2             1       0         1         0         2         1      \n",
       "3 2             0       2         1         1         1         0      \n",
       "4 0             1       0         2         1         1         2      \n",
       "5 1             0       2         0         1         0         0      \n",
       "6 2             1       2         0         1         1         0      \n",
       "  yfig_swadiff ppre_swadif\n",
       "1 2            1          \n",
       "2 1            1          \n",
       "3 0            1          \n",
       "4 2            1          \n",
       "5 1            0          \n",
       "6 1            0          "
      ]
     },
     "metadata": {},
     "output_type": "display_data"
    }
   ],
   "source": [
    "\n",
    "#newcol1\n",
    "df2$Anx_Yf<- df2$Anx + df2$Y_Fin\n",
    "#newcol2\n",
    "df2$Anx_Swa<- df2$Anx + df2$Swal\n",
    "#newcol3\n",
    "df2$shot_bre_fati<- df2$Short_bre + df2$Fatigue\n",
    "#newCol4\n",
    "df2$ale_alc<-df2$Alregy + df2$Alcohol\n",
    "#newcol5\n",
    "df2$whiz_cogh<-df2$Wheez+df2$Cough \n",
    "#newcol6\n",
    "df2$alc_chest<-df2$Alcohol+df2$Chst_pain\n",
    "#newcol7\n",
    "df2$ppre_yfin<- df2$P_Pre+df2$Y_Fin\n",
    "#newcol7\n",
    "df2$ale_chest<- df2$Alregy+df2$Chst_pain\n",
    "#newcol8\n",
    "df2$smo_anx<-df2$Smok+df2$Anx\n",
    "#newcol9\n",
    "df2$yfig_swadiff<-df2$Swal+df2$Y_Fin\n",
    "#newcol10\n",
    "df2$ppre_swadif<-df2$P_Pre+df2$Swal\n",
    "\n",
    "head(df2)"
   ]
  },
  {
   "cell_type": "code",
   "execution_count": 119,
   "metadata": {},
   "outputs": [
    {
     "data": {
      "text/html": [
       "<ol class=list-inline>\n",
       "\t<li>216</li>\n",
       "\t<li>27</li>\n",
       "</ol>\n"
      ],
      "text/latex": [
       "\\begin{enumerate*}\n",
       "\\item 216\n",
       "\\item 27\n",
       "\\end{enumerate*}\n"
      ],
      "text/markdown": [
       "1. 216\n",
       "2. 27\n",
       "\n",
       "\n"
      ],
      "text/plain": [
       "[1] 216  27"
      ]
     },
     "metadata": {},
     "output_type": "display_data"
    },
    {
     "data": {
      "text/html": [
       "<ol class=list-inline>\n",
       "\t<li>93</li>\n",
       "\t<li>27</li>\n",
       "</ol>\n"
      ],
      "text/latex": [
       "\\begin{enumerate*}\n",
       "\\item 93\n",
       "\\item 27\n",
       "\\end{enumerate*}\n"
      ],
      "text/markdown": [
       "1. 93\n",
       "2. 27\n",
       "\n",
       "\n"
      ],
      "text/plain": [
       "[1] 93 27"
      ]
     },
     "metadata": {},
     "output_type": "display_data"
    },
    {
     "data": {
      "text/html": [
       "<ol class=list-inline>\n",
       "\t<li>'Gen'</li>\n",
       "\t<li>'AGE'</li>\n",
       "\t<li>'Smok'</li>\n",
       "\t<li>'Y_Fin'</li>\n",
       "\t<li>'Anx'</li>\n",
       "\t<li>'P_Pre'</li>\n",
       "\t<li>'Chronic'</li>\n",
       "\t<li>'Fatigue'</li>\n",
       "\t<li>'Alregy'</li>\n",
       "\t<li>'Wheez'</li>\n",
       "\t<li>'Alcohol'</li>\n",
       "\t<li>'Cough'</li>\n",
       "\t<li>'Short_bre'</li>\n",
       "\t<li>'Swal'</li>\n",
       "\t<li>'Chst_pain'</li>\n",
       "\t<li>'LUNG_CANCER'</li>\n",
       "\t<li>'Anx_Yf'</li>\n",
       "\t<li>'Anx_Swa'</li>\n",
       "\t<li>'shot_bre_fati'</li>\n",
       "\t<li>'ale_alc'</li>\n",
       "\t<li>'whiz_cogh'</li>\n",
       "\t<li>'alc_chest'</li>\n",
       "\t<li>'ppre_yfin'</li>\n",
       "\t<li>'ale_chest'</li>\n",
       "\t<li>'smo_anx'</li>\n",
       "\t<li>'yfig_swadiff'</li>\n",
       "\t<li>'ppre_swadif'</li>\n",
       "</ol>\n"
      ],
      "text/latex": [
       "\\begin{enumerate*}\n",
       "\\item 'Gen'\n",
       "\\item 'AGE'\n",
       "\\item 'Smok'\n",
       "\\item 'Y\\_Fin'\n",
       "\\item 'Anx'\n",
       "\\item 'P\\_Pre'\n",
       "\\item 'Chronic'\n",
       "\\item 'Fatigue'\n",
       "\\item 'Alregy'\n",
       "\\item 'Wheez'\n",
       "\\item 'Alcohol'\n",
       "\\item 'Cough'\n",
       "\\item 'Short\\_bre'\n",
       "\\item 'Swal'\n",
       "\\item 'Chst\\_pain'\n",
       "\\item 'LUNG\\_CANCER'\n",
       "\\item 'Anx\\_Yf'\n",
       "\\item 'Anx\\_Swa'\n",
       "\\item 'shot\\_bre\\_fati'\n",
       "\\item 'ale\\_alc'\n",
       "\\item 'whiz\\_cogh'\n",
       "\\item 'alc\\_chest'\n",
       "\\item 'ppre\\_yfin'\n",
       "\\item 'ale\\_chest'\n",
       "\\item 'smo\\_anx'\n",
       "\\item 'yfig\\_swadiff'\n",
       "\\item 'ppre\\_swadif'\n",
       "\\end{enumerate*}\n"
      ],
      "text/markdown": [
       "1. 'Gen'\n",
       "2. 'AGE'\n",
       "3. 'Smok'\n",
       "4. 'Y_Fin'\n",
       "5. 'Anx'\n",
       "6. 'P_Pre'\n",
       "7. 'Chronic'\n",
       "8. 'Fatigue'\n",
       "9. 'Alregy'\n",
       "10. 'Wheez'\n",
       "11. 'Alcohol'\n",
       "12. 'Cough'\n",
       "13. 'Short_bre'\n",
       "14. 'Swal'\n",
       "15. 'Chst_pain'\n",
       "16. 'LUNG_CANCER'\n",
       "17. 'Anx_Yf'\n",
       "18. 'Anx_Swa'\n",
       "19. 'shot_bre_fati'\n",
       "20. 'ale_alc'\n",
       "21. 'whiz_cogh'\n",
       "22. 'alc_chest'\n",
       "23. 'ppre_yfin'\n",
       "24. 'ale_chest'\n",
       "25. 'smo_anx'\n",
       "26. 'yfig_swadiff'\n",
       "27. 'ppre_swadif'\n",
       "\n",
       "\n"
      ],
      "text/plain": [
       " [1] \"Gen\"           \"AGE\"           \"Smok\"          \"Y_Fin\"        \n",
       " [5] \"Anx\"           \"P_Pre\"         \"Chronic\"       \"Fatigue\"      \n",
       " [9] \"Alregy\"        \"Wheez\"         \"Alcohol\"       \"Cough\"        \n",
       "[13] \"Short_bre\"     \"Swal\"          \"Chst_pain\"     \"LUNG_CANCER\"  \n",
       "[17] \"Anx_Yf\"        \"Anx_Swa\"       \"shot_bre_fati\" \"ale_alc\"      \n",
       "[21] \"whiz_cogh\"     \"alc_chest\"     \"ppre_yfin\"     \"ale_chest\"    \n",
       "[25] \"smo_anx\"       \"yfig_swadiff\"  \"ppre_swadif\"  "
      ]
     },
     "metadata": {},
     "output_type": "display_data"
    }
   ],
   "source": [
    "#Taking test and train samples.\n",
    "set.seed(1)\n",
    "\n",
    "n = nrow(df2)\n",
    "trainIndex = sample(1:n, size = round(0.7*n), replace=FALSE)\n",
    "train = df2[trainIndex ,]\n",
    "test = df2[-trainIndex ,]\n",
    "test_X <- select(test, 'Gen', 'AGE', 'Smok', 'Y_Fin' ,'Anx', 'P_Pre' ,'Chronic', 'Fatigue', 'Alregy', 'Wheez' ,'Alcohol', 'Cough' ,'Short_bre', 'Swal' ,'Chst_pain', 'Anx_Yf', 'Anx_Swa', 'shot_bre_fati', 'ale_alc' ,'whiz_cogh', 'alc_chest', 'ppre_yfin', 'ale_chest', 'smo_anx', 'yfig_swadiff', 'ppre_swadif')\n",
    "dim(train)\n",
    "dim(test)\n",
    "names(df2)"
   ]
  },
  {
   "cell_type": "code",
   "execution_count": 120,
   "metadata": {},
   "outputs": [],
   "source": [
    "frmla <- LUNG_CANCER ~ Gen+ AGE+ Smok+ Y_Fin+ Anx+ P_Pre+ Chronic+ Fatigue + Alregy + Wheez + Alcohol+ Cough + Short_bre + Swal+ Chst_pain+ Anx_Yf + Anx_Swa + shot_bre_fati+ ale_alc+ whiz_cogh+ alc_chest + ppre_yfin+ ale_chest+smo_anx + yfig_swadiff+ ppre_swadif"
   ]
  },
  {
   "cell_type": "code",
   "execution_count": 121,
   "metadata": {},
   "outputs": [],
   "source": [
    "tr <- tree(frmla, data = train)"
   ]
  },
  {
   "cell_type": "code",
   "execution_count": 122,
   "metadata": {},
   "outputs": [
    {
     "data": {
      "text/plain": [
       "\n",
       "Classification tree:\n",
       "tree(formula = frmla, data = train)\n",
       "Variables actually used in tree construction:\n",
       "[1] \"ale_alc\"     \"ppre_yfin\"   \"Anx\"         \"whiz_cogh\"   \"Y_Fin\"      \n",
       "[6] \"Alregy\"      \"ppre_swadif\" \"Chronic\"    \n",
       "Number of terminal nodes:  9 \n",
       "Residual mean deviance:  0.3384 = 70.05 / 207 \n",
       "Misclassification error rate: 0.0787 = 17 / 216 "
      ]
     },
     "metadata": {},
     "output_type": "display_data"
    }
   ],
   "source": [
    "summary(tr)"
   ]
  },
  {
   "cell_type": "code",
   "execution_count": 123,
   "metadata": {},
   "outputs": [
    {
     "data": {
      "text/html": [
       "<table>\n",
       "<caption>A data.frame: 6 × 28</caption>\n",
       "<thead>\n",
       "\t<tr><th></th><th scope=col>Gen</th><th scope=col>AGE</th><th scope=col>Smok</th><th scope=col>Y_Fin</th><th scope=col>Anx</th><th scope=col>P_Pre</th><th scope=col>Chronic</th><th scope=col>Fatigue</th><th scope=col>Alregy</th><th scope=col>Wheez</th><th scope=col>⋯</th><th scope=col>shot_bre_fati</th><th scope=col>ale_alc</th><th scope=col>whiz_cogh</th><th scope=col>alc_chest</th><th scope=col>ppre_yfin</th><th scope=col>ale_chest</th><th scope=col>smo_anx</th><th scope=col>yfig_swadiff</th><th scope=col>ppre_swadif</th><th scope=col>pred</th></tr>\n",
       "\t<tr><th></th><th scope=col>&lt;fct&gt;</th><th scope=col>&lt;int&gt;</th><th scope=col>&lt;dbl&gt;</th><th scope=col>&lt;dbl&gt;</th><th scope=col>&lt;dbl&gt;</th><th scope=col>&lt;dbl&gt;</th><th scope=col>&lt;dbl&gt;</th><th scope=col>&lt;dbl&gt;</th><th scope=col>&lt;dbl&gt;</th><th scope=col>&lt;dbl&gt;</th><th scope=col>⋯</th><th scope=col>&lt;dbl&gt;</th><th scope=col>&lt;dbl&gt;</th><th scope=col>&lt;dbl&gt;</th><th scope=col>&lt;dbl&gt;</th><th scope=col>&lt;dbl&gt;</th><th scope=col>&lt;dbl&gt;</th><th scope=col>&lt;dbl&gt;</th><th scope=col>&lt;dbl&gt;</th><th scope=col>&lt;dbl&gt;</th><th scope=col>&lt;fct&gt;</th></tr>\n",
       "</thead>\n",
       "<tbody>\n",
       "\t<tr><th scope=row>1</th><td>M</td><td>69</td><td>0</td><td>1</td><td>1</td><td>0</td><td>0</td><td>1</td><td>0</td><td>1</td><td>⋯</td><td>2</td><td>1</td><td>2</td><td>2</td><td>1</td><td>1</td><td>1</td><td>2</td><td>1</td><td>YES</td></tr>\n",
       "\t<tr><th scope=row>2</th><td>M</td><td>74</td><td>1</td><td>0</td><td>0</td><td>0</td><td>1</td><td>1</td><td>1</td><td>0</td><td>⋯</td><td>2</td><td>1</td><td>0</td><td>1</td><td>0</td><td>2</td><td>1</td><td>1</td><td>1</td><td>YES</td></tr>\n",
       "\t<tr><th scope=row>5</th><td>F</td><td>63</td><td>0</td><td>1</td><td>0</td><td>0</td><td>0</td><td>0</td><td>0</td><td>1</td><td>⋯</td><td>1</td><td>0</td><td>2</td><td>0</td><td>1</td><td>0</td><td>0</td><td>1</td><td>0</td><td>NO </td></tr>\n",
       "\t<tr><th scope=row>6</th><td>F</td><td>75</td><td>0</td><td>1</td><td>0</td><td>0</td><td>1</td><td>1</td><td>1</td><td>1</td><td>⋯</td><td>2</td><td>1</td><td>2</td><td>0</td><td>1</td><td>1</td><td>0</td><td>1</td><td>0</td><td>YES</td></tr>\n",
       "\t<tr><th scope=row>8</th><td>F</td><td>51</td><td>1</td><td>1</td><td>1</td><td>1</td><td>0</td><td>1</td><td>1</td><td>0</td><td>⋯</td><td>2</td><td>1</td><td>0</td><td>0</td><td>2</td><td>1</td><td>2</td><td>2</td><td>2</td><td>YES</td></tr>\n",
       "\t<tr><th scope=row>9</th><td>F</td><td>68</td><td>1</td><td>0</td><td>1</td><td>0</td><td>0</td><td>1</td><td>0</td><td>0</td><td>⋯</td><td>1</td><td>0</td><td>0</td><td>0</td><td>0</td><td>0</td><td>2</td><td>0</td><td>0</td><td>NO </td></tr>\n",
       "</tbody>\n",
       "</table>\n"
      ],
      "text/latex": [
       "A data.frame: 6 × 28\n",
       "\\begin{tabular}{r|llllllllllllllllllllllllllll}\n",
       "  & Gen & AGE & Smok & Y\\_Fin & Anx & P\\_Pre & Chronic & Fatigue & Alregy & Wheez & Alcohol & Cough & Short\\_bre & Swal & Chst\\_pain & LUNG\\_CANCER & Anx\\_Yf & Anx\\_Swa & shot\\_bre\\_fati & ale\\_alc & whiz\\_cogh & alc\\_chest & ppre\\_yfin & ale\\_chest & smo\\_anx & yfig\\_swadiff & ppre\\_swadif & pred\\\\\n",
       "  & <fct> & <int> & <dbl> & <dbl> & <dbl> & <dbl> & <dbl> & <dbl> & <dbl> & <dbl> & <dbl> & <dbl> & <dbl> & <dbl> & <dbl> & <fct> & <dbl> & <dbl> & <dbl> & <dbl> & <dbl> & <dbl> & <dbl> & <dbl> & <dbl> & <dbl> & <dbl> & <fct>\\\\\n",
       "\\hline\n",
       "\t1 & M & 69 & 0 & 1 & 1 & 0 & 0 & 1 & 0 & 1 & 1 & 1 & 1 & 1 & 1 & YES & 2 & 2 & 2 & 1 & 2 & 2 & 1 & 1 & 1 & 2 & 1 & YES\\\\\n",
       "\t2 & M & 74 & 1 & 0 & 0 & 0 & 1 & 1 & 1 & 0 & 0 & 0 & 1 & 1 & 1 & YES & 0 & 1 & 2 & 1 & 0 & 1 & 0 & 2 & 1 & 1 & 1 & YES\\\\\n",
       "\t5 & F & 63 & 0 & 1 & 0 & 0 & 0 & 0 & 0 & 1 & 0 & 1 & 1 & 0 & 0 & NO  & 1 & 0 & 1 & 0 & 2 & 0 & 1 & 0 & 0 & 1 & 0 & NO \\\\\n",
       "\t6 & F & 75 & 0 & 1 & 0 & 0 & 1 & 1 & 1 & 1 & 0 & 1 & 1 & 0 & 0 & YES & 1 & 0 & 2 & 1 & 2 & 0 & 1 & 1 & 0 & 1 & 0 & YES\\\\\n",
       "\t8 & F & 51 & 1 & 1 & 1 & 1 & 0 & 1 & 1 & 0 & 0 & 0 & 1 & 1 & 0 & YES & 2 & 2 & 2 & 1 & 0 & 0 & 2 & 1 & 2 & 2 & 2 & YES\\\\\n",
       "\t9 & F & 68 & 1 & 0 & 1 & 0 & 0 & 1 & 0 & 0 & 0 & 0 & 0 & 0 & 0 & NO  & 1 & 1 & 1 & 0 & 0 & 0 & 0 & 0 & 2 & 0 & 0 & NO \\\\\n",
       "\\end{tabular}\n"
      ],
      "text/markdown": [
       "\n",
       "A data.frame: 6 × 28\n",
       "\n",
       "| <!--/--> | Gen &lt;fct&gt; | AGE &lt;int&gt; | Smok &lt;dbl&gt; | Y_Fin &lt;dbl&gt; | Anx &lt;dbl&gt; | P_Pre &lt;dbl&gt; | Chronic &lt;dbl&gt; | Fatigue &lt;dbl&gt; | Alregy &lt;dbl&gt; | Wheez &lt;dbl&gt; | ⋯ ⋯ | shot_bre_fati &lt;dbl&gt; | ale_alc &lt;dbl&gt; | whiz_cogh &lt;dbl&gt; | alc_chest &lt;dbl&gt; | ppre_yfin &lt;dbl&gt; | ale_chest &lt;dbl&gt; | smo_anx &lt;dbl&gt; | yfig_swadiff &lt;dbl&gt; | ppre_swadif &lt;dbl&gt; | pred &lt;fct&gt; |\n",
       "|---|---|---|---|---|---|---|---|---|---|---|---|---|---|---|---|---|---|---|---|---|---|\n",
       "| 1 | M | 69 | 0 | 1 | 1 | 0 | 0 | 1 | 0 | 1 | ⋯ | 2 | 1 | 2 | 2 | 1 | 1 | 1 | 2 | 1 | YES |\n",
       "| 2 | M | 74 | 1 | 0 | 0 | 0 | 1 | 1 | 1 | 0 | ⋯ | 2 | 1 | 0 | 1 | 0 | 2 | 1 | 1 | 1 | YES |\n",
       "| 5 | F | 63 | 0 | 1 | 0 | 0 | 0 | 0 | 0 | 1 | ⋯ | 1 | 0 | 2 | 0 | 1 | 0 | 0 | 1 | 0 | NO  |\n",
       "| 6 | F | 75 | 0 | 1 | 0 | 0 | 1 | 1 | 1 | 1 | ⋯ | 2 | 1 | 2 | 0 | 1 | 1 | 0 | 1 | 0 | YES |\n",
       "| 8 | F | 51 | 1 | 1 | 1 | 1 | 0 | 1 | 1 | 0 | ⋯ | 2 | 1 | 0 | 0 | 2 | 1 | 2 | 2 | 2 | YES |\n",
       "| 9 | F | 68 | 1 | 0 | 1 | 0 | 0 | 1 | 0 | 0 | ⋯ | 1 | 0 | 0 | 0 | 0 | 0 | 2 | 0 | 0 | NO  |\n",
       "\n"
      ],
      "text/plain": [
       "  Gen AGE Smok Y_Fin Anx P_Pre Chronic Fatigue Alregy Wheez ⋯ shot_bre_fati\n",
       "1 M   69  0    1     1   0     0       1       0      1     ⋯ 2            \n",
       "2 M   74  1    0     0   0     1       1       1      0     ⋯ 2            \n",
       "5 F   63  0    1     0   0     0       0       0      1     ⋯ 1            \n",
       "6 F   75  0    1     0   0     1       1       1      1     ⋯ 2            \n",
       "8 F   51  1    1     1   1     0       1       1      0     ⋯ 2            \n",
       "9 F   68  1    0     1   0     0       1       0      0     ⋯ 1            \n",
       "  ale_alc whiz_cogh alc_chest ppre_yfin ale_chest smo_anx yfig_swadiff\n",
       "1 1       2         2         1         1         1       2           \n",
       "2 1       0         1         0         2         1       1           \n",
       "5 0       2         0         1         0         0       1           \n",
       "6 1       2         0         1         1         0       1           \n",
       "8 1       0         0         2         1         2       2           \n",
       "9 0       0         0         0         0         2       0           \n",
       "  ppre_swadif pred\n",
       "1 1           YES \n",
       "2 1           YES \n",
       "5 0           NO  \n",
       "6 0           YES \n",
       "8 2           YES \n",
       "9 0           NO  "
      ]
     },
     "metadata": {},
     "output_type": "display_data"
    }
   ],
   "source": [
    "test$pred<- predict(tr, test_X, type = 'class')\n",
    "head(test)\n"
   ]
  },
  {
   "cell_type": "code",
   "execution_count": 124,
   "metadata": {},
   "outputs": [
    {
     "data": {
      "text/html": [
       "<table>\n",
       "<caption>A data.frame: 11 × 28</caption>\n",
       "<thead>\n",
       "\t<tr><th></th><th scope=col>Gen</th><th scope=col>AGE</th><th scope=col>Smok</th><th scope=col>Y_Fin</th><th scope=col>Anx</th><th scope=col>P_Pre</th><th scope=col>Chronic</th><th scope=col>Fatigue</th><th scope=col>Alregy</th><th scope=col>Wheez</th><th scope=col>⋯</th><th scope=col>shot_bre_fati</th><th scope=col>ale_alc</th><th scope=col>whiz_cogh</th><th scope=col>alc_chest</th><th scope=col>ppre_yfin</th><th scope=col>ale_chest</th><th scope=col>smo_anx</th><th scope=col>yfig_swadiff</th><th scope=col>ppre_swadif</th><th scope=col>pred</th></tr>\n",
       "\t<tr><th></th><th scope=col>&lt;fct&gt;</th><th scope=col>&lt;int&gt;</th><th scope=col>&lt;dbl&gt;</th><th scope=col>&lt;dbl&gt;</th><th scope=col>&lt;dbl&gt;</th><th scope=col>&lt;dbl&gt;</th><th scope=col>&lt;dbl&gt;</th><th scope=col>&lt;dbl&gt;</th><th scope=col>&lt;dbl&gt;</th><th scope=col>&lt;dbl&gt;</th><th scope=col>⋯</th><th scope=col>&lt;dbl&gt;</th><th scope=col>&lt;dbl&gt;</th><th scope=col>&lt;dbl&gt;</th><th scope=col>&lt;dbl&gt;</th><th scope=col>&lt;dbl&gt;</th><th scope=col>&lt;dbl&gt;</th><th scope=col>&lt;dbl&gt;</th><th scope=col>&lt;dbl&gt;</th><th scope=col>&lt;dbl&gt;</th><th scope=col>&lt;fct&gt;</th></tr>\n",
       "</thead>\n",
       "<tbody>\n",
       "\t<tr><th scope=row>15</th><td>M</td><td>69</td><td>1</td><td>0</td><td>0</td><td>0</td><td>0</td><td>0</td><td>1</td><td>1</td><td>⋯</td><td>0</td><td>2</td><td>2</td><td>2</td><td>0</td><td>2</td><td>1</td><td>0</td><td>0</td><td>YES</td></tr>\n",
       "\t<tr><th scope=row>23</th><td>F</td><td>21</td><td>1</td><td>0</td><td>0</td><td>0</td><td>1</td><td>1</td><td>1</td><td>0</td><td>⋯</td><td>2</td><td>1</td><td>0</td><td>0</td><td>0</td><td>1</td><td>1</td><td>0</td><td>0</td><td>YES</td></tr>\n",
       "\t<tr><th scope=row>34</th><td>F</td><td>67</td><td>1</td><td>1</td><td>1</td><td>0</td><td>1</td><td>0</td><td>0</td><td>0</td><td>⋯</td><td>1</td><td>0</td><td>0</td><td>1</td><td>1</td><td>1</td><td>2</td><td>2</td><td>1</td><td>NO </td></tr>\n",
       "\t<tr><th scope=row>37</th><td>M</td><td>60</td><td>0</td><td>1</td><td>0</td><td>0</td><td>1</td><td>0</td><td>0</td><td>1</td><td>⋯</td><td>1</td><td>0</td><td>2</td><td>1</td><td>1</td><td>1</td><td>0</td><td>1</td><td>0</td><td>NO </td></tr>\n",
       "\t<tr><th scope=row>39</th><td>M</td><td>56</td><td>1</td><td>0</td><td>0</td><td>0</td><td>1</td><td>0</td><td>0</td><td>1</td><td>⋯</td><td>1</td><td>0</td><td>1</td><td>1</td><td>0</td><td>1</td><td>1</td><td>0</td><td>0</td><td>NO </td></tr>\n",
       "\t<tr><th scope=row>50</th><td>M</td><td>60</td><td>0</td><td>0</td><td>1</td><td>1</td><td>1</td><td>0</td><td>0</td><td>0</td><td>⋯</td><td>0</td><td>1</td><td>0</td><td>1</td><td>1</td><td>0</td><td>1</td><td>0</td><td>1</td><td>YES</td></tr>\n",
       "\t<tr><th scope=row>123</th><td>M</td><td>57</td><td>1</td><td>0</td><td>1</td><td>0</td><td>1</td><td>1</td><td>0</td><td>0</td><td>⋯</td><td>2</td><td>0</td><td>0</td><td>0</td><td>0</td><td>0</td><td>2</td><td>0</td><td>0</td><td>NO </td></tr>\n",
       "\t<tr><th scope=row>138</th><td>M</td><td>67</td><td>0</td><td>0</td><td>0</td><td>1</td><td>0</td><td>1</td><td>0</td><td>1</td><td>⋯</td><td>2</td><td>0</td><td>2</td><td>1</td><td>1</td><td>1</td><td>0</td><td>0</td><td>1</td><td>NO </td></tr>\n",
       "\t<tr><th scope=row>194</th><td>F</td><td>64</td><td>0</td><td>0</td><td>0</td><td>1</td><td>1</td><td>0</td><td>0</td><td>0</td><td>⋯</td><td>0</td><td>0</td><td>0</td><td>0</td><td>1</td><td>0</td><td>0</td><td>0</td><td>1</td><td>NO </td></tr>\n",
       "\t<tr><th scope=row>198</th><td>M</td><td>59</td><td>0</td><td>1</td><td>1</td><td>0</td><td>0</td><td>1</td><td>0</td><td>1</td><td>⋯</td><td>1</td><td>0</td><td>1</td><td>1</td><td>1</td><td>1</td><td>1</td><td>2</td><td>1</td><td>NO </td></tr>\n",
       "\t<tr><th scope=row>241</th><td>F</td><td>70</td><td>1</td><td>0</td><td>0</td><td>1</td><td>1</td><td>0</td><td>1</td><td>0</td><td>⋯</td><td>1</td><td>1</td><td>0</td><td>0</td><td>1</td><td>1</td><td>1</td><td>0</td><td>1</td><td>NO </td></tr>\n",
       "</tbody>\n",
       "</table>\n"
      ],
      "text/latex": [
       "A data.frame: 11 × 28\n",
       "\\begin{tabular}{r|llllllllllllllllllllllllllll}\n",
       "  & Gen & AGE & Smok & Y\\_Fin & Anx & P\\_Pre & Chronic & Fatigue & Alregy & Wheez & Alcohol & Cough & Short\\_bre & Swal & Chst\\_pain & LUNG\\_CANCER & Anx\\_Yf & Anx\\_Swa & shot\\_bre\\_fati & ale\\_alc & whiz\\_cogh & alc\\_chest & ppre\\_yfin & ale\\_chest & smo\\_anx & yfig\\_swadiff & ppre\\_swadif & pred\\\\\n",
       "  & <fct> & <int> & <dbl> & <dbl> & <dbl> & <dbl> & <dbl> & <dbl> & <dbl> & <dbl> & <dbl> & <dbl> & <dbl> & <dbl> & <dbl> & <fct> & <dbl> & <dbl> & <dbl> & <dbl> & <dbl> & <dbl> & <dbl> & <dbl> & <dbl> & <dbl> & <dbl> & <fct>\\\\\n",
       "\\hline\n",
       "\t15 & M & 69 & 1 & 0 & 0 & 0 & 0 & 0 & 1 & 1 & 1 & 1 & 0 & 0 & 1 & NO  & 0 & 0 & 0 & 2 & 2 & 2 & 0 & 2 & 1 & 0 & 0 & YES\\\\\n",
       "\t23 & F & 21 & 1 & 0 & 0 & 0 & 1 & 1 & 1 & 0 & 0 & 0 & 1 & 0 & 0 & NO  & 0 & 0 & 2 & 1 & 0 & 0 & 0 & 1 & 1 & 0 & 0 & YES\\\\\n",
       "\t34 & F & 67 & 1 & 1 & 1 & 0 & 1 & 0 & 0 & 0 & 0 & 0 & 1 & 1 & 1 & YES & 2 & 2 & 1 & 0 & 0 & 1 & 1 & 1 & 2 & 2 & 1 & NO \\\\\n",
       "\t37 & M & 60 & 0 & 1 & 0 & 0 & 1 & 0 & 0 & 1 & 0 & 1 & 1 & 0 & 1 & YES & 1 & 0 & 1 & 0 & 2 & 1 & 1 & 1 & 0 & 1 & 0 & NO \\\\\n",
       "\t39 & M & 56 & 1 & 0 & 0 & 0 & 1 & 0 & 0 & 1 & 0 & 0 & 1 & 0 & 1 & YES & 0 & 0 & 1 & 0 & 1 & 1 & 0 & 1 & 1 & 0 & 0 & NO \\\\\n",
       "\t50 & M & 60 & 0 & 0 & 1 & 1 & 1 & 0 & 0 & 0 & 1 & 0 & 0 & 0 & 0 & NO  & 1 & 1 & 0 & 1 & 0 & 1 & 1 & 0 & 1 & 0 & 1 & YES\\\\\n",
       "\t123 & M & 57 & 1 & 0 & 1 & 0 & 1 & 1 & 0 & 0 & 0 & 0 & 1 & 0 & 0 & YES & 1 & 1 & 2 & 0 & 0 & 0 & 0 & 0 & 2 & 0 & 0 & NO \\\\\n",
       "\t138 & M & 67 & 0 & 0 & 0 & 1 & 0 & 1 & 0 & 1 & 0 & 1 & 1 & 0 & 1 & YES & 0 & 0 & 2 & 0 & 2 & 1 & 1 & 1 & 0 & 0 & 1 & NO \\\\\n",
       "\t194 & F & 64 & 0 & 0 & 0 & 1 & 1 & 0 & 0 & 0 & 0 & 0 & 0 & 0 & 0 & YES & 0 & 0 & 0 & 0 & 0 & 0 & 1 & 0 & 0 & 0 & 1 & NO \\\\\n",
       "\t198 & M & 59 & 0 & 1 & 1 & 0 & 0 & 1 & 0 & 1 & 0 & 0 & 0 & 1 & 1 & YES & 2 & 2 & 1 & 0 & 1 & 1 & 1 & 1 & 1 & 2 & 1 & NO \\\\\n",
       "\t241 & F & 70 & 1 & 0 & 0 & 1 & 1 & 0 & 1 & 0 & 0 & 0 & 1 & 0 & 0 & YES & 0 & 0 & 1 & 1 & 0 & 0 & 1 & 1 & 1 & 0 & 1 & NO \\\\\n",
       "\\end{tabular}\n"
      ],
      "text/markdown": [
       "\n",
       "A data.frame: 11 × 28\n",
       "\n",
       "| <!--/--> | Gen &lt;fct&gt; | AGE &lt;int&gt; | Smok &lt;dbl&gt; | Y_Fin &lt;dbl&gt; | Anx &lt;dbl&gt; | P_Pre &lt;dbl&gt; | Chronic &lt;dbl&gt; | Fatigue &lt;dbl&gt; | Alregy &lt;dbl&gt; | Wheez &lt;dbl&gt; | ⋯ ⋯ | shot_bre_fati &lt;dbl&gt; | ale_alc &lt;dbl&gt; | whiz_cogh &lt;dbl&gt; | alc_chest &lt;dbl&gt; | ppre_yfin &lt;dbl&gt; | ale_chest &lt;dbl&gt; | smo_anx &lt;dbl&gt; | yfig_swadiff &lt;dbl&gt; | ppre_swadif &lt;dbl&gt; | pred &lt;fct&gt; |\n",
       "|---|---|---|---|---|---|---|---|---|---|---|---|---|---|---|---|---|---|---|---|---|---|\n",
       "| 15 | M | 69 | 1 | 0 | 0 | 0 | 0 | 0 | 1 | 1 | ⋯ | 0 | 2 | 2 | 2 | 0 | 2 | 1 | 0 | 0 | YES |\n",
       "| 23 | F | 21 | 1 | 0 | 0 | 0 | 1 | 1 | 1 | 0 | ⋯ | 2 | 1 | 0 | 0 | 0 | 1 | 1 | 0 | 0 | YES |\n",
       "| 34 | F | 67 | 1 | 1 | 1 | 0 | 1 | 0 | 0 | 0 | ⋯ | 1 | 0 | 0 | 1 | 1 | 1 | 2 | 2 | 1 | NO  |\n",
       "| 37 | M | 60 | 0 | 1 | 0 | 0 | 1 | 0 | 0 | 1 | ⋯ | 1 | 0 | 2 | 1 | 1 | 1 | 0 | 1 | 0 | NO  |\n",
       "| 39 | M | 56 | 1 | 0 | 0 | 0 | 1 | 0 | 0 | 1 | ⋯ | 1 | 0 | 1 | 1 | 0 | 1 | 1 | 0 | 0 | NO  |\n",
       "| 50 | M | 60 | 0 | 0 | 1 | 1 | 1 | 0 | 0 | 0 | ⋯ | 0 | 1 | 0 | 1 | 1 | 0 | 1 | 0 | 1 | YES |\n",
       "| 123 | M | 57 | 1 | 0 | 1 | 0 | 1 | 1 | 0 | 0 | ⋯ | 2 | 0 | 0 | 0 | 0 | 0 | 2 | 0 | 0 | NO  |\n",
       "| 138 | M | 67 | 0 | 0 | 0 | 1 | 0 | 1 | 0 | 1 | ⋯ | 2 | 0 | 2 | 1 | 1 | 1 | 0 | 0 | 1 | NO  |\n",
       "| 194 | F | 64 | 0 | 0 | 0 | 1 | 1 | 0 | 0 | 0 | ⋯ | 0 | 0 | 0 | 0 | 1 | 0 | 0 | 0 | 1 | NO  |\n",
       "| 198 | M | 59 | 0 | 1 | 1 | 0 | 0 | 1 | 0 | 1 | ⋯ | 1 | 0 | 1 | 1 | 1 | 1 | 1 | 2 | 1 | NO  |\n",
       "| 241 | F | 70 | 1 | 0 | 0 | 1 | 1 | 0 | 1 | 0 | ⋯ | 1 | 1 | 0 | 0 | 1 | 1 | 1 | 0 | 1 | NO  |\n",
       "\n"
      ],
      "text/plain": [
       "    Gen AGE Smok Y_Fin Anx P_Pre Chronic Fatigue Alregy Wheez ⋯ shot_bre_fati\n",
       "15  M   69  1    0     0   0     0       0       1      1     ⋯ 0            \n",
       "23  F   21  1    0     0   0     1       1       1      0     ⋯ 2            \n",
       "34  F   67  1    1     1   0     1       0       0      0     ⋯ 1            \n",
       "37  M   60  0    1     0   0     1       0       0      1     ⋯ 1            \n",
       "39  M   56  1    0     0   0     1       0       0      1     ⋯ 1            \n",
       "50  M   60  0    0     1   1     1       0       0      0     ⋯ 0            \n",
       "123 M   57  1    0     1   0     1       1       0      0     ⋯ 2            \n",
       "138 M   67  0    0     0   1     0       1       0      1     ⋯ 2            \n",
       "194 F   64  0    0     0   1     1       0       0      0     ⋯ 0            \n",
       "198 M   59  0    1     1   0     0       1       0      1     ⋯ 1            \n",
       "241 F   70  1    0     0   1     1       0       1      0     ⋯ 1            \n",
       "    ale_alc whiz_cogh alc_chest ppre_yfin ale_chest smo_anx yfig_swadiff\n",
       "15  2       2         2         0         2         1       0           \n",
       "23  1       0         0         0         1         1       0           \n",
       "34  0       0         1         1         1         2       2           \n",
       "37  0       2         1         1         1         0       1           \n",
       "39  0       1         1         0         1         1       0           \n",
       "50  1       0         1         1         0         1       0           \n",
       "123 0       0         0         0         0         2       0           \n",
       "138 0       2         1         1         1         0       0           \n",
       "194 0       0         0         1         0         0       0           \n",
       "198 0       1         1         1         1         1       2           \n",
       "241 1       0         0         1         1         1       0           \n",
       "    ppre_swadif pred\n",
       "15  0           YES \n",
       "23  0           YES \n",
       "34  1           NO  \n",
       "37  0           NO  \n",
       "39  0           NO  \n",
       "50  1           YES \n",
       "123 0           NO  \n",
       "138 1           NO  \n",
       "194 1           NO  \n",
       "198 1           NO  \n",
       "241 1           NO  "
      ]
     },
     "metadata": {},
     "output_type": "display_data"
    }
   ],
   "source": [
    "miss <- test[test$LUNG_CANCER != test$pred,]\n",
    "\n",
    "miss"
   ]
  },
  {
   "cell_type": "code",
   "execution_count": 125,
   "metadata": {},
   "outputs": [
    {
     "data": {
      "image/png": "[encoded data removed]",
      "text/plain": [
       "plot without title"
      ]
     },
     "metadata": {},
     "output_type": "display_data"
    }
   ],
   "source": [
    "plot(tr)\n",
    "text(tr)"
   ]
  },
  {
   "cell_type": "code",
   "execution_count": 143,
   "metadata": {},
   "outputs": [
    {
     "data": {
      "image/png": "[encoded data removed]",
      "text/plain": [
       "plot without title"
      ]
     },
     "metadata": {},
     "output_type": "display_data"
    }
   ],
   "source": [
    "ggplot(df2, aes(x=ale_alc , fill=LUNG_CANCER, colour=()'#F3B670','#4CFE4C')) +  \n",
    "  geom_bar( ) + labs(x = \"Having Allergy and consuming Alcohol\")\n",
    "  "
   ]
  },
  {
   "cell_type": "code",
   "execution_count": 130,
   "metadata": {
    "scrolled": true
   },
   "outputs": [
    {
     "data": {
      "image/png": "[encoded data removed]",
      "text/plain": [
       "plot without title"
      ]
     },
     "metadata": {},
     "output_type": "display_data"
    }
   ],
   "source": [
    "ggplot(df2, aes(x=ppre_yfin , fill=LUNG_CANCER)) +  \n",
    "  geom_bar( ) + labs(x = \"Having Peer Presure and Yellow Fingers as symptoms\")"
   ]
  },
  {
   "cell_type": "code",
   "execution_count": 131,
   "metadata": {},
   "outputs": [
    {
     "data": {
      "image/png": "[encoded data removed]",
      "text/plain": [
       "plot without title"
      ]
     },
     "metadata": {},
     "output_type": "display_data"
    }
   ],
   "source": [
    "ggplot(df2, aes(x=whiz_cogh , fill=LUNG_CANCER)) +  \n",
    "  geom_bar( ) + labs(x = \"Having symptoms of WHEEZING and COUGHING\")"
   ]
  },
  {
   "cell_type": "code",
   "execution_count": 133,
   "metadata": {},
   "outputs": [
    {
     "data": {
      "image/png": "[encoded data removed]",
      "text/plain": [
       "plot without title"
      ]
     },
     "metadata": {},
     "output_type": "display_data"
    }
   ],
   "source": [
    "ggplot(df2, aes(x=ppre_swadif , fill=LUNG_CANCER)) +  \n",
    "  geom_bar( ) + labs(x = \"Having peer presure and symptoms of swallowing difficulty\")"
   ]
  },
  {
   "cell_type": "code",
   "execution_count": 139,
   "metadata": {},
   "outputs": [
    {
     "data": {
      "text/html": [
       "<ol class=list-inline>\n",
       "\t<li>216</li>\n",
       "\t<li>9</li>\n",
       "</ol>\n"
      ],
      "text/latex": [
       "\\begin{enumerate*}\n",
       "\\item 216\n",
       "\\item 9\n",
       "\\end{enumerate*}\n"
      ],
      "text/markdown": [
       "1. 216\n",
       "2. 9\n",
       "\n",
       "\n"
      ],
      "text/plain": [
       "[1] 216   9"
      ]
     },
     "metadata": {},
     "output_type": "display_data"
    },
    {
     "data": {
      "text/html": [
       "<ol class=list-inline>\n",
       "\t<li>93</li>\n",
       "\t<li>9</li>\n",
       "</ol>\n"
      ],
      "text/latex": [
       "\\begin{enumerate*}\n",
       "\\item 93\n",
       "\\item 9\n",
       "\\end{enumerate*}\n"
      ],
      "text/markdown": [
       "1. 93\n",
       "2. 9\n",
       "\n",
       "\n"
      ],
      "text/plain": [
       "[1] 93  9"
      ]
     },
     "metadata": {},
     "output_type": "display_data"
    },
    {
     "data": {
      "text/html": [
       "<ol class=list-inline>\n",
       "\t<li>'ale_alc'</li>\n",
       "\t<li>'ppre_yfin'</li>\n",
       "\t<li>'Anx'</li>\n",
       "\t<li>'whiz_cogh'</li>\n",
       "\t<li>'Y_Fin'</li>\n",
       "\t<li>'Alregy'</li>\n",
       "\t<li>'ppre_swadif'</li>\n",
       "\t<li>'Chronic'</li>\n",
       "\t<li>'LUNG_CANCER'</li>\n",
       "</ol>\n"
      ],
      "text/latex": [
       "\\begin{enumerate*}\n",
       "\\item 'ale\\_alc'\n",
       "\\item 'ppre\\_yfin'\n",
       "\\item 'Anx'\n",
       "\\item 'whiz\\_cogh'\n",
       "\\item 'Y\\_Fin'\n",
       "\\item 'Alregy'\n",
       "\\item 'ppre\\_swadif'\n",
       "\\item 'Chronic'\n",
       "\\item 'LUNG\\_CANCER'\n",
       "\\end{enumerate*}\n"
      ],
      "text/markdown": [
       "1. 'ale_alc'\n",
       "2. 'ppre_yfin'\n",
       "3. 'Anx'\n",
       "4. 'whiz_cogh'\n",
       "5. 'Y_Fin'\n",
       "6. 'Alregy'\n",
       "7. 'ppre_swadif'\n",
       "8. 'Chronic'\n",
       "9. 'LUNG_CANCER'\n",
       "\n",
       "\n"
      ],
      "text/plain": [
       "[1] \"ale_alc\"     \"ppre_yfin\"   \"Anx\"         \"whiz_cogh\"   \"Y_Fin\"      \n",
       "[6] \"Alregy\"      \"ppre_swadif\" \"Chronic\"     \"LUNG_CANCER\""
      ]
     },
     "metadata": {},
     "output_type": "display_data"
    },
    {
     "data": {
      "text/plain": [
       "\n",
       "Classification tree:\n",
       "tree(formula = frmlanew, data = trainnew)\n",
       "Variables actually used in tree construction:\n",
       "[1] \"ppre_swadif\" \"ale_alc\"     \"Chronic\"     \"Anx\"         \"whiz_cogh\"  \n",
       "[6] \"Alregy\"     \n",
       "Number of terminal nodes:  10 \n",
       "Residual mean deviance:  0.388 = 79.92 / 206 \n",
       "Misclassification error rate: 0.08796 = 19 / 216 "
      ]
     },
     "metadata": {},
     "output_type": "display_data"
    }
   ],
   "source": [
    "#By considering only important features as per the result of previous decision tree.\n",
    "\n",
    "df3 = select(df2, \"ale_alc\", \"ppre_yfin\" , \"Anx\", \"whiz_cogh\",\"Y_Fin\",\"Alregy\",\"ppre_swadif\", \"Chronic\", \"LUNG_CANCER\" )\n",
    "nnew = nrow(df3)\n",
    "trainIndexnew = sample(1:nnew, size = round(0.7*n), replace=FALSE)\n",
    "trainnew = df3[trainIndexnew ,]\n",
    "testnew = df3[-trainIndexnew ,]\n",
    "testnew_X <- select(testnew,\"ale_alc\", \"ppre_yfin\" , \"Anx\", \"whiz_cogh\",\"Y_Fin\",\"Alregy\",\"ppre_swadif\", \"Chronic\")\n",
    "dim(trainnew)\n",
    "dim(testnew)\n",
    "names(df3)\n",
    "frmlanew <- LUNG_CANCER ~ ale_alc+ppre_yfin+Anx+whiz_cogh+Y_Fin+Alregy+ppre_swadif+Chronic\n",
    "trnew <- tree(frmlanew, data = trainnew)\n",
    "summary(trnew)\n"
   ]
  },
  {
   "cell_type": "code",
   "execution_count": 142,
   "metadata": {},
   "outputs": [
    {
     "data": {
      "text/html": [
       "<table>\n",
       "<caption>A data.frame: 6 × 10</caption>\n",
       "<thead>\n",
       "\t<tr><th></th><th scope=col>ale_alc</th><th scope=col>ppre_yfin</th><th scope=col>Anx</th><th scope=col>whiz_cogh</th><th scope=col>Y_Fin</th><th scope=col>Alregy</th><th scope=col>ppre_swadif</th><th scope=col>Chronic</th><th scope=col>LUNG_CANCER</th><th scope=col>pred</th></tr>\n",
       "\t<tr><th></th><th scope=col>&lt;dbl&gt;</th><th scope=col>&lt;dbl&gt;</th><th scope=col>&lt;dbl&gt;</th><th scope=col>&lt;dbl&gt;</th><th scope=col>&lt;dbl&gt;</th><th scope=col>&lt;dbl&gt;</th><th scope=col>&lt;dbl&gt;</th><th scope=col>&lt;dbl&gt;</th><th scope=col>&lt;fct&gt;</th><th scope=col>&lt;fct&gt;</th></tr>\n",
       "</thead>\n",
       "<tbody>\n",
       "\t<tr><th scope=row>12</th><td>2</td><td>0</td><td>0</td><td>2</td><td>0</td><td>1</td><td>0</td><td>1</td><td>YES</td><td>YES</td></tr>\n",
       "\t<tr><th scope=row>16</th><td>1</td><td>2</td><td>1</td><td>2</td><td>1</td><td>1</td><td>2</td><td>1</td><td>YES</td><td>YES</td></tr>\n",
       "\t<tr><th scope=row>19</th><td>0</td><td>2</td><td>1</td><td>1</td><td>1</td><td>0</td><td>1</td><td>1</td><td>YES</td><td>YES</td></tr>\n",
       "\t<tr><th scope=row>21</th><td>0</td><td>2</td><td>1</td><td>0</td><td>1</td><td>0</td><td>2</td><td>1</td><td>YES</td><td>YES</td></tr>\n",
       "\t<tr><th scope=row>22</th><td>1</td><td>2</td><td>1</td><td>2</td><td>1</td><td>1</td><td>2</td><td>0</td><td>YES</td><td>YES</td></tr>\n",
       "\t<tr><th scope=row>25</th><td>2</td><td>2</td><td>1</td><td>2</td><td>1</td><td>1</td><td>2</td><td>1</td><td>YES</td><td>YES</td></tr>\n",
       "</tbody>\n",
       "</table>\n"
      ],
      "text/latex": [
       "A data.frame: 6 × 10\n",
       "\\begin{tabular}{r|llllllllll}\n",
       "  & ale\\_alc & ppre\\_yfin & Anx & whiz\\_cogh & Y\\_Fin & Alregy & ppre\\_swadif & Chronic & LUNG\\_CANCER & pred\\\\\n",
       "  & <dbl> & <dbl> & <dbl> & <dbl> & <dbl> & <dbl> & <dbl> & <dbl> & <fct> & <fct>\\\\\n",
       "\\hline\n",
       "\t12 & 2 & 0 & 0 & 2 & 0 & 1 & 0 & 1 & YES & YES\\\\\n",
       "\t16 & 1 & 2 & 1 & 2 & 1 & 1 & 2 & 1 & YES & YES\\\\\n",
       "\t19 & 0 & 2 & 1 & 1 & 1 & 0 & 1 & 1 & YES & YES\\\\\n",
       "\t21 & 0 & 2 & 1 & 0 & 1 & 0 & 2 & 1 & YES & YES\\\\\n",
       "\t22 & 1 & 2 & 1 & 2 & 1 & 1 & 2 & 0 & YES & YES\\\\\n",
       "\t25 & 2 & 2 & 1 & 2 & 1 & 1 & 2 & 1 & YES & YES\\\\\n",
       "\\end{tabular}\n"
      ],
      "text/markdown": [
       "\n",
       "A data.frame: 6 × 10\n",
       "\n",
       "| <!--/--> | ale_alc &lt;dbl&gt; | ppre_yfin &lt;dbl&gt; | Anx &lt;dbl&gt; | whiz_cogh &lt;dbl&gt; | Y_Fin &lt;dbl&gt; | Alregy &lt;dbl&gt; | ppre_swadif &lt;dbl&gt; | Chronic &lt;dbl&gt; | LUNG_CANCER &lt;fct&gt; | pred &lt;fct&gt; |\n",
       "|---|---|---|---|---|---|---|---|---|---|---|\n",
       "| 12 | 2 | 0 | 0 | 2 | 0 | 1 | 0 | 1 | YES | YES |\n",
       "| 16 | 1 | 2 | 1 | 2 | 1 | 1 | 2 | 1 | YES | YES |\n",
       "| 19 | 0 | 2 | 1 | 1 | 1 | 0 | 1 | 1 | YES | YES |\n",
       "| 21 | 0 | 2 | 1 | 0 | 1 | 0 | 2 | 1 | YES | YES |\n",
       "| 22 | 1 | 2 | 1 | 2 | 1 | 1 | 2 | 0 | YES | YES |\n",
       "| 25 | 2 | 2 | 1 | 2 | 1 | 1 | 2 | 1 | YES | YES |\n",
       "\n"
      ],
      "text/plain": [
       "   ale_alc ppre_yfin Anx whiz_cogh Y_Fin Alregy ppre_swadif Chronic LUNG_CANCER\n",
       "12 2       0         0   2         0     1      0           1       YES        \n",
       "16 1       2         1   2         1     1      2           1       YES        \n",
       "19 0       2         1   1         1     0      1           1       YES        \n",
       "21 0       2         1   0         1     0      2           1       YES        \n",
       "22 1       2         1   2         1     1      2           0       YES        \n",
       "25 2       2         1   2         1     1      2           1       YES        \n",
       "   pred\n",
       "12 YES \n",
       "16 YES \n",
       "19 YES \n",
       "21 YES \n",
       "22 YES \n",
       "25 YES "
      ]
     },
     "metadata": {},
     "output_type": "display_data"
    },
    {
     "data": {
      "text/html": [
       "<table>\n",
       "<caption>A data.frame: 6 × 10</caption>\n",
       "<thead>\n",
       "\t<tr><th></th><th scope=col>ale_alc</th><th scope=col>ppre_yfin</th><th scope=col>Anx</th><th scope=col>whiz_cogh</th><th scope=col>Y_Fin</th><th scope=col>Alregy</th><th scope=col>ppre_swadif</th><th scope=col>Chronic</th><th scope=col>LUNG_CANCER</th><th scope=col>pred</th></tr>\n",
       "\t<tr><th></th><th scope=col>&lt;dbl&gt;</th><th scope=col>&lt;dbl&gt;</th><th scope=col>&lt;dbl&gt;</th><th scope=col>&lt;dbl&gt;</th><th scope=col>&lt;dbl&gt;</th><th scope=col>&lt;dbl&gt;</th><th scope=col>&lt;dbl&gt;</th><th scope=col>&lt;dbl&gt;</th><th scope=col>&lt;fct&gt;</th><th scope=col>&lt;fct&gt;</th></tr>\n",
       "</thead>\n",
       "<tbody>\n",
       "\t<tr><th scope=row>33</th><td>0</td><td>1</td><td>1</td><td>0</td><td>1</td><td>0</td><td>1</td><td>0</td><td>NO </td><td>YES</td></tr>\n",
       "\t<tr><th scope=row>38</th><td>0</td><td>0</td><td>0</td><td>1</td><td>0</td><td>0</td><td>1</td><td>1</td><td>NO </td><td>YES</td></tr>\n",
       "\t<tr><th scope=row>113</th><td>0</td><td>1</td><td>0</td><td>2</td><td>0</td><td>0</td><td>1</td><td>0</td><td>YES</td><td>NO </td></tr>\n",
       "\t<tr><th scope=row>123</th><td>0</td><td>0</td><td>1</td><td>0</td><td>0</td><td>0</td><td>0</td><td>1</td><td>YES</td><td>NO </td></tr>\n",
       "\t<tr><th scope=row>208</th><td>0</td><td>1</td><td>0</td><td>1</td><td>0</td><td>0</td><td>1</td><td>0</td><td>NO </td><td>YES</td></tr>\n",
       "\t<tr><th scope=row>283</th><td>0</td><td>1</td><td>1</td><td>0</td><td>1</td><td>0</td><td>1</td><td>0</td><td>NO </td><td>YES</td></tr>\n",
       "</tbody>\n",
       "</table>\n"
      ],
      "text/latex": [
       "A data.frame: 6 × 10\n",
       "\\begin{tabular}{r|llllllllll}\n",
       "  & ale\\_alc & ppre\\_yfin & Anx & whiz\\_cogh & Y\\_Fin & Alregy & ppre\\_swadif & Chronic & LUNG\\_CANCER & pred\\\\\n",
       "  & <dbl> & <dbl> & <dbl> & <dbl> & <dbl> & <dbl> & <dbl> & <dbl> & <fct> & <fct>\\\\\n",
       "\\hline\n",
       "\t33 & 0 & 1 & 1 & 0 & 1 & 0 & 1 & 0 & NO  & YES\\\\\n",
       "\t38 & 0 & 0 & 0 & 1 & 0 & 0 & 1 & 1 & NO  & YES\\\\\n",
       "\t113 & 0 & 1 & 0 & 2 & 0 & 0 & 1 & 0 & YES & NO \\\\\n",
       "\t123 & 0 & 0 & 1 & 0 & 0 & 0 & 0 & 1 & YES & NO \\\\\n",
       "\t208 & 0 & 1 & 0 & 1 & 0 & 0 & 1 & 0 & NO  & YES\\\\\n",
       "\t283 & 0 & 1 & 1 & 0 & 1 & 0 & 1 & 0 & NO  & YES\\\\\n",
       "\\end{tabular}\n"
      ],
      "text/markdown": [
       "\n",
       "A data.frame: 6 × 10\n",
       "\n",
       "| <!--/--> | ale_alc &lt;dbl&gt; | ppre_yfin &lt;dbl&gt; | Anx &lt;dbl&gt; | whiz_cogh &lt;dbl&gt; | Y_Fin &lt;dbl&gt; | Alregy &lt;dbl&gt; | ppre_swadif &lt;dbl&gt; | Chronic &lt;dbl&gt; | LUNG_CANCER &lt;fct&gt; | pred &lt;fct&gt; |\n",
       "|---|---|---|---|---|---|---|---|---|---|---|\n",
       "| 33 | 0 | 1 | 1 | 0 | 1 | 0 | 1 | 0 | NO  | YES |\n",
       "| 38 | 0 | 0 | 0 | 1 | 0 | 0 | 1 | 1 | NO  | YES |\n",
       "| 113 | 0 | 1 | 0 | 2 | 0 | 0 | 1 | 0 | YES | NO  |\n",
       "| 123 | 0 | 0 | 1 | 0 | 0 | 0 | 0 | 1 | YES | NO  |\n",
       "| 208 | 0 | 1 | 0 | 1 | 0 | 0 | 1 | 0 | NO  | YES |\n",
       "| 283 | 0 | 1 | 1 | 0 | 1 | 0 | 1 | 0 | NO  | YES |\n",
       "\n"
      ],
      "text/plain": [
       "    ale_alc ppre_yfin Anx whiz_cogh Y_Fin Alregy ppre_swadif Chronic\n",
       "33  0       1         1   0         1     0      1           0      \n",
       "38  0       0         0   1         0     0      1           1      \n",
       "113 0       1         0   2         0     0      1           0      \n",
       "123 0       0         1   0         0     0      0           1      \n",
       "208 0       1         0   1         0     0      1           0      \n",
       "283 0       1         1   0         1     0      1           0      \n",
       "    LUNG_CANCER pred\n",
       "33  NO          YES \n",
       "38  NO          YES \n",
       "113 YES         NO  \n",
       "123 YES         NO  \n",
       "208 NO          YES \n",
       "283 NO          YES "
      ]
     },
     "metadata": {},
     "output_type": "display_data"
    }
   ],
   "source": [
    "testnew$pred<- predict(trnew, testnew_X, type = 'class')\n",
    "head(testnew)\n",
    "\n",
    "missnew <- testnew[testnew$LUNG_CANCER != testnew$pred,]\n",
    "\n",
    "missnew\n",
    "\n",
    "#Out of 93, only 6 rows got miscategorized, which has been reduced from 11, which was the last misclassification error of test set.Hence the model has been improved."
   ]
  },
  {
   "cell_type": "markdown",
   "metadata": {},
   "source": [
    "## Step 7: Communicate the Story to your intended audience using visualizations and narrative\n",
    "\n",
    "\n",
    "In this project, a Decision Tree Classifier was employed to develop a predictive model for identifying individuals with lung cancer with a remarkable accuracy rate of up to 94%. The model's performance demonstrates its effectiveness in distinguishing between individuals with and without lung cancer.\n",
    "\n",
    "Upon careful analysis, it was observed that specific health conditions and symptoms significantly contribute to the likelihood of an individual having lung cancer. Notable indicators include allergies and alcohol consumption, peer pressure and yellowing of fingers, wheezing and coughing, and the presence of chronic diseases and anxiety. Additionally, difficulties in swallowing were identified as relevant factors in assessing the risk of lung cancer. These findings were visually represented in the bar charts presented earlier in the project.\n",
    "\n",
    "The project commenced with an introduction outlining the project's objectives and target audience. Subsequently, the data underwent rigorous data preprocessing, including cleaning and feature engineering. Following this, the initial model was trained using all available input features. However, the focus of the analysis then shifted towards identifying the most influential features that contributed significantly to the model's predictive accuracy.\n",
    "\n",
    "Through the utilization of feature importance analysis and feature importance plots, the scope was narrowed down to six crucial features. Each of these features was then meticulously visualized with respect to the lung cancer categories \"YES\" and \"NO.\" This step provided valuable insights into the influence of these selected features on lung cancer prediction.\n",
    "\n",
    "Subsequent refinement of the model involved retraining it using only the identified important features. This strategic adjustment yielded an enhancement in the model's accuracy rate, confirming the significance of the chosen features in the predictive process.\n",
    "\n",
    "Further enhancements were made to the dataset by introducing new columns that encapsulated combinations of highly correlated variables. These additions were informed by a heatmap plotting of the correlation matrix of the dataset, which unveiled previously undiscovered relationships between variables. A new prediction model was developed based on these modifications, resulting in a notable 50% reduction in misclassification errors when compared to the previous iteration.\n",
    "\n",
    "In summary, this project employed rigorous data science techniques, including feature engineering, decision tree modeling, and correlation analysis, to develop a robust predictive model for lung cancer detection. The findings underscore the critical role of specific health indicators and symptoms in accurate lung cancer prediction, and the project showcases a substantial improvement in model performance through iterative refinement and feature engineering."
   ]
  }
 ],
 "metadata": {
  "kernelspec": {
   "display_name": "R",
   "language": "R",
   "name": "ir"
  },
  "language_info": {
   "codemirror_mode": "r",
   "file_extension": ".r",
   "mimetype": "text/x-r-source",
   "name": "R",
   "pygments_lexer": "r",
   "version": "3.5.1"
  }
 },
 "nbformat": 4,
 "nbformat_minor": 2
}
