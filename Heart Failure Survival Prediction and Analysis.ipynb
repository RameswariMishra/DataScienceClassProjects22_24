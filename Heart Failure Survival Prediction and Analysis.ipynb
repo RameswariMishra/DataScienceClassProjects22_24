{
 "cells": [
  {
   "cell_type": "markdown",
   "metadata": {},
   "source": [
    "## 1. Loading, Cleaning, Displaying Data \n",
    "\n",
    "Explain your data set here; what is it about? What are the variables? What do you want to do with it? How are you going to clean it? etc. \n"
   ]
  },
  {
   "cell_type": "markdown",
   "metadata": {},
   "source": [
    "**Dataset Collection Origin Details :** \n",
    "This dataset has been collected from this repository \"https://archive.ics.uci.edu/ml/datasets/Heart+failure+clinical+records\" According to the information in the website, The original dataset version was collected by Tanvir Ahmad, Assia Munir, Sajjad Haider Bhatti, Muhammad Aftab, and Muhammad Ali Raza (Government College University, Faisalabad, Pakistan) and made available by them on FigShare under the Attribution 4.0 International (CC BY 4.0: freedom to share and adapt the material) copyright in July 2017.\n",
    "\n",
    "The current version of the dataset was elaborated by Davide Chicco (Krembil Research Institute, Toronto, Canada) and donated to the University of California Irvine Machine Learning Repository under the same Attribution 4.0 International (CC BY 4.0) copyright in January 2020. Davide Chicco can be reached at <davidechicco '@' davidechicco.it>\n",
    "\n",
    "**The dataset is a heart failure clinical record dataset, having 13 variables and 299 observations.**\n",
    "\n",
    "**The variables are :**\n",
    "\n",
    "**Independent variables:**\n",
    "\n",
    "**1. age                      : Numerical**\n",
    "\n",
    "**2. anaemia                  : Numerical**\n",
    "\n",
    "**3. creatinine_phosphokinase : Numerical**\n",
    "\n",
    "**4. diabetes                 : Categorical**\n",
    "\n",
    "**5. ejection_fraction        : Numerical**\n",
    "\n",
    "**6. high_blood_pressure      : Categorical**\n",
    "\n",
    "**7. platelets                : Numerical**\n",
    "\n",
    "**8. serum_creatinine         : Numerical**\n",
    "\n",
    "**9. serum_sodium             : Numerical**\n",
    "\n",
    "**10. sex                     : Categorical**\n",
    "\n",
    "**11. smoking                 : Categorical**\n",
    "\n",
    "**12. time                    : Numerical**\n",
    "\n",
    "**Dependent Variable\n",
    "\n",
    "**13. DEATH_EVENT             : Categorical**\n",
    "\n",
    "\n",
    "● Age: Determines the age of the person.\n",
    "\n",
    "● Anaemia: A disorder in which one lacks sufficient healthy red blood cells to bring\n",
    "enough oxygen to the tissues of the body and anemia is recurrent hearing loss\n",
    "comorbidity and is associated with poor performance.\n",
    "\n",
    "● Creatinine_phosphokinase: When the total CPK level is high, it is an enzyme in the\n",
    "body that most frequently indicates that muscle tissue, heart or brain tissue has been\n",
    "damaged or stressed.\n",
    "\n",
    "● Diabetes: Metabolic condition that induces high sugar in the blood.\n",
    "\n",
    "● Ejection_fraction: Measuring the blood percentage that leaves the heart each time it\n",
    "contracts.\n",
    "\n",
    "● High_blood_pressure: Determines if the blood pressure is high or not.\n",
    "\n",
    "● Platelets: Determines the count of platelets in the blood.\n",
    "\n",
    "● Serum_creatinine: Tests the creatinine level in the blood and calculates how well\n",
    "the kidneys filter\n",
    "\n",
    "● Serum_sodium : Determines the level of serum sodium in the blood\n",
    "\n",
    "● Sex: Determines the gender whether the person is male or female.\n",
    "\n",
    "● Smoking: Determines if a person smokes or not.\n",
    "\n",
    "● Time: Follow up period in days\n",
    "\n",
    "● DEATH_EVENT: If the patient died during the follow-up time\n",
    "\n",
    "Sex - Male = 1, Female =0\n",
    "\n",
    "Diabetes - 0 = No, 1 = Yes\n",
    "\n",
    "Anaemia - 0 = No, 1 = Yes\n",
    "\n",
    "High_blood_pressure - 0 = No, 1 = Yes\n",
    "\n",
    "Smoking - 0 = No, 1 = Yes\n",
    "\n",
    "DEATH_EVENT - 0 = No, 1 = Yes\n",
    "\n",
    "**Here my audience are the physicians who can predict while seeing a new heart failure patient, what are the survival chances for that patient.**\n",
    "\n",
    "**Data Carpentery**\n",
    "1. Checking if any null or empty values are there and discarding those records.\n",
    "2. Converting data values to categories or groups, changing column names if required to visualize and analyze data \n",
    "\n",
    "**Those are few ways, I am analysing the dataset, after cleaning and data carpentery is done.**\n",
    "\n",
    "1. Exploratory data analysis, corelation plots and visualization of categorical and numeric features.\n",
    "2. Perform Manova test to see whether the mean vector of creatinine_phosphokinase, ejection_fraction, platelets,serum_creatinine, serum_sodium is same for both dead patients and survived patients and find the most significant numeric features.\n",
    "3. Fitting a logistic regression classification model and decision tree model and calculate the accuracy of classification. \n",
    "4. Ploting the results of models and describing the accuracy."
   ]
  },
  {
   "cell_type": "code",
   "execution_count": 2,
   "metadata": {},
   "outputs": [
    {
     "name": "stderr",
     "output_type": "stream",
     "text": [
      "Loading required package: pastecs\n",
      "\n"
     ]
    }
   ],
   "source": [
    "if(!require('pastecs')) {\n",
    "  install.packages('pastecs')\n",
    "  library('pastecs')\n",
    "}\n"
   ]
  },
  {
   "cell_type": "code",
   "execution_count": 3,
   "metadata": {},
   "outputs": [
    {
     "name": "stderr",
     "output_type": "stream",
     "text": [
      "Loading required package: tree\n",
      "\n",
      "Warning message in library(package, lib.loc = lib.loc, character.only = TRUE, logical.return = TRUE, :\n",
      "“there is no package called ‘tree’”\n",
      "Updating HTML index of packages in '.Library'\n",
      "\n",
      "Making 'packages.html' ...\n",
      " done\n",
      "\n"
     ]
    }
   ],
   "source": [
    "if(!require('tree')) {\n",
    "  install.packages('tree')\n",
    "  library('tree')\n",
    "}\n"
   ]
  },
  {
   "cell_type": "code",
   "execution_count": 4,
   "metadata": {},
   "outputs": [],
   "source": [
    "library(ggplot2)"
   ]
  },
  {
   "cell_type": "code",
   "execution_count": 5,
   "metadata": {},
   "outputs": [
    {
     "name": "stderr",
     "output_type": "stream",
     "text": [
      "Registered S3 method overwritten by 'cli':\n",
      "  method     from\n",
      "  print.tree tree\n",
      "\n",
      "── \u001b[1mAttaching packages\u001b[22m ─────────────────────────────────────── tidyverse 1.3.1 ──\n",
      "\n",
      "\u001b[32m✔\u001b[39m \u001b[34mtibble \u001b[39m 3.1.1     \u001b[32m✔\u001b[39m \u001b[34mdplyr  \u001b[39m 1.0.6\n",
      "\u001b[32m✔\u001b[39m \u001b[34mtidyr  \u001b[39m 1.1.3     \u001b[32m✔\u001b[39m \u001b[34mstringr\u001b[39m 1.4.0\n",
      "\u001b[32m✔\u001b[39m \u001b[34mreadr  \u001b[39m 1.4.0     \u001b[32m✔\u001b[39m \u001b[34mforcats\u001b[39m 0.5.1\n",
      "\u001b[32m✔\u001b[39m \u001b[34mpurrr  \u001b[39m 0.3.4     \n",
      "\n",
      "── \u001b[1mConflicts\u001b[22m ────────────────────────────────────────── tidyverse_conflicts() ──\n",
      "\u001b[31m✖\u001b[39m \u001b[34mtidyr\u001b[39m::\u001b[32mextract()\u001b[39m masks \u001b[34mpastecs\u001b[39m::extract()\n",
      "\u001b[31m✖\u001b[39m \u001b[34mdplyr\u001b[39m::\u001b[32mfilter()\u001b[39m  masks \u001b[34mstats\u001b[39m::filter()\n",
      "\u001b[31m✖\u001b[39m \u001b[34mdplyr\u001b[39m::\u001b[32mfirst()\u001b[39m   masks \u001b[34mpastecs\u001b[39m::first()\n",
      "\u001b[31m✖\u001b[39m \u001b[34mdplyr\u001b[39m::\u001b[32mlag()\u001b[39m     masks \u001b[34mstats\u001b[39m::lag()\n",
      "\u001b[31m✖\u001b[39m \u001b[34mdplyr\u001b[39m::\u001b[32mlast()\u001b[39m    masks \u001b[34mpastecs\u001b[39m::last()\n",
      "\n"
     ]
    }
   ],
   "source": [
    "library(tidyverse)"
   ]
  },
  {
   "cell_type": "code",
   "execution_count": 6,
   "metadata": {},
   "outputs": [
    {
     "name": "stderr",
     "output_type": "stream",
     "text": [
      "\n",
      "Attaching package: ‘data.table’\n",
      "\n",
      "\n",
      "The following objects are masked from ‘package:dplyr’:\n",
      "\n",
      "    between, first, last\n",
      "\n",
      "\n",
      "The following object is masked from ‘package:purrr’:\n",
      "\n",
      "    transpose\n",
      "\n",
      "\n",
      "The following objects are masked from ‘package:pastecs’:\n",
      "\n",
      "    first, last\n",
      "\n",
      "\n"
     ]
    }
   ],
   "source": [
    "library(data.table)"
   ]
  },
  {
   "cell_type": "code",
   "execution_count": 7,
   "metadata": {},
   "outputs": [
    {
     "name": "stderr",
     "output_type": "stream",
     "text": [
      "\n",
      "Attaching package: ‘gridExtra’\n",
      "\n",
      "\n",
      "The following object is masked from ‘package:dplyr’:\n",
      "\n",
      "    combine\n",
      "\n",
      "\n"
     ]
    }
   ],
   "source": [
    "library(gridExtra)"
   ]
  },
  {
   "cell_type": "code",
   "execution_count": 8,
   "metadata": {},
   "outputs": [
    {
     "name": "stderr",
     "output_type": "stream",
     "text": [
      "Registered S3 method overwritten by 'GGally':\n",
      "  method from   \n",
      "  +.gg   ggplot2\n",
      "\n"
     ]
    }
   ],
   "source": [
    "library(GGally)"
   ]
  },
  {
   "cell_type": "code",
   "execution_count": 9,
   "metadata": {},
   "outputs": [],
   "source": [
    "# load your data, display with head(), str(), etc.; show the carpentry, etc\n",
    "data = read.csv(\"heart_failure_clinical_records_dataset.csv\",sep=',',header=TRUE)"
   ]
  },
  {
   "cell_type": "code",
   "execution_count": 10,
   "metadata": {},
   "outputs": [
    {
     "data": {
      "text/html": [
       "<table class=\"dataframe\">\n",
       "<caption>A data.frame: 6 × 13</caption>\n",
       "<thead>\n",
       "\t<tr><th></th><th scope=col>age</th><th scope=col>anaemia</th><th scope=col>creatinine_phosphokinase</th><th scope=col>diabetes</th><th scope=col>ejection_fraction</th><th scope=col>high_blood_pressure</th><th scope=col>platelets</th><th scope=col>serum_creatinine</th><th scope=col>serum_sodium</th><th scope=col>sex</th><th scope=col>smoking</th><th scope=col>time</th><th scope=col>DEATH_EVENT</th></tr>\n",
       "\t<tr><th></th><th scope=col>&lt;dbl&gt;</th><th scope=col>&lt;int&gt;</th><th scope=col>&lt;int&gt;</th><th scope=col>&lt;int&gt;</th><th scope=col>&lt;int&gt;</th><th scope=col>&lt;int&gt;</th><th scope=col>&lt;dbl&gt;</th><th scope=col>&lt;dbl&gt;</th><th scope=col>&lt;int&gt;</th><th scope=col>&lt;int&gt;</th><th scope=col>&lt;int&gt;</th><th scope=col>&lt;int&gt;</th><th scope=col>&lt;int&gt;</th></tr>\n",
       "</thead>\n",
       "<tbody>\n",
       "\t<tr><th scope=row>1</th><td>75</td><td>0</td><td> 582</td><td>0</td><td>20</td><td>1</td><td>265000</td><td>1.9</td><td>130</td><td>1</td><td>0</td><td>4</td><td>1</td></tr>\n",
       "\t<tr><th scope=row>2</th><td>55</td><td>0</td><td>7861</td><td>0</td><td>38</td><td>0</td><td>263358</td><td>1.1</td><td>136</td><td>1</td><td>0</td><td>6</td><td>1</td></tr>\n",
       "\t<tr><th scope=row>3</th><td>65</td><td>0</td><td> 146</td><td>0</td><td>20</td><td>0</td><td>162000</td><td>1.3</td><td>129</td><td>1</td><td>1</td><td>7</td><td>1</td></tr>\n",
       "\t<tr><th scope=row>4</th><td>50</td><td>1</td><td> 111</td><td>0</td><td>20</td><td>0</td><td>210000</td><td>1.9</td><td>137</td><td>1</td><td>0</td><td>7</td><td>1</td></tr>\n",
       "\t<tr><th scope=row>5</th><td>65</td><td>1</td><td> 160</td><td>1</td><td>20</td><td>0</td><td>327000</td><td>2.7</td><td>116</td><td>0</td><td>0</td><td>8</td><td>1</td></tr>\n",
       "\t<tr><th scope=row>6</th><td>90</td><td>1</td><td>  47</td><td>0</td><td>40</td><td>1</td><td>204000</td><td>2.1</td><td>132</td><td>1</td><td>1</td><td>8</td><td>1</td></tr>\n",
       "</tbody>\n",
       "</table>\n"
      ],
      "text/latex": [
       "A data.frame: 6 × 13\n",
       "\\begin{tabular}{r|lllllllllllll}\n",
       "  & age & anaemia & creatinine\\_phosphokinase & diabetes & ejection\\_fraction & high\\_blood\\_pressure & platelets & serum\\_creatinine & serum\\_sodium & sex & smoking & time & DEATH\\_EVENT\\\\\n",
       "  & <dbl> & <int> & <int> & <int> & <int> & <int> & <dbl> & <dbl> & <int> & <int> & <int> & <int> & <int>\\\\\n",
       "\\hline\n",
       "\t1 & 75 & 0 &  582 & 0 & 20 & 1 & 265000 & 1.9 & 130 & 1 & 0 & 4 & 1\\\\\n",
       "\t2 & 55 & 0 & 7861 & 0 & 38 & 0 & 263358 & 1.1 & 136 & 1 & 0 & 6 & 1\\\\\n",
       "\t3 & 65 & 0 &  146 & 0 & 20 & 0 & 162000 & 1.3 & 129 & 1 & 1 & 7 & 1\\\\\n",
       "\t4 & 50 & 1 &  111 & 0 & 20 & 0 & 210000 & 1.9 & 137 & 1 & 0 & 7 & 1\\\\\n",
       "\t5 & 65 & 1 &  160 & 1 & 20 & 0 & 327000 & 2.7 & 116 & 0 & 0 & 8 & 1\\\\\n",
       "\t6 & 90 & 1 &   47 & 0 & 40 & 1 & 204000 & 2.1 & 132 & 1 & 1 & 8 & 1\\\\\n",
       "\\end{tabular}\n"
      ],
      "text/markdown": [
       "\n",
       "A data.frame: 6 × 13\n",
       "\n",
       "| <!--/--> | age &lt;dbl&gt; | anaemia &lt;int&gt; | creatinine_phosphokinase &lt;int&gt; | diabetes &lt;int&gt; | ejection_fraction &lt;int&gt; | high_blood_pressure &lt;int&gt; | platelets &lt;dbl&gt; | serum_creatinine &lt;dbl&gt; | serum_sodium &lt;int&gt; | sex &lt;int&gt; | smoking &lt;int&gt; | time &lt;int&gt; | DEATH_EVENT &lt;int&gt; |\n",
       "|---|---|---|---|---|---|---|---|---|---|---|---|---|---|\n",
       "| 1 | 75 | 0 |  582 | 0 | 20 | 1 | 265000 | 1.9 | 130 | 1 | 0 | 4 | 1 |\n",
       "| 2 | 55 | 0 | 7861 | 0 | 38 | 0 | 263358 | 1.1 | 136 | 1 | 0 | 6 | 1 |\n",
       "| 3 | 65 | 0 |  146 | 0 | 20 | 0 | 162000 | 1.3 | 129 | 1 | 1 | 7 | 1 |\n",
       "| 4 | 50 | 1 |  111 | 0 | 20 | 0 | 210000 | 1.9 | 137 | 1 | 0 | 7 | 1 |\n",
       "| 5 | 65 | 1 |  160 | 1 | 20 | 0 | 327000 | 2.7 | 116 | 0 | 0 | 8 | 1 |\n",
       "| 6 | 90 | 1 |   47 | 0 | 40 | 1 | 204000 | 2.1 | 132 | 1 | 1 | 8 | 1 |\n",
       "\n"
      ],
      "text/plain": [
       "  age anaemia creatinine_phosphokinase diabetes ejection_fraction\n",
       "1 75  0        582                     0        20               \n",
       "2 55  0       7861                     0        38               \n",
       "3 65  0        146                     0        20               \n",
       "4 50  1        111                     0        20               \n",
       "5 65  1        160                     1        20               \n",
       "6 90  1         47                     0        40               \n",
       "  high_blood_pressure platelets serum_creatinine serum_sodium sex smoking time\n",
       "1 1                   265000    1.9              130          1   0       4   \n",
       "2 0                   263358    1.1              136          1   0       6   \n",
       "3 0                   162000    1.3              129          1   1       7   \n",
       "4 0                   210000    1.9              137          1   0       7   \n",
       "5 0                   327000    2.7              116          0   0       8   \n",
       "6 1                   204000    2.1              132          1   1       8   \n",
       "  DEATH_EVENT\n",
       "1 1          \n",
       "2 1          \n",
       "3 1          \n",
       "4 1          \n",
       "5 1          \n",
       "6 1          "
      ]
     },
     "metadata": {},
     "output_type": "display_data"
    },
    {
     "data": {
      "text/html": [
       "<table class=\"dataframe\">\n",
       "<caption>A data.frame: 6 × 13</caption>\n",
       "<thead>\n",
       "\t<tr><th></th><th scope=col>age</th><th scope=col>anaemia</th><th scope=col>creatinine_phosphokinase</th><th scope=col>diabetes</th><th scope=col>ejection_fraction</th><th scope=col>high_blood_pressure</th><th scope=col>platelets</th><th scope=col>serum_creatinine</th><th scope=col>serum_sodium</th><th scope=col>sex</th><th scope=col>smoking</th><th scope=col>time</th><th scope=col>DEATH_EVENT</th></tr>\n",
       "\t<tr><th></th><th scope=col>&lt;dbl&gt;</th><th scope=col>&lt;int&gt;</th><th scope=col>&lt;int&gt;</th><th scope=col>&lt;int&gt;</th><th scope=col>&lt;int&gt;</th><th scope=col>&lt;int&gt;</th><th scope=col>&lt;dbl&gt;</th><th scope=col>&lt;dbl&gt;</th><th scope=col>&lt;int&gt;</th><th scope=col>&lt;int&gt;</th><th scope=col>&lt;int&gt;</th><th scope=col>&lt;int&gt;</th><th scope=col>&lt;int&gt;</th></tr>\n",
       "</thead>\n",
       "<tbody>\n",
       "\t<tr><th scope=row>294</th><td>63</td><td>1</td><td> 103</td><td>1</td><td>35</td><td>0</td><td>179000</td><td>0.9</td><td>136</td><td>1</td><td>1</td><td>270</td><td>0</td></tr>\n",
       "\t<tr><th scope=row>295</th><td>62</td><td>0</td><td>  61</td><td>1</td><td>38</td><td>1</td><td>155000</td><td>1.1</td><td>143</td><td>1</td><td>1</td><td>270</td><td>0</td></tr>\n",
       "\t<tr><th scope=row>296</th><td>55</td><td>0</td><td>1820</td><td>0</td><td>38</td><td>0</td><td>270000</td><td>1.2</td><td>139</td><td>0</td><td>0</td><td>271</td><td>0</td></tr>\n",
       "\t<tr><th scope=row>297</th><td>45</td><td>0</td><td>2060</td><td>1</td><td>60</td><td>0</td><td>742000</td><td>0.8</td><td>138</td><td>0</td><td>0</td><td>278</td><td>0</td></tr>\n",
       "\t<tr><th scope=row>298</th><td>45</td><td>0</td><td>2413</td><td>0</td><td>38</td><td>0</td><td>140000</td><td>1.4</td><td>140</td><td>1</td><td>1</td><td>280</td><td>0</td></tr>\n",
       "\t<tr><th scope=row>299</th><td>50</td><td>0</td><td> 196</td><td>0</td><td>45</td><td>0</td><td>395000</td><td>1.6</td><td>136</td><td>1</td><td>1</td><td>285</td><td>0</td></tr>\n",
       "</tbody>\n",
       "</table>\n"
      ],
      "text/latex": [
       "A data.frame: 6 × 13\n",
       "\\begin{tabular}{r|lllllllllllll}\n",
       "  & age & anaemia & creatinine\\_phosphokinase & diabetes & ejection\\_fraction & high\\_blood\\_pressure & platelets & serum\\_creatinine & serum\\_sodium & sex & smoking & time & DEATH\\_EVENT\\\\\n",
       "  & <dbl> & <int> & <int> & <int> & <int> & <int> & <dbl> & <dbl> & <int> & <int> & <int> & <int> & <int>\\\\\n",
       "\\hline\n",
       "\t294 & 63 & 1 &  103 & 1 & 35 & 0 & 179000 & 0.9 & 136 & 1 & 1 & 270 & 0\\\\\n",
       "\t295 & 62 & 0 &   61 & 1 & 38 & 1 & 155000 & 1.1 & 143 & 1 & 1 & 270 & 0\\\\\n",
       "\t296 & 55 & 0 & 1820 & 0 & 38 & 0 & 270000 & 1.2 & 139 & 0 & 0 & 271 & 0\\\\\n",
       "\t297 & 45 & 0 & 2060 & 1 & 60 & 0 & 742000 & 0.8 & 138 & 0 & 0 & 278 & 0\\\\\n",
       "\t298 & 45 & 0 & 2413 & 0 & 38 & 0 & 140000 & 1.4 & 140 & 1 & 1 & 280 & 0\\\\\n",
       "\t299 & 50 & 0 &  196 & 0 & 45 & 0 & 395000 & 1.6 & 136 & 1 & 1 & 285 & 0\\\\\n",
       "\\end{tabular}\n"
      ],
      "text/markdown": [
       "\n",
       "A data.frame: 6 × 13\n",
       "\n",
       "| <!--/--> | age &lt;dbl&gt; | anaemia &lt;int&gt; | creatinine_phosphokinase &lt;int&gt; | diabetes &lt;int&gt; | ejection_fraction &lt;int&gt; | high_blood_pressure &lt;int&gt; | platelets &lt;dbl&gt; | serum_creatinine &lt;dbl&gt; | serum_sodium &lt;int&gt; | sex &lt;int&gt; | smoking &lt;int&gt; | time &lt;int&gt; | DEATH_EVENT &lt;int&gt; |\n",
       "|---|---|---|---|---|---|---|---|---|---|---|---|---|---|\n",
       "| 294 | 63 | 1 |  103 | 1 | 35 | 0 | 179000 | 0.9 | 136 | 1 | 1 | 270 | 0 |\n",
       "| 295 | 62 | 0 |   61 | 1 | 38 | 1 | 155000 | 1.1 | 143 | 1 | 1 | 270 | 0 |\n",
       "| 296 | 55 | 0 | 1820 | 0 | 38 | 0 | 270000 | 1.2 | 139 | 0 | 0 | 271 | 0 |\n",
       "| 297 | 45 | 0 | 2060 | 1 | 60 | 0 | 742000 | 0.8 | 138 | 0 | 0 | 278 | 0 |\n",
       "| 298 | 45 | 0 | 2413 | 0 | 38 | 0 | 140000 | 1.4 | 140 | 1 | 1 | 280 | 0 |\n",
       "| 299 | 50 | 0 |  196 | 0 | 45 | 0 | 395000 | 1.6 | 136 | 1 | 1 | 285 | 0 |\n",
       "\n"
      ],
      "text/plain": [
       "    age anaemia creatinine_phosphokinase diabetes ejection_fraction\n",
       "294 63  1        103                     1        35               \n",
       "295 62  0         61                     1        38               \n",
       "296 55  0       1820                     0        38               \n",
       "297 45  0       2060                     1        60               \n",
       "298 45  0       2413                     0        38               \n",
       "299 50  0        196                     0        45               \n",
       "    high_blood_pressure platelets serum_creatinine serum_sodium sex smoking\n",
       "294 0                   179000    0.9              136          1   1      \n",
       "295 1                   155000    1.1              143          1   1      \n",
       "296 0                   270000    1.2              139          0   0      \n",
       "297 0                   742000    0.8              138          0   0      \n",
       "298 0                   140000    1.4              140          1   1      \n",
       "299 0                   395000    1.6              136          1   1      \n",
       "    time DEATH_EVENT\n",
       "294 270  0          \n",
       "295 270  0          \n",
       "296 271  0          \n",
       "297 278  0          \n",
       "298 280  0          \n",
       "299 285  0          "
      ]
     },
     "metadata": {},
     "output_type": "display_data"
    }
   ],
   "source": [
    "head(data)\n",
    "tail(data)"
   ]
  },
  {
   "cell_type": "code",
   "execution_count": 11,
   "metadata": {},
   "outputs": [
    {
     "name": "stdout",
     "output_type": "stream",
     "text": [
      "'data.frame':\t299 obs. of  13 variables:\n",
      " $ age                     : num  75 55 65 50 65 90 75 60 65 80 ...\n",
      " $ anaemia                 : int  0 0 0 1 1 1 1 1 0 1 ...\n",
      " $ creatinine_phosphokinase: int  582 7861 146 111 160 47 246 315 157 123 ...\n",
      " $ diabetes                : int  0 0 0 0 1 0 0 1 0 0 ...\n",
      " $ ejection_fraction       : int  20 38 20 20 20 40 15 60 65 35 ...\n",
      " $ high_blood_pressure     : int  1 0 0 0 0 1 0 0 0 1 ...\n",
      " $ platelets               : num  265000 263358 162000 210000 327000 ...\n",
      " $ serum_creatinine        : num  1.9 1.1 1.3 1.9 2.7 2.1 1.2 1.1 1.5 9.4 ...\n",
      " $ serum_sodium            : int  130 136 129 137 116 132 137 131 138 133 ...\n",
      " $ sex                     : int  1 1 1 1 0 1 1 1 0 1 ...\n",
      " $ smoking                 : int  0 0 1 0 0 1 0 1 0 1 ...\n",
      " $ time                    : int  4 6 7 7 8 8 10 10 10 10 ...\n",
      " $ DEATH_EVENT             : int  1 1 1 1 1 1 1 1 1 1 ...\n"
     ]
    }
   ],
   "source": [
    "str(data)"
   ]
  },
  {
   "cell_type": "code",
   "execution_count": 12,
   "metadata": {},
   "outputs": [
    {
     "data": {
      "text/plain": [
       "      age           anaemia       creatinine_phosphokinase    diabetes     \n",
       " Min.   :40.00   Min.   :0.0000   Min.   :  23.0           Min.   :0.0000  \n",
       " 1st Qu.:51.00   1st Qu.:0.0000   1st Qu.: 116.5           1st Qu.:0.0000  \n",
       " Median :60.00   Median :0.0000   Median : 250.0           Median :0.0000  \n",
       " Mean   :60.83   Mean   :0.4314   Mean   : 581.8           Mean   :0.4181  \n",
       " 3rd Qu.:70.00   3rd Qu.:1.0000   3rd Qu.: 582.0           3rd Qu.:1.0000  \n",
       " Max.   :95.00   Max.   :1.0000   Max.   :7861.0           Max.   :1.0000  \n",
       " ejection_fraction high_blood_pressure   platelets      serum_creatinine\n",
       " Min.   :14.00     Min.   :0.0000      Min.   : 25100   Min.   :0.500   \n",
       " 1st Qu.:30.00     1st Qu.:0.0000      1st Qu.:212500   1st Qu.:0.900   \n",
       " Median :38.00     Median :0.0000      Median :262000   Median :1.100   \n",
       " Mean   :38.08     Mean   :0.3512      Mean   :263358   Mean   :1.394   \n",
       " 3rd Qu.:45.00     3rd Qu.:1.0000      3rd Qu.:303500   3rd Qu.:1.400   \n",
       " Max.   :80.00     Max.   :1.0000      Max.   :850000   Max.   :9.400   \n",
       "  serum_sodium        sex            smoking            time      \n",
       " Min.   :113.0   Min.   :0.0000   Min.   :0.0000   Min.   :  4.0  \n",
       " 1st Qu.:134.0   1st Qu.:0.0000   1st Qu.:0.0000   1st Qu.: 73.0  \n",
       " Median :137.0   Median :1.0000   Median :0.0000   Median :115.0  \n",
       " Mean   :136.6   Mean   :0.6488   Mean   :0.3211   Mean   :130.3  \n",
       " 3rd Qu.:140.0   3rd Qu.:1.0000   3rd Qu.:1.0000   3rd Qu.:203.0  \n",
       " Max.   :148.0   Max.   :1.0000   Max.   :1.0000   Max.   :285.0  \n",
       "  DEATH_EVENT    \n",
       " Min.   :0.0000  \n",
       " 1st Qu.:0.0000  \n",
       " Median :0.0000  \n",
       " Mean   :0.3211  \n",
       " 3rd Qu.:1.0000  \n",
       " Max.   :1.0000  "
      ]
     },
     "metadata": {},
     "output_type": "display_data"
    }
   ],
   "source": [
    "summary(data)"
   ]
  },
  {
   "cell_type": "code",
   "execution_count": 13,
   "metadata": {},
   "outputs": [
    {
     "data": {
      "text/html": [
       "<table class=\"dataframe\">\n",
       "<caption>A data.frame: 14 × 13</caption>\n",
       "<thead>\n",
       "\t<tr><th></th><th scope=col>age</th><th scope=col>anaemia</th><th scope=col>creatinine_phosphokinase</th><th scope=col>diabetes</th><th scope=col>ejection_fraction</th><th scope=col>high_blood_pressure</th><th scope=col>platelets</th><th scope=col>serum_creatinine</th><th scope=col>serum_sodium</th><th scope=col>sex</th><th scope=col>smoking</th><th scope=col>time</th><th scope=col>DEATH_EVENT</th></tr>\n",
       "\t<tr><th></th><th scope=col>&lt;dbl&gt;</th><th scope=col>&lt;dbl&gt;</th><th scope=col>&lt;dbl&gt;</th><th scope=col>&lt;dbl&gt;</th><th scope=col>&lt;dbl&gt;</th><th scope=col>&lt;dbl&gt;</th><th scope=col>&lt;dbl&gt;</th><th scope=col>&lt;dbl&gt;</th><th scope=col>&lt;dbl&gt;</th><th scope=col>&lt;dbl&gt;</th><th scope=col>&lt;dbl&gt;</th><th scope=col>&lt;dbl&gt;</th><th scope=col>&lt;dbl&gt;</th></tr>\n",
       "</thead>\n",
       "<tbody>\n",
       "\t<tr><th scope=row>nbr.val</th><td>2.990000e+02</td><td>299.00000000</td><td>2.990000e+02</td><td>299.00000000</td><td>2.990000e+02</td><td>299.00000000</td><td>2.990000e+02</td><td>299.00000000</td><td>2.990000e+02</td><td>299.00000000</td><td>299.00000000</td><td>2.990000e+02</td><td>299.00000000</td></tr>\n",
       "\t<tr><th scope=row>nbr.null</th><td>0.000000e+00</td><td>170.00000000</td><td>0.000000e+00</td><td>174.00000000</td><td>0.000000e+00</td><td>194.00000000</td><td>0.000000e+00</td><td>  0.00000000</td><td>0.000000e+00</td><td>105.00000000</td><td>203.00000000</td><td>0.000000e+00</td><td>203.00000000</td></tr>\n",
       "\t<tr><th scope=row>nbr.na</th><td>0.000000e+00</td><td>  0.00000000</td><td>0.000000e+00</td><td>  0.00000000</td><td>0.000000e+00</td><td>  0.00000000</td><td>0.000000e+00</td><td>  0.00000000</td><td>0.000000e+00</td><td>  0.00000000</td><td>  0.00000000</td><td>0.000000e+00</td><td>  0.00000000</td></tr>\n",
       "\t<tr><th scope=row>min</th><td>4.000000e+01</td><td>  0.00000000</td><td>2.300000e+01</td><td>  0.00000000</td><td>1.400000e+01</td><td>  0.00000000</td><td>2.510000e+04</td><td>  0.50000000</td><td>1.130000e+02</td><td>  0.00000000</td><td>  0.00000000</td><td>4.000000e+00</td><td>  0.00000000</td></tr>\n",
       "\t<tr><th scope=row>max</th><td>9.500000e+01</td><td>  1.00000000</td><td>7.861000e+03</td><td>  1.00000000</td><td>8.000000e+01</td><td>  1.00000000</td><td>8.500000e+05</td><td>  9.40000000</td><td>1.480000e+02</td><td>  1.00000000</td><td>  1.00000000</td><td>2.850000e+02</td><td>  1.00000000</td></tr>\n",
       "\t<tr><th scope=row>range</th><td>5.500000e+01</td><td>  1.00000000</td><td>7.838000e+03</td><td>  1.00000000</td><td>6.600000e+01</td><td>  1.00000000</td><td>8.249000e+05</td><td>  8.90000000</td><td>3.500000e+01</td><td>  1.00000000</td><td>  1.00000000</td><td>2.810000e+02</td><td>  1.00000000</td></tr>\n",
       "\t<tr><th scope=row>sum</th><td>1.818933e+04</td><td>129.00000000</td><td>1.739700e+05</td><td>125.00000000</td><td>1.138700e+04</td><td>105.00000000</td><td>7.874405e+07</td><td>416.77000000</td><td>4.085100e+04</td><td>194.00000000</td><td> 96.00000000</td><td>3.894800e+04</td><td> 96.00000000</td></tr>\n",
       "\t<tr><th scope=row>median</th><td>6.000000e+01</td><td>  0.00000000</td><td>2.500000e+02</td><td>  0.00000000</td><td>3.800000e+01</td><td>  0.00000000</td><td>2.620000e+05</td><td>  1.10000000</td><td>1.370000e+02</td><td>  1.00000000</td><td>  0.00000000</td><td>1.150000e+02</td><td>  0.00000000</td></tr>\n",
       "\t<tr><th scope=row>mean</th><td>6.083389e+01</td><td>  0.43143813</td><td>5.818395e+02</td><td>  0.41806020</td><td>3.808361e+01</td><td>  0.35117057</td><td>2.633580e+05</td><td>  1.39387960</td><td>1.366254e+02</td><td>  0.64882943</td><td>  0.32107023</td><td>1.302609e+02</td><td>  0.32107023</td></tr>\n",
       "\t<tr><th scope=row>SE.mean</th><td>6.878946e-01</td><td>  0.02869062</td><td>5.611320e+01</td><td>  0.02857264</td><td>6.844265e-01</td><td>  0.02765134</td><td>5.656165e+03</td><td>  0.05982726</td><td>2.551802e-01</td><td>  0.02765134</td><td>  0.02704608</td><td>4.488546e+00</td><td>  0.02704608</td></tr>\n",
       "\t<tr><th scope=row>CI.mean.0.95</th><td>1.353747e+00</td><td>  0.05646190</td><td>1.104283e+02</td><td>  0.05622971</td><td>1.346922e+00</td><td>  0.05441664</td><td>1.113109e+04</td><td>  0.11773745</td><td>5.021834e-01</td><td>  0.05441664</td><td>  0.05322551</td><td>8.833262e+00</td><td>  0.05322551</td></tr>\n",
       "\t<tr><th scope=row>var</th><td>1.414865e+02</td><td>  0.24612242</td><td>9.414586e+05</td><td>  0.24410226</td><td>1.400635e+02</td><td>  0.22861440</td><td>9.565669e+09</td><td>  1.07021107</td><td>1.946996e+01</td><td>  0.22861440</td><td>  0.21871563</td><td>6.023965e+03</td><td>  0.21871563</td></tr>\n",
       "\t<tr><th scope=row>std.dev</th><td>1.189481e+01</td><td>  0.49610727</td><td>9.702879e+02</td><td>  0.49406707</td><td>1.183484e+01</td><td>  0.47813638</td><td>9.780424e+04</td><td>  1.03451006</td><td>4.412477e+00</td><td>  0.47813638</td><td>  0.46767043</td><td>7.761421e+01</td><td>  0.46767043</td></tr>\n",
       "\t<tr><th scope=row>coef.var</th><td>1.955293e-01</td><td>  1.14989204</td><td>1.667621e+00</td><td>  1.18180842</td><td>3.107594e-01</td><td>  1.36155026</td><td>3.713737e-01</td><td>  0.74218036</td><td>3.229617e-02</td><td>  0.73692153</td><td>  1.45659852</td><td>5.958367e-01</td><td>  1.45659852</td></tr>\n",
       "</tbody>\n",
       "</table>\n"
      ],
      "text/latex": [
       "A data.frame: 14 × 13\n",
       "\\begin{tabular}{r|lllllllllllll}\n",
       "  & age & anaemia & creatinine\\_phosphokinase & diabetes & ejection\\_fraction & high\\_blood\\_pressure & platelets & serum\\_creatinine & serum\\_sodium & sex & smoking & time & DEATH\\_EVENT\\\\\n",
       "  & <dbl> & <dbl> & <dbl> & <dbl> & <dbl> & <dbl> & <dbl> & <dbl> & <dbl> & <dbl> & <dbl> & <dbl> & <dbl>\\\\\n",
       "\\hline\n",
       "\tnbr.val & 2.990000e+02 & 299.00000000 & 2.990000e+02 & 299.00000000 & 2.990000e+02 & 299.00000000 & 2.990000e+02 & 299.00000000 & 2.990000e+02 & 299.00000000 & 299.00000000 & 2.990000e+02 & 299.00000000\\\\\n",
       "\tnbr.null & 0.000000e+00 & 170.00000000 & 0.000000e+00 & 174.00000000 & 0.000000e+00 & 194.00000000 & 0.000000e+00 &   0.00000000 & 0.000000e+00 & 105.00000000 & 203.00000000 & 0.000000e+00 & 203.00000000\\\\\n",
       "\tnbr.na & 0.000000e+00 &   0.00000000 & 0.000000e+00 &   0.00000000 & 0.000000e+00 &   0.00000000 & 0.000000e+00 &   0.00000000 & 0.000000e+00 &   0.00000000 &   0.00000000 & 0.000000e+00 &   0.00000000\\\\\n",
       "\tmin & 4.000000e+01 &   0.00000000 & 2.300000e+01 &   0.00000000 & 1.400000e+01 &   0.00000000 & 2.510000e+04 &   0.50000000 & 1.130000e+02 &   0.00000000 &   0.00000000 & 4.000000e+00 &   0.00000000\\\\\n",
       "\tmax & 9.500000e+01 &   1.00000000 & 7.861000e+03 &   1.00000000 & 8.000000e+01 &   1.00000000 & 8.500000e+05 &   9.40000000 & 1.480000e+02 &   1.00000000 &   1.00000000 & 2.850000e+02 &   1.00000000\\\\\n",
       "\trange & 5.500000e+01 &   1.00000000 & 7.838000e+03 &   1.00000000 & 6.600000e+01 &   1.00000000 & 8.249000e+05 &   8.90000000 & 3.500000e+01 &   1.00000000 &   1.00000000 & 2.810000e+02 &   1.00000000\\\\\n",
       "\tsum & 1.818933e+04 & 129.00000000 & 1.739700e+05 & 125.00000000 & 1.138700e+04 & 105.00000000 & 7.874405e+07 & 416.77000000 & 4.085100e+04 & 194.00000000 &  96.00000000 & 3.894800e+04 &  96.00000000\\\\\n",
       "\tmedian & 6.000000e+01 &   0.00000000 & 2.500000e+02 &   0.00000000 & 3.800000e+01 &   0.00000000 & 2.620000e+05 &   1.10000000 & 1.370000e+02 &   1.00000000 &   0.00000000 & 1.150000e+02 &   0.00000000\\\\\n",
       "\tmean & 6.083389e+01 &   0.43143813 & 5.818395e+02 &   0.41806020 & 3.808361e+01 &   0.35117057 & 2.633580e+05 &   1.39387960 & 1.366254e+02 &   0.64882943 &   0.32107023 & 1.302609e+02 &   0.32107023\\\\\n",
       "\tSE.mean & 6.878946e-01 &   0.02869062 & 5.611320e+01 &   0.02857264 & 6.844265e-01 &   0.02765134 & 5.656165e+03 &   0.05982726 & 2.551802e-01 &   0.02765134 &   0.02704608 & 4.488546e+00 &   0.02704608\\\\\n",
       "\tCI.mean.0.95 & 1.353747e+00 &   0.05646190 & 1.104283e+02 &   0.05622971 & 1.346922e+00 &   0.05441664 & 1.113109e+04 &   0.11773745 & 5.021834e-01 &   0.05441664 &   0.05322551 & 8.833262e+00 &   0.05322551\\\\\n",
       "\tvar & 1.414865e+02 &   0.24612242 & 9.414586e+05 &   0.24410226 & 1.400635e+02 &   0.22861440 & 9.565669e+09 &   1.07021107 & 1.946996e+01 &   0.22861440 &   0.21871563 & 6.023965e+03 &   0.21871563\\\\\n",
       "\tstd.dev & 1.189481e+01 &   0.49610727 & 9.702879e+02 &   0.49406707 & 1.183484e+01 &   0.47813638 & 9.780424e+04 &   1.03451006 & 4.412477e+00 &   0.47813638 &   0.46767043 & 7.761421e+01 &   0.46767043\\\\\n",
       "\tcoef.var & 1.955293e-01 &   1.14989204 & 1.667621e+00 &   1.18180842 & 3.107594e-01 &   1.36155026 & 3.713737e-01 &   0.74218036 & 3.229617e-02 &   0.73692153 &   1.45659852 & 5.958367e-01 &   1.45659852\\\\\n",
       "\\end{tabular}\n"
      ],
      "text/markdown": [
       "\n",
       "A data.frame: 14 × 13\n",
       "\n",
       "| <!--/--> | age &lt;dbl&gt; | anaemia &lt;dbl&gt; | creatinine_phosphokinase &lt;dbl&gt; | diabetes &lt;dbl&gt; | ejection_fraction &lt;dbl&gt; | high_blood_pressure &lt;dbl&gt; | platelets &lt;dbl&gt; | serum_creatinine &lt;dbl&gt; | serum_sodium &lt;dbl&gt; | sex &lt;dbl&gt; | smoking &lt;dbl&gt; | time &lt;dbl&gt; | DEATH_EVENT &lt;dbl&gt; |\n",
       "|---|---|---|---|---|---|---|---|---|---|---|---|---|---|\n",
       "| nbr.val | 2.990000e+02 | 299.00000000 | 2.990000e+02 | 299.00000000 | 2.990000e+02 | 299.00000000 | 2.990000e+02 | 299.00000000 | 2.990000e+02 | 299.00000000 | 299.00000000 | 2.990000e+02 | 299.00000000 |\n",
       "| nbr.null | 0.000000e+00 | 170.00000000 | 0.000000e+00 | 174.00000000 | 0.000000e+00 | 194.00000000 | 0.000000e+00 |   0.00000000 | 0.000000e+00 | 105.00000000 | 203.00000000 | 0.000000e+00 | 203.00000000 |\n",
       "| nbr.na | 0.000000e+00 |   0.00000000 | 0.000000e+00 |   0.00000000 | 0.000000e+00 |   0.00000000 | 0.000000e+00 |   0.00000000 | 0.000000e+00 |   0.00000000 |   0.00000000 | 0.000000e+00 |   0.00000000 |\n",
       "| min | 4.000000e+01 |   0.00000000 | 2.300000e+01 |   0.00000000 | 1.400000e+01 |   0.00000000 | 2.510000e+04 |   0.50000000 | 1.130000e+02 |   0.00000000 |   0.00000000 | 4.000000e+00 |   0.00000000 |\n",
       "| max | 9.500000e+01 |   1.00000000 | 7.861000e+03 |   1.00000000 | 8.000000e+01 |   1.00000000 | 8.500000e+05 |   9.40000000 | 1.480000e+02 |   1.00000000 |   1.00000000 | 2.850000e+02 |   1.00000000 |\n",
       "| range | 5.500000e+01 |   1.00000000 | 7.838000e+03 |   1.00000000 | 6.600000e+01 |   1.00000000 | 8.249000e+05 |   8.90000000 | 3.500000e+01 |   1.00000000 |   1.00000000 | 2.810000e+02 |   1.00000000 |\n",
       "| sum | 1.818933e+04 | 129.00000000 | 1.739700e+05 | 125.00000000 | 1.138700e+04 | 105.00000000 | 7.874405e+07 | 416.77000000 | 4.085100e+04 | 194.00000000 |  96.00000000 | 3.894800e+04 |  96.00000000 |\n",
       "| median | 6.000000e+01 |   0.00000000 | 2.500000e+02 |   0.00000000 | 3.800000e+01 |   0.00000000 | 2.620000e+05 |   1.10000000 | 1.370000e+02 |   1.00000000 |   0.00000000 | 1.150000e+02 |   0.00000000 |\n",
       "| mean | 6.083389e+01 |   0.43143813 | 5.818395e+02 |   0.41806020 | 3.808361e+01 |   0.35117057 | 2.633580e+05 |   1.39387960 | 1.366254e+02 |   0.64882943 |   0.32107023 | 1.302609e+02 |   0.32107023 |\n",
       "| SE.mean | 6.878946e-01 |   0.02869062 | 5.611320e+01 |   0.02857264 | 6.844265e-01 |   0.02765134 | 5.656165e+03 |   0.05982726 | 2.551802e-01 |   0.02765134 |   0.02704608 | 4.488546e+00 |   0.02704608 |\n",
       "| CI.mean.0.95 | 1.353747e+00 |   0.05646190 | 1.104283e+02 |   0.05622971 | 1.346922e+00 |   0.05441664 | 1.113109e+04 |   0.11773745 | 5.021834e-01 |   0.05441664 |   0.05322551 | 8.833262e+00 |   0.05322551 |\n",
       "| var | 1.414865e+02 |   0.24612242 | 9.414586e+05 |   0.24410226 | 1.400635e+02 |   0.22861440 | 9.565669e+09 |   1.07021107 | 1.946996e+01 |   0.22861440 |   0.21871563 | 6.023965e+03 |   0.21871563 |\n",
       "| std.dev | 1.189481e+01 |   0.49610727 | 9.702879e+02 |   0.49406707 | 1.183484e+01 |   0.47813638 | 9.780424e+04 |   1.03451006 | 4.412477e+00 |   0.47813638 |   0.46767043 | 7.761421e+01 |   0.46767043 |\n",
       "| coef.var | 1.955293e-01 |   1.14989204 | 1.667621e+00 |   1.18180842 | 3.107594e-01 |   1.36155026 | 3.713737e-01 |   0.74218036 | 3.229617e-02 |   0.73692153 |   1.45659852 | 5.958367e-01 |   1.45659852 |\n",
       "\n"
      ],
      "text/plain": [
       "             age          anaemia      creatinine_phosphokinase diabetes    \n",
       "nbr.val      2.990000e+02 299.00000000 2.990000e+02             299.00000000\n",
       "nbr.null     0.000000e+00 170.00000000 0.000000e+00             174.00000000\n",
       "nbr.na       0.000000e+00   0.00000000 0.000000e+00               0.00000000\n",
       "min          4.000000e+01   0.00000000 2.300000e+01               0.00000000\n",
       "max          9.500000e+01   1.00000000 7.861000e+03               1.00000000\n",
       "range        5.500000e+01   1.00000000 7.838000e+03               1.00000000\n",
       "sum          1.818933e+04 129.00000000 1.739700e+05             125.00000000\n",
       "median       6.000000e+01   0.00000000 2.500000e+02               0.00000000\n",
       "mean         6.083389e+01   0.43143813 5.818395e+02               0.41806020\n",
       "SE.mean      6.878946e-01   0.02869062 5.611320e+01               0.02857264\n",
       "CI.mean.0.95 1.353747e+00   0.05646190 1.104283e+02               0.05622971\n",
       "var          1.414865e+02   0.24612242 9.414586e+05               0.24410226\n",
       "std.dev      1.189481e+01   0.49610727 9.702879e+02               0.49406707\n",
       "coef.var     1.955293e-01   1.14989204 1.667621e+00               1.18180842\n",
       "             ejection_fraction high_blood_pressure platelets   \n",
       "nbr.val      2.990000e+02      299.00000000        2.990000e+02\n",
       "nbr.null     0.000000e+00      194.00000000        0.000000e+00\n",
       "nbr.na       0.000000e+00        0.00000000        0.000000e+00\n",
       "min          1.400000e+01        0.00000000        2.510000e+04\n",
       "max          8.000000e+01        1.00000000        8.500000e+05\n",
       "range        6.600000e+01        1.00000000        8.249000e+05\n",
       "sum          1.138700e+04      105.00000000        7.874405e+07\n",
       "median       3.800000e+01        0.00000000        2.620000e+05\n",
       "mean         3.808361e+01        0.35117057        2.633580e+05\n",
       "SE.mean      6.844265e-01        0.02765134        5.656165e+03\n",
       "CI.mean.0.95 1.346922e+00        0.05441664        1.113109e+04\n",
       "var          1.400635e+02        0.22861440        9.565669e+09\n",
       "std.dev      1.183484e+01        0.47813638        9.780424e+04\n",
       "coef.var     3.107594e-01        1.36155026        3.713737e-01\n",
       "             serum_creatinine serum_sodium sex          smoking     \n",
       "nbr.val      299.00000000     2.990000e+02 299.00000000 299.00000000\n",
       "nbr.null       0.00000000     0.000000e+00 105.00000000 203.00000000\n",
       "nbr.na         0.00000000     0.000000e+00   0.00000000   0.00000000\n",
       "min            0.50000000     1.130000e+02   0.00000000   0.00000000\n",
       "max            9.40000000     1.480000e+02   1.00000000   1.00000000\n",
       "range          8.90000000     3.500000e+01   1.00000000   1.00000000\n",
       "sum          416.77000000     4.085100e+04 194.00000000  96.00000000\n",
       "median         1.10000000     1.370000e+02   1.00000000   0.00000000\n",
       "mean           1.39387960     1.366254e+02   0.64882943   0.32107023\n",
       "SE.mean        0.05982726     2.551802e-01   0.02765134   0.02704608\n",
       "CI.mean.0.95   0.11773745     5.021834e-01   0.05441664   0.05322551\n",
       "var            1.07021107     1.946996e+01   0.22861440   0.21871563\n",
       "std.dev        1.03451006     4.412477e+00   0.47813638   0.46767043\n",
       "coef.var       0.74218036     3.229617e-02   0.73692153   1.45659852\n",
       "             time         DEATH_EVENT \n",
       "nbr.val      2.990000e+02 299.00000000\n",
       "nbr.null     0.000000e+00 203.00000000\n",
       "nbr.na       0.000000e+00   0.00000000\n",
       "min          4.000000e+00   0.00000000\n",
       "max          2.850000e+02   1.00000000\n",
       "range        2.810000e+02   1.00000000\n",
       "sum          3.894800e+04  96.00000000\n",
       "median       1.150000e+02   0.00000000\n",
       "mean         1.302609e+02   0.32107023\n",
       "SE.mean      4.488546e+00   0.02704608\n",
       "CI.mean.0.95 8.833262e+00   0.05322551\n",
       "var          6.023965e+03   0.21871563\n",
       "std.dev      7.761421e+01   0.46767043\n",
       "coef.var     5.958367e-01   1.45659852"
      ]
     },
     "metadata": {},
     "output_type": "display_data"
    }
   ],
   "source": [
    "stat.desc(data)"
   ]
  },
  {
   "cell_type": "markdown",
   "metadata": {},
   "source": [
    "# Data Carpentery"
   ]
  },
  {
   "cell_type": "code",
   "execution_count": 14,
   "metadata": {},
   "outputs": [
    {
     "data": {
      "text/html": [
       "0"
      ],
      "text/latex": [
       "0"
      ],
      "text/markdown": [
       "0"
      ],
      "text/plain": [
       "[1] 0"
      ]
     },
     "metadata": {},
     "output_type": "display_data"
    },
    {
     "data": {
      "text/html": [
       "<table class=\"dataframe\">\n",
       "<caption>A matrix: 13 × 1</caption>\n",
       "<tbody>\n",
       "\t<tr><th scope=row>age</th><td>0</td></tr>\n",
       "\t<tr><th scope=row>anaemia</th><td>0</td></tr>\n",
       "\t<tr><th scope=row>creatinine_phosphokinase</th><td>0</td></tr>\n",
       "\t<tr><th scope=row>diabetes</th><td>0</td></tr>\n",
       "\t<tr><th scope=row>ejection_fraction</th><td>0</td></tr>\n",
       "\t<tr><th scope=row>high_blood_pressure</th><td>0</td></tr>\n",
       "\t<tr><th scope=row>platelets</th><td>0</td></tr>\n",
       "\t<tr><th scope=row>serum_creatinine</th><td>0</td></tr>\n",
       "\t<tr><th scope=row>serum_sodium</th><td>0</td></tr>\n",
       "\t<tr><th scope=row>sex</th><td>0</td></tr>\n",
       "\t<tr><th scope=row>smoking</th><td>0</td></tr>\n",
       "\t<tr><th scope=row>time</th><td>0</td></tr>\n",
       "\t<tr><th scope=row>DEATH_EVENT</th><td>0</td></tr>\n",
       "</tbody>\n",
       "</table>\n"
      ],
      "text/latex": [
       "A matrix: 13 × 1\n",
       "\\begin{tabular}{r|l}\n",
       "\tage & 0\\\\\n",
       "\tanaemia & 0\\\\\n",
       "\tcreatinine\\_phosphokinase & 0\\\\\n",
       "\tdiabetes & 0\\\\\n",
       "\tejection\\_fraction & 0\\\\\n",
       "\thigh\\_blood\\_pressure & 0\\\\\n",
       "\tplatelets & 0\\\\\n",
       "\tserum\\_creatinine & 0\\\\\n",
       "\tserum\\_sodium & 0\\\\\n",
       "\tsex & 0\\\\\n",
       "\tsmoking & 0\\\\\n",
       "\ttime & 0\\\\\n",
       "\tDEATH\\_EVENT & 0\\\\\n",
       "\\end{tabular}\n"
      ],
      "text/markdown": [
       "\n",
       "A matrix: 13 × 1\n",
       "\n",
       "| age | 0 |\n",
       "| anaemia | 0 |\n",
       "| creatinine_phosphokinase | 0 |\n",
       "| diabetes | 0 |\n",
       "| ejection_fraction | 0 |\n",
       "| high_blood_pressure | 0 |\n",
       "| platelets | 0 |\n",
       "| serum_creatinine | 0 |\n",
       "| serum_sodium | 0 |\n",
       "| sex | 0 |\n",
       "| smoking | 0 |\n",
       "| time | 0 |\n",
       "| DEATH_EVENT | 0 |\n",
       "\n"
      ],
      "text/plain": [
       "                         [,1]\n",
       "age                      0   \n",
       "anaemia                  0   \n",
       "creatinine_phosphokinase 0   \n",
       "diabetes                 0   \n",
       "ejection_fraction        0   \n",
       "high_blood_pressure      0   \n",
       "platelets                0   \n",
       "serum_creatinine         0   \n",
       "serum_sodium             0   \n",
       "sex                      0   \n",
       "smoking                  0   \n",
       "time                     0   \n",
       "DEATH_EVENT              0   "
      ]
     },
     "metadata": {},
     "output_type": "display_data"
    }
   ],
   "source": [
    "#Checking missing data\n",
    "sum(is.na(data))\n",
    "cbind(\n",
    "   lapply(\n",
    "     lapply(data, is.na)\n",
    "     , sum)\n",
    "   )\n",
    "#As there are no missing values in the dataset, we don't need to do anything in that area."
   ]
  },
  {
   "cell_type": "code",
   "execution_count": 15,
   "metadata": {},
   "outputs": [
    {
     "data": {
      "text/plain": [
       "\n",
       "    40     41     42     43     44     45     46     47     48     49     50 \n",
       "     7      1      7      1      2     19      3      1      2      4     27 \n",
       "    51     52     53     54     55     56     57     58     59     60 60.667 \n",
       "     4      5     10      2     17      1      2     10      4     33      2 \n",
       "    61     62     63     64     65     66     67     68     69     70     72 \n",
       "     4      5      8      3     26      2      2      5      3     25      7 \n",
       "    73     75     77     78     79     80     81     82     85     86     87 \n",
       "     4     11      2      2      1      7      1      3      6      1      1 \n",
       "    90     94     95 \n",
       "     3      1      2 "
      ]
     },
     "metadata": {},
     "output_type": "display_data"
    }
   ],
   "source": [
    "table(data$age)"
   ]
  },
  {
   "cell_type": "markdown",
   "metadata": {},
   "source": [
    "None of the variables are highly correlated, except gender and smoking. "
   ]
  },
  {
   "cell_type": "code",
   "execution_count": 16,
   "metadata": {},
   "outputs": [
    {
     "data": {
      "text/html": [
       "<style>\n",
       ".list-inline {list-style: none; margin:0; padding: 0}\n",
       ".list-inline>li {display: inline-block}\n",
       ".list-inline>li:not(:last-child)::after {content: \"\\00b7\"; padding: 0 .5ex}\n",
       "</style>\n",
       "<ol class=list-inline><li>'40-44'</li><li>'45-49'</li><li>'50-54'</li><li>'55-59'</li><li>'60-64'</li><li>'65-69'</li><li>'70-74'</li><li>'75-79'</li><li>'80-84'</li><li>'85-89'</li><li>'90-94'</li><li>'95-99'</li><li>'100+'</li></ol>\n"
      ],
      "text/latex": [
       "\\begin{enumerate*}\n",
       "\\item '40-44'\n",
       "\\item '45-49'\n",
       "\\item '50-54'\n",
       "\\item '55-59'\n",
       "\\item '60-64'\n",
       "\\item '65-69'\n",
       "\\item '70-74'\n",
       "\\item '75-79'\n",
       "\\item '80-84'\n",
       "\\item '85-89'\n",
       "\\item '90-94'\n",
       "\\item '95-99'\n",
       "\\item '100+'\n",
       "\\end{enumerate*}\n"
      ],
      "text/markdown": [
       "1. '40-44'\n",
       "2. '45-49'\n",
       "3. '50-54'\n",
       "4. '55-59'\n",
       "5. '60-64'\n",
       "6. '65-69'\n",
       "7. '70-74'\n",
       "8. '75-79'\n",
       "9. '80-84'\n",
       "10. '85-89'\n",
       "11. '90-94'\n",
       "12. '95-99'\n",
       "13. '100+'\n",
       "\n",
       "\n"
      ],
      "text/plain": [
       " [1] \"40-44\" \"45-49\" \"50-54\" \"55-59\" \"60-64\" \"65-69\" \"70-74\" \"75-79\" \"80-84\"\n",
       "[10] \"85-89\" \"90-94\" \"95-99\" \"100+\" "
      ]
     },
     "metadata": {},
     "output_type": "display_data"
    },
    {
     "data": {
      "text/html": [
       "<table class=\"dataframe\">\n",
       "<caption>A data.frame: 6 × 14</caption>\n",
       "<thead>\n",
       "\t<tr><th></th><th scope=col>age</th><th scope=col>anaemia</th><th scope=col>creatinine_phosphokinase</th><th scope=col>diabetes</th><th scope=col>ejection_fraction</th><th scope=col>high_blood_pressure</th><th scope=col>platelets</th><th scope=col>serum_creatinine</th><th scope=col>serum_sodium</th><th scope=col>sex</th><th scope=col>smoking</th><th scope=col>time</th><th scope=col>DEATH_EVENT</th><th scope=col>AgeGroup</th></tr>\n",
       "\t<tr><th></th><th scope=col>&lt;dbl&gt;</th><th scope=col>&lt;int&gt;</th><th scope=col>&lt;int&gt;</th><th scope=col>&lt;int&gt;</th><th scope=col>&lt;int&gt;</th><th scope=col>&lt;int&gt;</th><th scope=col>&lt;dbl&gt;</th><th scope=col>&lt;dbl&gt;</th><th scope=col>&lt;int&gt;</th><th scope=col>&lt;int&gt;</th><th scope=col>&lt;int&gt;</th><th scope=col>&lt;int&gt;</th><th scope=col>&lt;int&gt;</th><th scope=col>&lt;fct&gt;</th></tr>\n",
       "</thead>\n",
       "<tbody>\n",
       "\t<tr><th scope=row>1</th><td>75</td><td>0</td><td> 582</td><td>0</td><td>20</td><td>1</td><td>265000</td><td>1.9</td><td>130</td><td>1</td><td>0</td><td>4</td><td>1</td><td>75-79</td></tr>\n",
       "\t<tr><th scope=row>2</th><td>55</td><td>0</td><td>7861</td><td>0</td><td>38</td><td>0</td><td>263358</td><td>1.1</td><td>136</td><td>1</td><td>0</td><td>6</td><td>1</td><td>55-59</td></tr>\n",
       "\t<tr><th scope=row>3</th><td>65</td><td>0</td><td> 146</td><td>0</td><td>20</td><td>0</td><td>162000</td><td>1.3</td><td>129</td><td>1</td><td>1</td><td>7</td><td>1</td><td>65-69</td></tr>\n",
       "\t<tr><th scope=row>4</th><td>50</td><td>1</td><td> 111</td><td>0</td><td>20</td><td>0</td><td>210000</td><td>1.9</td><td>137</td><td>1</td><td>0</td><td>7</td><td>1</td><td>50-54</td></tr>\n",
       "\t<tr><th scope=row>5</th><td>65</td><td>1</td><td> 160</td><td>1</td><td>20</td><td>0</td><td>327000</td><td>2.7</td><td>116</td><td>0</td><td>0</td><td>8</td><td>1</td><td>65-69</td></tr>\n",
       "\t<tr><th scope=row>6</th><td>90</td><td>1</td><td>  47</td><td>0</td><td>40</td><td>1</td><td>204000</td><td>2.1</td><td>132</td><td>1</td><td>1</td><td>8</td><td>1</td><td>90-94</td></tr>\n",
       "</tbody>\n",
       "</table>\n"
      ],
      "text/latex": [
       "A data.frame: 6 × 14\n",
       "\\begin{tabular}{r|llllllllllllll}\n",
       "  & age & anaemia & creatinine\\_phosphokinase & diabetes & ejection\\_fraction & high\\_blood\\_pressure & platelets & serum\\_creatinine & serum\\_sodium & sex & smoking & time & DEATH\\_EVENT & AgeGroup\\\\\n",
       "  & <dbl> & <int> & <int> & <int> & <int> & <int> & <dbl> & <dbl> & <int> & <int> & <int> & <int> & <int> & <fct>\\\\\n",
       "\\hline\n",
       "\t1 & 75 & 0 &  582 & 0 & 20 & 1 & 265000 & 1.9 & 130 & 1 & 0 & 4 & 1 & 75-79\\\\\n",
       "\t2 & 55 & 0 & 7861 & 0 & 38 & 0 & 263358 & 1.1 & 136 & 1 & 0 & 6 & 1 & 55-59\\\\\n",
       "\t3 & 65 & 0 &  146 & 0 & 20 & 0 & 162000 & 1.3 & 129 & 1 & 1 & 7 & 1 & 65-69\\\\\n",
       "\t4 & 50 & 1 &  111 & 0 & 20 & 0 & 210000 & 1.9 & 137 & 1 & 0 & 7 & 1 & 50-54\\\\\n",
       "\t5 & 65 & 1 &  160 & 1 & 20 & 0 & 327000 & 2.7 & 116 & 0 & 0 & 8 & 1 & 65-69\\\\\n",
       "\t6 & 90 & 1 &   47 & 0 & 40 & 1 & 204000 & 2.1 & 132 & 1 & 1 & 8 & 1 & 90-94\\\\\n",
       "\\end{tabular}\n"
      ],
      "text/markdown": [
       "\n",
       "A data.frame: 6 × 14\n",
       "\n",
       "| <!--/--> | age &lt;dbl&gt; | anaemia &lt;int&gt; | creatinine_phosphokinase &lt;int&gt; | diabetes &lt;int&gt; | ejection_fraction &lt;int&gt; | high_blood_pressure &lt;int&gt; | platelets &lt;dbl&gt; | serum_creatinine &lt;dbl&gt; | serum_sodium &lt;int&gt; | sex &lt;int&gt; | smoking &lt;int&gt; | time &lt;int&gt; | DEATH_EVENT &lt;int&gt; | AgeGroup &lt;fct&gt; |\n",
       "|---|---|---|---|---|---|---|---|---|---|---|---|---|---|---|\n",
       "| 1 | 75 | 0 |  582 | 0 | 20 | 1 | 265000 | 1.9 | 130 | 1 | 0 | 4 | 1 | 75-79 |\n",
       "| 2 | 55 | 0 | 7861 | 0 | 38 | 0 | 263358 | 1.1 | 136 | 1 | 0 | 6 | 1 | 55-59 |\n",
       "| 3 | 65 | 0 |  146 | 0 | 20 | 0 | 162000 | 1.3 | 129 | 1 | 1 | 7 | 1 | 65-69 |\n",
       "| 4 | 50 | 1 |  111 | 0 | 20 | 0 | 210000 | 1.9 | 137 | 1 | 0 | 7 | 1 | 50-54 |\n",
       "| 5 | 65 | 1 |  160 | 1 | 20 | 0 | 327000 | 2.7 | 116 | 0 | 0 | 8 | 1 | 65-69 |\n",
       "| 6 | 90 | 1 |   47 | 0 | 40 | 1 | 204000 | 2.1 | 132 | 1 | 1 | 8 | 1 | 90-94 |\n",
       "\n"
      ],
      "text/plain": [
       "  age anaemia creatinine_phosphokinase diabetes ejection_fraction\n",
       "1 75  0        582                     0        20               \n",
       "2 55  0       7861                     0        38               \n",
       "3 65  0        146                     0        20               \n",
       "4 50  1        111                     0        20               \n",
       "5 65  1        160                     1        20               \n",
       "6 90  1         47                     0        40               \n",
       "  high_blood_pressure platelets serum_creatinine serum_sodium sex smoking time\n",
       "1 1                   265000    1.9              130          1   0       4   \n",
       "2 0                   263358    1.1              136          1   0       6   \n",
       "3 0                   162000    1.3              129          1   1       7   \n",
       "4 0                   210000    1.9              137          1   0       7   \n",
       "5 0                   327000    2.7              116          0   0       8   \n",
       "6 1                   204000    2.1              132          1   1       8   \n",
       "  DEATH_EVENT AgeGroup\n",
       "1 1           75-79   \n",
       "2 1           55-59   \n",
       "3 1           65-69   \n",
       "4 1           50-54   \n",
       "5 1           65-69   \n",
       "6 1           90-94   "
      ]
     },
     "metadata": {},
     "output_type": "display_data"
    }
   ],
   "source": [
    "#adding age groups for better understanding\n",
    "df<-data\n",
    "labs <- c(paste(seq(40, 95, by = 5), seq(40 + 5 - 1, 100 - 1, by = 5),\n",
    "                sep = \"-\"), paste(100, \"+\", sep = \"\"))\n",
    "labs\n",
    "df$AgeGroup <- cut(data$age, breaks = c(seq(40, 100, by = 5), Inf), labels = labs, right = FALSE)\n",
    "head(df)"
   ]
  },
  {
   "cell_type": "code",
   "execution_count": 17,
   "metadata": {},
   "outputs": [
    {
     "data": {
      "text/html": [
       "<table class=\"dataframe\">\n",
       "<caption>A data.frame: 6 × 13</caption>\n",
       "<thead>\n",
       "\t<tr><th></th><th scope=col>anaemia</th><th scope=col>creatinine_phosphokinase</th><th scope=col>diabetes</th><th scope=col>ejection_fraction</th><th scope=col>high_blood_pressure</th><th scope=col>platelets</th><th scope=col>serum_creatinine</th><th scope=col>serum_sodium</th><th scope=col>sex</th><th scope=col>smoking</th><th scope=col>time</th><th scope=col>DEATH_EVENT</th><th scope=col>AgeGroup</th></tr>\n",
       "\t<tr><th></th><th scope=col>&lt;chr&gt;</th><th scope=col>&lt;int&gt;</th><th scope=col>&lt;chr&gt;</th><th scope=col>&lt;int&gt;</th><th scope=col>&lt;chr&gt;</th><th scope=col>&lt;dbl&gt;</th><th scope=col>&lt;dbl&gt;</th><th scope=col>&lt;int&gt;</th><th scope=col>&lt;chr&gt;</th><th scope=col>&lt;chr&gt;</th><th scope=col>&lt;int&gt;</th><th scope=col>&lt;chr&gt;</th><th scope=col>&lt;fct&gt;</th></tr>\n",
       "</thead>\n",
       "<tbody>\n",
       "\t<tr><th scope=row>1</th><td>no </td><td> 582</td><td>no </td><td>20</td><td>yes</td><td>265000</td><td>1.9</td><td>130</td><td>male  </td><td>no </td><td>4</td><td>died</td><td>75-79</td></tr>\n",
       "\t<tr><th scope=row>2</th><td>no </td><td>7861</td><td>no </td><td>38</td><td>no </td><td>263358</td><td>1.1</td><td>136</td><td>male  </td><td>no </td><td>6</td><td>died</td><td>55-59</td></tr>\n",
       "\t<tr><th scope=row>3</th><td>no </td><td> 146</td><td>no </td><td>20</td><td>no </td><td>162000</td><td>1.3</td><td>129</td><td>male  </td><td>yes</td><td>7</td><td>died</td><td>65-69</td></tr>\n",
       "\t<tr><th scope=row>4</th><td>yes</td><td> 111</td><td>no </td><td>20</td><td>no </td><td>210000</td><td>1.9</td><td>137</td><td>male  </td><td>no </td><td>7</td><td>died</td><td>50-54</td></tr>\n",
       "\t<tr><th scope=row>5</th><td>yes</td><td> 160</td><td>yes</td><td>20</td><td>no </td><td>327000</td><td>2.7</td><td>116</td><td>female</td><td>no </td><td>8</td><td>died</td><td>65-69</td></tr>\n",
       "\t<tr><th scope=row>6</th><td>yes</td><td>  47</td><td>no </td><td>40</td><td>yes</td><td>204000</td><td>2.1</td><td>132</td><td>male  </td><td>yes</td><td>8</td><td>died</td><td>90-94</td></tr>\n",
       "</tbody>\n",
       "</table>\n"
      ],
      "text/latex": [
       "A data.frame: 6 × 13\n",
       "\\begin{tabular}{r|lllllllllllll}\n",
       "  & anaemia & creatinine\\_phosphokinase & diabetes & ejection\\_fraction & high\\_blood\\_pressure & platelets & serum\\_creatinine & serum\\_sodium & sex & smoking & time & DEATH\\_EVENT & AgeGroup\\\\\n",
       "  & <chr> & <int> & <chr> & <int> & <chr> & <dbl> & <dbl> & <int> & <chr> & <chr> & <int> & <chr> & <fct>\\\\\n",
       "\\hline\n",
       "\t1 & no  &  582 & no  & 20 & yes & 265000 & 1.9 & 130 & male   & no  & 4 & died & 75-79\\\\\n",
       "\t2 & no  & 7861 & no  & 38 & no  & 263358 & 1.1 & 136 & male   & no  & 6 & died & 55-59\\\\\n",
       "\t3 & no  &  146 & no  & 20 & no  & 162000 & 1.3 & 129 & male   & yes & 7 & died & 65-69\\\\\n",
       "\t4 & yes &  111 & no  & 20 & no  & 210000 & 1.9 & 137 & male   & no  & 7 & died & 50-54\\\\\n",
       "\t5 & yes &  160 & yes & 20 & no  & 327000 & 2.7 & 116 & female & no  & 8 & died & 65-69\\\\\n",
       "\t6 & yes &   47 & no  & 40 & yes & 204000 & 2.1 & 132 & male   & yes & 8 & died & 90-94\\\\\n",
       "\\end{tabular}\n"
      ],
      "text/markdown": [
       "\n",
       "A data.frame: 6 × 13\n",
       "\n",
       "| <!--/--> | anaemia &lt;chr&gt; | creatinine_phosphokinase &lt;int&gt; | diabetes &lt;chr&gt; | ejection_fraction &lt;int&gt; | high_blood_pressure &lt;chr&gt; | platelets &lt;dbl&gt; | serum_creatinine &lt;dbl&gt; | serum_sodium &lt;int&gt; | sex &lt;chr&gt; | smoking &lt;chr&gt; | time &lt;int&gt; | DEATH_EVENT &lt;chr&gt; | AgeGroup &lt;fct&gt; |\n",
       "|---|---|---|---|---|---|---|---|---|---|---|---|---|---|\n",
       "| 1 | no  |  582 | no  | 20 | yes | 265000 | 1.9 | 130 | male   | no  | 4 | died | 75-79 |\n",
       "| 2 | no  | 7861 | no  | 38 | no  | 263358 | 1.1 | 136 | male   | no  | 6 | died | 55-59 |\n",
       "| 3 | no  |  146 | no  | 20 | no  | 162000 | 1.3 | 129 | male   | yes | 7 | died | 65-69 |\n",
       "| 4 | yes |  111 | no  | 20 | no  | 210000 | 1.9 | 137 | male   | no  | 7 | died | 50-54 |\n",
       "| 5 | yes |  160 | yes | 20 | no  | 327000 | 2.7 | 116 | female | no  | 8 | died | 65-69 |\n",
       "| 6 | yes |   47 | no  | 40 | yes | 204000 | 2.1 | 132 | male   | yes | 8 | died | 90-94 |\n",
       "\n"
      ],
      "text/plain": [
       "  anaemia creatinine_phosphokinase diabetes ejection_fraction\n",
       "1 no       582                     no       20               \n",
       "2 no      7861                     no       38               \n",
       "3 no       146                     no       20               \n",
       "4 yes      111                     no       20               \n",
       "5 yes      160                     yes      20               \n",
       "6 yes       47                     no       40               \n",
       "  high_blood_pressure platelets serum_creatinine serum_sodium sex    smoking\n",
       "1 yes                 265000    1.9              130          male   no     \n",
       "2 no                  263358    1.1              136          male   no     \n",
       "3 no                  162000    1.3              129          male   yes    \n",
       "4 no                  210000    1.9              137          male   no     \n",
       "5 no                  327000    2.7              116          female no     \n",
       "6 yes                 204000    2.1              132          male   yes    \n",
       "  time DEATH_EVENT AgeGroup\n",
       "1 4    died        75-79   \n",
       "2 6    died        55-59   \n",
       "3 7    died        65-69   \n",
       "4 7    died        50-54   \n",
       "5 8    died        65-69   \n",
       "6 8    died        90-94   "
      ]
     },
     "metadata": {},
     "output_type": "display_data"
    }
   ],
   "source": [
    "#df<-data\n",
    "df$sex[df$sex == 0] <- \"female\"\n",
    "df$sex[df$sex == 1] <- \"male\"\n",
    "df<-df[,-1]\n",
    "\n",
    "df$diabetes[df$diabetes==0]<-\"no\"\n",
    "df$diabetes[df$diabetes==1]<-\"yes\"\n",
    "\n",
    "df$anaemia[df$anaemia ==0]<-\"no\"\n",
    "df$anaemia[df$anaemia ==1]<-\"yes\"\n",
    "\n",
    "df$high_blood_pressure[df$high_blood_pressure ==0]<-\"no\"\n",
    "df$high_blood_pressure[df$high_blood_pressure ==1]<-\"yes\"\n",
    "\n",
    "df$smoking[df$smoking==0]<-\"no\"\n",
    "df$smoking[df$smoking==1]<-\"yes\"\n",
    "\n",
    "df$DEATH_EVENT[df$DEATH_EVENT==0]<-\"no death\"\n",
    "df$DEATH_EVENT[df$DEATH_EVENT==1]<-\"died\"\n",
    "\n",
    "head(df)"
   ]
  },
  {
   "cell_type": "markdown",
   "metadata": {},
   "source": [
    "## 2. Exploratory Data Analysis \n",
    "\n",
    "Have your multiple code and markdown cells here to explore the data. Univariate, multivariate, histograms, correlations, scatter plots, missing values, etc. \n"
   ]
  },
  {
   "cell_type": "markdown",
   "metadata": {},
   "source": [
    "**Plotting Coorelations**"
   ]
  },
  {
   "cell_type": "code",
   "execution_count": 18,
   "metadata": {},
   "outputs": [
    {
     "name": "stderr",
     "output_type": "stream",
     "text": [
      "corrplot 0.84 loaded\n",
      "\n"
     ]
    },
    {
     "data": {
      "text/html": [
       "<table class=\"dataframe\">\n",
       "<caption>A matrix: 12 × 12 of type dbl</caption>\n",
       "<thead>\n",
       "\t<tr><th></th><th scope=col>age</th><th scope=col>anaemia</th><th scope=col>creatinine_phosphokinase</th><th scope=col>diabetes</th><th scope=col>ejection_fraction</th><th scope=col>high_blood_pressure</th><th scope=col>platelets</th><th scope=col>serum_creatinine</th><th scope=col>serum_sodium</th><th scope=col>sex</th><th scope=col>smoking</th><th scope=col>time</th></tr>\n",
       "</thead>\n",
       "<tbody>\n",
       "\t<tr><th scope=row>age</th><td> 1.414865e+02</td><td> 5.193349e-01</td><td>-9.415915e+02</td><td>-5.936330e-01</td><td> 8.460237e+00</td><td> 5.305646e-01</td><td>-6.090712e+04</td><td> 1.958845e+00</td><td>-2.412544e+00</td><td> 3.721200e-01</td><td> 1.038466e-01</td><td> -206.8613512</td></tr>\n",
       "\t<tr><th scope=row>anaemia</th><td> 5.193349e-01</td><td> 2.461224e-01</td><td>-9.181641e+01</td><td>-3.120020e-03</td><td> 1.852820e-01</td><td> 9.057036e-03</td><td>-2.124536e+03</td><td> 2.677695e-02</td><td> 9.168144e-02</td><td>-2.247985e-02</td><td>-2.489282e-02</td><td>   -5.4451415</td></tr>\n",
       "\t<tr><th scope=row>creatinine_phosphokinase</th><td>-9.415915e+02</td><td>-9.181641e+01</td><td> 9.414586e+05</td><td>-4.620581e+00</td><td>-5.061745e+02</td><td>-3.274880e+01</td><td> 2.321533e+06</td><td>-1.647038e+01</td><td> 2.549564e+02</td><td> 3.701726e+01</td><td> 1.098696e+00</td><td> -703.8036183</td></tr>\n",
       "\t<tr><th scope=row>diabetes</th><td>-5.936330e-01</td><td>-3.120020e-03</td><td>-4.620581e+00</td><td> 2.441023e-01</td><td>-2.836076e-02</td><td>-3.007789e-03</td><td> 4.454928e+03</td><td>-2.400990e-02</td><td>-1.952257e-01</td><td>-3.726067e-02</td><td>-3.400597e-02</td><td>    1.2932594</td></tr>\n",
       "\t<tr><th scope=row>ejection_fraction</th><td> 8.460237e+00</td><td> 1.852820e-01</td><td>-5.061745e+02</td><td>-2.836076e-02</td><td> 1.400635e+02</td><td> 1.383246e-01</td><td> 8.354524e+04</td><td>-1.383792e-01</td><td> 9.185787e+00</td><td>-8.396669e-01</td><td>-3.725730e-01</td><td>   38.3304640</td></tr>\n",
       "\t<tr><th scope=row>high_blood_pressure</th><td> 5.305646e-01</td><td> 9.057036e-03</td><td>-3.274880e+01</td><td>-3.007789e-03</td><td> 1.383246e-01</td><td> 2.286144e-01</td><td> 2.336480e+03</td><td>-2.440798e-03</td><td> 7.829229e-02</td><td>-2.391641e-02</td><td>-1.245763e-02</td><td>   -7.2899037</td></tr>\n",
       "\t<tr><th scope=row>platelets</th><td>-6.090712e+04</td><td>-2.124536e+03</td><td> 2.321533e+06</td><td> 4.454928e+03</td><td> 8.354524e+04</td><td> 2.336480e+03</td><td> 9.565669e+09</td><td>-4.168399e+03</td><td> 2.681044e+04</td><td>-5.851105e+03</td><td> 1.291448e+03</td><td>79811.0660986</td></tr>\n",
       "\t<tr><th scope=row>serum_creatinine</th><td> 1.958845e+00</td><td> 2.677695e-02</td><td>-1.647038e+01</td><td>-2.400990e-02</td><td>-1.383792e-01</td><td>-2.440798e-03</td><td>-4.168399e+03</td><td> 1.070211e+00</td><td>-8.631728e-01</td><td> 3.447510e-03</td><td>-1.326323e-02</td><td>  -11.9889349</td></tr>\n",
       "\t<tr><th scope=row>serum_sodium</th><td>-2.412544e+00</td><td> 9.168144e-02</td><td> 2.549564e+02</td><td>-1.952257e-01</td><td> 9.185787e+00</td><td> 7.829229e-02</td><td> 2.681044e+04</td><td>-8.631728e-01</td><td> 1.946996e+01</td><td>-5.815807e-02</td><td> 9.932437e-03</td><td>   30.0141523</td></tr>\n",
       "\t<tr><th scope=row>sex</th><td> 3.721200e-01</td><td>-2.247985e-02</td><td> 3.701726e+01</td><td>-3.726067e-02</td><td>-8.396669e-01</td><td>-2.391641e-02</td><td>-5.851105e+03</td><td> 3.447510e-03</td><td>-5.815807e-02</td><td> 2.286144e-01</td><td> 9.970595e-02</td><td>   -0.5792238</td></tr>\n",
       "\t<tr><th scope=row>smoking</th><td> 1.038466e-01</td><td>-2.489282e-02</td><td> 1.098696e+00</td><td>-3.400597e-02</td><td>-3.725730e-01</td><td>-1.245763e-02</td><td> 1.291448e+03</td><td>-1.326323e-02</td><td> 9.932437e-03</td><td> 9.970595e-02</td><td> 2.187156e-01</td><td>   -0.8290050</td></tr>\n",
       "\t<tr><th scope=row>time</th><td>-2.068614e+02</td><td>-5.445142e+00</td><td>-7.038036e+02</td><td> 1.293259e+00</td><td> 3.833046e+01</td><td>-7.289904e+00</td><td> 7.981107e+04</td><td>-1.198893e+01</td><td> 3.001415e+01</td><td>-5.792238e-01</td><td>-8.290050e-01</td><td> 6023.9652758</td></tr>\n",
       "</tbody>\n",
       "</table>\n"
      ],
      "text/latex": [
       "A matrix: 12 × 12 of type dbl\n",
       "\\begin{tabular}{r|llllllllllll}\n",
       "  & age & anaemia & creatinine\\_phosphokinase & diabetes & ejection\\_fraction & high\\_blood\\_pressure & platelets & serum\\_creatinine & serum\\_sodium & sex & smoking & time\\\\\n",
       "\\hline\n",
       "\tage &  1.414865e+02 &  5.193349e-01 & -9.415915e+02 & -5.936330e-01 &  8.460237e+00 &  5.305646e-01 & -6.090712e+04 &  1.958845e+00 & -2.412544e+00 &  3.721200e-01 &  1.038466e-01 &  -206.8613512\\\\\n",
       "\tanaemia &  5.193349e-01 &  2.461224e-01 & -9.181641e+01 & -3.120020e-03 &  1.852820e-01 &  9.057036e-03 & -2.124536e+03 &  2.677695e-02 &  9.168144e-02 & -2.247985e-02 & -2.489282e-02 &    -5.4451415\\\\\n",
       "\tcreatinine\\_phosphokinase & -9.415915e+02 & -9.181641e+01 &  9.414586e+05 & -4.620581e+00 & -5.061745e+02 & -3.274880e+01 &  2.321533e+06 & -1.647038e+01 &  2.549564e+02 &  3.701726e+01 &  1.098696e+00 &  -703.8036183\\\\\n",
       "\tdiabetes & -5.936330e-01 & -3.120020e-03 & -4.620581e+00 &  2.441023e-01 & -2.836076e-02 & -3.007789e-03 &  4.454928e+03 & -2.400990e-02 & -1.952257e-01 & -3.726067e-02 & -3.400597e-02 &     1.2932594\\\\\n",
       "\tejection\\_fraction &  8.460237e+00 &  1.852820e-01 & -5.061745e+02 & -2.836076e-02 &  1.400635e+02 &  1.383246e-01 &  8.354524e+04 & -1.383792e-01 &  9.185787e+00 & -8.396669e-01 & -3.725730e-01 &    38.3304640\\\\\n",
       "\thigh\\_blood\\_pressure &  5.305646e-01 &  9.057036e-03 & -3.274880e+01 & -3.007789e-03 &  1.383246e-01 &  2.286144e-01 &  2.336480e+03 & -2.440798e-03 &  7.829229e-02 & -2.391641e-02 & -1.245763e-02 &    -7.2899037\\\\\n",
       "\tplatelets & -6.090712e+04 & -2.124536e+03 &  2.321533e+06 &  4.454928e+03 &  8.354524e+04 &  2.336480e+03 &  9.565669e+09 & -4.168399e+03 &  2.681044e+04 & -5.851105e+03 &  1.291448e+03 & 79811.0660986\\\\\n",
       "\tserum\\_creatinine &  1.958845e+00 &  2.677695e-02 & -1.647038e+01 & -2.400990e-02 & -1.383792e-01 & -2.440798e-03 & -4.168399e+03 &  1.070211e+00 & -8.631728e-01 &  3.447510e-03 & -1.326323e-02 &   -11.9889349\\\\\n",
       "\tserum\\_sodium & -2.412544e+00 &  9.168144e-02 &  2.549564e+02 & -1.952257e-01 &  9.185787e+00 &  7.829229e-02 &  2.681044e+04 & -8.631728e-01 &  1.946996e+01 & -5.815807e-02 &  9.932437e-03 &    30.0141523\\\\\n",
       "\tsex &  3.721200e-01 & -2.247985e-02 &  3.701726e+01 & -3.726067e-02 & -8.396669e-01 & -2.391641e-02 & -5.851105e+03 &  3.447510e-03 & -5.815807e-02 &  2.286144e-01 &  9.970595e-02 &    -0.5792238\\\\\n",
       "\tsmoking &  1.038466e-01 & -2.489282e-02 &  1.098696e+00 & -3.400597e-02 & -3.725730e-01 & -1.245763e-02 &  1.291448e+03 & -1.326323e-02 &  9.932437e-03 &  9.970595e-02 &  2.187156e-01 &    -0.8290050\\\\\n",
       "\ttime & -2.068614e+02 & -5.445142e+00 & -7.038036e+02 &  1.293259e+00 &  3.833046e+01 & -7.289904e+00 &  7.981107e+04 & -1.198893e+01 &  3.001415e+01 & -5.792238e-01 & -8.290050e-01 &  6023.9652758\\\\\n",
       "\\end{tabular}\n"
      ],
      "text/markdown": [
       "\n",
       "A matrix: 12 × 12 of type dbl\n",
       "\n",
       "| <!--/--> | age | anaemia | creatinine_phosphokinase | diabetes | ejection_fraction | high_blood_pressure | platelets | serum_creatinine | serum_sodium | sex | smoking | time |\n",
       "|---|---|---|---|---|---|---|---|---|---|---|---|---|\n",
       "| age |  1.414865e+02 |  5.193349e-01 | -9.415915e+02 | -5.936330e-01 |  8.460237e+00 |  5.305646e-01 | -6.090712e+04 |  1.958845e+00 | -2.412544e+00 |  3.721200e-01 |  1.038466e-01 |  -206.8613512 |\n",
       "| anaemia |  5.193349e-01 |  2.461224e-01 | -9.181641e+01 | -3.120020e-03 |  1.852820e-01 |  9.057036e-03 | -2.124536e+03 |  2.677695e-02 |  9.168144e-02 | -2.247985e-02 | -2.489282e-02 |    -5.4451415 |\n",
       "| creatinine_phosphokinase | -9.415915e+02 | -9.181641e+01 |  9.414586e+05 | -4.620581e+00 | -5.061745e+02 | -3.274880e+01 |  2.321533e+06 | -1.647038e+01 |  2.549564e+02 |  3.701726e+01 |  1.098696e+00 |  -703.8036183 |\n",
       "| diabetes | -5.936330e-01 | -3.120020e-03 | -4.620581e+00 |  2.441023e-01 | -2.836076e-02 | -3.007789e-03 |  4.454928e+03 | -2.400990e-02 | -1.952257e-01 | -3.726067e-02 | -3.400597e-02 |     1.2932594 |\n",
       "| ejection_fraction |  8.460237e+00 |  1.852820e-01 | -5.061745e+02 | -2.836076e-02 |  1.400635e+02 |  1.383246e-01 |  8.354524e+04 | -1.383792e-01 |  9.185787e+00 | -8.396669e-01 | -3.725730e-01 |    38.3304640 |\n",
       "| high_blood_pressure |  5.305646e-01 |  9.057036e-03 | -3.274880e+01 | -3.007789e-03 |  1.383246e-01 |  2.286144e-01 |  2.336480e+03 | -2.440798e-03 |  7.829229e-02 | -2.391641e-02 | -1.245763e-02 |    -7.2899037 |\n",
       "| platelets | -6.090712e+04 | -2.124536e+03 |  2.321533e+06 |  4.454928e+03 |  8.354524e+04 |  2.336480e+03 |  9.565669e+09 | -4.168399e+03 |  2.681044e+04 | -5.851105e+03 |  1.291448e+03 | 79811.0660986 |\n",
       "| serum_creatinine |  1.958845e+00 |  2.677695e-02 | -1.647038e+01 | -2.400990e-02 | -1.383792e-01 | -2.440798e-03 | -4.168399e+03 |  1.070211e+00 | -8.631728e-01 |  3.447510e-03 | -1.326323e-02 |   -11.9889349 |\n",
       "| serum_sodium | -2.412544e+00 |  9.168144e-02 |  2.549564e+02 | -1.952257e-01 |  9.185787e+00 |  7.829229e-02 |  2.681044e+04 | -8.631728e-01 |  1.946996e+01 | -5.815807e-02 |  9.932437e-03 |    30.0141523 |\n",
       "| sex |  3.721200e-01 | -2.247985e-02 |  3.701726e+01 | -3.726067e-02 | -8.396669e-01 | -2.391641e-02 | -5.851105e+03 |  3.447510e-03 | -5.815807e-02 |  2.286144e-01 |  9.970595e-02 |    -0.5792238 |\n",
       "| smoking |  1.038466e-01 | -2.489282e-02 |  1.098696e+00 | -3.400597e-02 | -3.725730e-01 | -1.245763e-02 |  1.291448e+03 | -1.326323e-02 |  9.932437e-03 |  9.970595e-02 |  2.187156e-01 |    -0.8290050 |\n",
       "| time | -2.068614e+02 | -5.445142e+00 | -7.038036e+02 |  1.293259e+00 |  3.833046e+01 | -7.289904e+00 |  7.981107e+04 | -1.198893e+01 |  3.001415e+01 | -5.792238e-01 | -8.290050e-01 |  6023.9652758 |\n",
       "\n"
      ],
      "text/plain": [
       "                         age           anaemia       creatinine_phosphokinase\n",
       "age                       1.414865e+02  5.193349e-01 -9.415915e+02           \n",
       "anaemia                   5.193349e-01  2.461224e-01 -9.181641e+01           \n",
       "creatinine_phosphokinase -9.415915e+02 -9.181641e+01  9.414586e+05           \n",
       "diabetes                 -5.936330e-01 -3.120020e-03 -4.620581e+00           \n",
       "ejection_fraction         8.460237e+00  1.852820e-01 -5.061745e+02           \n",
       "high_blood_pressure       5.305646e-01  9.057036e-03 -3.274880e+01           \n",
       "platelets                -6.090712e+04 -2.124536e+03  2.321533e+06           \n",
       "serum_creatinine          1.958845e+00  2.677695e-02 -1.647038e+01           \n",
       "serum_sodium             -2.412544e+00  9.168144e-02  2.549564e+02           \n",
       "sex                       3.721200e-01 -2.247985e-02  3.701726e+01           \n",
       "smoking                   1.038466e-01 -2.489282e-02  1.098696e+00           \n",
       "time                     -2.068614e+02 -5.445142e+00 -7.038036e+02           \n",
       "                         diabetes      ejection_fraction high_blood_pressure\n",
       "age                      -5.936330e-01  8.460237e+00      5.305646e-01      \n",
       "anaemia                  -3.120020e-03  1.852820e-01      9.057036e-03      \n",
       "creatinine_phosphokinase -4.620581e+00 -5.061745e+02     -3.274880e+01      \n",
       "diabetes                  2.441023e-01 -2.836076e-02     -3.007789e-03      \n",
       "ejection_fraction        -2.836076e-02  1.400635e+02      1.383246e-01      \n",
       "high_blood_pressure      -3.007789e-03  1.383246e-01      2.286144e-01      \n",
       "platelets                 4.454928e+03  8.354524e+04      2.336480e+03      \n",
       "serum_creatinine         -2.400990e-02 -1.383792e-01     -2.440798e-03      \n",
       "serum_sodium             -1.952257e-01  9.185787e+00      7.829229e-02      \n",
       "sex                      -3.726067e-02 -8.396669e-01     -2.391641e-02      \n",
       "smoking                  -3.400597e-02 -3.725730e-01     -1.245763e-02      \n",
       "time                      1.293259e+00  3.833046e+01     -7.289904e+00      \n",
       "                         platelets     serum_creatinine serum_sodium \n",
       "age                      -6.090712e+04  1.958845e+00    -2.412544e+00\n",
       "anaemia                  -2.124536e+03  2.677695e-02     9.168144e-02\n",
       "creatinine_phosphokinase  2.321533e+06 -1.647038e+01     2.549564e+02\n",
       "diabetes                  4.454928e+03 -2.400990e-02    -1.952257e-01\n",
       "ejection_fraction         8.354524e+04 -1.383792e-01     9.185787e+00\n",
       "high_blood_pressure       2.336480e+03 -2.440798e-03     7.829229e-02\n",
       "platelets                 9.565669e+09 -4.168399e+03     2.681044e+04\n",
       "serum_creatinine         -4.168399e+03  1.070211e+00    -8.631728e-01\n",
       "serum_sodium              2.681044e+04 -8.631728e-01     1.946996e+01\n",
       "sex                      -5.851105e+03  3.447510e-03    -5.815807e-02\n",
       "smoking                   1.291448e+03 -1.326323e-02     9.932437e-03\n",
       "time                      7.981107e+04 -1.198893e+01     3.001415e+01\n",
       "                         sex           smoking       time         \n",
       "age                       3.721200e-01  1.038466e-01  -206.8613512\n",
       "anaemia                  -2.247985e-02 -2.489282e-02    -5.4451415\n",
       "creatinine_phosphokinase  3.701726e+01  1.098696e+00  -703.8036183\n",
       "diabetes                 -3.726067e-02 -3.400597e-02     1.2932594\n",
       "ejection_fraction        -8.396669e-01 -3.725730e-01    38.3304640\n",
       "high_blood_pressure      -2.391641e-02 -1.245763e-02    -7.2899037\n",
       "platelets                -5.851105e+03  1.291448e+03 79811.0660986\n",
       "serum_creatinine          3.447510e-03 -1.326323e-02   -11.9889349\n",
       "serum_sodium             -5.815807e-02  9.932437e-03    30.0141523\n",
       "sex                       2.286144e-01  9.970595e-02    -0.5792238\n",
       "smoking                   9.970595e-02  2.187156e-01    -0.8290050\n",
       "time                     -5.792238e-01 -8.290050e-01  6023.9652758"
      ]
     },
     "metadata": {},
     "output_type": "display_data"
    },
    {
     "data": {
      "text/html": [
       "<table class=\"dataframe\">\n",
       "<caption>A matrix: 12 × 12 of type dbl</caption>\n",
       "<thead>\n",
       "\t<tr><th></th><th scope=col>age</th><th scope=col>anaemia</th><th scope=col>creatinine_phosphokinase</th><th scope=col>diabetes</th><th scope=col>ejection_fraction</th><th scope=col>high_blood_pressure</th><th scope=col>platelets</th><th scope=col>serum_creatinine</th><th scope=col>serum_sodium</th><th scope=col>sex</th><th scope=col>smoking</th><th scope=col>time</th></tr>\n",
       "</thead>\n",
       "<tbody>\n",
       "\t<tr><th scope=row>age</th><td> 1.00000000</td><td> 0.08800644</td><td>-0.081583900</td><td>-0.101012385</td><td> 0.06009836</td><td> 0.093288685</td><td>-0.05235437</td><td> 0.159187133</td><td>-0.045965841</td><td> 0.065429524</td><td> 0.018667868</td><td>-0.224068420</td></tr>\n",
       "\t<tr><th scope=row>anaemia</th><td> 0.08800644</td><td> 1.00000000</td><td>-0.190741030</td><td>-0.012729046</td><td> 0.03155697</td><td> 0.038182003</td><td>-0.04378555</td><td> 0.052173604</td><td> 0.041881610</td><td>-0.094768961</td><td>-0.107289838</td><td>-0.141413982</td></tr>\n",
       "\t<tr><th scope=row>creatinine_phosphokinase</th><td>-0.08158390</td><td>-0.19074103</td><td> 1.000000000</td><td>-0.009638514</td><td>-0.04407955</td><td>-0.070589980</td><td> 0.02446339</td><td>-0.016408480</td><td> 0.059550156</td><td> 0.079790629</td><td> 0.002421235</td><td>-0.009345653</td></tr>\n",
       "\t<tr><th scope=row>diabetes</th><td>-0.10101239</td><td>-0.01272905</td><td>-0.009638514</td><td> 1.000000000</td><td>-0.00485031</td><td>-0.012732382</td><td> 0.09219283</td><td>-0.046975315</td><td>-0.089550619</td><td>-0.157729504</td><td>-0.147173413</td><td> 0.033725509</td></tr>\n",
       "\t<tr><th scope=row>ejection_fraction</th><td> 0.06009836</td><td> 0.03155697</td><td>-0.044079554</td><td>-0.004850310</td><td> 1.00000000</td><td> 0.024444731</td><td> 0.07217747</td><td>-0.011302475</td><td> 0.175902282</td><td>-0.148385965</td><td>-0.067314567</td><td> 0.041729235</td></tr>\n",
       "\t<tr><th scope=row>high_blood_pressure</th><td> 0.09328868</td><td> 0.03818200</td><td>-0.070589980</td><td>-0.012732382</td><td> 0.02444473</td><td> 1.000000000</td><td> 0.04996348</td><td>-0.004934525</td><td> 0.037109470</td><td>-0.104614629</td><td>-0.055711369</td><td>-0.196439479</td></tr>\n",
       "\t<tr><th scope=row>platelets</th><td>-0.05235437</td><td>-0.04378555</td><td> 0.024463389</td><td> 0.092192828</td><td> 0.07217747</td><td> 0.049963481</td><td> 1.00000000</td><td>-0.041198077</td><td> 0.062124619</td><td>-0.125120483</td><td> 0.028234448</td><td> 0.010513909</td></tr>\n",
       "\t<tr><th scope=row>serum_creatinine</th><td> 0.15918713</td><td> 0.05217360</td><td>-0.016408480</td><td>-0.046975315</td><td>-0.01130247</td><td>-0.004934525</td><td>-0.04119808</td><td> 1.000000000</td><td>-0.189095210</td><td> 0.006969778</td><td>-0.027414135</td><td>-0.149315418</td></tr>\n",
       "\t<tr><th scope=row>serum_sodium</th><td>-0.04596584</td><td> 0.04188161</td><td> 0.059550156</td><td>-0.089550619</td><td> 0.17590228</td><td> 0.037109470</td><td> 0.06212462</td><td>-0.189095210</td><td> 1.000000000</td><td>-0.027566123</td><td> 0.004813195</td><td> 0.087640000</td></tr>\n",
       "\t<tr><th scope=row>sex</th><td> 0.06542952</td><td>-0.09476896</td><td> 0.079790629</td><td>-0.157729504</td><td>-0.14838597</td><td>-0.104614629</td><td>-0.12512048</td><td> 0.006969778</td><td>-0.027566123</td><td> 1.000000000</td><td> 0.445891712</td><td>-0.015608220</td></tr>\n",
       "\t<tr><th scope=row>smoking</th><td> 0.01866787</td><td>-0.10728984</td><td> 0.002421235</td><td>-0.147173413</td><td>-0.06731457</td><td>-0.055711369</td><td> 0.02823445</td><td>-0.027414135</td><td> 0.004813195</td><td> 0.445891712</td><td> 1.000000000</td><td>-0.022838942</td></tr>\n",
       "\t<tr><th scope=row>time</th><td>-0.22406842</td><td>-0.14141398</td><td>-0.009345653</td><td> 0.033725509</td><td> 0.04172924</td><td>-0.196439479</td><td> 0.01051391</td><td>-0.149315418</td><td> 0.087640000</td><td>-0.015608220</td><td>-0.022838942</td><td> 1.000000000</td></tr>\n",
       "</tbody>\n",
       "</table>\n"
      ],
      "text/latex": [
       "A matrix: 12 × 12 of type dbl\n",
       "\\begin{tabular}{r|llllllllllll}\n",
       "  & age & anaemia & creatinine\\_phosphokinase & diabetes & ejection\\_fraction & high\\_blood\\_pressure & platelets & serum\\_creatinine & serum\\_sodium & sex & smoking & time\\\\\n",
       "\\hline\n",
       "\tage &  1.00000000 &  0.08800644 & -0.081583900 & -0.101012385 &  0.06009836 &  0.093288685 & -0.05235437 &  0.159187133 & -0.045965841 &  0.065429524 &  0.018667868 & -0.224068420\\\\\n",
       "\tanaemia &  0.08800644 &  1.00000000 & -0.190741030 & -0.012729046 &  0.03155697 &  0.038182003 & -0.04378555 &  0.052173604 &  0.041881610 & -0.094768961 & -0.107289838 & -0.141413982\\\\\n",
       "\tcreatinine\\_phosphokinase & -0.08158390 & -0.19074103 &  1.000000000 & -0.009638514 & -0.04407955 & -0.070589980 &  0.02446339 & -0.016408480 &  0.059550156 &  0.079790629 &  0.002421235 & -0.009345653\\\\\n",
       "\tdiabetes & -0.10101239 & -0.01272905 & -0.009638514 &  1.000000000 & -0.00485031 & -0.012732382 &  0.09219283 & -0.046975315 & -0.089550619 & -0.157729504 & -0.147173413 &  0.033725509\\\\\n",
       "\tejection\\_fraction &  0.06009836 &  0.03155697 & -0.044079554 & -0.004850310 &  1.00000000 &  0.024444731 &  0.07217747 & -0.011302475 &  0.175902282 & -0.148385965 & -0.067314567 &  0.041729235\\\\\n",
       "\thigh\\_blood\\_pressure &  0.09328868 &  0.03818200 & -0.070589980 & -0.012732382 &  0.02444473 &  1.000000000 &  0.04996348 & -0.004934525 &  0.037109470 & -0.104614629 & -0.055711369 & -0.196439479\\\\\n",
       "\tplatelets & -0.05235437 & -0.04378555 &  0.024463389 &  0.092192828 &  0.07217747 &  0.049963481 &  1.00000000 & -0.041198077 &  0.062124619 & -0.125120483 &  0.028234448 &  0.010513909\\\\\n",
       "\tserum\\_creatinine &  0.15918713 &  0.05217360 & -0.016408480 & -0.046975315 & -0.01130247 & -0.004934525 & -0.04119808 &  1.000000000 & -0.189095210 &  0.006969778 & -0.027414135 & -0.149315418\\\\\n",
       "\tserum\\_sodium & -0.04596584 &  0.04188161 &  0.059550156 & -0.089550619 &  0.17590228 &  0.037109470 &  0.06212462 & -0.189095210 &  1.000000000 & -0.027566123 &  0.004813195 &  0.087640000\\\\\n",
       "\tsex &  0.06542952 & -0.09476896 &  0.079790629 & -0.157729504 & -0.14838597 & -0.104614629 & -0.12512048 &  0.006969778 & -0.027566123 &  1.000000000 &  0.445891712 & -0.015608220\\\\\n",
       "\tsmoking &  0.01866787 & -0.10728984 &  0.002421235 & -0.147173413 & -0.06731457 & -0.055711369 &  0.02823445 & -0.027414135 &  0.004813195 &  0.445891712 &  1.000000000 & -0.022838942\\\\\n",
       "\ttime & -0.22406842 & -0.14141398 & -0.009345653 &  0.033725509 &  0.04172924 & -0.196439479 &  0.01051391 & -0.149315418 &  0.087640000 & -0.015608220 & -0.022838942 &  1.000000000\\\\\n",
       "\\end{tabular}\n"
      ],
      "text/markdown": [
       "\n",
       "A matrix: 12 × 12 of type dbl\n",
       "\n",
       "| <!--/--> | age | anaemia | creatinine_phosphokinase | diabetes | ejection_fraction | high_blood_pressure | platelets | serum_creatinine | serum_sodium | sex | smoking | time |\n",
       "|---|---|---|---|---|---|---|---|---|---|---|---|---|\n",
       "| age |  1.00000000 |  0.08800644 | -0.081583900 | -0.101012385 |  0.06009836 |  0.093288685 | -0.05235437 |  0.159187133 | -0.045965841 |  0.065429524 |  0.018667868 | -0.224068420 |\n",
       "| anaemia |  0.08800644 |  1.00000000 | -0.190741030 | -0.012729046 |  0.03155697 |  0.038182003 | -0.04378555 |  0.052173604 |  0.041881610 | -0.094768961 | -0.107289838 | -0.141413982 |\n",
       "| creatinine_phosphokinase | -0.08158390 | -0.19074103 |  1.000000000 | -0.009638514 | -0.04407955 | -0.070589980 |  0.02446339 | -0.016408480 |  0.059550156 |  0.079790629 |  0.002421235 | -0.009345653 |\n",
       "| diabetes | -0.10101239 | -0.01272905 | -0.009638514 |  1.000000000 | -0.00485031 | -0.012732382 |  0.09219283 | -0.046975315 | -0.089550619 | -0.157729504 | -0.147173413 |  0.033725509 |\n",
       "| ejection_fraction |  0.06009836 |  0.03155697 | -0.044079554 | -0.004850310 |  1.00000000 |  0.024444731 |  0.07217747 | -0.011302475 |  0.175902282 | -0.148385965 | -0.067314567 |  0.041729235 |\n",
       "| high_blood_pressure |  0.09328868 |  0.03818200 | -0.070589980 | -0.012732382 |  0.02444473 |  1.000000000 |  0.04996348 | -0.004934525 |  0.037109470 | -0.104614629 | -0.055711369 | -0.196439479 |\n",
       "| platelets | -0.05235437 | -0.04378555 |  0.024463389 |  0.092192828 |  0.07217747 |  0.049963481 |  1.00000000 | -0.041198077 |  0.062124619 | -0.125120483 |  0.028234448 |  0.010513909 |\n",
       "| serum_creatinine |  0.15918713 |  0.05217360 | -0.016408480 | -0.046975315 | -0.01130247 | -0.004934525 | -0.04119808 |  1.000000000 | -0.189095210 |  0.006969778 | -0.027414135 | -0.149315418 |\n",
       "| serum_sodium | -0.04596584 |  0.04188161 |  0.059550156 | -0.089550619 |  0.17590228 |  0.037109470 |  0.06212462 | -0.189095210 |  1.000000000 | -0.027566123 |  0.004813195 |  0.087640000 |\n",
       "| sex |  0.06542952 | -0.09476896 |  0.079790629 | -0.157729504 | -0.14838597 | -0.104614629 | -0.12512048 |  0.006969778 | -0.027566123 |  1.000000000 |  0.445891712 | -0.015608220 |\n",
       "| smoking |  0.01866787 | -0.10728984 |  0.002421235 | -0.147173413 | -0.06731457 | -0.055711369 |  0.02823445 | -0.027414135 |  0.004813195 |  0.445891712 |  1.000000000 | -0.022838942 |\n",
       "| time | -0.22406842 | -0.14141398 | -0.009345653 |  0.033725509 |  0.04172924 | -0.196439479 |  0.01051391 | -0.149315418 |  0.087640000 | -0.015608220 | -0.022838942 |  1.000000000 |\n",
       "\n"
      ],
      "text/plain": [
       "                         age         anaemia     creatinine_phosphokinase\n",
       "age                       1.00000000  0.08800644 -0.081583900            \n",
       "anaemia                   0.08800644  1.00000000 -0.190741030            \n",
       "creatinine_phosphokinase -0.08158390 -0.19074103  1.000000000            \n",
       "diabetes                 -0.10101239 -0.01272905 -0.009638514            \n",
       "ejection_fraction         0.06009836  0.03155697 -0.044079554            \n",
       "high_blood_pressure       0.09328868  0.03818200 -0.070589980            \n",
       "platelets                -0.05235437 -0.04378555  0.024463389            \n",
       "serum_creatinine          0.15918713  0.05217360 -0.016408480            \n",
       "serum_sodium             -0.04596584  0.04188161  0.059550156            \n",
       "sex                       0.06542952 -0.09476896  0.079790629            \n",
       "smoking                   0.01866787 -0.10728984  0.002421235            \n",
       "time                     -0.22406842 -0.14141398 -0.009345653            \n",
       "                         diabetes     ejection_fraction high_blood_pressure\n",
       "age                      -0.101012385  0.06009836        0.093288685       \n",
       "anaemia                  -0.012729046  0.03155697        0.038182003       \n",
       "creatinine_phosphokinase -0.009638514 -0.04407955       -0.070589980       \n",
       "diabetes                  1.000000000 -0.00485031       -0.012732382       \n",
       "ejection_fraction        -0.004850310  1.00000000        0.024444731       \n",
       "high_blood_pressure      -0.012732382  0.02444473        1.000000000       \n",
       "platelets                 0.092192828  0.07217747        0.049963481       \n",
       "serum_creatinine         -0.046975315 -0.01130247       -0.004934525       \n",
       "serum_sodium             -0.089550619  0.17590228        0.037109470       \n",
       "sex                      -0.157729504 -0.14838597       -0.104614629       \n",
       "smoking                  -0.147173413 -0.06731457       -0.055711369       \n",
       "time                      0.033725509  0.04172924       -0.196439479       \n",
       "                         platelets   serum_creatinine serum_sodium sex         \n",
       "age                      -0.05235437  0.159187133     -0.045965841  0.065429524\n",
       "anaemia                  -0.04378555  0.052173604      0.041881610 -0.094768961\n",
       "creatinine_phosphokinase  0.02446339 -0.016408480      0.059550156  0.079790629\n",
       "diabetes                  0.09219283 -0.046975315     -0.089550619 -0.157729504\n",
       "ejection_fraction         0.07217747 -0.011302475      0.175902282 -0.148385965\n",
       "high_blood_pressure       0.04996348 -0.004934525      0.037109470 -0.104614629\n",
       "platelets                 1.00000000 -0.041198077      0.062124619 -0.125120483\n",
       "serum_creatinine         -0.04119808  1.000000000     -0.189095210  0.006969778\n",
       "serum_sodium              0.06212462 -0.189095210      1.000000000 -0.027566123\n",
       "sex                      -0.12512048  0.006969778     -0.027566123  1.000000000\n",
       "smoking                   0.02823445 -0.027414135      0.004813195  0.445891712\n",
       "time                      0.01051391 -0.149315418      0.087640000 -0.015608220\n",
       "                         smoking      time        \n",
       "age                       0.018667868 -0.224068420\n",
       "anaemia                  -0.107289838 -0.141413982\n",
       "creatinine_phosphokinase  0.002421235 -0.009345653\n",
       "diabetes                 -0.147173413  0.033725509\n",
       "ejection_fraction        -0.067314567  0.041729235\n",
       "high_blood_pressure      -0.055711369 -0.196439479\n",
       "platelets                 0.028234448  0.010513909\n",
       "serum_creatinine         -0.027414135 -0.149315418\n",
       "serum_sodium              0.004813195  0.087640000\n",
       "sex                       0.445891712 -0.015608220\n",
       "smoking                   1.000000000 -0.022838942\n",
       "time                     -0.022838942  1.000000000"
      ]
     },
     "metadata": {},
     "output_type": "display_data"
    },
    {
     "data": {
      "image/png": "[encoded data removed]",
      "text/plain": [
       "plot without title"
      ]
     },
     "metadata": {
      "image/png": {
       "height": 420,
       "width": 420
      }
     },
     "output_type": "display_data"
    }
   ],
   "source": [
    "library(corrplot)\n",
    "cov(data[1:12])\n",
    "cor(data[1:12])\n",
    "corr_plot<-ggcorr(data[,1:12], label=TRUE, label_size=5, label_round=2, label_alpha=0.7, hjust=1,size=6, layout.exp=2) \n",
    "corr_plot\n"
   ]
  },
  {
   "cell_type": "markdown",
   "metadata": {},
   "source": [
    "**Univariate and multivariate Analysis of data**"
   ]
  },
  {
   "cell_type": "code",
   "execution_count": 19,
   "metadata": {},
   "outputs": [
    {
     "data": {
      "image/png": "[encoded data removed]",
      "text/plain": [
       "plot without title"
      ]
     },
     "metadata": {
      "image/png": {
       "height": 420,
       "width": 420
      }
     },
     "output_type": "display_data"
    }
   ],
   "source": [
    "#Plotting distribution of data, each column values separately.\n",
    "#After that frequency distribution of each category through table plots for categorical variables \n",
    "#and box plots for numerical continuous variables.\n",
    "#1. age group\n",
    "library(gridExtra)\n",
    "library(ggplot2)\n",
    "grid.arrange(\n",
    "    \n",
    "ggplot(df, aes(x=AgeGroup))+geom_bar(fill=\"lightblue\")+ labs(x=\"ag\")+ theme_minimal(base_size=10),\n",
    "#p1\n",
    "#2. Sex\n",
    "ggplot(df, aes(x=sex))+geom_bar(fill=\"indianred3\")+ labs(x=\"Sex\")+ theme_minimal(base_size=10),\n",
    "#p2\n",
    "#3. Smoking\n",
    "ggplot(df, aes(x=smoking))+geom_bar(fill=\"seagreen2\")+ labs(x=\"Smoking\")+ theme_minimal(base_size=10),\n",
    "#p3\n",
    "#4. Diabetes\n",
    "ggplot(df, aes(x=diabetes))+geom_bar(fill=\"orange2\")+\n",
    "  labs(x=\"Diabetes Status\")+ theme_minimal(base_size=10),\n",
    "#p4\n",
    "#5. cpk\n",
    "ggplot(df, aes(x=creatinine_phosphokinase))+geom_bar(fill=\"lightblue\")+\n",
    "labs(x=\"Creatinine Phosphokinase\")+ theme_minimal(base_size=10),\n",
    "#p5\n",
    "#6. Platelets\n",
    "ggplot(df, aes(x=platelets))+geom_bar(fill=\"indianred2\")+\n",
    "  labs(x=\"Platelets\")+ theme_minimal(base_size=10),\n",
    "#p6\n",
    "#7. serum sodium\n",
    "ggplot(df, aes(x=serum_sodium))+geom_bar(fill=\"seagreen2\")+\n",
    "  labs(x=\"Serum Sodium\") + theme_minimal(base_size=10),\n",
    "#p7\n",
    "#8. Serum creatinine\n",
    "ggplot(df, aes(x=serum_creatinine))+geom_bar(fill=\"orange2\")+\n",
    "  labs(x=\"Serum Creatinine\") + theme_minimal(base_size=10),\n",
    "#p8\n",
    "\n",
    "#9. anaemia \n",
    "ggplot(df, aes(x=anaemia, fill=DEATH_EVENT))+geom_bar(fill=\"lightblue\")+ labs(x=\"Anaemia\")+ theme_minimal(base_size=10),\n",
    "#p9\n",
    "#10. ejection_fraction\n",
    "ggplot(df, aes(x=ejection_fraction))+geom_bar(fill=\"indianred2\")+\n",
    "  labs(x=\"Ejection Fraction\")+ theme_minimal(base_size=10),\n",
    "#p10\n",
    "#11. High blood pressure\n",
    "ggplot(df, aes(x=high_blood_pressure))+geom_bar(fill=\"seagreen2\")+\n",
    "  labs(x=\"High Blood Pressure Status\")+ theme_minimal(base_size=10),\n",
    "#p11\n",
    "#12. Event\n",
    "ggplot(df, aes(x=DEATH_EVENT))+geom_bar(fill=\"orangered3\")+ labs(x=\"Event Status\")+ theme_minimal(base_size=10), ncol=2\n",
    "#p12\n",
    ")"
   ]
  },
  {
   "cell_type": "code",
   "execution_count": 20,
   "metadata": {},
   "outputs": [
    {
     "data": {
      "text/html": [
       "<table class=\"dataframe\">\n",
       "<caption>A table: 3 × 3 of type dbl</caption>\n",
       "<thead>\n",
       "\t<tr><th></th><th scope=col>female</th><th scope=col>male</th><th scope=col>Sum</th></tr>\n",
       "</thead>\n",
       "<tbody>\n",
       "\t<tr><th scope=row>died</th><td> 34</td><td> 62</td><td> 96</td></tr>\n",
       "\t<tr><th scope=row>no death</th><td> 71</td><td>132</td><td>203</td></tr>\n",
       "\t<tr><th scope=row>Sum</th><td>105</td><td>194</td><td>299</td></tr>\n",
       "</tbody>\n",
       "</table>\n"
      ],
      "text/latex": [
       "A table: 3 × 3 of type dbl\n",
       "\\begin{tabular}{r|lll}\n",
       "  & female & male & Sum\\\\\n",
       "\\hline\n",
       "\tdied &  34 &  62 &  96\\\\\n",
       "\tno death &  71 & 132 & 203\\\\\n",
       "\tSum & 105 & 194 & 299\\\\\n",
       "\\end{tabular}\n"
      ],
      "text/markdown": [
       "\n",
       "A table: 3 × 3 of type dbl\n",
       "\n",
       "| <!--/--> | female | male | Sum |\n",
       "|---|---|---|---|\n",
       "| died |  34 |  62 |  96 |\n",
       "| no death |  71 | 132 | 203 |\n",
       "| Sum | 105 | 194 | 299 |\n",
       "\n"
      ],
      "text/plain": [
       "          \n",
       "           female male Sum\n",
       "  died      34     62   96\n",
       "  no death  71    132  203\n",
       "  Sum      105    194  299"
      ]
     },
     "metadata": {},
     "output_type": "display_data"
    },
    {
     "data": {
      "text/html": [
       "<table class=\"dataframe\">\n",
       "<caption>A table: 3 × 3 of type dbl</caption>\n",
       "<thead>\n",
       "\t<tr><th></th><th scope=col>female</th><th scope=col>male</th><th scope=col>Sum</th></tr>\n",
       "</thead>\n",
       "<tbody>\n",
       "\t<tr><th scope=row>died</th><td>0.1137124</td><td>0.2073579</td><td>0.3210702</td></tr>\n",
       "\t<tr><th scope=row>no death</th><td>0.2374582</td><td>0.4414716</td><td>0.6789298</td></tr>\n",
       "\t<tr><th scope=row>Sum</th><td>0.3511706</td><td>0.6488294</td><td>1.0000000</td></tr>\n",
       "</tbody>\n",
       "</table>\n"
      ],
      "text/latex": [
       "A table: 3 × 3 of type dbl\n",
       "\\begin{tabular}{r|lll}\n",
       "  & female & male & Sum\\\\\n",
       "\\hline\n",
       "\tdied & 0.1137124 & 0.2073579 & 0.3210702\\\\\n",
       "\tno death & 0.2374582 & 0.4414716 & 0.6789298\\\\\n",
       "\tSum & 0.3511706 & 0.6488294 & 1.0000000\\\\\n",
       "\\end{tabular}\n"
      ],
      "text/markdown": [
       "\n",
       "A table: 3 × 3 of type dbl\n",
       "\n",
       "| <!--/--> | female | male | Sum |\n",
       "|---|---|---|---|\n",
       "| died | 0.1137124 | 0.2073579 | 0.3210702 |\n",
       "| no death | 0.2374582 | 0.4414716 | 0.6789298 |\n",
       "| Sum | 0.3511706 | 0.6488294 | 1.0000000 |\n",
       "\n"
      ],
      "text/plain": [
       "          \n",
       "           female    male      Sum      \n",
       "  died     0.1137124 0.2073579 0.3210702\n",
       "  no death 0.2374582 0.4414716 0.6789298\n",
       "  Sum      0.3511706 0.6488294 1.0000000"
      ]
     },
     "metadata": {},
     "output_type": "display_data"
    },
    {
     "data": {
      "text/html": [
       "<table class=\"dataframe\">\n",
       "<caption>A matrix: 2 × 2 of type dbl</caption>\n",
       "<tbody>\n",
       "\t<tr><td>1.5</td><td>4.5</td></tr>\n",
       "\t<tr><td>2.5</td><td>5.5</td></tr>\n",
       "</tbody>\n",
       "</table>\n"
      ],
      "text/latex": [
       "A matrix: 2 × 2 of type dbl\n",
       "\\begin{tabular}{ll}\n",
       "\t 1.5 & 4.5\\\\\n",
       "\t 2.5 & 5.5\\\\\n",
       "\\end{tabular}\n"
      ],
      "text/markdown": [
       "\n",
       "A matrix: 2 × 2 of type dbl\n",
       "\n",
       "| 1.5 | 4.5 |\n",
       "| 2.5 | 5.5 |\n",
       "\n"
      ],
      "text/plain": [
       "     [,1] [,2]\n",
       "[1,] 1.5  4.5 \n",
       "[2,] 2.5  5.5 "
      ]
     },
     "metadata": {},
     "output_type": "display_data"
    },
    {
     "data": {
      "image/png": "[encoded data removed]",
      "text/plain": [
       "Plot with title “Distribution by gender and death Events”"
      ]
     },
     "metadata": {
      "image/png": {
       "height": 420,
       "width": 420
      }
     },
     "output_type": "display_data"
    }
   ],
   "source": [
    "\n",
    "sex_de<-table(df$DEATH_EVENT, df$sex)\n",
    "addmargins(sex_de)\n",
    "addmargins(prop.table(sex_de))\n",
    "\n",
    "\n",
    "b1<- barplot(sex_de, main=\"Distribution by gender and death Events\",\n",
    "  xlab=\"gender\", col=c(\"gray\",\"light green\"),\n",
    "  legend = rownames(sex_de), beside=TRUE)\n",
    "b1\n"
   ]
  },
  {
   "cell_type": "code",
   "execution_count": 21,
   "metadata": {},
   "outputs": [
    {
     "data": {
      "text/html": [
       "<table class=\"dataframe\">\n",
       "<caption>A table: 3 × 3 of type dbl</caption>\n",
       "<thead>\n",
       "\t<tr><th></th><th scope=col>no</th><th scope=col>yes</th><th scope=col>Sum</th></tr>\n",
       "</thead>\n",
       "<tbody>\n",
       "\t<tr><th scope=row>died</th><td> 50</td><td> 46</td><td> 96</td></tr>\n",
       "\t<tr><th scope=row>no death</th><td>120</td><td> 83</td><td>203</td></tr>\n",
       "\t<tr><th scope=row>Sum</th><td>170</td><td>129</td><td>299</td></tr>\n",
       "</tbody>\n",
       "</table>\n"
      ],
      "text/latex": [
       "A table: 3 × 3 of type dbl\n",
       "\\begin{tabular}{r|lll}\n",
       "  & no & yes & Sum\\\\\n",
       "\\hline\n",
       "\tdied &  50 &  46 &  96\\\\\n",
       "\tno death & 120 &  83 & 203\\\\\n",
       "\tSum & 170 & 129 & 299\\\\\n",
       "\\end{tabular}\n"
      ],
      "text/markdown": [
       "\n",
       "A table: 3 × 3 of type dbl\n",
       "\n",
       "| <!--/--> | no | yes | Sum |\n",
       "|---|---|---|---|\n",
       "| died |  50 |  46 |  96 |\n",
       "| no death | 120 |  83 | 203 |\n",
       "| Sum | 170 | 129 | 299 |\n",
       "\n"
      ],
      "text/plain": [
       "          \n",
       "           no  yes Sum\n",
       "  died      50  46  96\n",
       "  no death 120  83 203\n",
       "  Sum      170 129 299"
      ]
     },
     "metadata": {},
     "output_type": "display_data"
    },
    {
     "data": {
      "text/html": [
       "<table class=\"dataframe\">\n",
       "<caption>A table: 3 × 3 of type dbl</caption>\n",
       "<thead>\n",
       "\t<tr><th></th><th scope=col>no</th><th scope=col>yes</th><th scope=col>Sum</th></tr>\n",
       "</thead>\n",
       "<tbody>\n",
       "\t<tr><th scope=row>died</th><td>0.1672241</td><td>0.1538462</td><td>0.3210702</td></tr>\n",
       "\t<tr><th scope=row>no death</th><td>0.4013378</td><td>0.2775920</td><td>0.6789298</td></tr>\n",
       "\t<tr><th scope=row>Sum</th><td>0.5685619</td><td>0.4314381</td><td>1.0000000</td></tr>\n",
       "</tbody>\n",
       "</table>\n"
      ],
      "text/latex": [
       "A table: 3 × 3 of type dbl\n",
       "\\begin{tabular}{r|lll}\n",
       "  & no & yes & Sum\\\\\n",
       "\\hline\n",
       "\tdied & 0.1672241 & 0.1538462 & 0.3210702\\\\\n",
       "\tno death & 0.4013378 & 0.2775920 & 0.6789298\\\\\n",
       "\tSum & 0.5685619 & 0.4314381 & 1.0000000\\\\\n",
       "\\end{tabular}\n"
      ],
      "text/markdown": [
       "\n",
       "A table: 3 × 3 of type dbl\n",
       "\n",
       "| <!--/--> | no | yes | Sum |\n",
       "|---|---|---|---|\n",
       "| died | 0.1672241 | 0.1538462 | 0.3210702 |\n",
       "| no death | 0.4013378 | 0.2775920 | 0.6789298 |\n",
       "| Sum | 0.5685619 | 0.4314381 | 1.0000000 |\n",
       "\n"
      ],
      "text/plain": [
       "          \n",
       "           no        yes       Sum      \n",
       "  died     0.1672241 0.1538462 0.3210702\n",
       "  no death 0.4013378 0.2775920 0.6789298\n",
       "  Sum      0.5685619 0.4314381 1.0000000"
      ]
     },
     "metadata": {},
     "output_type": "display_data"
    },
    {
     "data": {
      "text/html": [
       "<table class=\"dataframe\">\n",
       "<caption>A matrix: 2 × 2 of type dbl</caption>\n",
       "<tbody>\n",
       "\t<tr><td>1.5</td><td>4.5</td></tr>\n",
       "\t<tr><td>2.5</td><td>5.5</td></tr>\n",
       "</tbody>\n",
       "</table>\n"
      ],
      "text/latex": [
       "A matrix: 2 × 2 of type dbl\n",
       "\\begin{tabular}{ll}\n",
       "\t 1.5 & 4.5\\\\\n",
       "\t 2.5 & 5.5\\\\\n",
       "\\end{tabular}\n"
      ],
      "text/markdown": [
       "\n",
       "A matrix: 2 × 2 of type dbl\n",
       "\n",
       "| 1.5 | 4.5 |\n",
       "| 2.5 | 5.5 |\n",
       "\n"
      ],
      "text/plain": [
       "     [,1] [,2]\n",
       "[1,] 1.5  4.5 \n",
       "[2,] 2.5  5.5 "
      ]
     },
     "metadata": {},
     "output_type": "display_data"
    },
    {
     "data": {
      "image/png": "[encoded data removed]",
      "text/plain": [
       "Plot with title “Distribution by anaemia and death Events”"
      ]
     },
     "metadata": {
      "image/png": {
       "height": 420,
       "width": 420
      }
     },
     "output_type": "display_data"
    }
   ],
   "source": [
    "de_anaemia<-table(df$DEATH_EVENT, df$anaemia)\n",
    "addmargins(de_anaemia)\n",
    "addmargins(prop.table(de_anaemia))\n",
    "\n",
    "b2<- barplot(de_anaemia, main=\"Distribution by anaemia and death Events\",\n",
    "  xlab=\"Anaemia\", col=c(\"gray\",\"light green\"),\n",
    "  legend = rownames(de_anaemia), beside=TRUE)\n",
    "b2"
   ]
  },
  {
   "cell_type": "code",
   "execution_count": 22,
   "metadata": {},
   "outputs": [
    {
     "data": {
      "text/html": [
       "<table class=\"dataframe\">\n",
       "<caption>A table: 3 × 3 of type dbl</caption>\n",
       "<thead>\n",
       "\t<tr><th></th><th scope=col>no</th><th scope=col>yes</th><th scope=col>Sum</th></tr>\n",
       "</thead>\n",
       "<tbody>\n",
       "\t<tr><th scope=row>died</th><td> 56</td><td> 40</td><td> 96</td></tr>\n",
       "\t<tr><th scope=row>no death</th><td>118</td><td> 85</td><td>203</td></tr>\n",
       "\t<tr><th scope=row>Sum</th><td>174</td><td>125</td><td>299</td></tr>\n",
       "</tbody>\n",
       "</table>\n"
      ],
      "text/latex": [
       "A table: 3 × 3 of type dbl\n",
       "\\begin{tabular}{r|lll}\n",
       "  & no & yes & Sum\\\\\n",
       "\\hline\n",
       "\tdied &  56 &  40 &  96\\\\\n",
       "\tno death & 118 &  85 & 203\\\\\n",
       "\tSum & 174 & 125 & 299\\\\\n",
       "\\end{tabular}\n"
      ],
      "text/markdown": [
       "\n",
       "A table: 3 × 3 of type dbl\n",
       "\n",
       "| <!--/--> | no | yes | Sum |\n",
       "|---|---|---|---|\n",
       "| died |  56 |  40 |  96 |\n",
       "| no death | 118 |  85 | 203 |\n",
       "| Sum | 174 | 125 | 299 |\n",
       "\n"
      ],
      "text/plain": [
       "          \n",
       "           no  yes Sum\n",
       "  died      56  40  96\n",
       "  no death 118  85 203\n",
       "  Sum      174 125 299"
      ]
     },
     "metadata": {},
     "output_type": "display_data"
    },
    {
     "data": {
      "text/html": [
       "<table class=\"dataframe\">\n",
       "<caption>A table: 3 × 3 of type dbl</caption>\n",
       "<thead>\n",
       "\t<tr><th></th><th scope=col>no</th><th scope=col>yes</th><th scope=col>Sum</th></tr>\n",
       "</thead>\n",
       "<tbody>\n",
       "\t<tr><th scope=row>died</th><td>0.1872910</td><td>0.1337793</td><td>0.3210702</td></tr>\n",
       "\t<tr><th scope=row>no death</th><td>0.3946488</td><td>0.2842809</td><td>0.6789298</td></tr>\n",
       "\t<tr><th scope=row>Sum</th><td>0.5819398</td><td>0.4180602</td><td>1.0000000</td></tr>\n",
       "</tbody>\n",
       "</table>\n"
      ],
      "text/latex": [
       "A table: 3 × 3 of type dbl\n",
       "\\begin{tabular}{r|lll}\n",
       "  & no & yes & Sum\\\\\n",
       "\\hline\n",
       "\tdied & 0.1872910 & 0.1337793 & 0.3210702\\\\\n",
       "\tno death & 0.3946488 & 0.2842809 & 0.6789298\\\\\n",
       "\tSum & 0.5819398 & 0.4180602 & 1.0000000\\\\\n",
       "\\end{tabular}\n"
      ],
      "text/markdown": [
       "\n",
       "A table: 3 × 3 of type dbl\n",
       "\n",
       "| <!--/--> | no | yes | Sum |\n",
       "|---|---|---|---|\n",
       "| died | 0.1872910 | 0.1337793 | 0.3210702 |\n",
       "| no death | 0.3946488 | 0.2842809 | 0.6789298 |\n",
       "| Sum | 0.5819398 | 0.4180602 | 1.0000000 |\n",
       "\n"
      ],
      "text/plain": [
       "          \n",
       "           no        yes       Sum      \n",
       "  died     0.1872910 0.1337793 0.3210702\n",
       "  no death 0.3946488 0.2842809 0.6789298\n",
       "  Sum      0.5819398 0.4180602 1.0000000"
      ]
     },
     "metadata": {},
     "output_type": "display_data"
    },
    {
     "data": {
      "text/html": [
       "<table class=\"dataframe\">\n",
       "<caption>A matrix: 2 × 2 of type dbl</caption>\n",
       "<tbody>\n",
       "\t<tr><td>1.5</td><td>4.5</td></tr>\n",
       "\t<tr><td>2.5</td><td>5.5</td></tr>\n",
       "</tbody>\n",
       "</table>\n"
      ],
      "text/latex": [
       "A matrix: 2 × 2 of type dbl\n",
       "\\begin{tabular}{ll}\n",
       "\t 1.5 & 4.5\\\\\n",
       "\t 2.5 & 5.5\\\\\n",
       "\\end{tabular}\n"
      ],
      "text/markdown": [
       "\n",
       "A matrix: 2 × 2 of type dbl\n",
       "\n",
       "| 1.5 | 4.5 |\n",
       "| 2.5 | 5.5 |\n",
       "\n"
      ],
      "text/plain": [
       "     [,1] [,2]\n",
       "[1,] 1.5  4.5 \n",
       "[2,] 2.5  5.5 "
      ]
     },
     "metadata": {},
     "output_type": "display_data"
    },
    {
     "data": {
      "image/png": "[encoded data removed]",
      "text/plain": [
       "Plot with title “Distribution by Diabetes and death Events”"
      ]
     },
     "metadata": {
      "image/png": {
       "height": 420,
       "width": 420
      }
     },
     "output_type": "display_data"
    }
   ],
   "source": [
    "de_diabetes<-table(df$DEATH_EVENT, df$diabetes)\n",
    "addmargins(de_diabetes)\n",
    "addmargins(prop.table(de_diabetes))\n",
    "\n",
    "b3<- barplot(de_diabetes, main=\"Distribution by Diabetes and death Events\",\n",
    "  xlab=\"Diabetes\", col=c(\"gray\",\"light green\"),\n",
    "  legend = rownames(de_diabetes), beside=TRUE)\n",
    "b3"
   ]
  },
  {
   "cell_type": "code",
   "execution_count": 23,
   "metadata": {},
   "outputs": [
    {
     "data": {
      "text/html": [
       "<table class=\"dataframe\">\n",
       "<caption>A table: 3 × 3 of type dbl</caption>\n",
       "<thead>\n",
       "\t<tr><th></th><th scope=col>no</th><th scope=col>yes</th><th scope=col>Sum</th></tr>\n",
       "</thead>\n",
       "<tbody>\n",
       "\t<tr><th scope=row>died</th><td> 57</td><td> 39</td><td> 96</td></tr>\n",
       "\t<tr><th scope=row>no death</th><td>137</td><td> 66</td><td>203</td></tr>\n",
       "\t<tr><th scope=row>Sum</th><td>194</td><td>105</td><td>299</td></tr>\n",
       "</tbody>\n",
       "</table>\n"
      ],
      "text/latex": [
       "A table: 3 × 3 of type dbl\n",
       "\\begin{tabular}{r|lll}\n",
       "  & no & yes & Sum\\\\\n",
       "\\hline\n",
       "\tdied &  57 &  39 &  96\\\\\n",
       "\tno death & 137 &  66 & 203\\\\\n",
       "\tSum & 194 & 105 & 299\\\\\n",
       "\\end{tabular}\n"
      ],
      "text/markdown": [
       "\n",
       "A table: 3 × 3 of type dbl\n",
       "\n",
       "| <!--/--> | no | yes | Sum |\n",
       "|---|---|---|---|\n",
       "| died |  57 |  39 |  96 |\n",
       "| no death | 137 |  66 | 203 |\n",
       "| Sum | 194 | 105 | 299 |\n",
       "\n"
      ],
      "text/plain": [
       "          \n",
       "           no  yes Sum\n",
       "  died      57  39  96\n",
       "  no death 137  66 203\n",
       "  Sum      194 105 299"
      ]
     },
     "metadata": {},
     "output_type": "display_data"
    },
    {
     "data": {
      "text/html": [
       "<table class=\"dataframe\">\n",
       "<caption>A table: 3 × 3 of type dbl</caption>\n",
       "<thead>\n",
       "\t<tr><th></th><th scope=col>no</th><th scope=col>yes</th><th scope=col>Sum</th></tr>\n",
       "</thead>\n",
       "<tbody>\n",
       "\t<tr><th scope=row>died</th><td>0.1906355</td><td>0.1304348</td><td>0.3210702</td></tr>\n",
       "\t<tr><th scope=row>no death</th><td>0.4581940</td><td>0.2207358</td><td>0.6789298</td></tr>\n",
       "\t<tr><th scope=row>Sum</th><td>0.6488294</td><td>0.3511706</td><td>1.0000000</td></tr>\n",
       "</tbody>\n",
       "</table>\n"
      ],
      "text/latex": [
       "A table: 3 × 3 of type dbl\n",
       "\\begin{tabular}{r|lll}\n",
       "  & no & yes & Sum\\\\\n",
       "\\hline\n",
       "\tdied & 0.1906355 & 0.1304348 & 0.3210702\\\\\n",
       "\tno death & 0.4581940 & 0.2207358 & 0.6789298\\\\\n",
       "\tSum & 0.6488294 & 0.3511706 & 1.0000000\\\\\n",
       "\\end{tabular}\n"
      ],
      "text/markdown": [
       "\n",
       "A table: 3 × 3 of type dbl\n",
       "\n",
       "| <!--/--> | no | yes | Sum |\n",
       "|---|---|---|---|\n",
       "| died | 0.1906355 | 0.1304348 | 0.3210702 |\n",
       "| no death | 0.4581940 | 0.2207358 | 0.6789298 |\n",
       "| Sum | 0.6488294 | 0.3511706 | 1.0000000 |\n",
       "\n"
      ],
      "text/plain": [
       "          \n",
       "           no        yes       Sum      \n",
       "  died     0.1906355 0.1304348 0.3210702\n",
       "  no death 0.4581940 0.2207358 0.6789298\n",
       "  Sum      0.6488294 0.3511706 1.0000000"
      ]
     },
     "metadata": {},
     "output_type": "display_data"
    },
    {
     "data": {
      "text/html": [
       "<table class=\"dataframe\">\n",
       "<caption>A matrix: 2 × 2 of type dbl</caption>\n",
       "<tbody>\n",
       "\t<tr><td>1.5</td><td>4.5</td></tr>\n",
       "\t<tr><td>2.5</td><td>5.5</td></tr>\n",
       "</tbody>\n",
       "</table>\n"
      ],
      "text/latex": [
       "A matrix: 2 × 2 of type dbl\n",
       "\\begin{tabular}{ll}\n",
       "\t 1.5 & 4.5\\\\\n",
       "\t 2.5 & 5.5\\\\\n",
       "\\end{tabular}\n"
      ],
      "text/markdown": [
       "\n",
       "A matrix: 2 × 2 of type dbl\n",
       "\n",
       "| 1.5 | 4.5 |\n",
       "| 2.5 | 5.5 |\n",
       "\n"
      ],
      "text/plain": [
       "     [,1] [,2]\n",
       "[1,] 1.5  4.5 \n",
       "[2,] 2.5  5.5 "
      ]
     },
     "metadata": {},
     "output_type": "display_data"
    },
    {
     "data": {
      "image/png": "[encoded data removed]",
      "text/plain": [
       "Plot with title “Distribution by high blood pressure and death Events”"
      ]
     },
     "metadata": {
      "image/png": {
       "height": 420,
       "width": 420
      }
     },
     "output_type": "display_data"
    }
   ],
   "source": [
    "de_high_blood_pressure<-table(df$DEATH_EVENT, df$high_blood_pressure)\n",
    "addmargins(de_high_blood_pressure)\n",
    "addmargins(prop.table(de_high_blood_pressure))\n",
    "\n",
    "b4<- barplot(de_high_blood_pressure, main=\"Distribution by high blood pressure and death Events\",\n",
    "  xlab=\"High blood pressure\", col=c(\"gray\",\"light green\"),\n",
    "  legend = rownames(de_high_blood_pressure), beside=TRUE)\n",
    "b4"
   ]
  },
  {
   "cell_type": "code",
   "execution_count": 24,
   "metadata": {},
   "outputs": [
    {
     "data": {
      "text/html": [
       "<table class=\"dataframe\">\n",
       "<caption>A table: 3 × 3 of type dbl</caption>\n",
       "<thead>\n",
       "\t<tr><th></th><th scope=col>no</th><th scope=col>yes</th><th scope=col>Sum</th></tr>\n",
       "</thead>\n",
       "<tbody>\n",
       "\t<tr><th scope=row>died</th><td> 66</td><td>30</td><td> 96</td></tr>\n",
       "\t<tr><th scope=row>no death</th><td>137</td><td>66</td><td>203</td></tr>\n",
       "\t<tr><th scope=row>Sum</th><td>203</td><td>96</td><td>299</td></tr>\n",
       "</tbody>\n",
       "</table>\n"
      ],
      "text/latex": [
       "A table: 3 × 3 of type dbl\n",
       "\\begin{tabular}{r|lll}\n",
       "  & no & yes & Sum\\\\\n",
       "\\hline\n",
       "\tdied &  66 & 30 &  96\\\\\n",
       "\tno death & 137 & 66 & 203\\\\\n",
       "\tSum & 203 & 96 & 299\\\\\n",
       "\\end{tabular}\n"
      ],
      "text/markdown": [
       "\n",
       "A table: 3 × 3 of type dbl\n",
       "\n",
       "| <!--/--> | no | yes | Sum |\n",
       "|---|---|---|---|\n",
       "| died |  66 | 30 |  96 |\n",
       "| no death | 137 | 66 | 203 |\n",
       "| Sum | 203 | 96 | 299 |\n",
       "\n"
      ],
      "text/plain": [
       "          \n",
       "           no  yes Sum\n",
       "  died      66 30   96\n",
       "  no death 137 66  203\n",
       "  Sum      203 96  299"
      ]
     },
     "metadata": {},
     "output_type": "display_data"
    },
    {
     "data": {
      "text/html": [
       "<table class=\"dataframe\">\n",
       "<caption>A table: 3 × 3 of type dbl</caption>\n",
       "<thead>\n",
       "\t<tr><th></th><th scope=col>no</th><th scope=col>yes</th><th scope=col>Sum</th></tr>\n",
       "</thead>\n",
       "<tbody>\n",
       "\t<tr><th scope=row>died</th><td>0.2207358</td><td>0.1003344</td><td>0.3210702</td></tr>\n",
       "\t<tr><th scope=row>no death</th><td>0.4581940</td><td>0.2207358</td><td>0.6789298</td></tr>\n",
       "\t<tr><th scope=row>Sum</th><td>0.6789298</td><td>0.3210702</td><td>1.0000000</td></tr>\n",
       "</tbody>\n",
       "</table>\n"
      ],
      "text/latex": [
       "A table: 3 × 3 of type dbl\n",
       "\\begin{tabular}{r|lll}\n",
       "  & no & yes & Sum\\\\\n",
       "\\hline\n",
       "\tdied & 0.2207358 & 0.1003344 & 0.3210702\\\\\n",
       "\tno death & 0.4581940 & 0.2207358 & 0.6789298\\\\\n",
       "\tSum & 0.6789298 & 0.3210702 & 1.0000000\\\\\n",
       "\\end{tabular}\n"
      ],
      "text/markdown": [
       "\n",
       "A table: 3 × 3 of type dbl\n",
       "\n",
       "| <!--/--> | no | yes | Sum |\n",
       "|---|---|---|---|\n",
       "| died | 0.2207358 | 0.1003344 | 0.3210702 |\n",
       "| no death | 0.4581940 | 0.2207358 | 0.6789298 |\n",
       "| Sum | 0.6789298 | 0.3210702 | 1.0000000 |\n",
       "\n"
      ],
      "text/plain": [
       "          \n",
       "           no        yes       Sum      \n",
       "  died     0.2207358 0.1003344 0.3210702\n",
       "  no death 0.4581940 0.2207358 0.6789298\n",
       "  Sum      0.6789298 0.3210702 1.0000000"
      ]
     },
     "metadata": {},
     "output_type": "display_data"
    },
    {
     "data": {
      "text/html": [
       "<table class=\"dataframe\">\n",
       "<caption>A matrix: 2 × 2 of type dbl</caption>\n",
       "<tbody>\n",
       "\t<tr><td>1.5</td><td>4.5</td></tr>\n",
       "\t<tr><td>2.5</td><td>5.5</td></tr>\n",
       "</tbody>\n",
       "</table>\n"
      ],
      "text/latex": [
       "A matrix: 2 × 2 of type dbl\n",
       "\\begin{tabular}{ll}\n",
       "\t 1.5 & 4.5\\\\\n",
       "\t 2.5 & 5.5\\\\\n",
       "\\end{tabular}\n"
      ],
      "text/markdown": [
       "\n",
       "A matrix: 2 × 2 of type dbl\n",
       "\n",
       "| 1.5 | 4.5 |\n",
       "| 2.5 | 5.5 |\n",
       "\n"
      ],
      "text/plain": [
       "     [,1] [,2]\n",
       "[1,] 1.5  4.5 \n",
       "[2,] 2.5  5.5 "
      ]
     },
     "metadata": {},
     "output_type": "display_data"
    },
    {
     "data": {
      "image/png": "[encoded data removed]",
      "text/plain": [
       "Plot with title “Distribution by Smoking and death Events”"
      ]
     },
     "metadata": {
      "image/png": {
       "height": 420,
       "width": 420
      }
     },
     "output_type": "display_data"
    }
   ],
   "source": [
    "de_smoking<-table(df$DEATH_EVENT, df$smoking)\n",
    "addmargins(de_smoking)\n",
    "addmargins(prop.table(de_smoking))\n",
    "\n",
    "b5<- barplot(de_smoking, main=\"Distribution by Smoking and death Events\",\n",
    "  xlab=\"Smoking\", col=c(\"gray\",\"light green\"),\n",
    "  legend = rownames(de_smoking), beside=TRUE)\n",
    "b5"
   ]
  },
  {
   "cell_type": "code",
   "execution_count": 25,
   "metadata": {},
   "outputs": [
    {
     "data": {
      "text/html": [
       "<table class=\"dataframe\">\n",
       "<caption>A table: 3 × 14 of type dbl</caption>\n",
       "<thead>\n",
       "\t<tr><th></th><th scope=col>40-44</th><th scope=col>45-49</th><th scope=col>50-54</th><th scope=col>55-59</th><th scope=col>60-64</th><th scope=col>65-69</th><th scope=col>70-74</th><th scope=col>75-79</th><th scope=col>80-84</th><th scope=col>85-89</th><th scope=col>90-94</th><th scope=col>95-99</th><th scope=col>100+</th><th scope=col>Sum</th></tr>\n",
       "</thead>\n",
       "<tbody>\n",
       "\t<tr><th scope=row>died</th><td> 1</td><td>10</td><td>11</td><td> 9</td><td>15</td><td>12</td><td>13</td><td> 7</td><td> 8</td><td>5</td><td>3</td><td>2</td><td>0</td><td> 96</td></tr>\n",
       "\t<tr><th scope=row>no death</th><td>17</td><td>19</td><td>37</td><td>25</td><td>40</td><td>26</td><td>23</td><td> 9</td><td> 3</td><td>3</td><td>1</td><td>0</td><td>0</td><td>203</td></tr>\n",
       "\t<tr><th scope=row>Sum</th><td>18</td><td>29</td><td>48</td><td>34</td><td>55</td><td>38</td><td>36</td><td>16</td><td>11</td><td>8</td><td>4</td><td>2</td><td>0</td><td>299</td></tr>\n",
       "</tbody>\n",
       "</table>\n"
      ],
      "text/latex": [
       "A table: 3 × 14 of type dbl\n",
       "\\begin{tabular}{r|llllllllllllll}\n",
       "  & 40-44 & 45-49 & 50-54 & 55-59 & 60-64 & 65-69 & 70-74 & 75-79 & 80-84 & 85-89 & 90-94 & 95-99 & 100+ & Sum\\\\\n",
       "\\hline\n",
       "\tdied &  1 & 10 & 11 &  9 & 15 & 12 & 13 &  7 &  8 & 5 & 3 & 2 & 0 &  96\\\\\n",
       "\tno death & 17 & 19 & 37 & 25 & 40 & 26 & 23 &  9 &  3 & 3 & 1 & 0 & 0 & 203\\\\\n",
       "\tSum & 18 & 29 & 48 & 34 & 55 & 38 & 36 & 16 & 11 & 8 & 4 & 2 & 0 & 299\\\\\n",
       "\\end{tabular}\n"
      ],
      "text/markdown": [
       "\n",
       "A table: 3 × 14 of type dbl\n",
       "\n",
       "| <!--/--> | 40-44 | 45-49 | 50-54 | 55-59 | 60-64 | 65-69 | 70-74 | 75-79 | 80-84 | 85-89 | 90-94 | 95-99 | 100+ | Sum |\n",
       "|---|---|---|---|---|---|---|---|---|---|---|---|---|---|---|\n",
       "| died |  1 | 10 | 11 |  9 | 15 | 12 | 13 |  7 |  8 | 5 | 3 | 2 | 0 |  96 |\n",
       "| no death | 17 | 19 | 37 | 25 | 40 | 26 | 23 |  9 |  3 | 3 | 1 | 0 | 0 | 203 |\n",
       "| Sum | 18 | 29 | 48 | 34 | 55 | 38 | 36 | 16 | 11 | 8 | 4 | 2 | 0 | 299 |\n",
       "\n"
      ],
      "text/plain": [
       "          \n",
       "           40-44 45-49 50-54 55-59 60-64 65-69 70-74 75-79 80-84 85-89 90-94\n",
       "  died      1    10    11     9    15    12    13     7     8    5     3    \n",
       "  no death 17    19    37    25    40    26    23     9     3    3     1    \n",
       "  Sum      18    29    48    34    55    38    36    16    11    8     4    \n",
       "          \n",
       "           95-99 100+ Sum\n",
       "  died     2     0     96\n",
       "  no death 0     0    203\n",
       "  Sum      2     0    299"
      ]
     },
     "metadata": {},
     "output_type": "display_data"
    },
    {
     "data": {
      "text/html": [
       "<table class=\"dataframe\">\n",
       "<caption>A table: 3 × 14 of type dbl</caption>\n",
       "<thead>\n",
       "\t<tr><th></th><th scope=col>40-44</th><th scope=col>45-49</th><th scope=col>50-54</th><th scope=col>55-59</th><th scope=col>60-64</th><th scope=col>65-69</th><th scope=col>70-74</th><th scope=col>75-79</th><th scope=col>80-84</th><th scope=col>85-89</th><th scope=col>90-94</th><th scope=col>95-99</th><th scope=col>100+</th><th scope=col>Sum</th></tr>\n",
       "</thead>\n",
       "<tbody>\n",
       "\t<tr><th scope=row>died</th><td>0.003344482</td><td>0.03344482</td><td>0.0367893</td><td>0.03010033</td><td>0.05016722</td><td>0.04013378</td><td>0.04347826</td><td>0.02341137</td><td>0.02675585</td><td>0.01672241</td><td>0.010033445</td><td>0.006688963</td><td>0</td><td>0.3210702</td></tr>\n",
       "\t<tr><th scope=row>no death</th><td>0.056856187</td><td>0.06354515</td><td>0.1237458</td><td>0.08361204</td><td>0.13377926</td><td>0.08695652</td><td>0.07692308</td><td>0.03010033</td><td>0.01003344</td><td>0.01003344</td><td>0.003344482</td><td>0.000000000</td><td>0</td><td>0.6789298</td></tr>\n",
       "\t<tr><th scope=row>Sum</th><td>0.060200669</td><td>0.09698997</td><td>0.1605351</td><td>0.11371237</td><td>0.18394649</td><td>0.12709030</td><td>0.12040134</td><td>0.05351171</td><td>0.03678930</td><td>0.02675585</td><td>0.013377926</td><td>0.006688963</td><td>0</td><td>1.0000000</td></tr>\n",
       "</tbody>\n",
       "</table>\n"
      ],
      "text/latex": [
       "A table: 3 × 14 of type dbl\n",
       "\\begin{tabular}{r|llllllllllllll}\n",
       "  & 40-44 & 45-49 & 50-54 & 55-59 & 60-64 & 65-69 & 70-74 & 75-79 & 80-84 & 85-89 & 90-94 & 95-99 & 100+ & Sum\\\\\n",
       "\\hline\n",
       "\tdied & 0.003344482 & 0.03344482 & 0.0367893 & 0.03010033 & 0.05016722 & 0.04013378 & 0.04347826 & 0.02341137 & 0.02675585 & 0.01672241 & 0.010033445 & 0.006688963 & 0 & 0.3210702\\\\\n",
       "\tno death & 0.056856187 & 0.06354515 & 0.1237458 & 0.08361204 & 0.13377926 & 0.08695652 & 0.07692308 & 0.03010033 & 0.01003344 & 0.01003344 & 0.003344482 & 0.000000000 & 0 & 0.6789298\\\\\n",
       "\tSum & 0.060200669 & 0.09698997 & 0.1605351 & 0.11371237 & 0.18394649 & 0.12709030 & 0.12040134 & 0.05351171 & 0.03678930 & 0.02675585 & 0.013377926 & 0.006688963 & 0 & 1.0000000\\\\\n",
       "\\end{tabular}\n"
      ],
      "text/markdown": [
       "\n",
       "A table: 3 × 14 of type dbl\n",
       "\n",
       "| <!--/--> | 40-44 | 45-49 | 50-54 | 55-59 | 60-64 | 65-69 | 70-74 | 75-79 | 80-84 | 85-89 | 90-94 | 95-99 | 100+ | Sum |\n",
       "|---|---|---|---|---|---|---|---|---|---|---|---|---|---|---|\n",
       "| died | 0.003344482 | 0.03344482 | 0.0367893 | 0.03010033 | 0.05016722 | 0.04013378 | 0.04347826 | 0.02341137 | 0.02675585 | 0.01672241 | 0.010033445 | 0.006688963 | 0 | 0.3210702 |\n",
       "| no death | 0.056856187 | 0.06354515 | 0.1237458 | 0.08361204 | 0.13377926 | 0.08695652 | 0.07692308 | 0.03010033 | 0.01003344 | 0.01003344 | 0.003344482 | 0.000000000 | 0 | 0.6789298 |\n",
       "| Sum | 0.060200669 | 0.09698997 | 0.1605351 | 0.11371237 | 0.18394649 | 0.12709030 | 0.12040134 | 0.05351171 | 0.03678930 | 0.02675585 | 0.013377926 | 0.006688963 | 0 | 1.0000000 |\n",
       "\n"
      ],
      "text/plain": [
       "          \n",
       "           40-44       45-49      50-54     55-59      60-64      65-69     \n",
       "  died     0.003344482 0.03344482 0.0367893 0.03010033 0.05016722 0.04013378\n",
       "  no death 0.056856187 0.06354515 0.1237458 0.08361204 0.13377926 0.08695652\n",
       "  Sum      0.060200669 0.09698997 0.1605351 0.11371237 0.18394649 0.12709030\n",
       "          \n",
       "           70-74      75-79      80-84      85-89      90-94       95-99      \n",
       "  died     0.04347826 0.02341137 0.02675585 0.01672241 0.010033445 0.006688963\n",
       "  no death 0.07692308 0.03010033 0.01003344 0.01003344 0.003344482 0.000000000\n",
       "  Sum      0.12040134 0.05351171 0.03678930 0.02675585 0.013377926 0.006688963\n",
       "          \n",
       "           100+ Sum      \n",
       "  died     0    0.3210702\n",
       "  no death 0    0.6789298\n",
       "  Sum      0    1.0000000"
      ]
     },
     "metadata": {},
     "output_type": "display_data"
    },
    {
     "data": {
      "text/html": [
       "<table class=\"dataframe\">\n",
       "<caption>A matrix: 2 × 13 of type dbl</caption>\n",
       "<tbody>\n",
       "\t<tr><td>1.5</td><td>4.5</td><td>7.5</td><td>10.5</td><td>13.5</td><td>16.5</td><td>19.5</td><td>22.5</td><td>25.5</td><td>28.5</td><td>31.5</td><td>34.5</td><td>37.5</td></tr>\n",
       "\t<tr><td>2.5</td><td>5.5</td><td>8.5</td><td>11.5</td><td>14.5</td><td>17.5</td><td>20.5</td><td>23.5</td><td>26.5</td><td>29.5</td><td>32.5</td><td>35.5</td><td>38.5</td></tr>\n",
       "</tbody>\n",
       "</table>\n"
      ],
      "text/latex": [
       "A matrix: 2 × 13 of type dbl\n",
       "\\begin{tabular}{lllllllllllll}\n",
       "\t 1.5 & 4.5 & 7.5 & 10.5 & 13.5 & 16.5 & 19.5 & 22.5 & 25.5 & 28.5 & 31.5 & 34.5 & 37.5\\\\\n",
       "\t 2.5 & 5.5 & 8.5 & 11.5 & 14.5 & 17.5 & 20.5 & 23.5 & 26.5 & 29.5 & 32.5 & 35.5 & 38.5\\\\\n",
       "\\end{tabular}\n"
      ],
      "text/markdown": [
       "\n",
       "A matrix: 2 × 13 of type dbl\n",
       "\n",
       "| 1.5 | 4.5 | 7.5 | 10.5 | 13.5 | 16.5 | 19.5 | 22.5 | 25.5 | 28.5 | 31.5 | 34.5 | 37.5 |\n",
       "| 2.5 | 5.5 | 8.5 | 11.5 | 14.5 | 17.5 | 20.5 | 23.5 | 26.5 | 29.5 | 32.5 | 35.5 | 38.5 |\n",
       "\n"
      ],
      "text/plain": [
       "     [,1] [,2] [,3] [,4] [,5] [,6] [,7] [,8] [,9] [,10] [,11] [,12] [,13]\n",
       "[1,] 1.5  4.5  7.5  10.5 13.5 16.5 19.5 22.5 25.5 28.5  31.5  34.5  37.5 \n",
       "[2,] 2.5  5.5  8.5  11.5 14.5 17.5 20.5 23.5 26.5 29.5  32.5  35.5  38.5 "
      ]
     },
     "metadata": {},
     "output_type": "display_data"
    },
    {
     "data": {
      "image/png": "[encoded data removed]",
      "text/plain": [
       "Plot with title “Distribution by AgeGroup and death Events”"
      ]
     },
     "metadata": {
      "image/png": {
       "height": 420,
       "width": 420
      }
     },
     "output_type": "display_data"
    }
   ],
   "source": [
    "de_AgeGroup<-table(df$DEATH_EVENT, df$AgeGroup)\n",
    "addmargins(de_AgeGroup)\n",
    "addmargins(prop.table(de_AgeGroup))\n",
    "\n",
    "b6<- barplot(de_AgeGroup, main=\"Distribution by AgeGroup and death Events\",\n",
    "  xlab=\"AgeGroup\", col=c(\"gray\",\"light green\"),\n",
    "  legend = rownames(de_AgeGroup), beside=TRUE)\n",
    "b6"
   ]
  },
  {
   "cell_type": "code",
   "execution_count": 26,
   "metadata": {},
   "outputs": [
    {
     "data": {
      "image/png": "[encoded data removed]",
      "text/plain": [
       "Plot with title “Distribution by AgeGroup and death Events”"
      ]
     },
     "metadata": {
      "image/png": {
       "height": 420,
       "width": 420
      }
     },
     "output_type": "display_data"
    }
   ],
   "source": [
    "par(mfrow = c(3, 2))\n",
    "\n",
    "barplot(sex_de, main=\"Distribution by gender and death Events\",\n",
    "  xlab=\"gender\", col=c(\"gray\",\"light green\"),\n",
    "  beside=TRUE)\n",
    "\n",
    "barplot(de_anaemia, main=\"Distribution by anaemia and death Events\",\n",
    "  xlab=\"Anaemia\", col=c(\"gray\",\"light green\"),\n",
    "  beside=TRUE)\n",
    "\n",
    "barplot(de_diabetes, main=\"Distribution by Diabetes and death Events\",\n",
    "  xlab=\"Diabetes\", col=c(\"gray\",\"light green\"),\n",
    "   beside=TRUE)\n",
    "\n",
    "barplot(de_high_blood_pressure, main=\"Distribution by high blood pressure and death Events\",\n",
    "  xlab=\"High blood pressure\", col=c(\"gray\",\"light green\"),\n",
    "  beside=TRUE)\n",
    "\n",
    "barplot(de_smoking, main=\"Distribution by Smoking and death Events\",\n",
    "  xlab=\"Smoking\", col=c(\"gray\",\"light green\"),\n",
    "  beside=TRUE)\n",
    "\n",
    " barplot(de_AgeGroup, main=\"Distribution by AgeGroup and death Events\",\n",
    "  xlab=\"AgeGroup\", col=c(\"gray\",\"light green\"),\n",
    "  legend = rownames(de_AgeGroup), beside=TRUE)"
   ]
  },
  {
   "cell_type": "code",
   "execution_count": 31,
   "metadata": {},
   "outputs": [
    {
     "data": {
      "image/png": "[encoded data removed]",
      "text/plain": [
       "plot without title"
      ]
     },
     "metadata": {
      "image/png": {
       "height": 420,
       "width": 420
      }
     },
     "output_type": "display_data"
    }
   ],
   "source": [
    "newnames=c('creatinine_phosphokinase','ejection_fraction','serum_sodium','serum_creatinine','platelets','time')\n",
    "p=list()\n",
    "for(i in 1:length(newnames)){\n",
    "  p[[i]] <- ggplot(df, aes_string(y=newnames[i],x=\"DEATH_EVENT\")) + \n",
    "              geom_boxplot() + \n",
    "              theme(axis.text.x=element_blank(),\n",
    "                    axis.title.x=element_blank()) \n",
    "  }\n",
    "\n",
    "library(gridExtra)\n",
    "grid.arrange(p[[1]],p[[2]],p[[3]],p[[4]],p[[5]],p[[6]],\n",
    "    ncol=2) "
   ]
  },
  {
   "cell_type": "markdown",
   "metadata": {},
   "source": [
    "## 3. 4. 5. ... The Rest..\n",
    "\n",
    "Similar to above, have **sections** for every major step in your analysis.  PCA, FA, Clustering, etc. running your models, hypotheses, explaining what you have learned, presenting results with visualizations, and the conclusion should have their own sections. \n"
   ]
  },
  {
   "cell_type": "markdown",
   "metadata": {},
   "source": [
    "**Multivariate Modeling using Manova to find the important numeric features**"
   ]
  },
  {
   "cell_type": "code",
   "execution_count": 70,
   "metadata": {},
   "outputs": [],
   "source": [
    "m.model<-manova(cbind(age,creatinine_phosphokinase,ejection_fraction,serum_sodium,serum_creatinine,platelets,time)~DEATH_EVENT, data=data)"
   ]
  },
  {
   "cell_type": "code",
   "execution_count": 71,
   "metadata": {},
   "outputs": [
    {
     "data": {
      "text/plain": [
       "             Df Hotelling-Lawley approx F num Df den Df    Pr(>F)    \n",
       "DEATH_EVENT   1          0.69965   29.086      7    291 < 2.2e-16 ***\n",
       "Residuals   297                                                      \n",
       "---\n",
       "Signif. codes:  0 ‘***’ 0.001 ‘**’ 0.01 ‘*’ 0.05 ‘.’ 0.1 ‘ ’ 1"
      ]
     },
     "metadata": {},
     "output_type": "display_data"
    }
   ],
   "source": [
    "summary(m.model,test=\"Hotelling-Lawley\")"
   ]
  },
  {
   "cell_type": "markdown",
   "metadata": {},
   "source": [
    "**The p value associated with the Hotelling-Lawley statistics is very small.\n",
    "It indicates a strong evidence that the mean vectors of the variables are not the same for both dead patients and survived patients.**"
   ]
  },
  {
   "cell_type": "code",
   "execution_count": 72,
   "metadata": {},
   "outputs": [
    {
     "data": {
      "text/html": [
       "<table class=\"dataframe\">\n",
       "<caption>A matrix: 1 × 2 of type dbl</caption>\n",
       "<thead>\n",
       "\t<tr><th scope=col>0</th><th scope=col>1</th></tr>\n",
       "</thead>\n",
       "<tbody>\n",
       "\t<tr><td>540.0542</td><td>670.1979</td></tr>\n",
       "</tbody>\n",
       "</table>\n"
      ],
      "text/latex": [
       "A matrix: 1 × 2 of type dbl\n",
       "\\begin{tabular}{ll}\n",
       " 0 & 1\\\\\n",
       "\\hline\n",
       "\t 540.0542 & 670.1979\\\\\n",
       "\\end{tabular}\n"
      ],
      "text/markdown": [
       "\n",
       "A matrix: 1 × 2 of type dbl\n",
       "\n",
       "| 0 | 1 |\n",
       "|---|---|\n",
       "| 540.0542 | 670.1979 |\n",
       "\n"
      ],
      "text/plain": [
       "     0        1       \n",
       "[1,] 540.0542 670.1979"
      ]
     },
     "metadata": {},
     "output_type": "display_data"
    }
   ],
   "source": [
    "t(tapply(data$creatinine_phosphokinase, data$DEATH_EVENT, mean))"
   ]
  },
  {
   "cell_type": "code",
   "execution_count": 73,
   "metadata": {},
   "outputs": [
    {
     "data": {
      "text/html": [
       "<table class=\"dataframe\">\n",
       "<caption>A matrix: 1 × 2 of type dbl</caption>\n",
       "<thead>\n",
       "\t<tr><th scope=col>0</th><th scope=col>1</th></tr>\n",
       "</thead>\n",
       "<tbody>\n",
       "\t<tr><td>58.76191</td><td>65.21528</td></tr>\n",
       "</tbody>\n",
       "</table>\n"
      ],
      "text/latex": [
       "A matrix: 1 × 2 of type dbl\n",
       "\\begin{tabular}{ll}\n",
       " 0 & 1\\\\\n",
       "\\hline\n",
       "\t 58.76191 & 65.21528\\\\\n",
       "\\end{tabular}\n"
      ],
      "text/markdown": [
       "\n",
       "A matrix: 1 × 2 of type dbl\n",
       "\n",
       "| 0 | 1 |\n",
       "|---|---|\n",
       "| 58.76191 | 65.21528 |\n",
       "\n"
      ],
      "text/plain": [
       "     0        1       \n",
       "[1,] 58.76191 65.21528"
      ]
     },
     "metadata": {},
     "output_type": "display_data"
    }
   ],
   "source": [
    "t(tapply(data$age, data$DEATH_EVENT, mean))"
   ]
  },
  {
   "cell_type": "code",
   "execution_count": 35,
   "metadata": {},
   "outputs": [
    {
     "data": {
      "text/html": [
       "<table class=\"dataframe\">\n",
       "<caption>A matrix: 1 × 2 of type dbl</caption>\n",
       "<thead>\n",
       "\t<tr><th scope=col>0</th><th scope=col>1</th></tr>\n",
       "</thead>\n",
       "<tbody>\n",
       "\t<tr><td>40.26601</td><td>33.46875</td></tr>\n",
       "</tbody>\n",
       "</table>\n"
      ],
      "text/latex": [
       "A matrix: 1 × 2 of type dbl\n",
       "\\begin{tabular}{ll}\n",
       " 0 & 1\\\\\n",
       "\\hline\n",
       "\t 40.26601 & 33.46875\\\\\n",
       "\\end{tabular}\n"
      ],
      "text/markdown": [
       "\n",
       "A matrix: 1 × 2 of type dbl\n",
       "\n",
       "| 0 | 1 |\n",
       "|---|---|\n",
       "| 40.26601 | 33.46875 |\n",
       "\n"
      ],
      "text/plain": [
       "     0        1       \n",
       "[1,] 40.26601 33.46875"
      ]
     },
     "metadata": {},
     "output_type": "display_data"
    }
   ],
   "source": [
    "t(tapply(data$ejection_fraction, data$DEATH_EVENT, mean))"
   ]
  },
  {
   "cell_type": "code",
   "execution_count": 36,
   "metadata": {},
   "outputs": [
    {
     "data": {
      "text/html": [
       "<table class=\"dataframe\">\n",
       "<caption>A matrix: 1 × 2 of type dbl</caption>\n",
       "<thead>\n",
       "\t<tr><th scope=col>0</th><th scope=col>1</th></tr>\n",
       "</thead>\n",
       "<tbody>\n",
       "\t<tr><td>137.2167</td><td>135.375</td></tr>\n",
       "</tbody>\n",
       "</table>\n"
      ],
      "text/latex": [
       "A matrix: 1 × 2 of type dbl\n",
       "\\begin{tabular}{ll}\n",
       " 0 & 1\\\\\n",
       "\\hline\n",
       "\t 137.2167 & 135.375\\\\\n",
       "\\end{tabular}\n"
      ],
      "text/markdown": [
       "\n",
       "A matrix: 1 × 2 of type dbl\n",
       "\n",
       "| 0 | 1 |\n",
       "|---|---|\n",
       "| 137.2167 | 135.375 |\n",
       "\n"
      ],
      "text/plain": [
       "     0        1      \n",
       "[1,] 137.2167 135.375"
      ]
     },
     "metadata": {},
     "output_type": "display_data"
    }
   ],
   "source": [
    "t(tapply(data$serum_sodium, data$DEATH_EVENT, mean))"
   ]
  },
  {
   "cell_type": "code",
   "execution_count": 37,
   "metadata": {},
   "outputs": [
    {
     "data": {
      "text/html": [
       "<table class=\"dataframe\">\n",
       "<caption>A matrix: 1 × 2 of type dbl</caption>\n",
       "<thead>\n",
       "\t<tr><th scope=col>0</th><th scope=col>1</th></tr>\n",
       "</thead>\n",
       "<tbody>\n",
       "\t<tr><td>1.184877</td><td>1.835833</td></tr>\n",
       "</tbody>\n",
       "</table>\n"
      ],
      "text/latex": [
       "A matrix: 1 × 2 of type dbl\n",
       "\\begin{tabular}{ll}\n",
       " 0 & 1\\\\\n",
       "\\hline\n",
       "\t 1.184877 & 1.835833\\\\\n",
       "\\end{tabular}\n"
      ],
      "text/markdown": [
       "\n",
       "A matrix: 1 × 2 of type dbl\n",
       "\n",
       "| 0 | 1 |\n",
       "|---|---|\n",
       "| 1.184877 | 1.835833 |\n",
       "\n"
      ],
      "text/plain": [
       "     0        1       \n",
       "[1,] 1.184877 1.835833"
      ]
     },
     "metadata": {},
     "output_type": "display_data"
    }
   ],
   "source": [
    "t(tapply(data$serum_creatinine, data$DEATH_EVENT, mean))"
   ]
  },
  {
   "cell_type": "code",
   "execution_count": 38,
   "metadata": {},
   "outputs": [
    {
     "data": {
      "text/html": [
       "<table class=\"dataframe\">\n",
       "<caption>A matrix: 1 × 2 of type dbl</caption>\n",
       "<thead>\n",
       "\t<tr><th scope=col>0</th><th scope=col>1</th></tr>\n",
       "</thead>\n",
       "<tbody>\n",
       "\t<tr><td>266657.5</td><td>256381</td></tr>\n",
       "</tbody>\n",
       "</table>\n"
      ],
      "text/latex": [
       "A matrix: 1 × 2 of type dbl\n",
       "\\begin{tabular}{ll}\n",
       " 0 & 1\\\\\n",
       "\\hline\n",
       "\t 266657.5 & 256381\\\\\n",
       "\\end{tabular}\n"
      ],
      "text/markdown": [
       "\n",
       "A matrix: 1 × 2 of type dbl\n",
       "\n",
       "| 0 | 1 |\n",
       "|---|---|\n",
       "| 266657.5 | 256381 |\n",
       "\n"
      ],
      "text/plain": [
       "     0        1     \n",
       "[1,] 266657.5 256381"
      ]
     },
     "metadata": {},
     "output_type": "display_data"
    }
   ],
   "source": [
    "t(tapply(data$platelets, data$DEATH_EVENT, mean))"
   ]
  },
  {
   "cell_type": "code",
   "execution_count": 39,
   "metadata": {},
   "outputs": [
    {
     "data": {
      "text/html": [
       "<table class=\"dataframe\">\n",
       "<caption>A matrix: 1 × 2 of type dbl</caption>\n",
       "<thead>\n",
       "\t<tr><th scope=col>0</th><th scope=col>1</th></tr>\n",
       "</thead>\n",
       "<tbody>\n",
       "\t<tr><td>158.3399</td><td>70.88542</td></tr>\n",
       "</tbody>\n",
       "</table>\n"
      ],
      "text/latex": [
       "A matrix: 1 × 2 of type dbl\n",
       "\\begin{tabular}{ll}\n",
       " 0 & 1\\\\\n",
       "\\hline\n",
       "\t 158.3399 & 70.88542\\\\\n",
       "\\end{tabular}\n"
      ],
      "text/markdown": [
       "\n",
       "A matrix: 1 × 2 of type dbl\n",
       "\n",
       "| 0 | 1 |\n",
       "|---|---|\n",
       "| 158.3399 | 70.88542 |\n",
       "\n"
      ],
      "text/plain": [
       "     0        1       \n",
       "[1,] 158.3399 70.88542"
      ]
     },
     "metadata": {},
     "output_type": "display_data"
    }
   ],
   "source": [
    "t(tapply(data$time, data$DEATH_EVENT, mean))"
   ]
  },
  {
   "cell_type": "markdown",
   "metadata": {},
   "source": [
    "**The features like age, creatinine_phosphokinase, serum_creatinine, platelets, ejection_fraction and time are significantly different for survivors than the mortals.**"
   ]
  },
  {
   "cell_type": "markdown",
   "metadata": {},
   "source": [
    "**Fitting a logistic regression model to predict the chances of surviving after a heart failure with the given features.**"
   ]
  },
  {
   "cell_type": "code",
   "execution_count": 40,
   "metadata": {},
   "outputs": [
    {
     "data": {
      "text/plain": [
       "\n",
       "  0   1 \n",
       "203  96 "
      ]
     },
     "metadata": {},
     "output_type": "display_data"
    }
   ],
   "source": [
    "table(data$DEATH_EVENT)"
   ]
  },
  {
   "cell_type": "markdown",
   "metadata": {},
   "source": [
    "**Splitting the data into train and test sets**"
   ]
  },
  {
   "cell_type": "code",
   "execution_count": 41,
   "metadata": {},
   "outputs": [
    {
     "name": "stderr",
     "output_type": "stream",
     "text": [
      "Loading required package: ISLR\n",
      "\n"
     ]
    },
    {
     "data": {
      "text/html": [
       "209"
      ],
      "text/latex": [
       "209"
      ],
      "text/markdown": [
       "209"
      ],
      "text/plain": [
       "[1] 209"
      ]
     },
     "metadata": {},
     "output_type": "display_data"
    },
    {
     "data": {
      "text/html": [
       "90"
      ],
      "text/latex": [
       "90"
      ],
      "text/markdown": [
       "90"
      ],
      "text/plain": [
       "[1] 90"
      ]
     },
     "metadata": {},
     "output_type": "display_data"
    }
   ],
   "source": [
    "library(caTools)\n",
    "require(ISLR)\n",
    "set.seed(100) # set.seed() will help us to reproduce the results.\n",
    "split = sample.split(data$DEATH_EVENT,SplitRatio=0.7)\n",
    "\n",
    "hfs_train = subset(data, split==TRUE)\n",
    "hfs_test = subset(data, split==FALSE)\n",
    "\n",
    "nrow(hfs_train)\n",
    "nrow(hfs_test)"
   ]
  },
  {
   "cell_type": "code",
   "execution_count": 42,
   "metadata": {},
   "outputs": [
    {
     "data": {
      "text/html": [
       "<style>\n",
       ".list-inline {list-style: none; margin:0; padding: 0}\n",
       ".list-inline>li {display: inline-block}\n",
       ".list-inline>li:not(:last-child)::after {content: \"\\00b7\"; padding: 0 .5ex}\n",
       "</style>\n",
       "<ol class=list-inline><li>'age'</li><li>'anaemia'</li><li>'creatinine_phosphokinase'</li><li>'diabetes'</li><li>'ejection_fraction'</li><li>'high_blood_pressure'</li><li>'platelets'</li><li>'serum_creatinine'</li><li>'serum_sodium'</li><li>'sex'</li><li>'smoking'</li><li>'time'</li><li>'DEATH_EVENT'</li></ol>\n"
      ],
      "text/latex": [
       "\\begin{enumerate*}\n",
       "\\item 'age'\n",
       "\\item 'anaemia'\n",
       "\\item 'creatinine\\_phosphokinase'\n",
       "\\item 'diabetes'\n",
       "\\item 'ejection\\_fraction'\n",
       "\\item 'high\\_blood\\_pressure'\n",
       "\\item 'platelets'\n",
       "\\item 'serum\\_creatinine'\n",
       "\\item 'serum\\_sodium'\n",
       "\\item 'sex'\n",
       "\\item 'smoking'\n",
       "\\item 'time'\n",
       "\\item 'DEATH\\_EVENT'\n",
       "\\end{enumerate*}\n"
      ],
      "text/markdown": [
       "1. 'age'\n",
       "2. 'anaemia'\n",
       "3. 'creatinine_phosphokinase'\n",
       "4. 'diabetes'\n",
       "5. 'ejection_fraction'\n",
       "6. 'high_blood_pressure'\n",
       "7. 'platelets'\n",
       "8. 'serum_creatinine'\n",
       "9. 'serum_sodium'\n",
       "10. 'sex'\n",
       "11. 'smoking'\n",
       "12. 'time'\n",
       "13. 'DEATH_EVENT'\n",
       "\n",
       "\n"
      ],
      "text/plain": [
       " [1] \"age\"                      \"anaemia\"                 \n",
       " [3] \"creatinine_phosphokinase\" \"diabetes\"                \n",
       " [5] \"ejection_fraction\"        \"high_blood_pressure\"     \n",
       " [7] \"platelets\"                \"serum_creatinine\"        \n",
       " [9] \"serum_sodium\"             \"sex\"                     \n",
       "[11] \"smoking\"                  \"time\"                    \n",
       "[13] \"DEATH_EVENT\"             "
      ]
     },
     "metadata": {},
     "output_type": "display_data"
    }
   ],
   "source": [
    "names(data)"
   ]
  },
  {
   "cell_type": "code",
   "execution_count": 43,
   "metadata": {},
   "outputs": [],
   "source": [
    "heart_failure_survive = glm(DEATH_EVENT~ age + anaemia + creatinine_phosphokinase + diabetes + ejection_fraction + high_blood_pressure + platelets + serum_creatinine + serum_sodium + sex + smoking + time , data = hfs_train, family = binomial)"
   ]
  },
  {
   "cell_type": "code",
   "execution_count": 44,
   "metadata": {},
   "outputs": [
    {
     "data": {
      "text/plain": [
       "\n",
       "Call:\n",
       "glm(formula = DEATH_EVENT ~ age + anaemia + creatinine_phosphokinase + \n",
       "    diabetes + ejection_fraction + high_blood_pressure + platelets + \n",
       "    serum_creatinine + serum_sodium + sex + smoking + time, family = binomial, \n",
       "    data = hfs_train)\n",
       "\n",
       "Deviance Residuals: \n",
       "    Min       1Q   Median       3Q      Max  \n",
       "-2.1193  -0.5761  -0.1853   0.4961   2.6889  \n",
       "\n",
       "Coefficients:\n",
       "                           Estimate Std. Error z value Pr(>|z|)    \n",
       "(Intercept)               1.990e+01  7.855e+00   2.534 0.011278 *  \n",
       "age                       4.221e-02  2.004e-02   2.106 0.035212 *  \n",
       "anaemia                  -2.800e-01  4.589e-01  -0.610 0.541836    \n",
       "creatinine_phosphokinase  6.384e-05  1.788e-04   0.357 0.721107    \n",
       "diabetes                 -1.035e-01  4.401e-01  -0.235 0.814047    \n",
       "ejection_fraction        -8.177e-02  2.116e-02  -3.864 0.000112 ***\n",
       "high_blood_pressure      -2.289e-01  4.560e-01  -0.502 0.615662    \n",
       "platelets                -3.101e-07  2.159e-06  -0.144 0.885766    \n",
       "serum_creatinine          6.208e-01  3.300e-01   1.881 0.059946 .  \n",
       "serum_sodium             -1.346e-01  5.537e-02  -2.430 0.015101 *  \n",
       "sex                      -1.447e-01  4.999e-01  -0.289 0.772266    \n",
       "smoking                  -2.617e-03  4.765e-01  -0.005 0.995618    \n",
       "time                     -2.236e-02  3.876e-03  -5.769 7.97e-09 ***\n",
       "---\n",
       "Signif. codes:  0 ‘***’ 0.001 ‘**’ 0.01 ‘*’ 0.05 ‘.’ 0.1 ‘ ’ 1\n",
       "\n",
       "(Dispersion parameter for binomial family taken to be 1)\n",
       "\n",
       "    Null deviance: 262.21  on 208  degrees of freedom\n",
       "Residual deviance: 148.28  on 196  degrees of freedom\n",
       "AIC: 174.28\n",
       "\n",
       "Number of Fisher Scoring iterations: 6\n"
      ]
     },
     "metadata": {},
     "output_type": "display_data"
    }
   ],
   "source": [
    "summary(heart_failure_survive)"
   ]
  },
  {
   "cell_type": "markdown",
   "metadata": {},
   "source": [
    "**Finding accuracy of the above model**"
   ]
  },
  {
   "cell_type": "code",
   "execution_count": 45,
   "metadata": {},
   "outputs": [
    {
     "name": "stdout",
     "output_type": "stream",
     "text": [
      "[1] \"Accuracy 0.777777777777778\"\n"
     ]
    }
   ],
   "source": [
    "probs = predict(heart_failure_survive, type = 'response', newdata=hfs_test)\n",
    "\n",
    "pred <- ifelse(probs > 0.5, 1, 0)\n",
    "\n",
    "misclassificationError<-mean(pred!=hfs_test$DEATH_EVENT)\n",
    "print(paste(\"Accuracy\",1-misclassificationError))"
   ]
  },
  {
   "cell_type": "code",
   "execution_count": 46,
   "metadata": {},
   "outputs": [
    {
     "data": {
      "text/plain": [
       "\n",
       "  0   1 \n",
       "203  96 "
      ]
     },
     "metadata": {},
     "output_type": "display_data"
    }
   ],
   "source": [
    "table(data$DEATH_EVENT)\n"
   ]
  },
  {
   "cell_type": "code",
   "execution_count": 47,
   "metadata": {},
   "outputs": [
    {
     "name": "stdout",
     "output_type": "stream",
     "text": [
      "[1] \"baseline accuracy = 0.678929765886288\"\n"
     ]
    }
   ],
   "source": [
    "print(paste('baseline accuracy =', 203/(203+96)))"
   ]
  },
  {
   "cell_type": "markdown",
   "metadata": {},
   "source": [
    "**The accuracy of the model for unseen data is about 78% where as baseline model has n accuracy of 67%.**"
   ]
  },
  {
   "cell_type": "code",
   "execution_count": 48,
   "metadata": {},
   "outputs": [
    {
     "data": {
      "text/plain": [
       "   \n",
       "    FALSE TRUE\n",
       "  0    54    7\n",
       "  1    13   16"
      ]
     },
     "metadata": {},
     "output_type": "display_data"
    }
   ],
   "source": [
    "table(hfs_test$DEATH_EVENT,pred>0.5)"
   ]
  },
  {
   "cell_type": "markdown",
   "metadata": {},
   "source": [
    "**Finding the sensitivity and specificity using the two way table results**"
   ]
  },
  {
   "cell_type": "code",
   "execution_count": 49,
   "metadata": {},
   "outputs": [
    {
     "name": "stdout",
     "output_type": "stream",
     "text": [
      "[1] \"sens= 0.551724137931034\"\n",
      "[1] \"spec= 0.885245901639344\"\n"
     ]
    }
   ],
   "source": [
    "print(paste('sens=',16/(16+13)))\n",
    "print(paste('spec=',54/(54+7)))"
   ]
  },
  {
   "cell_type": "markdown",
   "metadata": {},
   "source": [
    "**ROC curve for the model**"
   ]
  },
  {
   "cell_type": "code",
   "execution_count": 50,
   "metadata": {},
   "outputs": [
    {
     "data": {
      "text/html": [
       "0.864330130016959"
      ],
      "text/latex": [
       "0.864330130016959"
      ],
      "text/markdown": [
       "0.864330130016959"
      ],
      "text/plain": [
       "[1] 0.8643301"
      ]
     },
     "metadata": {},
     "output_type": "display_data"
    },
    {
     "data": {
      "image/png": "[encoded data removed]",
      "text/plain": [
       "plot without title"
      ]
     },
     "metadata": {
      "image/png": {
       "height": 420,
       "width": 420
      }
     },
     "output_type": "display_data"
    }
   ],
   "source": [
    "library(ROCR)\n",
    "ROCR_predictions = prediction(probs,hfs_test$DEATH_EVENT)\n",
    "perf<-performance(ROCR_predictions,\"tpr\",\"fpr\")\n",
    "\n",
    "plot(perf, colorsize = TRUE)\n",
    "abline(0,1)\n",
    "as.numeric(performance(ROCR_predictions,\"auc\")@y.values)"
   ]
  },
  {
   "cell_type": "markdown",
   "metadata": {},
   "source": [
    "**Decision Tree Model**"
   ]
  },
  {
   "cell_type": "code",
   "execution_count": 51,
   "metadata": {},
   "outputs": [
    {
     "data": {
      "text/html": [
       "<style>\n",
       ".list-inline {list-style: none; margin:0; padding: 0}\n",
       ".list-inline>li {display: inline-block}\n",
       ".list-inline>li:not(:last-child)::after {content: \"\\00b7\"; padding: 0 .5ex}\n",
       "</style>\n",
       "<ol class=list-inline><li>209</li><li>13</li></ol>\n"
      ],
      "text/latex": [
       "\\begin{enumerate*}\n",
       "\\item 209\n",
       "\\item 13\n",
       "\\end{enumerate*}\n"
      ],
      "text/markdown": [
       "1. 209\n",
       "2. 13\n",
       "\n",
       "\n"
      ],
      "text/plain": [
       "[1] 209  13"
      ]
     },
     "metadata": {},
     "output_type": "display_data"
    },
    {
     "data": {
      "text/html": [
       "<style>\n",
       ".list-inline {list-style: none; margin:0; padding: 0}\n",
       ".list-inline>li {display: inline-block}\n",
       ".list-inline>li:not(:last-child)::after {content: \"\\00b7\"; padding: 0 .5ex}\n",
       "</style>\n",
       "<ol class=list-inline><li>90</li><li>13</li></ol>\n"
      ],
      "text/latex": [
       "\\begin{enumerate*}\n",
       "\\item 90\n",
       "\\item 13\n",
       "\\end{enumerate*}\n"
      ],
      "text/markdown": [
       "1. 90\n",
       "2. 13\n",
       "\n",
       "\n"
      ],
      "text/plain": [
       "[1] 90 13"
      ]
     },
     "metadata": {},
     "output_type": "display_data"
    },
    {
     "data": {
      "text/html": [
       "<style>\n",
       ".list-inline {list-style: none; margin:0; padding: 0}\n",
       ".list-inline>li {display: inline-block}\n",
       ".list-inline>li:not(:last-child)::after {content: \"\\00b7\"; padding: 0 .5ex}\n",
       "</style>\n",
       "<ol class=list-inline><li>'age'</li><li>'anaemia'</li><li>'creatinine_phosphokinase'</li><li>'diabetes'</li><li>'ejection_fraction'</li><li>'high_blood_pressure'</li><li>'platelets'</li><li>'serum_creatinine'</li><li>'serum_sodium'</li><li>'sex'</li><li>'smoking'</li><li>'time'</li><li>'DEATH_EVENT'</li></ol>\n"
      ],
      "text/latex": [
       "\\begin{enumerate*}\n",
       "\\item 'age'\n",
       "\\item 'anaemia'\n",
       "\\item 'creatinine\\_phosphokinase'\n",
       "\\item 'diabetes'\n",
       "\\item 'ejection\\_fraction'\n",
       "\\item 'high\\_blood\\_pressure'\n",
       "\\item 'platelets'\n",
       "\\item 'serum\\_creatinine'\n",
       "\\item 'serum\\_sodium'\n",
       "\\item 'sex'\n",
       "\\item 'smoking'\n",
       "\\item 'time'\n",
       "\\item 'DEATH\\_EVENT'\n",
       "\\end{enumerate*}\n"
      ],
      "text/markdown": [
       "1. 'age'\n",
       "2. 'anaemia'\n",
       "3. 'creatinine_phosphokinase'\n",
       "4. 'diabetes'\n",
       "5. 'ejection_fraction'\n",
       "6. 'high_blood_pressure'\n",
       "7. 'platelets'\n",
       "8. 'serum_creatinine'\n",
       "9. 'serum_sodium'\n",
       "10. 'sex'\n",
       "11. 'smoking'\n",
       "12. 'time'\n",
       "13. 'DEATH_EVENT'\n",
       "\n",
       "\n"
      ],
      "text/plain": [
       " [1] \"age\"                      \"anaemia\"                 \n",
       " [3] \"creatinine_phosphokinase\" \"diabetes\"                \n",
       " [5] \"ejection_fraction\"        \"high_blood_pressure\"     \n",
       " [7] \"platelets\"                \"serum_creatinine\"        \n",
       " [9] \"serum_sodium\"             \"sex\"                     \n",
       "[11] \"smoking\"                  \"time\"                    \n",
       "[13] \"DEATH_EVENT\"             "
      ]
     },
     "metadata": {},
     "output_type": "display_data"
    },
    {
     "data": {
      "text/html": [
       "<table class=\"dataframe\">\n",
       "<caption>A data.frame: 90 × 12</caption>\n",
       "<thead>\n",
       "\t<tr><th></th><th scope=col>age</th><th scope=col>anaemia</th><th scope=col>creatinine_phosphokinase</th><th scope=col>diabetes</th><th scope=col>ejection_fraction</th><th scope=col>high_blood_pressure</th><th scope=col>platelets</th><th scope=col>serum_creatinine</th><th scope=col>serum_sodium</th><th scope=col>sex</th><th scope=col>smoking</th><th scope=col>time</th></tr>\n",
       "\t<tr><th></th><th scope=col>&lt;dbl&gt;</th><th scope=col>&lt;int&gt;</th><th scope=col>&lt;int&gt;</th><th scope=col>&lt;int&gt;</th><th scope=col>&lt;int&gt;</th><th scope=col>&lt;int&gt;</th><th scope=col>&lt;dbl&gt;</th><th scope=col>&lt;dbl&gt;</th><th scope=col>&lt;int&gt;</th><th scope=col>&lt;int&gt;</th><th scope=col>&lt;int&gt;</th><th scope=col>&lt;int&gt;</th></tr>\n",
       "</thead>\n",
       "<tbody>\n",
       "\t<tr><th scope=row>3</th><td>65</td><td>0</td><td> 146</td><td>0</td><td>20</td><td>0</td><td>162000</td><td>1.30</td><td>129</td><td>1</td><td>1</td><td> 7</td></tr>\n",
       "\t<tr><th scope=row>5</th><td>65</td><td>1</td><td> 160</td><td>1</td><td>20</td><td>0</td><td>327000</td><td>2.70</td><td>116</td><td>0</td><td>0</td><td> 8</td></tr>\n",
       "\t<tr><th scope=row>7</th><td>75</td><td>1</td><td> 246</td><td>0</td><td>15</td><td>0</td><td>127000</td><td>1.20</td><td>137</td><td>1</td><td>0</td><td>10</td></tr>\n",
       "\t<tr><th scope=row>8</th><td>60</td><td>1</td><td> 315</td><td>1</td><td>60</td><td>0</td><td>454000</td><td>1.10</td><td>131</td><td>1</td><td>1</td><td>10</td></tr>\n",
       "\t<tr><th scope=row>10</th><td>80</td><td>1</td><td> 123</td><td>0</td><td>35</td><td>1</td><td>388000</td><td>9.40</td><td>133</td><td>1</td><td>1</td><td>10</td></tr>\n",
       "\t<tr><th scope=row>11</th><td>75</td><td>1</td><td>  81</td><td>0</td><td>38</td><td>1</td><td>368000</td><td>4.00</td><td>131</td><td>1</td><td>1</td><td>10</td></tr>\n",
       "\t<tr><th scope=row>12</th><td>62</td><td>0</td><td> 231</td><td>0</td><td>25</td><td>1</td><td>253000</td><td>0.90</td><td>140</td><td>1</td><td>1</td><td>10</td></tr>\n",
       "\t<tr><th scope=row>18</th><td>45</td><td>0</td><td> 582</td><td>0</td><td>14</td><td>0</td><td>166000</td><td>0.80</td><td>127</td><td>1</td><td>0</td><td>14</td></tr>\n",
       "\t<tr><th scope=row>21</th><td>65</td><td>1</td><td>  52</td><td>0</td><td>25</td><td>1</td><td>276000</td><td>1.30</td><td>137</td><td>0</td><td>0</td><td>16</td></tr>\n",
       "\t<tr><th scope=row>23</th><td>68</td><td>1</td><td> 220</td><td>0</td><td>35</td><td>1</td><td>289000</td><td>0.90</td><td>140</td><td>1</td><td>1</td><td>20</td></tr>\n",
       "\t<tr><th scope=row>32</th><td>85</td><td>0</td><td>  23</td><td>0</td><td>45</td><td>0</td><td>360000</td><td>3.00</td><td>132</td><td>1</td><td>0</td><td>28</td></tr>\n",
       "\t<tr><th scope=row>46</th><td>50</td><td>0</td><td> 582</td><td>1</td><td>38</td><td>0</td><td>310000</td><td>1.90</td><td>135</td><td>1</td><td>1</td><td>35</td></tr>\n",
       "\t<tr><th scope=row>47</th><td>51</td><td>0</td><td>1380</td><td>0</td><td>25</td><td>1</td><td>271000</td><td>0.90</td><td>130</td><td>1</td><td>0</td><td>38</td></tr>\n",
       "\t<tr><th scope=row>52</th><td>53</td><td>1</td><td>  91</td><td>0</td><td>20</td><td>1</td><td>418000</td><td>1.40</td><td>139</td><td>0</td><td>0</td><td>43</td></tr>\n",
       "\t<tr><th scope=row>54</th><td>70</td><td>1</td><td>  69</td><td>1</td><td>50</td><td>1</td><td>351000</td><td>1.00</td><td>134</td><td>0</td><td>0</td><td>44</td></tr>\n",
       "\t<tr><th scope=row>55</th><td>60</td><td>1</td><td> 260</td><td>1</td><td>38</td><td>0</td><td>255000</td><td>2.20</td><td>132</td><td>0</td><td>1</td><td>45</td></tr>\n",
       "\t<tr><th scope=row>58</th><td>60</td><td>1</td><td> 607</td><td>0</td><td>40</td><td>0</td><td>216000</td><td>0.60</td><td>138</td><td>1</td><td>1</td><td>54</td></tr>\n",
       "\t<tr><th scope=row>59</th><td>49</td><td>0</td><td> 789</td><td>0</td><td>20</td><td>1</td><td>319000</td><td>1.10</td><td>136</td><td>1</td><td>1</td><td>55</td></tr>\n",
       "\t<tr><th scope=row>63</th><td>55</td><td>0</td><td> 109</td><td>0</td><td>35</td><td>0</td><td>254000</td><td>1.10</td><td>139</td><td>1</td><td>1</td><td>60</td></tr>\n",
       "\t<tr><th scope=row>66</th><td>60</td><td>0</td><td>  68</td><td>0</td><td>20</td><td>0</td><td>119000</td><td>2.90</td><td>127</td><td>1</td><td>1</td><td>64</td></tr>\n",
       "\t<tr><th scope=row>67</th><td>42</td><td>1</td><td> 250</td><td>1</td><td>15</td><td>0</td><td>213000</td><td>1.30</td><td>136</td><td>0</td><td>0</td><td>65</td></tr>\n",
       "\t<tr><th scope=row>68</th><td>72</td><td>1</td><td> 110</td><td>0</td><td>25</td><td>0</td><td>274000</td><td>1.00</td><td>140</td><td>1</td><td>1</td><td>65</td></tr>\n",
       "\t<tr><th scope=row>69</th><td>70</td><td>0</td><td> 161</td><td>0</td><td>25</td><td>0</td><td>244000</td><td>1.20</td><td>142</td><td>0</td><td>0</td><td>66</td></tr>\n",
       "\t<tr><th scope=row>74</th><td>65</td><td>0</td><td> 224</td><td>1</td><td>50</td><td>0</td><td>149000</td><td>1.30</td><td>137</td><td>1</td><td>1</td><td>72</td></tr>\n",
       "\t<tr><th scope=row>76</th><td>60</td><td>1</td><td>  47</td><td>0</td><td>20</td><td>0</td><td>204000</td><td>0.70</td><td>139</td><td>1</td><td>1</td><td>73</td></tr>\n",
       "\t<tr><th scope=row>81</th><td>70</td><td>0</td><td>  69</td><td>0</td><td>40</td><td>0</td><td>293000</td><td>1.70</td><td>136</td><td>0</td><td>0</td><td>75</td></tr>\n",
       "\t<tr><th scope=row>82</th><td>67</td><td>0</td><td> 582</td><td>0</td><td>50</td><td>0</td><td>263358</td><td>1.18</td><td>137</td><td>1</td><td>1</td><td>76</td></tr>\n",
       "\t<tr><th scope=row>91</th><td>70</td><td>0</td><td>  66</td><td>1</td><td>45</td><td>0</td><td>249000</td><td>0.80</td><td>136</td><td>1</td><td>1</td><td>80</td></tr>\n",
       "\t<tr><th scope=row>94</th><td>60</td><td>1</td><td> 154</td><td>0</td><td>25</td><td>0</td><td>210000</td><td>1.70</td><td>135</td><td>1</td><td>0</td><td>82</td></tr>\n",
       "\t<tr><th scope=row>95</th><td>58</td><td>0</td><td> 144</td><td>1</td><td>38</td><td>1</td><td>327000</td><td>0.70</td><td>142</td><td>0</td><td>0</td><td>83</td></tr>\n",
       "\t<tr><th scope=row>⋮</th><td>⋮</td><td>⋮</td><td>⋮</td><td>⋮</td><td>⋮</td><td>⋮</td><td>⋮</td><td>⋮</td><td>⋮</td><td>⋮</td><td>⋮</td><td>⋮</td></tr>\n",
       "\t<tr><th scope=row>200</th><td>60</td><td>0</td><td>1211</td><td>1</td><td>35</td><td>0</td><td>263358</td><td>1.8</td><td>113</td><td>1</td><td>1</td><td>186</td></tr>\n",
       "\t<tr><th scope=row>201</th><td>63</td><td>1</td><td>1767</td><td>0</td><td>45</td><td>0</td><td> 73000</td><td>0.7</td><td>137</td><td>1</td><td>0</td><td>186</td></tr>\n",
       "\t<tr><th scope=row>205</th><td>78</td><td>1</td><td>  64</td><td>0</td><td>40</td><td>0</td><td>277000</td><td>0.7</td><td>137</td><td>1</td><td>1</td><td>187</td></tr>\n",
       "\t<tr><th scope=row>209</th><td>60</td><td>1</td><td>2281</td><td>1</td><td>40</td><td>0</td><td>283000</td><td>1.0</td><td>141</td><td>0</td><td>0</td><td>187</td></tr>\n",
       "\t<tr><th scope=row>211</th><td>70</td><td>0</td><td> 212</td><td>1</td><td>17</td><td>1</td><td>389000</td><td>1.0</td><td>136</td><td>1</td><td>1</td><td>188</td></tr>\n",
       "\t<tr><th scope=row>212</th><td>50</td><td>0</td><td> 582</td><td>0</td><td>62</td><td>1</td><td>147000</td><td>0.8</td><td>140</td><td>1</td><td>1</td><td>192</td></tr>\n",
       "\t<tr><th scope=row>214</th><td>48</td><td>1</td><td> 131</td><td>1</td><td>30</td><td>1</td><td>244000</td><td>1.6</td><td>130</td><td>0</td><td>0</td><td>193</td></tr>\n",
       "\t<tr><th scope=row>216</th><td>73</td><td>0</td><td> 582</td><td>0</td><td>35</td><td>1</td><td>203000</td><td>1.3</td><td>134</td><td>1</td><td>0</td><td>195</td></tr>\n",
       "\t<tr><th scope=row>219</th><td>68</td><td>1</td><td>1021</td><td>1</td><td>35</td><td>0</td><td>271000</td><td>1.1</td><td>134</td><td>1</td><td>0</td><td>197</td></tr>\n",
       "\t<tr><th scope=row>220</th><td>55</td><td>0</td><td> 582</td><td>1</td><td>35</td><td>1</td><td>371000</td><td>0.7</td><td>140</td><td>0</td><td>0</td><td>197</td></tr>\n",
       "\t<tr><th scope=row>226</th><td>75</td><td>0</td><td> 675</td><td>1</td><td>60</td><td>0</td><td>265000</td><td>1.4</td><td>125</td><td>0</td><td>0</td><td>205</td></tr>\n",
       "\t<tr><th scope=row>227</th><td>58</td><td>1</td><td>  57</td><td>0</td><td>25</td><td>0</td><td>189000</td><td>1.3</td><td>132</td><td>1</td><td>1</td><td>205</td></tr>\n",
       "\t<tr><th scope=row>234</th><td>53</td><td>1</td><td> 707</td><td>0</td><td>38</td><td>0</td><td>330000</td><td>1.4</td><td>137</td><td>1</td><td>1</td><td>209</td></tr>\n",
       "\t<tr><th scope=row>237</th><td>75</td><td>0</td><td> 119</td><td>0</td><td>50</td><td>1</td><td>248000</td><td>1.1</td><td>148</td><td>1</td><td>0</td><td>209</td></tr>\n",
       "\t<tr><th scope=row>239</th><td>65</td><td>1</td><td> 720</td><td>1</td><td>40</td><td>0</td><td>257000</td><td>1.0</td><td>136</td><td>0</td><td>0</td><td>210</td></tr>\n",
       "\t<tr><th scope=row>245</th><td>54</td><td>0</td><td> 582</td><td>1</td><td>38</td><td>0</td><td>264000</td><td>1.8</td><td>134</td><td>1</td><td>0</td><td>213</td></tr>\n",
       "\t<tr><th scope=row>246</th><td>61</td><td>1</td><td>  80</td><td>1</td><td>38</td><td>0</td><td>282000</td><td>1.4</td><td>137</td><td>1</td><td>0</td><td>213</td></tr>\n",
       "\t<tr><th scope=row>247</th><td>55</td><td>0</td><td>2017</td><td>0</td><td>25</td><td>0</td><td>314000</td><td>1.1</td><td>138</td><td>1</td><td>0</td><td>214</td></tr>\n",
       "\t<tr><th scope=row>254</th><td>70</td><td>0</td><td>  88</td><td>1</td><td>35</td><td>1</td><td>236000</td><td>1.2</td><td>132</td><td>0</td><td>0</td><td>215</td></tr>\n",
       "\t<tr><th scope=row>261</th><td>55</td><td>0</td><td>  66</td><td>0</td><td>40</td><td>0</td><td>203000</td><td>1.0</td><td>138</td><td>1</td><td>0</td><td>233</td></tr>\n",
       "\t<tr><th scope=row>268</th><td>56</td><td>1</td><td> 135</td><td>1</td><td>38</td><td>0</td><td>133000</td><td>1.7</td><td>140</td><td>1</td><td>0</td><td>244</td></tr>\n",
       "\t<tr><th scope=row>269</th><td>45</td><td>0</td><td> 582</td><td>1</td><td>38</td><td>0</td><td>302000</td><td>0.9</td><td>140</td><td>0</td><td>0</td><td>244</td></tr>\n",
       "\t<tr><th scope=row>273</th><td>67</td><td>0</td><td> 213</td><td>0</td><td>38</td><td>0</td><td>215000</td><td>1.2</td><td>133</td><td>0</td><td>0</td><td>245</td></tr>\n",
       "\t<tr><th scope=row>278</th><td>70</td><td>0</td><td> 582</td><td>1</td><td>38</td><td>0</td><td> 25100</td><td>1.1</td><td>140</td><td>1</td><td>0</td><td>246</td></tr>\n",
       "\t<tr><th scope=row>285</th><td>50</td><td>1</td><td>  54</td><td>0</td><td>40</td><td>0</td><td>279000</td><td>0.8</td><td>141</td><td>1</td><td>0</td><td>250</td></tr>\n",
       "\t<tr><th scope=row>286</th><td>55</td><td>1</td><td> 170</td><td>1</td><td>40</td><td>0</td><td>336000</td><td>1.2</td><td>135</td><td>1</td><td>0</td><td>250</td></tr>\n",
       "\t<tr><th scope=row>291</th><td>45</td><td>0</td><td> 615</td><td>1</td><td>55</td><td>0</td><td>222000</td><td>0.8</td><td>141</td><td>0</td><td>0</td><td>257</td></tr>\n",
       "\t<tr><th scope=row>292</th><td>60</td><td>0</td><td> 320</td><td>0</td><td>35</td><td>0</td><td>133000</td><td>1.4</td><td>139</td><td>1</td><td>0</td><td>258</td></tr>\n",
       "\t<tr><th scope=row>294</th><td>63</td><td>1</td><td> 103</td><td>1</td><td>35</td><td>0</td><td>179000</td><td>0.9</td><td>136</td><td>1</td><td>1</td><td>270</td></tr>\n",
       "\t<tr><th scope=row>295</th><td>62</td><td>0</td><td>  61</td><td>1</td><td>38</td><td>1</td><td>155000</td><td>1.1</td><td>143</td><td>1</td><td>1</td><td>270</td></tr>\n",
       "</tbody>\n",
       "</table>\n"
      ],
      "text/latex": [
       "A data.frame: 90 × 12\n",
       "\\begin{tabular}{r|llllllllllll}\n",
       "  & age & anaemia & creatinine\\_phosphokinase & diabetes & ejection\\_fraction & high\\_blood\\_pressure & platelets & serum\\_creatinine & serum\\_sodium & sex & smoking & time\\\\\n",
       "  & <dbl> & <int> & <int> & <int> & <int> & <int> & <dbl> & <dbl> & <int> & <int> & <int> & <int>\\\\\n",
       "\\hline\n",
       "\t3 & 65 & 0 &  146 & 0 & 20 & 0 & 162000 & 1.30 & 129 & 1 & 1 &  7\\\\\n",
       "\t5 & 65 & 1 &  160 & 1 & 20 & 0 & 327000 & 2.70 & 116 & 0 & 0 &  8\\\\\n",
       "\t7 & 75 & 1 &  246 & 0 & 15 & 0 & 127000 & 1.20 & 137 & 1 & 0 & 10\\\\\n",
       "\t8 & 60 & 1 &  315 & 1 & 60 & 0 & 454000 & 1.10 & 131 & 1 & 1 & 10\\\\\n",
       "\t10 & 80 & 1 &  123 & 0 & 35 & 1 & 388000 & 9.40 & 133 & 1 & 1 & 10\\\\\n",
       "\t11 & 75 & 1 &   81 & 0 & 38 & 1 & 368000 & 4.00 & 131 & 1 & 1 & 10\\\\\n",
       "\t12 & 62 & 0 &  231 & 0 & 25 & 1 & 253000 & 0.90 & 140 & 1 & 1 & 10\\\\\n",
       "\t18 & 45 & 0 &  582 & 0 & 14 & 0 & 166000 & 0.80 & 127 & 1 & 0 & 14\\\\\n",
       "\t21 & 65 & 1 &   52 & 0 & 25 & 1 & 276000 & 1.30 & 137 & 0 & 0 & 16\\\\\n",
       "\t23 & 68 & 1 &  220 & 0 & 35 & 1 & 289000 & 0.90 & 140 & 1 & 1 & 20\\\\\n",
       "\t32 & 85 & 0 &   23 & 0 & 45 & 0 & 360000 & 3.00 & 132 & 1 & 0 & 28\\\\\n",
       "\t46 & 50 & 0 &  582 & 1 & 38 & 0 & 310000 & 1.90 & 135 & 1 & 1 & 35\\\\\n",
       "\t47 & 51 & 0 & 1380 & 0 & 25 & 1 & 271000 & 0.90 & 130 & 1 & 0 & 38\\\\\n",
       "\t52 & 53 & 1 &   91 & 0 & 20 & 1 & 418000 & 1.40 & 139 & 0 & 0 & 43\\\\\n",
       "\t54 & 70 & 1 &   69 & 1 & 50 & 1 & 351000 & 1.00 & 134 & 0 & 0 & 44\\\\\n",
       "\t55 & 60 & 1 &  260 & 1 & 38 & 0 & 255000 & 2.20 & 132 & 0 & 1 & 45\\\\\n",
       "\t58 & 60 & 1 &  607 & 0 & 40 & 0 & 216000 & 0.60 & 138 & 1 & 1 & 54\\\\\n",
       "\t59 & 49 & 0 &  789 & 0 & 20 & 1 & 319000 & 1.10 & 136 & 1 & 1 & 55\\\\\n",
       "\t63 & 55 & 0 &  109 & 0 & 35 & 0 & 254000 & 1.10 & 139 & 1 & 1 & 60\\\\\n",
       "\t66 & 60 & 0 &   68 & 0 & 20 & 0 & 119000 & 2.90 & 127 & 1 & 1 & 64\\\\\n",
       "\t67 & 42 & 1 &  250 & 1 & 15 & 0 & 213000 & 1.30 & 136 & 0 & 0 & 65\\\\\n",
       "\t68 & 72 & 1 &  110 & 0 & 25 & 0 & 274000 & 1.00 & 140 & 1 & 1 & 65\\\\\n",
       "\t69 & 70 & 0 &  161 & 0 & 25 & 0 & 244000 & 1.20 & 142 & 0 & 0 & 66\\\\\n",
       "\t74 & 65 & 0 &  224 & 1 & 50 & 0 & 149000 & 1.30 & 137 & 1 & 1 & 72\\\\\n",
       "\t76 & 60 & 1 &   47 & 0 & 20 & 0 & 204000 & 0.70 & 139 & 1 & 1 & 73\\\\\n",
       "\t81 & 70 & 0 &   69 & 0 & 40 & 0 & 293000 & 1.70 & 136 & 0 & 0 & 75\\\\\n",
       "\t82 & 67 & 0 &  582 & 0 & 50 & 0 & 263358 & 1.18 & 137 & 1 & 1 & 76\\\\\n",
       "\t91 & 70 & 0 &   66 & 1 & 45 & 0 & 249000 & 0.80 & 136 & 1 & 1 & 80\\\\\n",
       "\t94 & 60 & 1 &  154 & 0 & 25 & 0 & 210000 & 1.70 & 135 & 1 & 0 & 82\\\\\n",
       "\t95 & 58 & 0 &  144 & 1 & 38 & 1 & 327000 & 0.70 & 142 & 0 & 0 & 83\\\\\n",
       "\t⋮ & ⋮ & ⋮ & ⋮ & ⋮ & ⋮ & ⋮ & ⋮ & ⋮ & ⋮ & ⋮ & ⋮ & ⋮\\\\\n",
       "\t200 & 60 & 0 & 1211 & 1 & 35 & 0 & 263358 & 1.8 & 113 & 1 & 1 & 186\\\\\n",
       "\t201 & 63 & 1 & 1767 & 0 & 45 & 0 &  73000 & 0.7 & 137 & 1 & 0 & 186\\\\\n",
       "\t205 & 78 & 1 &   64 & 0 & 40 & 0 & 277000 & 0.7 & 137 & 1 & 1 & 187\\\\\n",
       "\t209 & 60 & 1 & 2281 & 1 & 40 & 0 & 283000 & 1.0 & 141 & 0 & 0 & 187\\\\\n",
       "\t211 & 70 & 0 &  212 & 1 & 17 & 1 & 389000 & 1.0 & 136 & 1 & 1 & 188\\\\\n",
       "\t212 & 50 & 0 &  582 & 0 & 62 & 1 & 147000 & 0.8 & 140 & 1 & 1 & 192\\\\\n",
       "\t214 & 48 & 1 &  131 & 1 & 30 & 1 & 244000 & 1.6 & 130 & 0 & 0 & 193\\\\\n",
       "\t216 & 73 & 0 &  582 & 0 & 35 & 1 & 203000 & 1.3 & 134 & 1 & 0 & 195\\\\\n",
       "\t219 & 68 & 1 & 1021 & 1 & 35 & 0 & 271000 & 1.1 & 134 & 1 & 0 & 197\\\\\n",
       "\t220 & 55 & 0 &  582 & 1 & 35 & 1 & 371000 & 0.7 & 140 & 0 & 0 & 197\\\\\n",
       "\t226 & 75 & 0 &  675 & 1 & 60 & 0 & 265000 & 1.4 & 125 & 0 & 0 & 205\\\\\n",
       "\t227 & 58 & 1 &   57 & 0 & 25 & 0 & 189000 & 1.3 & 132 & 1 & 1 & 205\\\\\n",
       "\t234 & 53 & 1 &  707 & 0 & 38 & 0 & 330000 & 1.4 & 137 & 1 & 1 & 209\\\\\n",
       "\t237 & 75 & 0 &  119 & 0 & 50 & 1 & 248000 & 1.1 & 148 & 1 & 0 & 209\\\\\n",
       "\t239 & 65 & 1 &  720 & 1 & 40 & 0 & 257000 & 1.0 & 136 & 0 & 0 & 210\\\\\n",
       "\t245 & 54 & 0 &  582 & 1 & 38 & 0 & 264000 & 1.8 & 134 & 1 & 0 & 213\\\\\n",
       "\t246 & 61 & 1 &   80 & 1 & 38 & 0 & 282000 & 1.4 & 137 & 1 & 0 & 213\\\\\n",
       "\t247 & 55 & 0 & 2017 & 0 & 25 & 0 & 314000 & 1.1 & 138 & 1 & 0 & 214\\\\\n",
       "\t254 & 70 & 0 &   88 & 1 & 35 & 1 & 236000 & 1.2 & 132 & 0 & 0 & 215\\\\\n",
       "\t261 & 55 & 0 &   66 & 0 & 40 & 0 & 203000 & 1.0 & 138 & 1 & 0 & 233\\\\\n",
       "\t268 & 56 & 1 &  135 & 1 & 38 & 0 & 133000 & 1.7 & 140 & 1 & 0 & 244\\\\\n",
       "\t269 & 45 & 0 &  582 & 1 & 38 & 0 & 302000 & 0.9 & 140 & 0 & 0 & 244\\\\\n",
       "\t273 & 67 & 0 &  213 & 0 & 38 & 0 & 215000 & 1.2 & 133 & 0 & 0 & 245\\\\\n",
       "\t278 & 70 & 0 &  582 & 1 & 38 & 0 &  25100 & 1.1 & 140 & 1 & 0 & 246\\\\\n",
       "\t285 & 50 & 1 &   54 & 0 & 40 & 0 & 279000 & 0.8 & 141 & 1 & 0 & 250\\\\\n",
       "\t286 & 55 & 1 &  170 & 1 & 40 & 0 & 336000 & 1.2 & 135 & 1 & 0 & 250\\\\\n",
       "\t291 & 45 & 0 &  615 & 1 & 55 & 0 & 222000 & 0.8 & 141 & 0 & 0 & 257\\\\\n",
       "\t292 & 60 & 0 &  320 & 0 & 35 & 0 & 133000 & 1.4 & 139 & 1 & 0 & 258\\\\\n",
       "\t294 & 63 & 1 &  103 & 1 & 35 & 0 & 179000 & 0.9 & 136 & 1 & 1 & 270\\\\\n",
       "\t295 & 62 & 0 &   61 & 1 & 38 & 1 & 155000 & 1.1 & 143 & 1 & 1 & 270\\\\\n",
       "\\end{tabular}\n"
      ],
      "text/markdown": [
       "\n",
       "A data.frame: 90 × 12\n",
       "\n",
       "| <!--/--> | age &lt;dbl&gt; | anaemia &lt;int&gt; | creatinine_phosphokinase &lt;int&gt; | diabetes &lt;int&gt; | ejection_fraction &lt;int&gt; | high_blood_pressure &lt;int&gt; | platelets &lt;dbl&gt; | serum_creatinine &lt;dbl&gt; | serum_sodium &lt;int&gt; | sex &lt;int&gt; | smoking &lt;int&gt; | time &lt;int&gt; |\n",
       "|---|---|---|---|---|---|---|---|---|---|---|---|---|\n",
       "| 3 | 65 | 0 |  146 | 0 | 20 | 0 | 162000 | 1.30 | 129 | 1 | 1 |  7 |\n",
       "| 5 | 65 | 1 |  160 | 1 | 20 | 0 | 327000 | 2.70 | 116 | 0 | 0 |  8 |\n",
       "| 7 | 75 | 1 |  246 | 0 | 15 | 0 | 127000 | 1.20 | 137 | 1 | 0 | 10 |\n",
       "| 8 | 60 | 1 |  315 | 1 | 60 | 0 | 454000 | 1.10 | 131 | 1 | 1 | 10 |\n",
       "| 10 | 80 | 1 |  123 | 0 | 35 | 1 | 388000 | 9.40 | 133 | 1 | 1 | 10 |\n",
       "| 11 | 75 | 1 |   81 | 0 | 38 | 1 | 368000 | 4.00 | 131 | 1 | 1 | 10 |\n",
       "| 12 | 62 | 0 |  231 | 0 | 25 | 1 | 253000 | 0.90 | 140 | 1 | 1 | 10 |\n",
       "| 18 | 45 | 0 |  582 | 0 | 14 | 0 | 166000 | 0.80 | 127 | 1 | 0 | 14 |\n",
       "| 21 | 65 | 1 |   52 | 0 | 25 | 1 | 276000 | 1.30 | 137 | 0 | 0 | 16 |\n",
       "| 23 | 68 | 1 |  220 | 0 | 35 | 1 | 289000 | 0.90 | 140 | 1 | 1 | 20 |\n",
       "| 32 | 85 | 0 |   23 | 0 | 45 | 0 | 360000 | 3.00 | 132 | 1 | 0 | 28 |\n",
       "| 46 | 50 | 0 |  582 | 1 | 38 | 0 | 310000 | 1.90 | 135 | 1 | 1 | 35 |\n",
       "| 47 | 51 | 0 | 1380 | 0 | 25 | 1 | 271000 | 0.90 | 130 | 1 | 0 | 38 |\n",
       "| 52 | 53 | 1 |   91 | 0 | 20 | 1 | 418000 | 1.40 | 139 | 0 | 0 | 43 |\n",
       "| 54 | 70 | 1 |   69 | 1 | 50 | 1 | 351000 | 1.00 | 134 | 0 | 0 | 44 |\n",
       "| 55 | 60 | 1 |  260 | 1 | 38 | 0 | 255000 | 2.20 | 132 | 0 | 1 | 45 |\n",
       "| 58 | 60 | 1 |  607 | 0 | 40 | 0 | 216000 | 0.60 | 138 | 1 | 1 | 54 |\n",
       "| 59 | 49 | 0 |  789 | 0 | 20 | 1 | 319000 | 1.10 | 136 | 1 | 1 | 55 |\n",
       "| 63 | 55 | 0 |  109 | 0 | 35 | 0 | 254000 | 1.10 | 139 | 1 | 1 | 60 |\n",
       "| 66 | 60 | 0 |   68 | 0 | 20 | 0 | 119000 | 2.90 | 127 | 1 | 1 | 64 |\n",
       "| 67 | 42 | 1 |  250 | 1 | 15 | 0 | 213000 | 1.30 | 136 | 0 | 0 | 65 |\n",
       "| 68 | 72 | 1 |  110 | 0 | 25 | 0 | 274000 | 1.00 | 140 | 1 | 1 | 65 |\n",
       "| 69 | 70 | 0 |  161 | 0 | 25 | 0 | 244000 | 1.20 | 142 | 0 | 0 | 66 |\n",
       "| 74 | 65 | 0 |  224 | 1 | 50 | 0 | 149000 | 1.30 | 137 | 1 | 1 | 72 |\n",
       "| 76 | 60 | 1 |   47 | 0 | 20 | 0 | 204000 | 0.70 | 139 | 1 | 1 | 73 |\n",
       "| 81 | 70 | 0 |   69 | 0 | 40 | 0 | 293000 | 1.70 | 136 | 0 | 0 | 75 |\n",
       "| 82 | 67 | 0 |  582 | 0 | 50 | 0 | 263358 | 1.18 | 137 | 1 | 1 | 76 |\n",
       "| 91 | 70 | 0 |   66 | 1 | 45 | 0 | 249000 | 0.80 | 136 | 1 | 1 | 80 |\n",
       "| 94 | 60 | 1 |  154 | 0 | 25 | 0 | 210000 | 1.70 | 135 | 1 | 0 | 82 |\n",
       "| 95 | 58 | 0 |  144 | 1 | 38 | 1 | 327000 | 0.70 | 142 | 0 | 0 | 83 |\n",
       "| ⋮ | ⋮ | ⋮ | ⋮ | ⋮ | ⋮ | ⋮ | ⋮ | ⋮ | ⋮ | ⋮ | ⋮ | ⋮ |\n",
       "| 200 | 60 | 0 | 1211 | 1 | 35 | 0 | 263358 | 1.8 | 113 | 1 | 1 | 186 |\n",
       "| 201 | 63 | 1 | 1767 | 0 | 45 | 0 |  73000 | 0.7 | 137 | 1 | 0 | 186 |\n",
       "| 205 | 78 | 1 |   64 | 0 | 40 | 0 | 277000 | 0.7 | 137 | 1 | 1 | 187 |\n",
       "| 209 | 60 | 1 | 2281 | 1 | 40 | 0 | 283000 | 1.0 | 141 | 0 | 0 | 187 |\n",
       "| 211 | 70 | 0 |  212 | 1 | 17 | 1 | 389000 | 1.0 | 136 | 1 | 1 | 188 |\n",
       "| 212 | 50 | 0 |  582 | 0 | 62 | 1 | 147000 | 0.8 | 140 | 1 | 1 | 192 |\n",
       "| 214 | 48 | 1 |  131 | 1 | 30 | 1 | 244000 | 1.6 | 130 | 0 | 0 | 193 |\n",
       "| 216 | 73 | 0 |  582 | 0 | 35 | 1 | 203000 | 1.3 | 134 | 1 | 0 | 195 |\n",
       "| 219 | 68 | 1 | 1021 | 1 | 35 | 0 | 271000 | 1.1 | 134 | 1 | 0 | 197 |\n",
       "| 220 | 55 | 0 |  582 | 1 | 35 | 1 | 371000 | 0.7 | 140 | 0 | 0 | 197 |\n",
       "| 226 | 75 | 0 |  675 | 1 | 60 | 0 | 265000 | 1.4 | 125 | 0 | 0 | 205 |\n",
       "| 227 | 58 | 1 |   57 | 0 | 25 | 0 | 189000 | 1.3 | 132 | 1 | 1 | 205 |\n",
       "| 234 | 53 | 1 |  707 | 0 | 38 | 0 | 330000 | 1.4 | 137 | 1 | 1 | 209 |\n",
       "| 237 | 75 | 0 |  119 | 0 | 50 | 1 | 248000 | 1.1 | 148 | 1 | 0 | 209 |\n",
       "| 239 | 65 | 1 |  720 | 1 | 40 | 0 | 257000 | 1.0 | 136 | 0 | 0 | 210 |\n",
       "| 245 | 54 | 0 |  582 | 1 | 38 | 0 | 264000 | 1.8 | 134 | 1 | 0 | 213 |\n",
       "| 246 | 61 | 1 |   80 | 1 | 38 | 0 | 282000 | 1.4 | 137 | 1 | 0 | 213 |\n",
       "| 247 | 55 | 0 | 2017 | 0 | 25 | 0 | 314000 | 1.1 | 138 | 1 | 0 | 214 |\n",
       "| 254 | 70 | 0 |   88 | 1 | 35 | 1 | 236000 | 1.2 | 132 | 0 | 0 | 215 |\n",
       "| 261 | 55 | 0 |   66 | 0 | 40 | 0 | 203000 | 1.0 | 138 | 1 | 0 | 233 |\n",
       "| 268 | 56 | 1 |  135 | 1 | 38 | 0 | 133000 | 1.7 | 140 | 1 | 0 | 244 |\n",
       "| 269 | 45 | 0 |  582 | 1 | 38 | 0 | 302000 | 0.9 | 140 | 0 | 0 | 244 |\n",
       "| 273 | 67 | 0 |  213 | 0 | 38 | 0 | 215000 | 1.2 | 133 | 0 | 0 | 245 |\n",
       "| 278 | 70 | 0 |  582 | 1 | 38 | 0 |  25100 | 1.1 | 140 | 1 | 0 | 246 |\n",
       "| 285 | 50 | 1 |   54 | 0 | 40 | 0 | 279000 | 0.8 | 141 | 1 | 0 | 250 |\n",
       "| 286 | 55 | 1 |  170 | 1 | 40 | 0 | 336000 | 1.2 | 135 | 1 | 0 | 250 |\n",
       "| 291 | 45 | 0 |  615 | 1 | 55 | 0 | 222000 | 0.8 | 141 | 0 | 0 | 257 |\n",
       "| 292 | 60 | 0 |  320 | 0 | 35 | 0 | 133000 | 1.4 | 139 | 1 | 0 | 258 |\n",
       "| 294 | 63 | 1 |  103 | 1 | 35 | 0 | 179000 | 0.9 | 136 | 1 | 1 | 270 |\n",
       "| 295 | 62 | 0 |   61 | 1 | 38 | 1 | 155000 | 1.1 | 143 | 1 | 1 | 270 |\n",
       "\n"
      ],
      "text/plain": [
       "    age anaemia creatinine_phosphokinase diabetes ejection_fraction\n",
       "3   65  0        146                     0        20               \n",
       "5   65  1        160                     1        20               \n",
       "7   75  1        246                     0        15               \n",
       "8   60  1        315                     1        60               \n",
       "10  80  1        123                     0        35               \n",
       "11  75  1         81                     0        38               \n",
       "12  62  0        231                     0        25               \n",
       "18  45  0        582                     0        14               \n",
       "21  65  1         52                     0        25               \n",
       "23  68  1        220                     0        35               \n",
       "32  85  0         23                     0        45               \n",
       "46  50  0        582                     1        38               \n",
       "47  51  0       1380                     0        25               \n",
       "52  53  1         91                     0        20               \n",
       "54  70  1         69                     1        50               \n",
       "55  60  1        260                     1        38               \n",
       "58  60  1        607                     0        40               \n",
       "59  49  0        789                     0        20               \n",
       "63  55  0        109                     0        35               \n",
       "66  60  0         68                     0        20               \n",
       "67  42  1        250                     1        15               \n",
       "68  72  1        110                     0        25               \n",
       "69  70  0        161                     0        25               \n",
       "74  65  0        224                     1        50               \n",
       "76  60  1         47                     0        20               \n",
       "81  70  0         69                     0        40               \n",
       "82  67  0        582                     0        50               \n",
       "91  70  0         66                     1        45               \n",
       "94  60  1        154                     0        25               \n",
       "95  58  0        144                     1        38               \n",
       "⋮   ⋮   ⋮       ⋮                        ⋮        ⋮                \n",
       "200 60  0       1211                     1        35               \n",
       "201 63  1       1767                     0        45               \n",
       "205 78  1         64                     0        40               \n",
       "209 60  1       2281                     1        40               \n",
       "211 70  0        212                     1        17               \n",
       "212 50  0        582                     0        62               \n",
       "214 48  1        131                     1        30               \n",
       "216 73  0        582                     0        35               \n",
       "219 68  1       1021                     1        35               \n",
       "220 55  0        582                     1        35               \n",
       "226 75  0        675                     1        60               \n",
       "227 58  1         57                     0        25               \n",
       "234 53  1        707                     0        38               \n",
       "237 75  0        119                     0        50               \n",
       "239 65  1        720                     1        40               \n",
       "245 54  0        582                     1        38               \n",
       "246 61  1         80                     1        38               \n",
       "247 55  0       2017                     0        25               \n",
       "254 70  0         88                     1        35               \n",
       "261 55  0         66                     0        40               \n",
       "268 56  1        135                     1        38               \n",
       "269 45  0        582                     1        38               \n",
       "273 67  0        213                     0        38               \n",
       "278 70  0        582                     1        38               \n",
       "285 50  1         54                     0        40               \n",
       "286 55  1        170                     1        40               \n",
       "291 45  0        615                     1        55               \n",
       "292 60  0        320                     0        35               \n",
       "294 63  1        103                     1        35               \n",
       "295 62  0         61                     1        38               \n",
       "    high_blood_pressure platelets serum_creatinine serum_sodium sex smoking\n",
       "3   0                   162000    1.30             129          1   1      \n",
       "5   0                   327000    2.70             116          0   0      \n",
       "7   0                   127000    1.20             137          1   0      \n",
       "8   0                   454000    1.10             131          1   1      \n",
       "10  1                   388000    9.40             133          1   1      \n",
       "11  1                   368000    4.00             131          1   1      \n",
       "12  1                   253000    0.90             140          1   1      \n",
       "18  0                   166000    0.80             127          1   0      \n",
       "21  1                   276000    1.30             137          0   0      \n",
       "23  1                   289000    0.90             140          1   1      \n",
       "32  0                   360000    3.00             132          1   0      \n",
       "46  0                   310000    1.90             135          1   1      \n",
       "47  1                   271000    0.90             130          1   0      \n",
       "52  1                   418000    1.40             139          0   0      \n",
       "54  1                   351000    1.00             134          0   0      \n",
       "55  0                   255000    2.20             132          0   1      \n",
       "58  0                   216000    0.60             138          1   1      \n",
       "59  1                   319000    1.10             136          1   1      \n",
       "63  0                   254000    1.10             139          1   1      \n",
       "66  0                   119000    2.90             127          1   1      \n",
       "67  0                   213000    1.30             136          0   0      \n",
       "68  0                   274000    1.00             140          1   1      \n",
       "69  0                   244000    1.20             142          0   0      \n",
       "74  0                   149000    1.30             137          1   1      \n",
       "76  0                   204000    0.70             139          1   1      \n",
       "81  0                   293000    1.70             136          0   0      \n",
       "82  0                   263358    1.18             137          1   1      \n",
       "91  0                   249000    0.80             136          1   1      \n",
       "94  0                   210000    1.70             135          1   0      \n",
       "95  1                   327000    0.70             142          0   0      \n",
       "⋮   ⋮                   ⋮         ⋮                ⋮            ⋮   ⋮      \n",
       "200 0                   263358    1.8              113          1   1      \n",
       "201 0                    73000    0.7              137          1   0      \n",
       "205 0                   277000    0.7              137          1   1      \n",
       "209 0                   283000    1.0              141          0   0      \n",
       "211 1                   389000    1.0              136          1   1      \n",
       "212 1                   147000    0.8              140          1   1      \n",
       "214 1                   244000    1.6              130          0   0      \n",
       "216 1                   203000    1.3              134          1   0      \n",
       "219 0                   271000    1.1              134          1   0      \n",
       "220 1                   371000    0.7              140          0   0      \n",
       "226 0                   265000    1.4              125          0   0      \n",
       "227 0                   189000    1.3              132          1   1      \n",
       "234 0                   330000    1.4              137          1   1      \n",
       "237 1                   248000    1.1              148          1   0      \n",
       "239 0                   257000    1.0              136          0   0      \n",
       "245 0                   264000    1.8              134          1   0      \n",
       "246 0                   282000    1.4              137          1   0      \n",
       "247 0                   314000    1.1              138          1   0      \n",
       "254 1                   236000    1.2              132          0   0      \n",
       "261 0                   203000    1.0              138          1   0      \n",
       "268 0                   133000    1.7              140          1   0      \n",
       "269 0                   302000    0.9              140          0   0      \n",
       "273 0                   215000    1.2              133          0   0      \n",
       "278 0                    25100    1.1              140          1   0      \n",
       "285 0                   279000    0.8              141          1   0      \n",
       "286 0                   336000    1.2              135          1   0      \n",
       "291 0                   222000    0.8              141          0   0      \n",
       "292 0                   133000    1.4              139          1   0      \n",
       "294 0                   179000    0.9              136          1   1      \n",
       "295 1                   155000    1.1              143          1   1      \n",
       "    time\n",
       "3    7  \n",
       "5    8  \n",
       "7   10  \n",
       "8   10  \n",
       "10  10  \n",
       "11  10  \n",
       "12  10  \n",
       "18  14  \n",
       "21  16  \n",
       "23  20  \n",
       "32  28  \n",
       "46  35  \n",
       "47  38  \n",
       "52  43  \n",
       "54  44  \n",
       "55  45  \n",
       "58  54  \n",
       "59  55  \n",
       "63  60  \n",
       "66  64  \n",
       "67  65  \n",
       "68  65  \n",
       "69  66  \n",
       "74  72  \n",
       "76  73  \n",
       "81  75  \n",
       "82  76  \n",
       "91  80  \n",
       "94  82  \n",
       "95  83  \n",
       "⋮   ⋮   \n",
       "200 186 \n",
       "201 186 \n",
       "205 187 \n",
       "209 187 \n",
       "211 188 \n",
       "212 192 \n",
       "214 193 \n",
       "216 195 \n",
       "219 197 \n",
       "220 197 \n",
       "226 205 \n",
       "227 205 \n",
       "234 209 \n",
       "237 209 \n",
       "239 210 \n",
       "245 213 \n",
       "246 213 \n",
       "247 214 \n",
       "254 215 \n",
       "261 233 \n",
       "268 244 \n",
       "269 244 \n",
       "273 245 \n",
       "278 246 \n",
       "285 250 \n",
       "286 250 \n",
       "291 257 \n",
       "292 258 \n",
       "294 270 \n",
       "295 270 "
      ]
     },
     "metadata": {},
     "output_type": "display_data"
    }
   ],
   "source": [
    "set.seed(1)\n",
    "\n",
    "n = nrow(data)\n",
    "\n",
    "trainIndex = sample(1:n, size = round(0.7*n), replace=FALSE)\n",
    "\n",
    "train = data[trainIndex ,]\n",
    "test = data[-trainIndex ,]\n",
    "test_X <- select(test, 'age','anaemia','creatinine_phosphokinase','diabetes','ejection_fraction','high_blood_pressure','platelets','serum_creatinine','serum_sodium','sex','smoking','time')\n",
    "dim(train)\n",
    "dim(test)\n",
    "names(data)\n",
    "test_X"
   ]
  },
  {
   "cell_type": "code",
   "execution_count": 52,
   "metadata": {},
   "outputs": [],
   "source": [
    "frmla<- as.factor(DEATH_EVENT) ~ age + anaemia + creatinine_phosphokinase + diabetes + ejection_fraction + high_blood_pressure + platelets + serum_creatinine + serum_sodium + sex + smoking + time"
   ]
  },
  {
   "cell_type": "code",
   "execution_count": 53,
   "metadata": {},
   "outputs": [],
   "source": [
    "library(tree)"
   ]
  },
  {
   "cell_type": "code",
   "execution_count": 54,
   "metadata": {},
   "outputs": [],
   "source": [
    "tr <- tree(frmla, data = train)"
   ]
  },
  {
   "cell_type": "code",
   "execution_count": 55,
   "metadata": {},
   "outputs": [
    {
     "data": {
      "text/plain": [
       "\n",
       "Classification tree:\n",
       "tree(formula = frmla, data = train)\n",
       "Variables actually used in tree construction:\n",
       "[1] \"time\"                     \"platelets\"               \n",
       "[3] \"creatinine_phosphokinase\" \"ejection_fraction\"       \n",
       "[5] \"age\"                      \"serum_creatinine\"        \n",
       "Number of terminal nodes:  18 \n",
       "Residual mean deviance:  0.3502 = 66.89 / 191 \n",
       "Misclassification error rate: 0.08134 = 17 / 209 "
      ]
     },
     "metadata": {},
     "output_type": "display_data"
    }
   ],
   "source": [
    "summary(tr)"
   ]
  },
  {
   "cell_type": "code",
   "execution_count": 56,
   "metadata": {},
   "outputs": [],
   "source": [
    "library(tree)\n",
    "test$pred<- predict(tr, test_X, type = 'class')\n"
   ]
  },
  {
   "cell_type": "code",
   "execution_count": 57,
   "metadata": {},
   "outputs": [],
   "source": [
    "miss <- test[test$DEATH_EVENT != test$pred,]"
   ]
  },
  {
   "cell_type": "code",
   "execution_count": 58,
   "metadata": {},
   "outputs": [
    {
     "name": "stdout",
     "output_type": "stream",
     "text": [
      "[1] \"Accuracy 0.755555555555556\"\n"
     ]
    }
   ],
   "source": [
    "misclassificationError<-mean(test$DEATH_EVENT != test$pred)\n",
    "print(paste(\"Accuracy\",1-misclassificationError))"
   ]
  },
  {
   "cell_type": "code",
   "execution_count": 59,
   "metadata": {},
   "outputs": [
    {
     "data": {
      "image/png": "[encoded data removed]",
      "text/plain": [
       "plot without title"
      ]
     },
     "metadata": {
      "image/png": {
       "height": 420,
       "width": 420
      }
     },
     "output_type": "display_data"
    }
   ],
   "source": [
    "plot(tr)\n",
    "text(tr)"
   ]
  },
  {
   "cell_type": "markdown",
   "metadata": {},
   "source": [
    "If we use only the important features for developing the model, let's see if the accuracy improves.\n"
   ]
  },
  {
   "cell_type": "code",
   "execution_count": 60,
   "metadata": {},
   "outputs": [],
   "source": [
    "frmla1<- as.factor(DEATH_EVENT) ~ age + creatinine_phosphokinase + diabetes + ejection_fraction + platelets + serum_creatinine + time"
   ]
  },
  {
   "cell_type": "code",
   "execution_count": 61,
   "metadata": {},
   "outputs": [],
   "source": [
    "tr1 <- tree(frmla1, data = train)"
   ]
  },
  {
   "cell_type": "code",
   "execution_count": 62,
   "metadata": {},
   "outputs": [
    {
     "data": {
      "text/plain": [
       "\n",
       "Classification tree:\n",
       "tree(formula = frmla1, data = train)\n",
       "Variables actually used in tree construction:\n",
       "[1] \"time\"                     \"platelets\"               \n",
       "[3] \"creatinine_phosphokinase\" \"ejection_fraction\"       \n",
       "[5] \"age\"                      \"serum_creatinine\"        \n",
       "Number of terminal nodes:  18 \n",
       "Residual mean deviance:  0.3502 = 66.89 / 191 \n",
       "Misclassification error rate: 0.08134 = 17 / 209 "
      ]
     },
     "metadata": {},
     "output_type": "display_data"
    },
    {
     "name": "stdout",
     "output_type": "stream",
     "text": [
      "[1] \"Accuracy 0.755555555555556\"\n"
     ]
    }
   ],
   "source": [
    "summary(tr1)\n",
    "test$pred1<- predict(tr1, test_X, type = 'class')\n",
    "misclassificationError1<-mean(test$DEATH_EVENT != test$pred1)\n",
    "print(paste(\"Accuracy\",1-misclassificationError1))"
   ]
  },
  {
   "cell_type": "code",
   "execution_count": 63,
   "metadata": {},
   "outputs": [
    {
     "data": {
      "image/png": "[encoded data removed]",
      "text/plain": [
       "plot without title"
      ]
     },
     "metadata": {
      "image/png": {
       "height": 420,
       "width": 420
      }
     },
     "output_type": "display_data"
    }
   ],
   "source": [
    "plot(tr)\n",
    "text(tr)"
   ]
  },
  {
   "cell_type": "code",
   "execution_count": 64,
   "metadata": {},
   "outputs": [],
   "source": [
    "heart_failure_survive1 = glm(DEATH_EVENT~ age + creatinine_phosphokinase + ejection_fraction + platelets + serum_creatinine + time , data = hfs_train, family = binomial)"
   ]
  },
  {
   "cell_type": "code",
   "execution_count": 65,
   "metadata": {},
   "outputs": [
    {
     "data": {
      "text/plain": [
       "\n",
       "Call:\n",
       "glm(formula = DEATH_EVENT ~ age + creatinine_phosphokinase + \n",
       "    ejection_fraction + platelets + serum_creatinine + time, \n",
       "    family = binomial, data = hfs_train)\n",
       "\n",
       "Deviance Residuals: \n",
       "    Min       1Q   Median       3Q      Max  \n",
       "-2.1548  -0.5746  -0.2245   0.5252   2.8745  \n",
       "\n",
       "Coefficients:\n",
       "                           Estimate Std. Error z value Pr(>|z|)    \n",
       "(Intercept)               9.274e-01  1.403e+00   0.661   0.5087    \n",
       "age                       4.095e-02  1.903e-02   2.152   0.0314 *  \n",
       "creatinine_phosphokinase  8.951e-05  1.629e-04   0.550   0.5826    \n",
       "ejection_fraction        -7.654e-02  1.966e-02  -3.892 9.92e-05 ***\n",
       "platelets                -9.860e-07  2.022e-06  -0.488   0.6258    \n",
       "serum_creatinine          7.949e-01  3.175e-01   2.504   0.0123 *  \n",
       "time                     -2.117e-02  3.499e-03  -6.050 1.45e-09 ***\n",
       "---\n",
       "Signif. codes:  0 ‘***’ 0.001 ‘**’ 0.01 ‘*’ 0.05 ‘.’ 0.1 ‘ ’ 1\n",
       "\n",
       "(Dispersion parameter for binomial family taken to be 1)\n",
       "\n",
       "    Null deviance: 262.21  on 208  degrees of freedom\n",
       "Residual deviance: 155.91  on 202  degrees of freedom\n",
       "AIC: 169.91\n",
       "\n",
       "Number of Fisher Scoring iterations: 6\n"
      ]
     },
     "metadata": {},
     "output_type": "display_data"
    }
   ],
   "source": [
    "summary(heart_failure_survive1)"
   ]
  },
  {
   "cell_type": "code",
   "execution_count": 66,
   "metadata": {},
   "outputs": [
    {
     "name": "stdout",
     "output_type": "stream",
     "text": [
      "[1] \"Accuracy 0.822222222222222\"\n"
     ]
    }
   ],
   "source": [
    "probs1 = predict(heart_failure_survive1, type = 'response', newdata=hfs_test)\n",
    "\n",
    "pred1 <- ifelse(probs1 > 0.5, 1, 0)\n",
    "\n",
    "misclassificationError1<-mean(pred1!=hfs_test$DEATH_EVENT)\n",
    "print(paste(\"Accuracy\",1-misclassificationError1))"
   ]
  },
  {
   "cell_type": "markdown",
   "metadata": {},
   "source": [
    "The accuracy of the model improved by 0.17 "
   ]
  },
  {
   "cell_type": "markdown",
   "metadata": {},
   "source": [
    "**The survival of a patient can be predicted 82% accurately where the baseline model has n accuracy of 67%. **"
   ]
  },
  {
   "cell_type": "code",
   "execution_count": 67,
   "metadata": {},
   "outputs": [
    {
     "data": {
      "text/plain": [
       "   \n",
       "    FALSE TRUE\n",
       "  0    56    5\n",
       "  1    11   18"
      ]
     },
     "metadata": {},
     "output_type": "display_data"
    }
   ],
   "source": [
    "table(hfs_test$DEATH_EVENT,pred1>0.5)"
   ]
  },
  {
   "cell_type": "code",
   "execution_count": 68,
   "metadata": {},
   "outputs": [
    {
     "name": "stdout",
     "output_type": "stream",
     "text": [
      "[1] \"sens= 0.620689655172414\"\n",
      "[1] \"spec= 0.918032786885246\"\n"
     ]
    }
   ],
   "source": [
    "print(paste('sens=',18/(18+11)))\n",
    "print(paste('spec=',56/(56+5)))\n"
   ]
  },
  {
   "cell_type": "code",
   "execution_count": 69,
   "metadata": {},
   "outputs": [
    {
     "data": {
      "text/html": [
       "0.88920293951385"
      ],
      "text/latex": [
       "0.88920293951385"
      ],
      "text/markdown": [
       "0.88920293951385"
      ],
      "text/plain": [
       "[1] 0.8892029"
      ]
     },
     "metadata": {},
     "output_type": "display_data"
    },
    {
     "data": {
      "image/png": "[encoded data removed]",
      "text/plain": [
       "plot without title"
      ]
     },
     "metadata": {
      "image/png": {
       "height": 420,
       "width": 420
      }
     },
     "output_type": "display_data"
    }
   ],
   "source": [
    "library(ROCR)\n",
    "ROCR_predictions1 = prediction(probs1,hfs_test$DEATH_EVENT)\n",
    "perf1<-performance(ROCR_predictions1,\"tpr\",\"fpr\")\n",
    "\n",
    "plot(perf1, colorsize = TRUE)\n",
    "abline(0,1)\n",
    "as.numeric(performance(ROCR_predictions1,\"auc\")@y.values)\n"
   ]
  },
  {
   "cell_type": "markdown",
   "metadata": {},
   "source": [
    "**Report:**"
   ]
  },
  {
   "cell_type": "markdown",
   "metadata": {},
   "source": [
    "In this study, the heart failure clinical record dataset has been collected from Machine Learning Repository. (https://archive.ics.uci.edu/ml/datasets/Heart+failure+clinical+records#)\n",
    "The dataset is a cleaned one, there were no null values. An exploratory data analysis through correlation plots, and univariate and multivariate analysis of data, gives a clear picture that, no two variables are positively or negatively correlated. From the box plots, we can have a clear idea that time and ejection fraction are significant factors for predicting the survival of patients having heart failure.\n",
    "From the Monova and the increase in accuracy of the classification models, we can confirm that along with that, age, creatinine phosphokinase, platelets, and serum creatinine features play a significant role too. The latest logistic regression model predicts the survival of patients with an accuracy of 0.82  for unseen data, having a sensitivity of 0.62 and a specificity of 0.91, and a baseline accuracy of 0.67. However, The decision tree model predicts with an accuracy of 0.75 \n"
   ]
  }
 ],
 "metadata": {
  "kernelspec": {
   "display_name": "R",
   "language": "R",
   "name": "ir"
  },
  "language_info": {
   "codemirror_mode": "r",
   "file_extension": ".r",
   "mimetype": "text/x-r-source",
   "name": "R",
   "pygments_lexer": "r",
   "version": "3.5.1"
  }
 },
 "nbformat": 4,
 "nbformat_minor": 1
}
