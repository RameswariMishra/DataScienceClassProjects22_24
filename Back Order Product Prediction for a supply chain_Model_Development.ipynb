{
 "cells": [
  {
   "cell_type": "markdown",
   "metadata": {},
   "source": [
    "# Part II: Model Development\n",
    "\n",
    "In this part, we develop three unique pipelines for predicting backorder. We use the smart sample from Part I to fit and evaluate these pipelines. "
   ]
  },
  {
   "cell_type": "code",
   "execution_count": 1,
   "metadata": {},
   "outputs": [],
   "source": [
    "%matplotlib inline\n",
    "import matplotlib.pyplot as plt\n",
    "import os, sys\n",
    "import itertools\n",
    "import numpy as np\n",
    "import pandas as pd"
   ]
  },
  {
   "cell_type": "markdown",
   "metadata": {},
   "source": [
    "## Reload the smart sample here"
   ]
  },
  {
   "cell_type": "code",
   "execution_count": 2,
   "metadata": {},
   "outputs": [],
   "source": [
    "\n",
    "# Reload your smart sampling from local file \n",
    "# ----------------------------------\n",
    "import joblib\n",
    "dataset = joblib.load('preprocessed_data_part1.pkl')"
   ]
  },
  {
   "cell_type": "code",
   "execution_count": 3,
   "metadata": {},
   "outputs": [
    {
     "data": {
      "text/html": [
       "<div>\n",
       "<style scoped>\n",
       "    .dataframe tbody tr th:only-of-type {\n",
       "        vertical-align: middle;\n",
       "    }\n",
       "\n",
       "    .dataframe tbody tr th {\n",
       "        vertical-align: top;\n",
       "    }\n",
       "\n",
       "    .dataframe thead th {\n",
       "        text-align: right;\n",
       "    }\n",
       "</style>\n",
       "<table border=\"1\" class=\"dataframe\">\n",
       "  <thead>\n",
       "    <tr style=\"text-align: right;\">\n",
       "      <th></th>\n",
       "      <th>national_inv</th>\n",
       "      <th>lead_time</th>\n",
       "      <th>in_transit_qty</th>\n",
       "      <th>forecast_3_month</th>\n",
       "      <th>forecast_6_month</th>\n",
       "      <th>forecast_9_month</th>\n",
       "      <th>sales_1_month</th>\n",
       "      <th>sales_3_month</th>\n",
       "      <th>sales_6_month</th>\n",
       "      <th>sales_9_month</th>\n",
       "      <th>...</th>\n",
       "      <th>pieces_past_due</th>\n",
       "      <th>perf_6_month_avg</th>\n",
       "      <th>perf_12_month_avg</th>\n",
       "      <th>local_bo_qty</th>\n",
       "      <th>deck_risk</th>\n",
       "      <th>oe_constraint</th>\n",
       "      <th>ppap_risk</th>\n",
       "      <th>stop_auto_buy</th>\n",
       "      <th>rev_stop</th>\n",
       "      <th>went_on_backorder</th>\n",
       "    </tr>\n",
       "  </thead>\n",
       "  <tbody>\n",
       "    <tr>\n",
       "      <th>4</th>\n",
       "      <td>6.0</td>\n",
       "      <td>12.0</td>\n",
       "      <td>0.0</td>\n",
       "      <td>62.0</td>\n",
       "      <td>112.0</td>\n",
       "      <td>160.0</td>\n",
       "      <td>13.0</td>\n",
       "      <td>50.0</td>\n",
       "      <td>106.0</td>\n",
       "      <td>152.0</td>\n",
       "      <td>...</td>\n",
       "      <td>0.0</td>\n",
       "      <td>0.73</td>\n",
       "      <td>0.76</td>\n",
       "      <td>0.0</td>\n",
       "      <td>0</td>\n",
       "      <td>0</td>\n",
       "      <td>0</td>\n",
       "      <td>1</td>\n",
       "      <td>0</td>\n",
       "      <td>1</td>\n",
       "    </tr>\n",
       "    <tr>\n",
       "      <th>212</th>\n",
       "      <td>6.0</td>\n",
       "      <td>8.0</td>\n",
       "      <td>0.0</td>\n",
       "      <td>6.0</td>\n",
       "      <td>14.0</td>\n",
       "      <td>30.0</td>\n",
       "      <td>2.0</td>\n",
       "      <td>9.0</td>\n",
       "      <td>16.0</td>\n",
       "      <td>29.0</td>\n",
       "      <td>...</td>\n",
       "      <td>0.0</td>\n",
       "      <td>0.96</td>\n",
       "      <td>0.97</td>\n",
       "      <td>0.0</td>\n",
       "      <td>0</td>\n",
       "      <td>0</td>\n",
       "      <td>0</td>\n",
       "      <td>1</td>\n",
       "      <td>0</td>\n",
       "      <td>1</td>\n",
       "    </tr>\n",
       "    <tr>\n",
       "      <th>531</th>\n",
       "      <td>-2.0</td>\n",
       "      <td>8.0</td>\n",
       "      <td>48.0</td>\n",
       "      <td>408.0</td>\n",
       "      <td>744.0</td>\n",
       "      <td>996.0</td>\n",
       "      <td>136.0</td>\n",
       "      <td>386.0</td>\n",
       "      <td>636.0</td>\n",
       "      <td>1036.0</td>\n",
       "      <td>...</td>\n",
       "      <td>36.0</td>\n",
       "      <td>0.86</td>\n",
       "      <td>0.88</td>\n",
       "      <td>41.0</td>\n",
       "      <td>0</td>\n",
       "      <td>0</td>\n",
       "      <td>0</td>\n",
       "      <td>1</td>\n",
       "      <td>0</td>\n",
       "      <td>1</td>\n",
       "    </tr>\n",
       "    <tr>\n",
       "      <th>538</th>\n",
       "      <td>0.0</td>\n",
       "      <td>8.0</td>\n",
       "      <td>0.0</td>\n",
       "      <td>12.0</td>\n",
       "      <td>12.0</td>\n",
       "      <td>12.0</td>\n",
       "      <td>4.0</td>\n",
       "      <td>4.0</td>\n",
       "      <td>4.0</td>\n",
       "      <td>8.0</td>\n",
       "      <td>...</td>\n",
       "      <td>0.0</td>\n",
       "      <td>0.97</td>\n",
       "      <td>0.93</td>\n",
       "      <td>0.0</td>\n",
       "      <td>0</td>\n",
       "      <td>0</td>\n",
       "      <td>0</td>\n",
       "      <td>1</td>\n",
       "      <td>0</td>\n",
       "      <td>1</td>\n",
       "    </tr>\n",
       "    <tr>\n",
       "      <th>600</th>\n",
       "      <td>1.0</td>\n",
       "      <td>8.0</td>\n",
       "      <td>0.0</td>\n",
       "      <td>16.0</td>\n",
       "      <td>24.0</td>\n",
       "      <td>32.0</td>\n",
       "      <td>3.0</td>\n",
       "      <td>15.0</td>\n",
       "      <td>23.0</td>\n",
       "      <td>36.0</td>\n",
       "      <td>...</td>\n",
       "      <td>0.0</td>\n",
       "      <td>0.92</td>\n",
       "      <td>0.75</td>\n",
       "      <td>0.0</td>\n",
       "      <td>0</td>\n",
       "      <td>0</td>\n",
       "      <td>0</td>\n",
       "      <td>1</td>\n",
       "      <td>0</td>\n",
       "      <td>1</td>\n",
       "    </tr>\n",
       "  </tbody>\n",
       "</table>\n",
       "<p>5 rows × 22 columns</p>\n",
       "</div>"
      ],
      "text/plain": [
       "     national_inv  lead_time  in_transit_qty  forecast_3_month  \\\n",
       "4             6.0       12.0             0.0              62.0   \n",
       "212           6.0        8.0             0.0               6.0   \n",
       "531          -2.0        8.0            48.0             408.0   \n",
       "538           0.0        8.0             0.0              12.0   \n",
       "600           1.0        8.0             0.0              16.0   \n",
       "\n",
       "     forecast_6_month  forecast_9_month  sales_1_month  sales_3_month  \\\n",
       "4               112.0             160.0           13.0           50.0   \n",
       "212              14.0              30.0            2.0            9.0   \n",
       "531             744.0             996.0          136.0          386.0   \n",
       "538              12.0              12.0            4.0            4.0   \n",
       "600              24.0              32.0            3.0           15.0   \n",
       "\n",
       "     sales_6_month  sales_9_month  ...  pieces_past_due  perf_6_month_avg  \\\n",
       "4            106.0          152.0  ...              0.0              0.73   \n",
       "212           16.0           29.0  ...              0.0              0.96   \n",
       "531          636.0         1036.0  ...             36.0              0.86   \n",
       "538            4.0            8.0  ...              0.0              0.97   \n",
       "600           23.0           36.0  ...              0.0              0.92   \n",
       "\n",
       "     perf_12_month_avg  local_bo_qty  deck_risk  oe_constraint  ppap_risk  \\\n",
       "4                 0.76           0.0          0              0          0   \n",
       "212               0.97           0.0          0              0          0   \n",
       "531               0.88          41.0          0              0          0   \n",
       "538               0.93           0.0          0              0          0   \n",
       "600               0.75           0.0          0              0          0   \n",
       "\n",
       "     stop_auto_buy  rev_stop  went_on_backorder  \n",
       "4                1         0                  1  \n",
       "212              1         0                  1  \n",
       "531              1         0                  1  \n",
       "538              1         0                  1  \n",
       "600              1         0                  1  \n",
       "\n",
       "[5 rows x 22 columns]"
      ]
     },
     "execution_count": 3,
     "metadata": {},
     "output_type": "execute_result"
    }
   ],
   "source": [
    "dataset.head()"
   ]
  },
  {
   "cell_type": "code",
   "execution_count": 4,
   "metadata": {},
   "outputs": [
    {
     "data": {
      "text/html": [
       "<div>\n",
       "<style scoped>\n",
       "    .dataframe tbody tr th:only-of-type {\n",
       "        vertical-align: middle;\n",
       "    }\n",
       "\n",
       "    .dataframe tbody tr th {\n",
       "        vertical-align: top;\n",
       "    }\n",
       "\n",
       "    .dataframe thead th {\n",
       "        text-align: right;\n",
       "    }\n",
       "</style>\n",
       "<table border=\"1\" class=\"dataframe\">\n",
       "  <thead>\n",
       "    <tr style=\"text-align: right;\">\n",
       "      <th></th>\n",
       "      <th>national_inv</th>\n",
       "      <th>lead_time</th>\n",
       "      <th>in_transit_qty</th>\n",
       "      <th>forecast_3_month</th>\n",
       "      <th>forecast_6_month</th>\n",
       "      <th>forecast_9_month</th>\n",
       "      <th>sales_1_month</th>\n",
       "      <th>sales_3_month</th>\n",
       "      <th>sales_6_month</th>\n",
       "      <th>sales_9_month</th>\n",
       "      <th>...</th>\n",
       "      <th>pieces_past_due</th>\n",
       "      <th>perf_6_month_avg</th>\n",
       "      <th>perf_12_month_avg</th>\n",
       "      <th>local_bo_qty</th>\n",
       "      <th>deck_risk</th>\n",
       "      <th>oe_constraint</th>\n",
       "      <th>ppap_risk</th>\n",
       "      <th>stop_auto_buy</th>\n",
       "      <th>rev_stop</th>\n",
       "      <th>went_on_backorder</th>\n",
       "    </tr>\n",
       "  </thead>\n",
       "  <tbody>\n",
       "    <tr>\n",
       "      <th>count</th>\n",
       "      <td>22586.000000</td>\n",
       "      <td>22586.000000</td>\n",
       "      <td>22586.000000</td>\n",
       "      <td>2.258600e+04</td>\n",
       "      <td>2.258600e+04</td>\n",
       "      <td>2.258600e+04</td>\n",
       "      <td>22586.000000</td>\n",
       "      <td>2.258600e+04</td>\n",
       "      <td>2.258600e+04</td>\n",
       "      <td>2.258600e+04</td>\n",
       "      <td>...</td>\n",
       "      <td>22586.000000</td>\n",
       "      <td>22586.000000</td>\n",
       "      <td>22586.000000</td>\n",
       "      <td>22586.000000</td>\n",
       "      <td>22586.000000</td>\n",
       "      <td>22586.000000</td>\n",
       "      <td>22586.000000</td>\n",
       "      <td>22586.000000</td>\n",
       "      <td>22586.000000</td>\n",
       "      <td>22586.000000</td>\n",
       "    </tr>\n",
       "    <tr>\n",
       "      <th>mean</th>\n",
       "      <td>232.905207</td>\n",
       "      <td>7.177101</td>\n",
       "      <td>49.853493</td>\n",
       "      <td>2.459660e+02</td>\n",
       "      <td>4.433571e+02</td>\n",
       "      <td>6.444480e+02</td>\n",
       "      <td>64.748960</td>\n",
       "      <td>2.019435e+02</td>\n",
       "      <td>3.879662e+02</td>\n",
       "      <td>5.872557e+02</td>\n",
       "      <td>...</td>\n",
       "      <td>7.271097</td>\n",
       "      <td>-4.857029</td>\n",
       "      <td>-4.489124</td>\n",
       "      <td>2.548039</td>\n",
       "      <td>0.200301</td>\n",
       "      <td>0.000354</td>\n",
       "      <td>0.140839</td>\n",
       "      <td>0.961038</td>\n",
       "      <td>0.000177</td>\n",
       "      <td>0.500000</td>\n",
       "    </tr>\n",
       "    <tr>\n",
       "      <th>std</th>\n",
       "      <td>5532.578589</td>\n",
       "      <td>5.764547</td>\n",
       "      <td>2666.939745</td>\n",
       "      <td>9.805827e+03</td>\n",
       "      <td>1.961917e+04</td>\n",
       "      <td>3.016034e+04</td>\n",
       "      <td>2920.351014</td>\n",
       "      <td>9.435931e+03</td>\n",
       "      <td>1.884222e+04</td>\n",
       "      <td>2.867270e+04</td>\n",
       "      <td>...</td>\n",
       "      <td>665.906100</td>\n",
       "      <td>22.962127</td>\n",
       "      <td>22.231466</td>\n",
       "      <td>45.511608</td>\n",
       "      <td>0.400234</td>\n",
       "      <td>0.018817</td>\n",
       "      <td>0.347864</td>\n",
       "      <td>0.193509</td>\n",
       "      <td>0.013307</td>\n",
       "      <td>0.500011</td>\n",
       "    </tr>\n",
       "    <tr>\n",
       "      <th>min</th>\n",
       "      <td>-2999.000000</td>\n",
       "      <td>0.000000</td>\n",
       "      <td>0.000000</td>\n",
       "      <td>0.000000e+00</td>\n",
       "      <td>0.000000e+00</td>\n",
       "      <td>0.000000e+00</td>\n",
       "      <td>0.000000</td>\n",
       "      <td>0.000000e+00</td>\n",
       "      <td>0.000000e+00</td>\n",
       "      <td>0.000000e+00</td>\n",
       "      <td>...</td>\n",
       "      <td>0.000000</td>\n",
       "      <td>-99.000000</td>\n",
       "      <td>-99.000000</td>\n",
       "      <td>0.000000</td>\n",
       "      <td>0.000000</td>\n",
       "      <td>0.000000</td>\n",
       "      <td>0.000000</td>\n",
       "      <td>0.000000</td>\n",
       "      <td>0.000000</td>\n",
       "      <td>0.000000</td>\n",
       "    </tr>\n",
       "    <tr>\n",
       "      <th>25%</th>\n",
       "      <td>1.000000</td>\n",
       "      <td>2.000000</td>\n",
       "      <td>0.000000</td>\n",
       "      <td>0.000000e+00</td>\n",
       "      <td>0.000000e+00</td>\n",
       "      <td>0.000000e+00</td>\n",
       "      <td>0.000000</td>\n",
       "      <td>0.000000e+00</td>\n",
       "      <td>0.000000e+00</td>\n",
       "      <td>1.000000e+00</td>\n",
       "      <td>...</td>\n",
       "      <td>0.000000</td>\n",
       "      <td>0.580000</td>\n",
       "      <td>0.580000</td>\n",
       "      <td>0.000000</td>\n",
       "      <td>0.000000</td>\n",
       "      <td>0.000000</td>\n",
       "      <td>0.000000</td>\n",
       "      <td>1.000000</td>\n",
       "      <td>0.000000</td>\n",
       "      <td>0.000000</td>\n",
       "    </tr>\n",
       "    <tr>\n",
       "      <th>50%</th>\n",
       "      <td>5.000000</td>\n",
       "      <td>8.000000</td>\n",
       "      <td>0.000000</td>\n",
       "      <td>3.000000e+00</td>\n",
       "      <td>6.000000e+00</td>\n",
       "      <td>8.000000e+00</td>\n",
       "      <td>1.000000</td>\n",
       "      <td>4.000000e+00</td>\n",
       "      <td>8.000000e+00</td>\n",
       "      <td>1.100000e+01</td>\n",
       "      <td>...</td>\n",
       "      <td>0.000000</td>\n",
       "      <td>0.800000</td>\n",
       "      <td>0.780000</td>\n",
       "      <td>0.000000</td>\n",
       "      <td>0.000000</td>\n",
       "      <td>0.000000</td>\n",
       "      <td>0.000000</td>\n",
       "      <td>1.000000</td>\n",
       "      <td>0.000000</td>\n",
       "      <td>0.500000</td>\n",
       "    </tr>\n",
       "    <tr>\n",
       "      <th>75%</th>\n",
       "      <td>23.000000</td>\n",
       "      <td>8.000000</td>\n",
       "      <td>0.000000</td>\n",
       "      <td>2.400000e+01</td>\n",
       "      <td>4.000000e+01</td>\n",
       "      <td>5.900000e+01</td>\n",
       "      <td>7.000000</td>\n",
       "      <td>2.100000e+01</td>\n",
       "      <td>3.900000e+01</td>\n",
       "      <td>5.700000e+01</td>\n",
       "      <td>...</td>\n",
       "      <td>0.000000</td>\n",
       "      <td>0.960000</td>\n",
       "      <td>0.940000</td>\n",
       "      <td>0.000000</td>\n",
       "      <td>0.000000</td>\n",
       "      <td>0.000000</td>\n",
       "      <td>0.000000</td>\n",
       "      <td>1.000000</td>\n",
       "      <td>0.000000</td>\n",
       "      <td>1.000000</td>\n",
       "    </tr>\n",
       "    <tr>\n",
       "      <th>max</th>\n",
       "      <td>599317.000000</td>\n",
       "      <td>52.000000</td>\n",
       "      <td>328060.000000</td>\n",
       "      <td>1.218328e+06</td>\n",
       "      <td>2.461360e+06</td>\n",
       "      <td>3.777304e+06</td>\n",
       "      <td>334181.000000</td>\n",
       "      <td>1.070623e+06</td>\n",
       "      <td>2.146625e+06</td>\n",
       "      <td>3.197338e+06</td>\n",
       "      <td>...</td>\n",
       "      <td>98776.000000</td>\n",
       "      <td>1.000000</td>\n",
       "      <td>1.000000</td>\n",
       "      <td>2999.000000</td>\n",
       "      <td>1.000000</td>\n",
       "      <td>1.000000</td>\n",
       "      <td>1.000000</td>\n",
       "      <td>1.000000</td>\n",
       "      <td>1.000000</td>\n",
       "      <td>1.000000</td>\n",
       "    </tr>\n",
       "  </tbody>\n",
       "</table>\n",
       "<p>8 rows × 22 columns</p>\n",
       "</div>"
      ],
      "text/plain": [
       "        national_inv     lead_time  in_transit_qty  forecast_3_month  \\\n",
       "count   22586.000000  22586.000000    22586.000000      2.258600e+04   \n",
       "mean      232.905207      7.177101       49.853493      2.459660e+02   \n",
       "std      5532.578589      5.764547     2666.939745      9.805827e+03   \n",
       "min     -2999.000000      0.000000        0.000000      0.000000e+00   \n",
       "25%         1.000000      2.000000        0.000000      0.000000e+00   \n",
       "50%         5.000000      8.000000        0.000000      3.000000e+00   \n",
       "75%        23.000000      8.000000        0.000000      2.400000e+01   \n",
       "max    599317.000000     52.000000   328060.000000      1.218328e+06   \n",
       "\n",
       "       forecast_6_month  forecast_9_month  sales_1_month  sales_3_month  \\\n",
       "count      2.258600e+04      2.258600e+04   22586.000000   2.258600e+04   \n",
       "mean       4.433571e+02      6.444480e+02      64.748960   2.019435e+02   \n",
       "std        1.961917e+04      3.016034e+04    2920.351014   9.435931e+03   \n",
       "min        0.000000e+00      0.000000e+00       0.000000   0.000000e+00   \n",
       "25%        0.000000e+00      0.000000e+00       0.000000   0.000000e+00   \n",
       "50%        6.000000e+00      8.000000e+00       1.000000   4.000000e+00   \n",
       "75%        4.000000e+01      5.900000e+01       7.000000   2.100000e+01   \n",
       "max        2.461360e+06      3.777304e+06  334181.000000   1.070623e+06   \n",
       "\n",
       "       sales_6_month  sales_9_month  ...  pieces_past_due  perf_6_month_avg  \\\n",
       "count   2.258600e+04   2.258600e+04  ...     22586.000000      22586.000000   \n",
       "mean    3.879662e+02   5.872557e+02  ...         7.271097         -4.857029   \n",
       "std     1.884222e+04   2.867270e+04  ...       665.906100         22.962127   \n",
       "min     0.000000e+00   0.000000e+00  ...         0.000000        -99.000000   \n",
       "25%     0.000000e+00   1.000000e+00  ...         0.000000          0.580000   \n",
       "50%     8.000000e+00   1.100000e+01  ...         0.000000          0.800000   \n",
       "75%     3.900000e+01   5.700000e+01  ...         0.000000          0.960000   \n",
       "max     2.146625e+06   3.197338e+06  ...     98776.000000          1.000000   \n",
       "\n",
       "       perf_12_month_avg  local_bo_qty     deck_risk  oe_constraint  \\\n",
       "count       22586.000000  22586.000000  22586.000000   22586.000000   \n",
       "mean           -4.489124      2.548039      0.200301       0.000354   \n",
       "std            22.231466     45.511608      0.400234       0.018817   \n",
       "min           -99.000000      0.000000      0.000000       0.000000   \n",
       "25%             0.580000      0.000000      0.000000       0.000000   \n",
       "50%             0.780000      0.000000      0.000000       0.000000   \n",
       "75%             0.940000      0.000000      0.000000       0.000000   \n",
       "max             1.000000   2999.000000      1.000000       1.000000   \n",
       "\n",
       "          ppap_risk  stop_auto_buy      rev_stop  went_on_backorder  \n",
       "count  22586.000000   22586.000000  22586.000000       22586.000000  \n",
       "mean       0.140839       0.961038      0.000177           0.500000  \n",
       "std        0.347864       0.193509      0.013307           0.500011  \n",
       "min        0.000000       0.000000      0.000000           0.000000  \n",
       "25%        0.000000       1.000000      0.000000           0.000000  \n",
       "50%        0.000000       1.000000      0.000000           0.500000  \n",
       "75%        0.000000       1.000000      0.000000           1.000000  \n",
       "max        1.000000       1.000000      1.000000           1.000000  \n",
       "\n",
       "[8 rows x 22 columns]"
      ]
     },
     "execution_count": 4,
     "metadata": {},
     "output_type": "execute_result"
    }
   ],
   "source": [
    "dataset.describe()"
   ]
  },
  {
   "cell_type": "code",
   "execution_count": 5,
   "metadata": {},
   "outputs": [
    {
     "name": "stdout",
     "output_type": "stream",
     "text": [
      "<class 'pandas.core.frame.DataFrame'>\n",
      "Int64Index: 22586 entries, 4 to 1178789\n",
      "Data columns (total 22 columns):\n",
      " #   Column             Non-Null Count  Dtype  \n",
      "---  ------             --------------  -----  \n",
      " 0   national_inv       22586 non-null  float64\n",
      " 1   lead_time          22586 non-null  float64\n",
      " 2   in_transit_qty     22586 non-null  float64\n",
      " 3   forecast_3_month   22586 non-null  float64\n",
      " 4   forecast_6_month   22586 non-null  float64\n",
      " 5   forecast_9_month   22586 non-null  float64\n",
      " 6   sales_1_month      22586 non-null  float64\n",
      " 7   sales_3_month      22586 non-null  float64\n",
      " 8   sales_6_month      22586 non-null  float64\n",
      " 9   sales_9_month      22586 non-null  float64\n",
      " 10  min_bank           22586 non-null  float64\n",
      " 11  potential_issue    22586 non-null  int64  \n",
      " 12  pieces_past_due    22586 non-null  float64\n",
      " 13  perf_6_month_avg   22586 non-null  float64\n",
      " 14  perf_12_month_avg  22586 non-null  float64\n",
      " 15  local_bo_qty       22586 non-null  float64\n",
      " 16  deck_risk          22586 non-null  int64  \n",
      " 17  oe_constraint      22586 non-null  int64  \n",
      " 18  ppap_risk          22586 non-null  int64  \n",
      " 19  stop_auto_buy      22586 non-null  int64  \n",
      " 20  rev_stop           22586 non-null  int64  \n",
      " 21  went_on_backorder  22586 non-null  int64  \n",
      "dtypes: float64(15), int64(7)\n",
      "memory usage: 4.0 MB\n"
     ]
    }
   ],
   "source": [
    "dataset.info()"
   ]
  },
  {
   "cell_type": "markdown",
   "metadata": {},
   "source": [
    "## Normalize/standardize the data if required; otherwise ignore. You can perform this step inside the pipeline (if required). "
   ]
  },
  {
   "cell_type": "raw",
   "metadata": {},
   "source": [
    "Doing Standardization inside the pipeline."
   ]
  },
  {
   "cell_type": "markdown",
   "metadata": {},
   "source": [
    "## Split the data into Train/Test"
   ]
  },
  {
   "cell_type": "code",
   "execution_count": 6,
   "metadata": {},
   "outputs": [
    {
     "name": "stdout",
     "output_type": "stream",
     "text": [
      "X (22586, 21) y (22586,)\n"
     ]
    }
   ],
   "source": [
    "X = np.array(dataset.iloc[:,:-1]) # Pull all rows, each column except the last\n",
    "y = np.array(dataset.went_on_backorder) # Pull just the went_on_backorder column\n",
    "print('X', X.shape, 'y', y.shape)"
   ]
  },
  {
   "cell_type": "code",
   "execution_count": 7,
   "metadata": {},
   "outputs": [
    {
     "name": "stdout",
     "output_type": "stream",
     "text": [
      "X_train.shape:  (15810, 21)\n",
      "y_train.shape:  (15810,)\n",
      "X_test.shape:  (6776, 21)\n",
      "y_test.shape:  (6776,)\n",
      "<class 'numpy.ndarray'>\n"
     ]
    }
   ],
   "source": [
    "from sklearn.model_selection import cross_val_score, train_test_split\n",
    "X_train, X_test, y_train, y_test = train_test_split(X, y, test_size=0.3)\n",
    "print(\"X_train.shape: \", X_train.shape)\n",
    "print(\"y_train.shape: \", y_train.shape)\n",
    "print(\"X_test.shape: \", X_test.shape)\n",
    "print(\"y_test.shape: \", y_test.shape)\n",
    "print(type(X_train))"
   ]
  },
  {
   "cell_type": "markdown",
   "metadata": {},
   "source": [
    "## Developing Pipeline\n",
    "\n",
    "In this section, we design an operationalized machine learning pipeline, which includes:\n",
    "\n",
    "* Anomaly detection\n",
    "* Dimensionality Reduction\n",
    "* Train a classification model\n",
    "\n",
    "\n",
    "We are free to use any of the models that we learned in the past or we can use new models. Here is a pool of methods: \n",
    "\n",
    "### Pool of Anomaly Detection Methods (Discussed in M4)\n",
    "1. IsolationForest\n",
    "2. EllipticEnvelope\n",
    "3. LocalOutlierFactor\n",
    "4. OneClassSVM\n",
    "5. SGDOneClassSVM\n",
    "\n",
    "### Pool of Feature Selection Methods (Discussed in M3)\n",
    "\n",
    "1. VarianceThreshold\n",
    "1. SelectKBest with any scoring method (e.g, chi, f_classif, mutual_info_classif)\n",
    "1. SelectKPercentile\n",
    "3. SelectFpr, SelectFdr, or  SelectFwe\n",
    "1. GenericUnivariateSelect\n",
    "2. PCA\n",
    "3. Factor Analysis\n",
    "4. Variance Threshold\n",
    "5. RFE\n",
    "7. SelectFromModel\n",
    "\n",
    "\n",
    "### Classification Methods (Discussed in M1-M2\n",
    "1. Decision Tree\n",
    "2. Random Forest\n",
    "3. Logistic Regression\n",
    "4. Naive Bayes\n",
    "5. Linear SVC\n",
    "6. SVC with kernels\n",
    "7. KNeighborsClassifier\n",
    "8. GradientBoostingClassifier\n",
    "9. XGBClassifier\n",
    "10. LGBM Classifier\n",
    "\n",
    "\n",
    "\n",
    "It is difficult to fit an anomaly detection method in the sklearn pipeline without writing custom codes. For simplicity, we avoid fitting an anomaly detection method within a pipeline. So we can create the workflow in two steps. \n",
    "* Step I: fit an outlier with the training set\n",
    "* Step II: define a pipeline using a feature selection and a classification method. Then cross-validate this pipeline using the training data without outliers. \n",
    "* Note: if your smart sample is somewhat imbalanced, you might want to change the scoring method in GridSearchCV (see the [doc](https://scikit-learn.org/stable/modules/generated/sklearn.model_selection.GridSearchCV.html)).\n",
    "\n",
    "\n",
    "Once we fit the pipeline with gridsearch, we identify the best model and give an unbiased evaluation using the test set that we created in Part II. For unbiased evaluation we report confusion matrix, precision, recall, f1-score, accuracy, and other measures if you like. \n",
    "\n",
    "**Optional: Those who are interested in writing custom codes for adding an outlier detection method into the sklearn pipeline, please follow this discussion [thread](https://stackoverflow.com/questions/52346725/can-i-add-outlier-detection-and-removal-to-scikit-learn-pipeline).**\n",
    "\n",
    "\n",
    "**Note:** <span style='background:yellow'>We will be using Grid Search to find the optimal parameters of the pipelines.</span>\n",
    "\n",
    "You can add more notebook cells or import any Python modules as needed."
   ]
  },
  {
   "cell_type": "code",
   "execution_count": 8,
   "metadata": {},
   "outputs": [],
   "source": [
    "%matplotlib inline\n",
    "from sklearn.svm import OneClassSVM\n",
    "from sklearn.neighbors import LocalOutlierFactor\n",
    "from sklearn.covariance import EllipticEnvelope\n",
    "from sklearn.ensemble import IsolationForest\n",
    "from sklearn.linear_model import LogisticRegression\n",
    "from sklearn.decomposition import PCA, FactorAnalysis\n",
    "from sklearn.preprocessing import StandardScaler\n",
    "from sklearn.feature_selection import SelectKBest, chi2, f_classif, mutual_info_classif\n",
    "from sklearn.preprocessing import MinMaxScaler\n",
    "from sklearn.pipeline import Pipeline\n",
    "from sklearn.linear_model import LinearRegression\n",
    "from sklearn.decomposition import FactorAnalysis\n",
    "from sklearn.preprocessing import scale\n",
    "from sklearn.svm import SVC\n",
    "from sklearn.model_selection import RepeatedStratifiedKFold\n",
    "from sklearn.model_selection import GridSearchCV\n",
    "from sklearn.covariance import EllipticEnvelope\n",
    "from sklearn.feature_selection import SelectKBest\n",
    "from sklearn.feature_selection import chi2\n",
    "from sklearn.metrics import classification_report, confusion_matrix\n",
    "from sklearn.ensemble import RandomForestClassifier\n",
    "from sklearn.feature_selection import RFE\n",
    "from scipy.stats import uniform, randint\n",
    "from sklearn.metrics import auc, accuracy_score, confusion_matrix, mean_squared_error\n",
    "from sklearn.model_selection import cross_val_score, GridSearchCV, KFold, RandomizedSearchCV, train_test_split\n",
    "from imblearn import FunctionSampler\n",
    "from sklearn.model_selection import RepeatedStratifiedKFold\n",
    "from sklearn.model_selection import GridSearchCV\n",
    "import matplotlib.pyplot as plt\n",
    "import numpy as np\n",
    "from sklearn.datasets import make_blobs, make_moons\n",
    "from sklearn.ensemble import IsolationForest\n",
    "from sklearn.linear_model import LogisticRegression\n",
    "from sklearn.metrics import classification_report\n",
    "\n",
    "from imblearn import FunctionSampler\n",
    "from imblearn.pipeline import make_pipeline"
   ]
  },
  {
   "cell_type": "markdown",
   "metadata": {},
   "source": [
    "### Your 1st pipeline \n",
    "  * Anomaly detection\n",
    "  * Dimensionality reduction\n",
    "  * Model training/validation\n",
    "  \n",
    "Add cells as needed. "
   ]
  },
  {
   "cell_type": "markdown",
   "metadata": {},
   "source": [
    "# Using Isolation forest for anamoly detection, SVC with Kernel as classification method and PCA for feature reduction with different parameters."
   ]
  },
  {
   "cell_type": "raw",
   "metadata": {},
   "source": [
    "The Feature reduction method used: PCA (out of all the number of features I tried from 5 to 20, it always picked 20 N_components)\n",
    "The model used: SVC with (kernel='rbf') and tried with different C values from 0.001 to 100,000, gamma values from 0.0001 to 0.5 For Anamoly Detection, I have used IsolationForest Method where I tried max_samples of 100 and different Contamination values from 0.4 to 0.05. \n",
    "Findings :\n",
    "1. The no of outliers are increasing with contamination value\n",
    "2. The performance of the model has not changed much on changing the scaler while the outliers are more like 4k, and it improves the performance by 5% to 7%  by changing to StandardScaler from MinMaxScalar if the outliers are 5% to 10% of the dataset.\n",
    "3. The performance of the model increased for all inlier datasets with increase in C and gamma value. Specifically for the inlier data having lesser outliers like 791 ouliers ie. 5% of the dataset it increased by 23%. So I am using that dataset to train my data as my first inlier dataset for the first pipeline model."
   ]
  },
  {
   "cell_type": "code",
   "execution_count": 9,
   "metadata": {},
   "outputs": [
    {
     "data": {
      "image/png": "[encoded data removed]",
      "text/plain": [
       "<Figure size 432x288 with 1 Axes>"
      ]
     },
     "metadata": {
      "needs_background": "light"
     },
     "output_type": "display_data"
    }
   ],
   "source": [
    "#Add anomaly detection code  (Question #E201)\n",
    "#----------------------------------\n",
    "\n",
    "rng = np.random.RandomState(42)\n",
    "\n",
    "def plot_scatter(X, y, title):\n",
    "    \"\"\"Function to plot some data as a scatter plot.\"\"\"\n",
    "    plt.figure()\n",
    "    plt.scatter(X[y == 1, 0], X[y == 1, 1], label=\"Class #1\")\n",
    "    plt.scatter(X[y == 0, 0], X[y == 0, 1], label=\"Class #0\")\n",
    "    plt.legend()\n",
    "    plt.title(title)\n",
    "\n",
    "plot_scatter(X_train,y_train, \"Training dataset\")\n"
   ]
  },
  {
   "cell_type": "code",
   "execution_count": 10,
   "metadata": {},
   "outputs": [
    {
     "name": "stdout",
     "output_type": "stream",
     "text": [
      "Num of outliers = 791\n"
     ]
    },
    {
     "data": {
      "image/png": "[encoded data removed]",
      "text/plain": [
       "<Figure size 432x288 with 1 Axes>"
      ]
     },
     "metadata": {
      "needs_background": "light"
     },
     "output_type": "display_data"
    }
   ],
   "source": [
    "def outlier_rejection(X, y):\n",
    "    model_isolationf = IsolationForest(max_samples=100, contamination=0.05, random_state=rng)\n",
    "    model_isolationf.fit(X)\n",
    "    y_pred = model_isolationf.predict(X)\n",
    "    return X[y_pred == 1], y[y_pred == 1],y_pred == -1\n",
    "\n",
    "X3_inliers, y3_inliers, outliers_3 = outlier_rejection(X_train,y_train)\n",
    "plot_scatter(X3_inliers, y3_inliers, \"Training data without outliers\")\n",
    "print(f\"Num of outliers = {np.sum(outliers_3)}\")"
   ]
  },
  {
   "cell_type": "code",
   "execution_count": 11,
   "metadata": {},
   "outputs": [
    {
     "name": "stdout",
     "output_type": "stream",
     "text": [
      "Parameters of the best model are: Pipeline(steps=[('scale', StandardScaler()), ('PCA', PCA(n_components=20)),\n",
      "                ('SVC', SVC(C=50000, gamma=0.1))])\n",
      "Score of the best model: 0.8550501872738889\n"
     ]
    }
   ],
   "source": [
    "# Add codes for feature selection and classification pipeline with grid search (Question #E202)\n",
    "# ----------------------------------\n",
    "pca_components = 20\n",
    "pipe = Pipeline([\n",
    "    ('scale', StandardScaler()),                  \n",
    "    ('PCA', PCA(n_components= pca_components)), \n",
    "    ('SVC', SVC(kernel='rbf'))                  \n",
    "])\n",
    "\n",
    "param_grid = {'SVC__C': [40000, 50000, 60000], \n",
    "              'SVC__gamma': [0.05, 0.1, 0.2], \n",
    "              'PCA__n_components': [20],\n",
    "              'SVC__kernel': ['rbf']}\n",
    "\n",
    "cv = RepeatedStratifiedKFold(n_splits=5, n_repeats=1, random_state=1)\n",
    "model_grid_svc = GridSearchCV(pipe, param_grid = param_grid, cv=cv, n_jobs=5)\n",
    "model_grid_svc.fit(X3_inliers, y3_inliers)\n",
    "print(\"Parameters of the best model are:\",model_grid_svc.best_estimator_)\n",
    "print(\"Score of the best model:\", model_grid_svc.best_score_)"
   ]
  },
  {
   "cell_type": "code",
   "execution_count": 12,
   "metadata": {},
   "outputs": [
    {
     "name": "stdout",
     "output_type": "stream",
     "text": [
      "              precision    recall  f1-score   support\n",
      "\n",
      "           0       0.87      0.89      0.88      7889\n",
      "           1       0.89      0.86      0.88      7921\n",
      "\n",
      "    accuracy                           0.88     15810\n",
      "   macro avg       0.88      0.88      0.88     15810\n",
      "weighted avg       0.88      0.88      0.88     15810\n",
      "\n"
     ]
    }
   ],
   "source": [
    "# Given an unbiased evaluation  (Question #E203)\n",
    "# ----------------------------------\n",
    "#Displaying results for training dataset\n",
    "predicted_y = model_grid_svc.predict(X_train)\n",
    "#classification report\n",
    "print(classification_report(y_train, predicted_y))"
   ]
  },
  {
   "cell_type": "code",
   "execution_count": 13,
   "metadata": {},
   "outputs": [
    {
     "data": {
      "text/html": [
       "<div>\n",
       "<style scoped>\n",
       "    .dataframe tbody tr th:only-of-type {\n",
       "        vertical-align: middle;\n",
       "    }\n",
       "\n",
       "    .dataframe tbody tr th {\n",
       "        vertical-align: top;\n",
       "    }\n",
       "\n",
       "    .dataframe thead th {\n",
       "        text-align: right;\n",
       "    }\n",
       "</style>\n",
       "<table border=\"1\" class=\"dataframe\">\n",
       "  <thead>\n",
       "    <tr style=\"text-align: right;\">\n",
       "      <th></th>\n",
       "      <th>0</th>\n",
       "      <th>1</th>\n",
       "    </tr>\n",
       "  </thead>\n",
       "  <tbody>\n",
       "    <tr>\n",
       "      <th>0</th>\n",
       "      <td>7056</td>\n",
       "      <td>833</td>\n",
       "    </tr>\n",
       "    <tr>\n",
       "      <th>1</th>\n",
       "      <td>1071</td>\n",
       "      <td>6850</td>\n",
       "    </tr>\n",
       "  </tbody>\n",
       "</table>\n",
       "</div>"
      ],
      "text/plain": [
       "      0     1\n",
       "0  7056   833\n",
       "1  1071  6850"
      ]
     },
     "execution_count": 13,
     "metadata": {},
     "output_type": "execute_result"
    }
   ],
   "source": [
    "#confusion matrix of trained dataset\n",
    "pd.DataFrame(confusion_matrix(y_train, predicted_y))"
   ]
  },
  {
   "cell_type": "markdown",
   "metadata": {},
   "source": [
    "#### <center>Record the optimal hyperparameters and performance resulting from this pipeline.</center>"
   ]
  },
  {
   "cell_type": "raw",
   "metadata": {},
   "source": [
    "# Detail Hyperparameters and Results below  (Question #E204)\n",
    "# ---------------------------------------------\n",
    "\n",
    "The hyperparameters giving optimal values are : \n",
    "1. Anamoly detection : IsolationForest with contamination=0.05\n",
    "2. Feature Selection: PCA : PCA__n_components: 20\n",
    "3. Standardization : StandardScaler()\n",
    "4. Classifier : SVC with kernel : C=50000, gamma=0.1, kernel='rbf'\n",
    "\n",
    "              \n",
    "Performance Result of training dataset:\n",
    "\n",
    "                precision    recall  f1-score   support\n",
    "\n",
    "           0       0.87      0.89      0.88      7889\n",
    "           1       0.89      0.86      0.88      7921\n",
    "\n",
    "    accuracy                           0.88     15810\n",
    "   macro avg       0.88      0.88      0.88     15810\n",
    "weighted avg       0.88      0.88      0.88     15810\n",
    "\n",
    "\n",
    "\n",
    "Confusion Matrix:\n",
    "     \n",
    "      0\t     1\n",
    "      \n",
    "0\t7056\t833\n",
    "\n",
    "1\t1071\t6850\n",
    "\n",
    "Explanation:\n",
    "\n",
    "Confusion Matrix :\n",
    "\n",
    "True Negatives (TN): 7056 instances were correctly predicted as non-backorders (class 0).\n",
    "\n",
    "False Positives (FP): 833 instances were incorrectly predicted as backorders (class 1) when they were actually non-backorders.\n",
    "\n",
    "False Negatives (FN): 1071 instances were incorrectly predicted as non-backorders when they were actually backorders.\n",
    "\n",
    "True Positives (TP): 6850 instances were correctly predicted as backorders.\n",
    "\n",
    "Precision:\n",
    "\n",
    "For class 0 (non-backorder): The precision is 0.87, ie. out of all instances predicted as non-backorders, 87% of them were correct, the model predicts that an item is not on backorder, it is accurate 87% of the time.\n",
    "For class 1 (backorder): The precision is 0.89, ie. out of all instances predicted as backorders, 89% of them were correct. So, when the model predicts that an item is on backorder, it is accurate 89% of the time.\n",
    "\n",
    "Recall:\n",
    "\n",
    "For class 0 (non-backorder): The recall is 0.89, ie. the model successfully identified 89% of the actual instances that were non-backorders. It captures a large proportion of instances correctly classified as non-backorders.\n",
    "For class 1 (backorder): The recall is 0.86, indicating that the model detected 86% of the actual instances that were backorders. It successfully identified a significant proportion of instances classified as backorders.\n",
    "\n",
    "F1-Score:\n",
    "The F1-score is the harmonic mean of precision and recall. In this case, the F1-score is 0.88 for class 0 and for class 1. These values indicate a balanced performance in terms of precision and recall for both classes."
   ]
  },
  {
   "cell_type": "markdown",
   "metadata": {},
   "source": [
    "## <span style=\"background: yellow;\">Commit your code!</span> "
   ]
  },
  {
   "cell_type": "markdown",
   "metadata": {},
   "source": [
    "### Your 2nd pipeline\n",
    "  * Anomaly detection\n",
    "  * Dimensionality reduction\n",
    "  * Model training/validation"
   ]
  },
  {
   "cell_type": "markdown",
   "metadata": {},
   "source": [
    "# Using OneClassSVM for anamoly detection, Logistic Regression as classification method and Factor Analysis for feature reduction with different parameters."
   ]
  },
  {
   "cell_type": "raw",
   "metadata": {},
   "source": [
    "The Feature reduction method used: Factor Analysis : no. of components tried from 5 to 20, it picked 11 and 13 n_components in different cases.\n",
    "The model used: Logistic Regression and tried with different values for different hyperparameters. C values from 0.001 to 100, where the best parameter it took for C was 40. 'LR__penalty' with 'l1' and 'l2', where it picked l1 and 'LR__solver' out of 'liblinear' and 'lbfgs', it picked Liblinear.\n",
    "Anamoly Detection method used : OneClassSVM with kernel='rbf' and different nu values from 0.01 to 0.5. \n",
    "\n",
    "Findings :\n",
    "1. The no of outliers are increasing with increase in nu values.\n",
    "2. The performance of the model was significantly better with nu=0.05, where the no of inliers are 793, which is almost 5% of the training dataset.\n",
    "3. The performance of the model increased for all inlier datasets with changes in C value and no of components of Factor Analysis."
   ]
  },
  {
   "cell_type": "code",
   "execution_count": 14,
   "metadata": {},
   "outputs": [],
   "source": [
    "# Add anomaly detection code  (Question #E205)\n",
    "\n",
    "#Using the OneClassSVM for Anamoly detection for various nu values\n",
    "# ----------------------------------\n",
    "def outlier_rejection2(X, y, nu):\n",
    "    model_oc_svm = OneClassSVM(kernel='rbf',nu=nu)\n",
    "    model_oc_svm.fit(X)\n",
    "    y_pred = model_oc_svm.predict(X)\n",
    "    return X[y_pred == 1], y[y_pred == 1],y_pred == -1"
   ]
  },
  {
   "cell_type": "code",
   "execution_count": 15,
   "metadata": {},
   "outputs": [
    {
     "name": "stdout",
     "output_type": "stream",
     "text": [
      "Num of outliers = 798\n"
     ]
    },
    {
     "data": {
      "image/png": "[encoded data removed]",
      "text/plain": [
       "<Figure size 432x288 with 1 Axes>"
      ]
     },
     "metadata": {
      "needs_background": "light"
     },
     "output_type": "display_data"
    }
   ],
   "source": [
    "X_inliers_svm2, y_inliers_svm2, outliers_svm2 = outlier_rejection2(X_train,y_train,nu=0.05)\n",
    "plot_scatter(X_inliers_svm2, y_inliers_svm2, \"Training data without outliers\")\n",
    "print(f\"Num of outliers = {np.sum(outliers_svm2)}\")"
   ]
  },
  {
   "cell_type": "code",
   "execution_count": 16,
   "metadata": {},
   "outputs": [],
   "source": [
    "# Add codes for feature selection and classification pipeline with grid search  (Question #E206)\n",
    "# ----------------------------------\n",
    "#Using Factor Analysis for feature selection and logistic regressor classifier for classification\n",
    "\n",
    "pipe2 = Pipeline([\n",
    "    ('scale', StandardScaler()),          \n",
    "    ('FA', FactorAnalysis()),             \n",
    "    ('LR', LogisticRegression(max_iter=100))        \n",
    "])"
   ]
  },
  {
   "cell_type": "code",
   "execution_count": 17,
   "metadata": {},
   "outputs": [],
   "source": [
    "param_gridLR = { \n",
    "              'FA__n_components':[11, 12, 13],\n",
    "              'LR__C':[40, 50, 70],\n",
    "              'LR__penalty': ['l1','l2'],\n",
    "              'LR__solver': ['liblinear','lbfgs']}\n",
    "\n",
    "cv = RepeatedStratifiedKFold(n_splits=5, n_repeats=1, random_state=1)\n",
    "model_gridLR = GridSearchCV(pipe2, param_grid = param_gridLR, cv=cv, n_jobs=5)"
   ]
  },
  {
   "cell_type": "code",
   "execution_count": 18,
   "metadata": {},
   "outputs": [
    {
     "name": "stderr",
     "output_type": "stream",
     "text": [
      "/opt/conda/lib/python3.7/site-packages/sklearn/model_selection/_search.py:921: UserWarning: One or more of the test scores are non-finite: [0.76412191        nan 0.76398867 0.76398867 0.76412191        nan\n",
      " 0.76398867 0.76398867 0.76412191        nan 0.76398867 0.76412191\n",
      " 0.7559922         nan 0.7559922  0.75592558 0.7559922         nan\n",
      " 0.75592558 0.75592558 0.7559922         nan 0.75592558 0.7559922\n",
      " 0.76938462        nan 0.76931802 0.76931802 0.76938462        nan\n",
      " 0.76931802 0.76931802 0.76938462        nan 0.76938462 0.76938462]\n",
      "  category=UserWarning\n"
     ]
    },
    {
     "name": "stdout",
     "output_type": "stream",
     "text": [
      "Parameters of the best model are: Pipeline(steps=[('scale', StandardScaler()),\n",
      "                ('FA', FactorAnalysis(n_components=13)),\n",
      "                ('LR',\n",
      "                 LogisticRegression(C=40, penalty='l1', solver='liblinear'))])\n",
      "Score of the best model: 0.7693846238150035\n"
     ]
    }
   ],
   "source": [
    "model_gridLR.fit(X_inliers_svm2, y_inliers_svm2)\n",
    "print(\"Parameters of the best model are:\",model_gridLR.best_estimator_)\n",
    "print(\"Score of the best model:\", model_gridLR.best_score_)"
   ]
  },
  {
   "cell_type": "code",
   "execution_count": 19,
   "metadata": {},
   "outputs": [
    {
     "name": "stdout",
     "output_type": "stream",
     "text": [
      "              precision    recall  f1-score   support\n",
      "\n",
      "           0       0.89      0.66      0.75      7889\n",
      "           1       0.73      0.92      0.81      7921\n",
      "\n",
      "    accuracy                           0.79     15810\n",
      "   macro avg       0.81      0.79      0.78     15810\n",
      "weighted avg       0.81      0.79      0.78     15810\n",
      "\n"
     ]
    }
   ],
   "source": [
    "# Given an unbiased evaluation  (Question #E207)\n",
    "# ----------------------------------\n",
    "#Displaying results for training dataset\n",
    "predicted_yLR = model_gridLR.predict(X_train) #logistic regression 2nd pipeline \n",
    "#classification report\n",
    "print(classification_report(y_train, predicted_yLR))"
   ]
  },
  {
   "cell_type": "code",
   "execution_count": 20,
   "metadata": {},
   "outputs": [
    {
     "data": {
      "text/html": [
       "<div>\n",
       "<style scoped>\n",
       "    .dataframe tbody tr th:only-of-type {\n",
       "        vertical-align: middle;\n",
       "    }\n",
       "\n",
       "    .dataframe tbody tr th {\n",
       "        vertical-align: top;\n",
       "    }\n",
       "\n",
       "    .dataframe thead th {\n",
       "        text-align: right;\n",
       "    }\n",
       "</style>\n",
       "<table border=\"1\" class=\"dataframe\">\n",
       "  <thead>\n",
       "    <tr style=\"text-align: right;\">\n",
       "      <th></th>\n",
       "      <th>0</th>\n",
       "      <th>1</th>\n",
       "    </tr>\n",
       "  </thead>\n",
       "  <tbody>\n",
       "    <tr>\n",
       "      <th>0</th>\n",
       "      <td>5169</td>\n",
       "      <td>2720</td>\n",
       "    </tr>\n",
       "    <tr>\n",
       "      <th>1</th>\n",
       "      <td>669</td>\n",
       "      <td>7252</td>\n",
       "    </tr>\n",
       "  </tbody>\n",
       "</table>\n",
       "</div>"
      ],
      "text/plain": [
       "      0     1\n",
       "0  5169  2720\n",
       "1   669  7252"
      ]
     },
     "execution_count": 20,
     "metadata": {},
     "output_type": "execute_result"
    }
   ],
   "source": [
    "#confusion matrix\n",
    "pd.DataFrame(confusion_matrix(y_train, predicted_yLR))"
   ]
  },
  {
   "cell_type": "markdown",
   "metadata": {},
   "source": [
    "#### <center>Record the optimal hyperparameters and performance resulting from this pipeline.</center>"
   ]
  },
  {
   "cell_type": "raw",
   "metadata": {},
   "source": [
    "# Detail Hyperparameters and Results below  (Question #E208)\n",
    "# ---------------------------------------------\n",
    "The hyperparameters giving optimal values are : \n",
    "1. Anamoly Detection : OneClassSVM --> kernel='rbf', nu=0.05\n",
    "2. Standardization : StandardScaler()\n",
    "3. Feature Selection : Factor Analysis--> n_components=12\n",
    "4. Classifier : Logistic regression --> C=50, penalty='l1', solver='liblinear'\n",
    "\n",
    "Performance Result of traing dataset:\n",
    "\n",
    "                 precision    recall  f1-score   support\n",
    "                 \n",
    "            0       0.89      0.66      0.75      7889\n",
    "            1       0.73      0.92      0.81      7921\n",
    "\n",
    "     accuracy                           0.79     15810\n",
    "    macro avg       0.81      0.79      0.78     15810\n",
    " weighted avg       0.81      0.79      0.78     15810\n",
    "          \n",
    "Confusion Matrix:\n",
    "      0\t     1\n",
    "      \n",
    "0\t5184\t2715\n",
    "\n",
    "1\t865\t    7046\n",
    "\n",
    "Explanation:\n",
    "\n",
    "Confusion Matrix :\n",
    "\n",
    "True Negatives (TN): 5184 instances were correctly predicted as non-backorders (class 0).\n",
    "\n",
    "False Positives (FP): 2715 instances were incorrectly predicted as backorders (class 1) when they were actually non-backorders.\n",
    "\n",
    "False Negatives (FN): 865 instances were incorrectly predicted as non-backorders when they were actually backorders.\n",
    "\n",
    "True Positives (TP): 7046 instances were correctly predicted as backorders.\n",
    "\n",
    "Precision:\n",
    "\n",
    "For class 0 (non-backorder): The precision is 0.89, ie. out of all instances predicted as non-backorders, 89% of them were correct, the model predicts that an item is not on backorder, it is accurate 89% of the time.\n",
    "For class 1 (backorder): The precision is 0.73, ie. out of all instances predicted as backorders, 73% of them were correct. So, when the model predicts that an item is on backorder, it is accurate 73% of the time.\n",
    "\n",
    "Recall:\n",
    "\n",
    "For class 0 (non-backorder): The recall is 0.66, ie. the model successfully identified 66% of the actual instances that were non-backorders. \n",
    "For class 1 (backorder): The recall is 0.92, indicating that the model detected 92% of the actual instances that were backorders. It successfully identified a significant proportion of instances classified as backorders.\n",
    "\n",
    "F1-Score:\n",
    "The F1-score is the harmonic mean of precision and recall. In this case, the F1-score is 0.75 for class 0 and 0.81 for class 1. In average the F1 score is 0.79."
   ]
  },
  {
   "cell_type": "markdown",
   "metadata": {},
   "source": [
    "## <span style=\"background: yellow;\">Commit your code!</span> "
   ]
  },
  {
   "cell_type": "markdown",
   "metadata": {},
   "source": [
    "### Your 3rd pipeline\n",
    "  * Anomaly detection\n",
    "  * Dimensionality reduction\n",
    "  * Model training/validation"
   ]
  },
  {
   "cell_type": "markdown",
   "metadata": {},
   "source": [
    "# Using EllipticEnvelope for anamoly detection, Random Forest as classification method and RFE for feature reduction with different parameters."
   ]
  },
  {
   "cell_type": "raw",
   "metadata": {},
   "source": [
    "Anamoly Detection method used : Elliptic Envelope: hyperparameters tunings tried for different combinations of support_fraction : 0.1 to 1, contamination: 0.05 to 0.5.\n",
    "The Feature reduction method used: RFE: estimator=LogisticRegression(), n_features_to_select=20 was got selected \n",
    "The classification method used: Random Forest: criterion among 'entropy' and 'gini', most of the times 'entropy' got selected, min_samples_leaf checked with a range from 2 to 20, where 2 was a good fit, min_samples_split from 2 to 10, where 6 was a good fit. n_estimators tried for range from 2 to 100 and found 30 as a good fit. \n",
    "\n",
    "Findings :\n",
    "\n",
    "1. The performance of the model was significantly better with n_estimators was 30 for Random Forest for all inlier dataset.\n",
    "2. The inliers with Elliptic Envelope with hyperparameters, support_fraction=0.1, contamination=0.05, where the no of inliers are 791, which is almost 5% of the training dataset got better performance results compared to all other inlier datasets.\n"
   ]
  },
  {
   "cell_type": "code",
   "execution_count": 21,
   "metadata": {},
   "outputs": [
    {
     "name": "stdout",
     "output_type": "stream",
     "text": [
      "Num of outliers = 791\n"
     ]
    },
    {
     "data": {
      "image/png": "[encoded data removed]",
      "text/plain": [
       "<Figure size 432x288 with 1 Axes>"
      ]
     },
     "metadata": {
      "needs_background": "light"
     },
     "output_type": "display_data"
    }
   ],
   "source": [
    "# Add anomaly detection code  (Question #E209)\n",
    "# ----------------------------------\n",
    "#Using EllipticEnvelope for anamoly detection\n",
    "\n",
    "def outlier_rejection3(X, y):\n",
    "    model_ee = EllipticEnvelope(support_fraction=0.1, contamination=0.05)\n",
    "    model_ee.fit(X)\n",
    "    y_pred = model_ee.predict(X)\n",
    "    return X[y_pred == 1], y[y_pred == 1],y_pred == -1\n",
    "\n",
    "X_ee5, y_ee5, outliers_ee5 = outlier_rejection3(X_train,y_train)\n",
    "plot_scatter(X3_inliers, y3_inliers, \"Training data without outliers\")\n",
    "print(f\"Num of outliers = {np.sum(outliers_ee5)}\")"
   ]
  },
  {
   "cell_type": "code",
   "execution_count": 22,
   "metadata": {},
   "outputs": [
    {
     "name": "stderr",
     "output_type": "stream",
     "text": [
      "/opt/conda/lib/python3.7/site-packages/sklearn/linear_model/_logistic.py:765: ConvergenceWarning: lbfgs failed to converge (status=1):\n",
      "STOP: TOTAL NO. of ITERATIONS REACHED LIMIT.\n",
      "\n",
      "Increase the number of iterations (max_iter) or scale the data as shown in:\n",
      "    https://scikit-learn.org/stable/modules/preprocessing.html\n",
      "Please also refer to the documentation for alternative solver options:\n",
      "    https://scikit-learn.org/stable/modules/linear_model.html#logistic-regression\n",
      "  extra_warning_msg=_LOGISTIC_SOLVER_CONVERGENCE_MSG)\n",
      "/opt/conda/lib/python3.7/site-packages/sklearn/linear_model/_logistic.py:765: ConvergenceWarning: lbfgs failed to converge (status=1):\n",
      "STOP: TOTAL NO. of ITERATIONS REACHED LIMIT.\n",
      "\n",
      "Increase the number of iterations (max_iter) or scale the data as shown in:\n",
      "    https://scikit-learn.org/stable/modules/preprocessing.html\n",
      "Please also refer to the documentation for alternative solver options:\n",
      "    https://scikit-learn.org/stable/modules/linear_model.html#logistic-regression\n",
      "  extra_warning_msg=_LOGISTIC_SOLVER_CONVERGENCE_MSG)\n"
     ]
    },
    {
     "name": "stdout",
     "output_type": "stream",
     "text": [
      "Parameters of the best model are: Pipeline(steps=[('scale', StandardScaler()),\n",
      "                ('RFE',\n",
      "                 RFE(estimator=LogisticRegression(), n_features_to_select=20)),\n",
      "                ('RandomForest',\n",
      "                 RandomForestClassifier(criterion='entropy', min_samples_leaf=2,\n",
      "                                        min_samples_split=6,\n",
      "                                        n_estimators=30))])\n",
      "Score of the best model: 0.8967971442671843\n"
     ]
    }
   ],
   "source": [
    "estimator = LogisticRegression()\n",
    "pipe3 = Pipeline([('scale', StandardScaler()),                 \n",
    "                ('RFE', RFE(estimator)),\n",
    "                ('RandomForest',RandomForestClassifier())\n",
    "                ])\n",
    "\n",
    "param_grid_RF2 = {\n",
    "              'RFE__n_features_to_select':[5, 10, 20],\n",
    "              'RandomForest__n_estimators':[20, 25, 30],\n",
    "              'RandomForest__criterion': ['entropy','gini'],\n",
    "              'RandomForest__min_samples_split': [6, 8, 10],\n",
    "              'RandomForest__min_samples_leaf': [2,3,4] \n",
    "             }\n",
    "     \n",
    "cv3 = RepeatedStratifiedKFold(n_splits=5, n_repeats=1, random_state=1)\n",
    "model_grid_RF2 = GridSearchCV(pipe3, param_grid = param_grid_RF2, cv=cv3, n_jobs=5)\n",
    "modelRF_ee6= model_grid_RF2.fit(X_ee5, y_ee5)\n",
    "print(\"Parameters of the best model are:\",modelRF_ee6.best_estimator_)\n",
    "print(\"Score of the best model:\", modelRF_ee6.best_score_)"
   ]
  },
  {
   "cell_type": "code",
   "execution_count": 23,
   "metadata": {},
   "outputs": [
    {
     "name": "stdout",
     "output_type": "stream",
     "text": [
      "              precision    recall  f1-score   support\n",
      "\n",
      "           0       0.97      0.95      0.96      7889\n",
      "           1       0.95      0.97      0.96      7921\n",
      "\n",
      "    accuracy                           0.96     15810\n",
      "   macro avg       0.96      0.96      0.96     15810\n",
      "weighted avg       0.96      0.96      0.96     15810\n",
      "\n"
     ]
    }
   ],
   "source": [
    "predicted_y_train_rf_ee6 = modelRF_ee6.predict(X_train)\n",
    "print(classification_report(y_train, predicted_y_train_rf_ee6))"
   ]
  },
  {
   "cell_type": "code",
   "execution_count": 24,
   "metadata": {},
   "outputs": [
    {
     "data": {
      "text/html": [
       "<div>\n",
       "<style scoped>\n",
       "    .dataframe tbody tr th:only-of-type {\n",
       "        vertical-align: middle;\n",
       "    }\n",
       "\n",
       "    .dataframe tbody tr th {\n",
       "        vertical-align: top;\n",
       "    }\n",
       "\n",
       "    .dataframe thead th {\n",
       "        text-align: right;\n",
       "    }\n",
       "</style>\n",
       "<table border=\"1\" class=\"dataframe\">\n",
       "  <thead>\n",
       "    <tr style=\"text-align: right;\">\n",
       "      <th></th>\n",
       "      <th>0</th>\n",
       "      <th>1</th>\n",
       "    </tr>\n",
       "  </thead>\n",
       "  <tbody>\n",
       "    <tr>\n",
       "      <th>0</th>\n",
       "      <td>7490</td>\n",
       "      <td>399</td>\n",
       "    </tr>\n",
       "    <tr>\n",
       "      <th>1</th>\n",
       "      <td>268</td>\n",
       "      <td>7653</td>\n",
       "    </tr>\n",
       "  </tbody>\n",
       "</table>\n",
       "</div>"
      ],
      "text/plain": [
       "      0     1\n",
       "0  7490   399\n",
       "1   268  7653"
      ]
     },
     "execution_count": 24,
     "metadata": {},
     "output_type": "execute_result"
    }
   ],
   "source": [
    "pd.DataFrame(confusion_matrix(y_train, predicted_y_train_rf_ee6))"
   ]
  },
  {
   "cell_type": "markdown",
   "metadata": {},
   "source": [
    "#### <center>Record the optimal hyperparameters and performance resulting from this pipeline.</center>"
   ]
  },
  {
   "cell_type": "raw",
   "metadata": {},
   "source": [
    "# Detail Hyperparameters and Results below  (Question #E212)\n",
    "# ---------------------------------------------\n",
    "The hyperparameters giving optimal values are : \n",
    "1. Anamoly Detection : Elliptic Envelope --> support_fraction=0.1, contamination=0.05\n",
    "2. Standardization : StandardScaler()\n",
    "3. Feature Selection : RFE(estimator=LogisticRegression(), n_features_to_select=20\n",
    "4. Classifier : Random Forest Classifier --> min_samples_leaf=2, min_samples_split=6, n_estimators=30\n",
    "\n",
    "\n",
    "Performance Result of traing dataset:\n",
    "\n",
    "                precision    recall  f1-score   support\n",
    "\n",
    "           0       0.97      0.95      0.96      7889\n",
    "           1       0.95      0.97      0.96      7921\n",
    "\n",
    "    accuracy                           0.96     15810\n",
    "   macro avg       0.96      0.96      0.96     15810\n",
    "weighted avg       0.96      0.96      0.96     15810\n",
    "\n",
    "\n",
    "Precision:\n",
    "\n",
    "For class 0 (non-backorder): The precision is 0.97, ie. out of all instances predicted as non-backorders, 97% of them were correct, the model predicts that an item is not on backorder, it is accurate 97% of the time, which is highest among all the pipelines.\n",
    "For class 1 (backorder): The precision is 0.95, ie. out of all instances predicted as backorders, 95% of them were correct. So, when the model predicts that an item is on backorder, it is accurate 95% of the time, Which is good too.\n",
    "\n",
    "Recall:\n",
    "\n",
    "For class 0 (non-backorder): The recall is 0.95, ie. the model successfully identified 95% of the actual instances that were non-backorders. \n",
    "For class 1 (backorder): The recall is 0.97, indicating that the model detected 97% of the actual instances that were backorders. It successfully identified a significant proportion of instances classified as backorders.\n",
    "\n",
    "F1-Score:\n",
    "The F1-score is the harmonic mean of precision and recall. In this case, the F1-score is 0.96 for class 0 and for class 1, which is really good. \n",
    "\n",
    "\n",
    "Confusion Matrix: \n",
    "\n",
    "      0\t     1\n",
    "0\t7490\t399\n",
    "1\t268\t    7653\n",
    "\n",
    "Explanation:\n",
    "\n",
    "Confusion Matrix :\n",
    "\n",
    "True Negatives (TN): 7490 instances were correctly predicted as non-backorders (class 0).\n",
    "\n",
    "False Positives (FP): 399 instances were incorrectly predicted as backorders (class 1) when they were actually non-backorders.\n",
    "\n",
    "False Negatives (FN): 268 instances were incorrectly predicted as non-backorders when they were actually backorders.\n",
    "\n",
    "True Positives (TP): 7653 instances were correctly predicted as backorders.\n",
    "\n"
   ]
  },
  {
   "cell_type": "markdown",
   "metadata": {},
   "source": [
    "## Compare these three pipelines and discuss your findings"
   ]
  },
  {
   "cell_type": "raw",
   "metadata": {},
   "source": [
    "# Write your analysis in this cell (Question #E213)\n",
    "# ----------------------------------\n",
    "#Below predicting the test data with and without outliers with all the three above models and displaying the classification report with confusion matrix. At the end of each pipeline prediction comparing with the results obtained with the train data. At the very end comparing all pipeline test results. "
   ]
  },
  {
   "cell_type": "markdown",
   "metadata": {},
   "source": [
    "# Test data prediction results with and without outliers"
   ]
  },
  {
   "cell_type": "markdown",
   "metadata": {},
   "source": [
    "# First Pipeline"
   ]
  },
  {
   "cell_type": "code",
   "execution_count": 25,
   "metadata": {},
   "outputs": [
    {
     "name": "stdout",
     "output_type": "stream",
     "text": [
      "              precision    recall  f1-score   support\n",
      "\n",
      "           0       0.83      0.85      0.84      3404\n",
      "           1       0.85      0.83      0.84      3372\n",
      "\n",
      "    accuracy                           0.84      6776\n",
      "   macro avg       0.84      0.84      0.84      6776\n",
      "weighted avg       0.84      0.84      0.84      6776\n",
      "\n"
     ]
    }
   ],
   "source": [
    "#Using first pipeline model to predict test data with outliers\n",
    "pipe1_predicted_y = model_grid_svc.predict(X_test)\n",
    "#classification report\n",
    "print(classification_report(y_test, pipe1_predicted_y))"
   ]
  },
  {
   "cell_type": "code",
   "execution_count": 26,
   "metadata": {},
   "outputs": [
    {
     "data": {
      "text/html": [
       "<div>\n",
       "<style scoped>\n",
       "    .dataframe tbody tr th:only-of-type {\n",
       "        vertical-align: middle;\n",
       "    }\n",
       "\n",
       "    .dataframe tbody tr th {\n",
       "        vertical-align: top;\n",
       "    }\n",
       "\n",
       "    .dataframe thead th {\n",
       "        text-align: right;\n",
       "    }\n",
       "</style>\n",
       "<table border=\"1\" class=\"dataframe\">\n",
       "  <thead>\n",
       "    <tr style=\"text-align: right;\">\n",
       "      <th></th>\n",
       "      <th>0</th>\n",
       "      <th>1</th>\n",
       "    </tr>\n",
       "  </thead>\n",
       "  <tbody>\n",
       "    <tr>\n",
       "      <th>0</th>\n",
       "      <td>2910</td>\n",
       "      <td>494</td>\n",
       "    </tr>\n",
       "    <tr>\n",
       "      <th>1</th>\n",
       "      <td>590</td>\n",
       "      <td>2782</td>\n",
       "    </tr>\n",
       "  </tbody>\n",
       "</table>\n",
       "</div>"
      ],
      "text/plain": [
       "      0     1\n",
       "0  2910   494\n",
       "1   590  2782"
      ]
     },
     "execution_count": 26,
     "metadata": {},
     "output_type": "execute_result"
    }
   ],
   "source": [
    "#The confusion matrix for prediction using first pipeline and with outliers\n",
    "pd.DataFrame(confusion_matrix(y_test, pipe1_predicted_y))"
   ]
  },
  {
   "cell_type": "code",
   "execution_count": 27,
   "metadata": {},
   "outputs": [
    {
     "name": "stdout",
     "output_type": "stream",
     "text": [
      "Num of outliers = 339\n"
     ]
    }
   ],
   "source": [
    "#Removing outliers from test data to be used in the first pipeline\n",
    "X_test_inliers1, y_test_inliers1, outliers_test1 = outlier_rejection(X_test,y_test)\n",
    "print(f\"Num of outliers = {np.sum(outliers_test1)}\")"
   ]
  },
  {
   "cell_type": "code",
   "execution_count": 28,
   "metadata": {},
   "outputs": [
    {
     "name": "stdout",
     "output_type": "stream",
     "text": [
      "              precision    recall  f1-score   support\n",
      "\n",
      "           0       0.85      0.85      0.85      3227\n",
      "           1       0.85      0.85      0.85      3210\n",
      "\n",
      "    accuracy                           0.85      6437\n",
      "   macro avg       0.85      0.85      0.85      6437\n",
      "weighted avg       0.85      0.85      0.85      6437\n",
      "\n"
     ]
    }
   ],
   "source": [
    "#Using first pipeline model to predict test data with inliers\n",
    "pipe1_predicted_y_in = model_grid_svc.predict(X_test_inliers1)\n",
    "#classification report\n",
    "print(classification_report(y_test_inliers1, pipe1_predicted_y_in))"
   ]
  },
  {
   "cell_type": "code",
   "execution_count": 29,
   "metadata": {},
   "outputs": [
    {
     "data": {
      "text/html": [
       "<div>\n",
       "<style scoped>\n",
       "    .dataframe tbody tr th:only-of-type {\n",
       "        vertical-align: middle;\n",
       "    }\n",
       "\n",
       "    .dataframe tbody tr th {\n",
       "        vertical-align: top;\n",
       "    }\n",
       "\n",
       "    .dataframe thead th {\n",
       "        text-align: right;\n",
       "    }\n",
       "</style>\n",
       "<table border=\"1\" class=\"dataframe\">\n",
       "  <thead>\n",
       "    <tr style=\"text-align: right;\">\n",
       "      <th></th>\n",
       "      <th>0</th>\n",
       "      <th>1</th>\n",
       "    </tr>\n",
       "  </thead>\n",
       "  <tbody>\n",
       "    <tr>\n",
       "      <th>0</th>\n",
       "      <td>2737</td>\n",
       "      <td>490</td>\n",
       "    </tr>\n",
       "    <tr>\n",
       "      <th>1</th>\n",
       "      <td>480</td>\n",
       "      <td>2730</td>\n",
       "    </tr>\n",
       "  </tbody>\n",
       "</table>\n",
       "</div>"
      ],
      "text/plain": [
       "      0     1\n",
       "0  2737   490\n",
       "1   480  2730"
      ]
     },
     "execution_count": 29,
     "metadata": {},
     "output_type": "execute_result"
    }
   ],
   "source": [
    "#The confusion matrix for prediction using first pipeline and with inliers\n",
    "pd.DataFrame(confusion_matrix(y_test_inliers1, pipe1_predicted_y_in))"
   ]
  },
  {
   "cell_type": "raw",
   "metadata": {},
   "source": [
    "Result : This model works well, it is giving almost same results as I received with the training dataset that was F1=87%. By removing the outliers as well, it is not making much difference."
   ]
  },
  {
   "cell_type": "markdown",
   "metadata": {},
   "source": [
    "# Second Pipeline"
   ]
  },
  {
   "cell_type": "code",
   "execution_count": 30,
   "metadata": {},
   "outputs": [
    {
     "name": "stdout",
     "output_type": "stream",
     "text": [
      "              precision    recall  f1-score   support\n",
      "\n",
      "           0       0.88      0.64      0.74      3404\n",
      "           1       0.71      0.91      0.80      3372\n",
      "\n",
      "    accuracy                           0.77      6776\n",
      "   macro avg       0.80      0.77      0.77      6776\n",
      "weighted avg       0.80      0.77      0.77      6776\n",
      "\n"
     ]
    }
   ],
   "source": [
    "#Using second pipeline model to predict test data with outliers\n",
    "pipe2_predicted_y = model_gridLR.predict(X_test)\n",
    "#classification report\n",
    "print(classification_report(y_test, pipe2_predicted_y))"
   ]
  },
  {
   "cell_type": "code",
   "execution_count": 31,
   "metadata": {},
   "outputs": [
    {
     "data": {
      "text/html": [
       "<div>\n",
       "<style scoped>\n",
       "    .dataframe tbody tr th:only-of-type {\n",
       "        vertical-align: middle;\n",
       "    }\n",
       "\n",
       "    .dataframe tbody tr th {\n",
       "        vertical-align: top;\n",
       "    }\n",
       "\n",
       "    .dataframe thead th {\n",
       "        text-align: right;\n",
       "    }\n",
       "</style>\n",
       "<table border=\"1\" class=\"dataframe\">\n",
       "  <thead>\n",
       "    <tr style=\"text-align: right;\">\n",
       "      <th></th>\n",
       "      <th>0</th>\n",
       "      <th>1</th>\n",
       "    </tr>\n",
       "  </thead>\n",
       "  <tbody>\n",
       "    <tr>\n",
       "      <th>0</th>\n",
       "      <td>2171</td>\n",
       "      <td>1233</td>\n",
       "    </tr>\n",
       "    <tr>\n",
       "      <th>1</th>\n",
       "      <td>304</td>\n",
       "      <td>3068</td>\n",
       "    </tr>\n",
       "  </tbody>\n",
       "</table>\n",
       "</div>"
      ],
      "text/plain": [
       "      0     1\n",
       "0  2171  1233\n",
       "1   304  3068"
      ]
     },
     "execution_count": 31,
     "metadata": {},
     "output_type": "execute_result"
    }
   ],
   "source": [
    "#The confusion matrix for prediction using second pipeline and with outliers\n",
    "pd.DataFrame(confusion_matrix(y_test, pipe2_predicted_y))"
   ]
  },
  {
   "cell_type": "code",
   "execution_count": 32,
   "metadata": {},
   "outputs": [
    {
     "name": "stdout",
     "output_type": "stream",
     "text": [
      "Num of outliers = 332\n"
     ]
    }
   ],
   "source": [
    "#Removing outliers from test data to be used in the second pipeline\n",
    "X_test_inliers2, y_test_inliers2, outliers_test2 = outlier_rejection2(X_test,y_test,0.05)\n",
    "print(f\"Num of outliers = {np.sum(outliers_test2)}\")"
   ]
  },
  {
   "cell_type": "code",
   "execution_count": 33,
   "metadata": {},
   "outputs": [
    {
     "name": "stdout",
     "output_type": "stream",
     "text": [
      "              precision    recall  f1-score   support\n",
      "\n",
      "           0       0.88      0.64      0.74      3164\n",
      "           1       0.73      0.91      0.81      3280\n",
      "\n",
      "    accuracy                           0.78      6444\n",
      "   macro avg       0.80      0.78      0.78      6444\n",
      "weighted avg       0.80      0.78      0.78      6444\n",
      "\n"
     ]
    }
   ],
   "source": [
    "#Using second pipeline model to predict test data with inliers\n",
    "pipe2_predicted_y_in = model_gridLR.predict(X_test_inliers2)\n",
    "#classification report\n",
    "print(classification_report(y_test_inliers2, pipe2_predicted_y_in))"
   ]
  },
  {
   "cell_type": "code",
   "execution_count": 34,
   "metadata": {},
   "outputs": [
    {
     "data": {
      "text/html": [
       "<div>\n",
       "<style scoped>\n",
       "    .dataframe tbody tr th:only-of-type {\n",
       "        vertical-align: middle;\n",
       "    }\n",
       "\n",
       "    .dataframe tbody tr th {\n",
       "        vertical-align: top;\n",
       "    }\n",
       "\n",
       "    .dataframe thead th {\n",
       "        text-align: right;\n",
       "    }\n",
       "</style>\n",
       "<table border=\"1\" class=\"dataframe\">\n",
       "  <thead>\n",
       "    <tr style=\"text-align: right;\">\n",
       "      <th></th>\n",
       "      <th>0</th>\n",
       "      <th>1</th>\n",
       "    </tr>\n",
       "  </thead>\n",
       "  <tbody>\n",
       "    <tr>\n",
       "      <th>0</th>\n",
       "      <td>2032</td>\n",
       "      <td>1132</td>\n",
       "    </tr>\n",
       "    <tr>\n",
       "      <th>1</th>\n",
       "      <td>284</td>\n",
       "      <td>2996</td>\n",
       "    </tr>\n",
       "  </tbody>\n",
       "</table>\n",
       "</div>"
      ],
      "text/plain": [
       "      0     1\n",
       "0  2032  1132\n",
       "1   284  2996"
      ]
     },
     "execution_count": 34,
     "metadata": {},
     "output_type": "execute_result"
    }
   ],
   "source": [
    "#The confusion matrix for prediction using second pipeline and with inliers\n",
    "pd.DataFrame(confusion_matrix(y_test_inliers2, pipe2_predicted_y_in))"
   ]
  },
  {
   "cell_type": "raw",
   "metadata": {},
   "source": [
    "Result : This model works well, it is giving almost same results as I received with the training dataset that was F1=87%. By removing the outliers as well, it is not making much difference."
   ]
  },
  {
   "cell_type": "markdown",
   "metadata": {},
   "source": [
    "# Third Pipeline"
   ]
  },
  {
   "cell_type": "code",
   "execution_count": 35,
   "metadata": {},
   "outputs": [
    {
     "name": "stdout",
     "output_type": "stream",
     "text": [
      "              precision    recall  f1-score   support\n",
      "\n",
      "           0       0.91      0.88      0.90      3404\n",
      "           1       0.88      0.92      0.90      3372\n",
      "\n",
      "    accuracy                           0.90      6776\n",
      "   macro avg       0.90      0.90      0.90      6776\n",
      "weighted avg       0.90      0.90      0.90      6776\n",
      "\n"
     ]
    }
   ],
   "source": [
    "#Using third pipeline model to predict test data with outliers\n",
    "pipe3_predicted_y = modelRF_ee6.predict(X_test)\n",
    "#classification report\n",
    "print(classification_report(y_test, pipe3_predicted_y))"
   ]
  },
  {
   "cell_type": "code",
   "execution_count": 36,
   "metadata": {},
   "outputs": [
    {
     "data": {
      "text/html": [
       "<div>\n",
       "<style scoped>\n",
       "    .dataframe tbody tr th:only-of-type {\n",
       "        vertical-align: middle;\n",
       "    }\n",
       "\n",
       "    .dataframe tbody tr th {\n",
       "        vertical-align: top;\n",
       "    }\n",
       "\n",
       "    .dataframe thead th {\n",
       "        text-align: right;\n",
       "    }\n",
       "</style>\n",
       "<table border=\"1\" class=\"dataframe\">\n",
       "  <thead>\n",
       "    <tr style=\"text-align: right;\">\n",
       "      <th></th>\n",
       "      <th>0</th>\n",
       "      <th>1</th>\n",
       "    </tr>\n",
       "  </thead>\n",
       "  <tbody>\n",
       "    <tr>\n",
       "      <th>0</th>\n",
       "      <td>2992</td>\n",
       "      <td>412</td>\n",
       "    </tr>\n",
       "    <tr>\n",
       "      <th>1</th>\n",
       "      <td>283</td>\n",
       "      <td>3089</td>\n",
       "    </tr>\n",
       "  </tbody>\n",
       "</table>\n",
       "</div>"
      ],
      "text/plain": [
       "      0     1\n",
       "0  2992   412\n",
       "1   283  3089"
      ]
     },
     "execution_count": 36,
     "metadata": {},
     "output_type": "execute_result"
    }
   ],
   "source": [
    "#The confusion matrix for prediction using third pipeline and with outliers\n",
    "pd.DataFrame(confusion_matrix(y_test, pipe3_predicted_y))"
   ]
  },
  {
   "cell_type": "code",
   "execution_count": 37,
   "metadata": {},
   "outputs": [
    {
     "name": "stdout",
     "output_type": "stream",
     "text": [
      "Num of outliers = 359\n"
     ]
    }
   ],
   "source": [
    "#Removing outliers from test data to be used in the third pipeline\n",
    "X_test_inliers3, y_test_inliers3, outliers_test3 = outlier_rejection3(X_test,y_test)\n",
    "print(f\"Num of outliers = {np.sum(outliers_test3)}\")"
   ]
  },
  {
   "cell_type": "code",
   "execution_count": 38,
   "metadata": {},
   "outputs": [
    {
     "name": "stdout",
     "output_type": "stream",
     "text": [
      "              precision    recall  f1-score   support\n",
      "\n",
      "           0       0.92      0.88      0.90      3196\n",
      "           1       0.88      0.92      0.90      3221\n",
      "\n",
      "    accuracy                           0.90      6417\n",
      "   macro avg       0.90      0.90      0.90      6417\n",
      "weighted avg       0.90      0.90      0.90      6417\n",
      "\n"
     ]
    }
   ],
   "source": [
    "#Using third pipeline model to predict test data with inliers\n",
    "pipe3_predicted_y_in = modelRF_ee6.predict(X_test_inliers3)\n",
    "#classification report\n",
    "print(classification_report(y_test_inliers3, pipe3_predicted_y_in))"
   ]
  },
  {
   "cell_type": "code",
   "execution_count": 39,
   "metadata": {},
   "outputs": [
    {
     "data": {
      "text/html": [
       "<div>\n",
       "<style scoped>\n",
       "    .dataframe tbody tr th:only-of-type {\n",
       "        vertical-align: middle;\n",
       "    }\n",
       "\n",
       "    .dataframe tbody tr th {\n",
       "        vertical-align: top;\n",
       "    }\n",
       "\n",
       "    .dataframe thead th {\n",
       "        text-align: right;\n",
       "    }\n",
       "</style>\n",
       "<table border=\"1\" class=\"dataframe\">\n",
       "  <thead>\n",
       "    <tr style=\"text-align: right;\">\n",
       "      <th></th>\n",
       "      <th>0</th>\n",
       "      <th>1</th>\n",
       "    </tr>\n",
       "  </thead>\n",
       "  <tbody>\n",
       "    <tr>\n",
       "      <th>0</th>\n",
       "      <td>2804</td>\n",
       "      <td>392</td>\n",
       "    </tr>\n",
       "    <tr>\n",
       "      <th>1</th>\n",
       "      <td>255</td>\n",
       "      <td>2966</td>\n",
       "    </tr>\n",
       "  </tbody>\n",
       "</table>\n",
       "</div>"
      ],
      "text/plain": [
       "      0     1\n",
       "0  2804   392\n",
       "1   255  2966"
      ]
     },
     "execution_count": 39,
     "metadata": {},
     "output_type": "execute_result"
    }
   ],
   "source": [
    "#The confusion matrix for prediction using third pipeline and with inliers\n",
    "pd.DataFrame(confusion_matrix(y_test_inliers3, pipe3_predicted_y_in))"
   ]
  },
  {
   "cell_type": "raw",
   "metadata": {},
   "source": [
    "Result : This model worked 4% to 7% less accurately in all ways, ie. precision, recall, accuracy and F1 score for both classes than what I received with the test data and with or without outliers the predictions are almost same."
   ]
  },
  {
   "cell_type": "markdown",
   "metadata": {},
   "source": [
    "# Comparision of all models : "
   ]
  },
  {
   "cell_type": "raw",
   "metadata": {},
   "source": [
    "After training and testing with all the pipelines, from the results we can find that Random Forest with RFE is working way better than all other models, both with and without outliers. Hence I will check my data by testing with this model.\n",
    "I am expecting the same performance as above while using the third pipeline for my final prediction in file 3."
   ]
  },
  {
   "cell_type": "markdown",
   "metadata": {},
   "source": [
    "## <span style=\"background: yellow;\">Commit your code!</span> "
   ]
  },
  {
   "cell_type": "markdown",
   "metadata": {},
   "source": [
    "### Pickle the required pipeline/models for Part III."
   ]
  },
  {
   "cell_type": "code",
   "execution_count": 40,
   "metadata": {},
   "outputs": [
    {
     "data": {
      "text/plain": [
       "['pipeline1_model_svc.pkl']"
      ]
     },
     "execution_count": 40,
     "metadata": {},
     "output_type": "execute_result"
    }
   ],
   "source": [
    "import joblib\n",
    "# for dumping \n",
    "joblib.dump([X3_inliers, y3_inliers, model_grid_svc], 'pipeline1_model_svc.pkl')"
   ]
  },
  {
   "cell_type": "code",
   "execution_count": 41,
   "metadata": {},
   "outputs": [
    {
     "data": {
      "text/plain": [
       "['model1_outlier.pkl']"
      ]
     },
     "execution_count": 41,
     "metadata": {},
     "output_type": "execute_result"
    }
   ],
   "source": [
    "model_isolationf = IsolationForest(max_samples=100, contamination=0.05)\n",
    "joblib.dump([X3_inliers, y3_inliers, model_isolationf], 'model1_outlier.pkl')"
   ]
  },
  {
   "cell_type": "code",
   "execution_count": 42,
   "metadata": {},
   "outputs": [
    {
     "data": {
      "text/plain": [
       "['pipeline2_model_LR.pkl']"
      ]
     },
     "execution_count": 42,
     "metadata": {},
     "output_type": "execute_result"
    }
   ],
   "source": [
    "model_oc_svm = OneClassSVM(kernel='rbf',nu=0.1)\n",
    "joblib.dump([X_inliers_svm2, y_inliers_svm2, model_oc_svm],'model2_outlier.pkl')\n",
    "joblib.dump([X_inliers_svm2, y_inliers_svm2, model_gridLR], 'pipeline2_model_LR.pkl')\n"
   ]
  },
  {
   "cell_type": "code",
   "execution_count": 43,
   "metadata": {},
   "outputs": [
    {
     "data": {
      "text/plain": [
       "['pipeline3_model_RF.pkl']"
      ]
     },
     "execution_count": 43,
     "metadata": {},
     "output_type": "execute_result"
    }
   ],
   "source": [
    "model_ee = EllipticEnvelope(support_fraction=0.1, contamination=0.05)\n",
    "joblib.dump([X_ee5, y_ee5, model_ee],'model3_outlier.pkl')\n",
    "joblib.dump([X_ee5, y_ee5, modelRF_ee6], 'pipeline3_model_RF.pkl')"
   ]
  },
  {
   "cell_type": "markdown",
   "metadata": {},
   "source": [
    "You should have made a few commits so far of this project.  \n",
    "**Definitely make a commit of the notebook now!**  \n",
    "Comment should be: `Final Project, Checkpoint - Pipelines done`\n"
   ]
  },
  {
   "cell_type": "markdown",
   "metadata": {},
   "source": [
    "# Save your notebook!\n",
    "## Then `File > Close and Halt`"
   ]
  }
 ],
 "metadata": {
  "kernelspec": {
   "display_name": "Python 3",
   "language": "python",
   "name": "python3"
  },
  "language_info": {
   "codemirror_mode": {
    "name": "ipython",
    "version": 3
   },
   "file_extension": ".py",
   "mimetype": "text/x-python",
   "name": "python",
   "nbconvert_exporter": "python",
   "pygments_lexer": "ipython3",
   "version": "3.7.3"
  }
 },
 "nbformat": 4,
 "nbformat_minor": 4
}
